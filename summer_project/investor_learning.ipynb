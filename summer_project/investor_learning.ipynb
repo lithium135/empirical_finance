{
 "cells": [
  {
   "cell_type": "code",
   "execution_count": 1,
   "id": "35f8d3ea-6ad2-468b-a988-30bd1f38dc2e",
   "metadata": {},
   "outputs": [],
   "source": [
    "import pandas as pd\n",
    "import numpy as np\n",
    "import math\n",
    "import matplotlib.pyplot as plt\n",
    "from tqdm import tqdm\n",
    "pd.options.mode.chained_assignment = None  \n",
    "\n",
    "# trim data\n",
    "def get_truncated_df(merge_df, columns, year_column_name=None, low=0.01, high=0.99):\n",
    "    merge_df_copy = merge_df.copy()\n",
    "    if year_column_name == None:\n",
    "        for column in columns: \n",
    "            _1pct, _99pct = merge_df_copy[column].quantile(q=low), merge_df_copy[column].quantile(q=high)\n",
    "            merge_df_copy[column].where((merge_df_copy[column] < _99pct) & (merge_df_copy[column] > _1pct), math.nan, inplace=True)\n",
    "    else: \n",
    "        merge_df_list = []\n",
    "        merge_year_df_list = [[year, merge_year_df] for year, merge_year_df in merge_df_copy.groupby(year_column_name)]\n",
    "        for year, merge_year_df in tqdm(merge_year_df_list):\n",
    "            for column in columns: \n",
    "                _1pct, _99pct = merge_year_df[column].quantile(q=low), merge_year_df[column].quantile(q=high)\n",
    "                merge_year_df[column].where(~((merge_year_df[column] > _99pct) | (merge_year_df[column] < _1pct)), math.nan, inplace=True)\n",
    "            merge_df_list.append(merge_year_df)\n",
    "        merge_df_copy = pd.concat(merge_df_list)\n",
    "    \n",
    "    return merge_df_copy\n",
    "\n",
    "def get_winsorized_df(merge_df, columns, year_column_name=None, low=0.01, high=0.99):\n",
    "    merge_df_copy = merge_df.copy()\n",
    "    if year_column_name == None:\n",
    "        for column in columns: \n",
    "            _1pct, _99pct = merge_df_copy[column].quantile(q=low), merge_df_copy[column].quantile(q=high)\n",
    "            merge_df_copy[column].where((merge_df_copy[column] < _99pct), _99pct, inplace=True)\n",
    "            merge_df_copy[column].where((merge_df_copy[column] > _1pct), _1pct, inplace=True)\n",
    "    else: \n",
    "        merge_df_list = []\n",
    "        merge_year_df_list = [[year, merge_year_df] for year, merge_year_df in merge_df_copy.groupby(year_column_name)]\n",
    "        for year, merge_year_df in tqdm(merge_year_df_list):\n",
    "            for column in columns: \n",
    "                low_val, high_val = merge_year_df[column].quantile(q=low), merge_year_df[column].quantile(q=high)\n",
    "                merge_year_df[column].where(~(merge_year_df[column] > high_val), high_val, inplace=True)\n",
    "                merge_year_df[column].where(~(merge_year_df[column] < low_val), low_val, inplace=True)\n",
    "            merge_df_list.append(merge_year_df)\n",
    "        merge_df_copy = pd.concat(merge_df_list)\n",
    "    return merge_df_copy\n",
    "\n",
    "def get_cal_qtr(pmon):\n",
    "    if pmon in [1, 2, 3]: \n",
    "        return 1 \n",
    "    elif pmon in [4, 5, 6]: \n",
    "        return 2\n",
    "    elif pmon in [7, 8, 9]: \n",
    "        return 3\n",
    "    else: \n",
    "        return 4\n",
    "    \n",
    "def winsorize_strict(x, low, high): \n",
    "    if x < low: \n",
    "        return low \n",
    "    elif x > high: \n",
    "        return high\n",
    "    else: \n",
    "        return x\n",
    "\n",
    "def trim_strict(x, low, high): \n",
    "    if x < low: \n",
    "        return math.nan \n",
    "    elif x > high: \n",
    "        return math.nan\n",
    "    else: \n",
    "        return x\n",
    "    \n",
    "def get_2d_sic(x): \n",
    "    try: \n",
    "        return float(str(x)[:2])\n",
    "    except: \n",
    "        return math.nan\n",
    "    \n",
    "def trim_bouchaud(col, df):\n",
    "    sue_prc_stats = df[col].describe()\n",
    "    iqr, med = (sue_prc_stats.loc['75%'] - sue_prc_stats.loc['25%']), sue_prc_stats.loc['50%']\n",
    "    delta = 5 * iqr\n",
    "    return df[col].apply(lambda x: trim_strict(x, low=med-delta, high=med+delta))\n",
    "\n",
    "def trim_bouchaud_cols(cols, df):\n",
    "    df = df.copy(deep=True)\n",
    "    for col in tqdm(cols):\n",
    "        df[col] = trim_bouchaud(col, df)\n",
    "    return df"
   ]
  },
  {
   "cell_type": "code",
   "execution_count": 51,
   "id": "27aee700-e195-4544-bb74-9399f9511dcf",
   "metadata": {},
   "outputs": [],
   "source": [
    "df = pd.read_stata('data/checkpoint_data/sue_ret_df_trimmed_year_cond.dta')\n",
    "df = df.drop(columns=['index'])\n",
    "df = df.sort_values(['ibes_anndate']).drop_duplicates(['PERMNO', 'qtr_index'], keep='last')\n",
    "columns = ['PERMNO', 'qtr_index', '_2d_ret', '_3d_ret', '_30d_ret', 'suescore', 'de_P']\n",
    "df = df[columns]"
   ]
  },
  {
   "cell_type": "code",
   "execution_count": 52,
   "id": "281a8da3-5500-4f3a-9fe9-d6ab283b4c4b",
   "metadata": {},
   "outputs": [],
   "source": [
    "df['_30d_ret_after'] = ((1 + df['_30d_ret'] / 100)/(1 + df['_2d_ret']/100) - 1) * 100\n",
    "df['_29d_ret_after'] = ((1 + df['_30d_ret'] / 100)/(1 + df['_3d_ret']/100) - 1) * 100"
   ]
  },
  {
   "cell_type": "code",
   "execution_count": 54,
   "id": "6619c200-5147-4e6b-a782-d72e0aecccb8",
   "metadata": {},
   "outputs": [],
   "source": [
    "df1 = df.copy()\n",
    "df['qtr_index_match'] = df['qtr_index'] + 1\n",
    "df['qtr_index_match_2'] = df['qtr_index'] + 2"
   ]
  },
  {
   "cell_type": "code",
   "execution_count": 55,
   "id": "530513d4-f999-42bf-90fb-a76de318c267",
   "metadata": {},
   "outputs": [],
   "source": [
    "df_merged = pd.merge(df, \n",
    "                     df1, \n",
    "                     left_on=['PERMNO', 'qtr_index_match'], \n",
    "                     right_on=['PERMNO', 'qtr_index'], \n",
    "                     suffixes=[None, '_ahead'], \n",
    "                     how='left').drop(columns=['qtr_index_ahead'])\n",
    "\n",
    "df_merged = pd.merge(df_merged, \n",
    "                     df1, \n",
    "                     left_on=['PERMNO', 'qtr_index_match_2'], \n",
    "                     right_on=['PERMNO', 'qtr_index'], \n",
    "                     suffixes=[None, '_ahead_2'], \n",
    "                     how='left').drop(columns=['qtr_index_ahead_2'])"
   ]
  },
  {
   "cell_type": "code",
   "execution_count": 58,
   "id": "2a332c1e-32ce-4923-9465-e72be2941d84",
   "metadata": {},
   "outputs": [],
   "source": [
    "df_merged.to_stata('data/checkpoint_data/investor_learning.dta')"
   ]
  },
  {
   "cell_type": "code",
   "execution_count": 61,
   "id": "e57e7038-b205-43c5-b9e3-359fb8f2c40e",
   "metadata": {},
   "outputs": [
    {
     "name": "stdout",
     "output_type": "stream",
     "text": [
      "\\begin{tabular}{lrrr}\n",
      "\\toprule\n",
      "{} &     \\_2d\\_ret &  \\_30d\\_ret\\_after &  abs\\_30d\\_ret\\_after \\\\\n",
      "\\midrule\n",
      "count &  290641.000 &      284495.000 &         284495.000 \\\\\n",
      "mean  &       0.028 &           1.354 &             11.674 \\\\\n",
      "std   &       8.078 &          16.688 &             12.001 \\\\\n",
      "min   &     -41.298 &         -79.600 &              0.000 \\\\\n",
      "25\\%   &      -4.196 &          -7.339 &              3.642 \\\\\n",
      "50\\%   &       0.000 &           0.799 &              8.197 \\\\\n",
      "75\\%   &       4.255 &           9.028 &             15.673 \\\\\n",
      "max   &      41.875 &         211.571 &            211.571 \\\\\n",
      "\\bottomrule\n",
      "\\end{tabular}\n",
      "\n"
     ]
    }
   ],
   "source": [
    "df_merged['abs_30d_ret_after'] = np.abs(df_merged['_30d_ret_after'])\n",
    "print(np.round(df_merged[['_2d_ret', '_30d_ret_after', 'abs_30d_ret_after']].describe(), 3).to_latex())"
   ]
  },
  {
   "cell_type": "code",
   "execution_count": null,
   "id": "c8a5a993-745f-414c-ac0b-8eb16adeba27",
   "metadata": {},
   "outputs": [],
   "source": []
  }
 ],
 "metadata": {
  "kernelspec": {
   "display_name": "Python 3",
   "language": "python",
   "name": "python3"
  },
  "language_info": {
   "codemirror_mode": {
    "name": "ipython",
    "version": 3
   },
   "file_extension": ".py",
   "mimetype": "text/x-python",
   "name": "python",
   "nbconvert_exporter": "python",
   "pygments_lexer": "ipython3",
   "version": "3.9.5"
  }
 },
 "nbformat": 4,
 "nbformat_minor": 5
}
