{
 "cells": [
  {
   "cell_type": "code",
   "execution_count": null,
   "id": "7ffc723e-078d-49e9-a2ca-0537428883fa",
   "metadata": {},
   "outputs": [],
   "source": [
    "import pandas as pd\n",
    "import numpy as np\n",
    "import math\n",
    "import matplotlib.pyplot as plt\n",
    "import datetime\n",
    "\n",
    "from tqdm import tqdm\n",
    "from dateutil.relativedelta import relativedelta\n",
    "from pandas.tseries.offsets import DateOffset\n",
    "\n",
    "from pandas.tseries.holiday import AbstractHolidayCalendar, Holiday, nearest_workday, \\\n",
    "    USMartinLutherKingJr, USPresidentsDay, GoodFriday, USMemorialDay, \\\n",
    "    USLaborDay, USThanksgivingDay\n",
    "\n",
    "class USTradingCalendar(AbstractHolidayCalendar):\n",
    "    rules = [\n",
    "        Holiday('NewYearsDay', month=1, day=1, observance=nearest_workday),\n",
    "        USMartinLutherKingJr,\n",
    "        USPresidentsDay,\n",
    "        GoodFriday,\n",
    "        USMemorialDay,\n",
    "        Holiday('USIndependenceDay', month=7, day=4, observance=nearest_workday),\n",
    "        USLaborDay,\n",
    "        USThanksgivingDay,\n",
    "        Holiday('Christmas', month=12, day=25, observance=nearest_workday)\n",
    "    ]\n",
    "\n",
    "def get_trading_close_holidays(min_date, max_date):\n",
    "    inst = USTradingCalendar()\n",
    "    return inst.holidays(min_date, max_date)"
   ]
  },
  {
   "cell_type": "code",
   "execution_count": 2,
   "id": "c5ba0e64-de44-4ef3-a0d6-203c33e90bbf",
   "metadata": {},
   "outputs": [],
   "source": [
    "ret_df = pd.read_pickle('data/crsp_dailydata_holding_w_prices.pkl')"
   ]
  },
  {
   "cell_type": "code",
   "execution_count": 3,
   "id": "dff33e64-41b3-408f-ae98-4bbee62aa7d6",
   "metadata": {},
   "outputs": [],
   "source": [
    "min_date = ret_df['date'].min()\n",
    "max_date = ret_df['date'].max()\n",
    "holidays = get_trading_close_holidays(min_date=min_date, max_date=max_date)\n",
    "list_bdays = list(pd.bdate_range(min_date, max_date, freq='C', holidays=holidays))"
   ]
  },
  {
   "cell_type": "code",
   "execution_count": 5,
   "id": "1c152708-d2d5-4ab9-a125-6de443dabc64",
   "metadata": {},
   "outputs": [],
   "source": [
    "ret_df_split_list = [[permno, df] for permno, df in ret_df.groupby('PERMNO')]"
   ]
  },
  {
   "cell_type": "code",
   "execution_count": 9,
   "id": "f089868c-68ad-46b1-9a02-d9f0a726b510",
   "metadata": {
    "tags": []
   },
   "outputs": [
    {
     "name": "stderr",
     "output_type": "stream",
     "text": [
      "100%|████████████████████████████████████████████████████████████████████████████| 17523/17523 [16:55<00:00, 17.25it/s]\n"
     ]
    }
   ],
   "source": [
    "ret_filled_df_list = []\n",
    "for permno, df in tqdm(ret_df_split_list):   \n",
    "    df_dates = df['date']\n",
    "    list_bdays_permno = sorted(list(set(list_bdays + list(df_dates))))\n",
    "    start_index = list_bdays_permno.index(df_dates.min())\n",
    "    end_index = list_bdays_permno.index(df_dates.max())\n",
    "\n",
    "    new_date_list = list_bdays_permno[start_index:end_index + 1]\n",
    "    df = df.set_index('date').reindex(new_date_list).reset_index()\n",
    "    df.columns = ['date', 'PERMNO', 'TICKER', 'PRC', 'RET']\n",
    "    \n",
    "    df['PERMNO'] = [permno for i in range(len(df))]\n",
    "    df['RET'] = df['RET'].fillna(0)\n",
    "    df['30d_ret'] = np.exp((np.log(df['RET'] + 1)).rolling(window=30).sum().shift(-29)) - 1\n",
    "    df['60d_ret'] = np.exp((np.log(df['RET'] + 1)).rolling(window=60).sum().shift(-59)) - 1\n",
    "    df['2d_ret'] = np.exp((np.log(df['RET'] + 1)).rolling(window=2).sum().shift(-1)) - 1\n",
    "    df['3d_ret'] = np.exp((np.log(df['RET'] + 1)).rolling(window=3).sum().shift(-2)) - 1\n",
    "    df['back_1d'] = np.exp((np.log(df['RET'] + 1)).rolling(window=1).sum().shift(1)) - 1\n",
    "    df['back_5d'] = np.exp((np.log(df['RET'] + 1)).rolling(window=5).sum().shift(1)) - 1\n",
    "    df['back_30d'] = np.exp((np.log(df['RET'] + 1)).rolling(window=30).sum().shift(1)) - 1\n",
    "\n",
    "    ret_filled_df_list.append(df)\n",
    "    \n",
    "ret_df_filled = pd.concat(ret_filled_df_list)"
   ]
  },
  {
   "cell_type": "code",
   "execution_count": 5,
   "id": "6d1c9f5f-5ba5-45f0-8b90-bd2f8f7ab3e4",
   "metadata": {},
   "outputs": [],
   "source": [
    "ret_df_filled['lagged_PRC'] = ret_df_filled.groupby('PERMNO')['PRC'].shift(1)"
   ]
  },
  {
   "cell_type": "code",
   "execution_count": 11,
   "id": "9539847b-27ba-480b-aba1-664b51a754ba",
   "metadata": {},
   "outputs": [],
   "source": [
    "ret_df_filled.to_pickle('data/checkpoint_data/crsp_dailydata_holding_w_period_returns.pkl')"
   ]
  }
 ],
 "metadata": {
  "kernelspec": {
   "display_name": "Python 3",
   "language": "python",
   "name": "python3"
  },
  "language_info": {
   "codemirror_mode": {
    "name": "ipython",
    "version": 3
   },
   "file_extension": ".py",
   "mimetype": "text/x-python",
   "name": "python",
   "nbconvert_exporter": "python",
   "pygments_lexer": "ipython3",
   "version": "3.9.5"
  }
 },
 "nbformat": 4,
 "nbformat_minor": 5
}
