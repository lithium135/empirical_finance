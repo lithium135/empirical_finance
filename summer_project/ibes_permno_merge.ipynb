{
 "cells": [
  {
   "cell_type": "markdown",
   "id": "3dddb30b-f81a-41fa-8d57-0264cdc45a48",
   "metadata": {},
   "source": [
    "This file links raw IBES surprise data (SUE) with PERMNOs for further matching. The file 'sue_df_linked.pkl' is the final dataset exported. "
   ]
  },
  {
   "cell_type": "code",
   "execution_count": 1,
   "id": "8b70c3b9",
   "metadata": {},
   "outputs": [],
   "source": [
    "import pandas as pd\n",
    "import numpy as np\n",
    "from tqdm import tqdm\n",
    "import math\n",
    "\n",
    "def get_match_permno(date, match_df): \n",
    "    try: \n",
    "        return match_df.iloc[match_df.index.get_loc(date)]['PERMNO']\n",
    "    except: \n",
    "        math.nan"
   ]
  },
  {
   "cell_type": "code",
   "execution_count": 2,
   "id": "bb24d556",
   "metadata": {},
   "outputs": [],
   "source": [
    "sue_df = pd.read_csv('data/sue.csv', parse_dates=['anndats'])\n",
    "sue_df = sue_df[sue_df['USFIRM']==1]\n",
    "\n",
    "numest_df = pd.read_csv('data/numest.csv', parse_dates=['STATPERS', 'FPEDATS', 'ANNDATS_ACT'])\n",
    "numest_df = numest_df.sort_values('STATPERS').drop_duplicates(['TICKER', 'ANNDATS_ACT'], keep='last')\n",
    "numest_df = numest_df[['TICKER', 'NUMEST', 'MEANEST', 'ANNDATS_ACT']]"
   ]
  },
  {
   "cell_type": "code",
   "execution_count": 3,
   "id": "9da692df",
   "metadata": {},
   "outputs": [],
   "source": [
    "link_df = pd.read_csv('data/ibes_crsp_link.csv', parse_dates=['sdate', 'edate'])\n",
    "link_df['PERMNO'] = link_df.groupby('TICKER')['PERMNO'].ffill()\n",
    "link_df['edate'] = link_df['edate'].apply(lambda x: pd.to_datetime('2021-12-31') if pd.isnull(x) else x)\n",
    "link_df = link_df.dropna(subset=['PERMNO'])\n",
    "link_df.index = pd.IntervalIndex.from_arrays(link_df['sdate'], link_df['edate'], closed='both')"
   ]
  },
  {
   "cell_type": "code",
   "execution_count": 4,
   "id": "4c214fd9-cd42-40cd-9022-f38400f2ce0a",
   "metadata": {},
   "outputs": [
    {
     "name": "stderr",
     "output_type": "stream",
     "text": [
      "c:\\users\\jackl\\appdata\\local\\programs\\python\\python39\\lib\\site-packages\\IPython\\core\\interactiveshell.py:3169: DtypeWarning: Columns (3) have mixed types.Specify dtype option on import or set low_memory=False.\n",
      "  has_raised = await self.run_ast_nodes(code_ast.body, cell_name,\n"
     ]
    }
   ],
   "source": [
    "sics_sc_df = pd.read_csv('data/sic_and_share_code.csv', parse_dates=['date'])\n",
    "sics_sc_df['PERMNO'] = sics_sc_df['PERMNO'].astype('Int64')"
   ]
  },
  {
   "cell_type": "code",
   "execution_count": 5,
   "id": "8e6bc4ff-2132-40e3-a1b7-2dc9b87b53fb",
   "metadata": {},
   "outputs": [],
   "source": [
    "sue_dfs_cond_ticker = {ticker: ticker_df for ticker, ticker_df in sue_df.groupby('TICKER')}\n",
    "link_dfs_cond_ticker = {ticker: ticker_df for ticker, ticker_df in link_df.groupby('TICKER')}\n",
    "tickers_list = list(sue_dfs_cond_ticker.keys())"
   ]
  },
  {
   "cell_type": "code",
   "execution_count": 6,
   "id": "29bbec84",
   "metadata": {
    "tags": []
   },
   "outputs": [
    {
     "name": "stderr",
     "output_type": "stream",
     "text": [
      "100%|████████████████████████████████████████████████████████████████████████████| 15740/15740 [08:48<00:00, 29.78it/s]\n"
     ]
    }
   ],
   "source": [
    "sue_df_linked_list = []\n",
    "missed_list = []\n",
    "for i in tqdm(range(len(tickers_list))):\n",
    "    ticker = tickers_list[i]\n",
    "    ticker_df_sue = sue_dfs_cond_ticker[ticker].sort_values('anndats')\n",
    "    try:\n",
    "        ticker_df_link = link_dfs_cond_ticker[ticker]\n",
    "        ticker_df_sue['PERMNO'] = ticker_df_sue['anndats'].apply(lambda date: get_match_permno(date, ticker_df_link))\n",
    "        sue_df_linked_list.append(ticker_df_sue)\n",
    "    except: \n",
    "        ticker_df_sue['PERMNO'] = [math.nan for i in range(len(ticker_df_sue))]\n",
    "        missed_list.append(ticker_df_sue)"
   ]
  },
  {
   "cell_type": "code",
   "execution_count": 7,
   "id": "b1e4fb18-fe89-4970-a373-83a9732b1cc6",
   "metadata": {},
   "outputs": [],
   "source": [
    "sue_df_linked = pd.concat(sue_df_linked_list + missed_list)"
   ]
  },
  {
   "cell_type": "code",
   "execution_count": 8,
   "id": "c03ed8aa-67a4-4022-80d2-954f27ce14b8",
   "metadata": {},
   "outputs": [],
   "source": [
    "sue_df_linked = sue_df_linked.dropna(subset=['PERMNO'])"
   ]
  },
  {
   "cell_type": "code",
   "execution_count": 9,
   "id": "1ee46917-f928-46df-bd15-5e952a8afbb3",
   "metadata": {},
   "outputs": [],
   "source": [
    "def get_correct(x): \n",
    "    try: \n",
    "        if len(x) == 2: \n",
    "            return 15617\n",
    "    except: \n",
    "        return x\n",
    "    \n",
    "sue_df_linked['PERMNO'] = sue_df_linked['PERMNO'].apply(lambda x: get_correct(x))\n",
    "sue_df_linked['PERMNO'] = sue_df_linked['PERMNO'].astype('Int64')"
   ]
  },
  {
   "cell_type": "code",
   "execution_count": 10,
   "id": "13968c72-c06c-4c77-bb9d-82ddb66bd4ec",
   "metadata": {},
   "outputs": [
    {
     "name": "stderr",
     "output_type": "stream",
     "text": [
      "100%|████████████████████████████████████████████████████████████████████████| 440383/440383 [01:41<00:00, 4349.44it/s]\n"
     ]
    }
   ],
   "source": [
    "year_list, month_list = list(sue_df_linked['PYEAR']), list(sue_df_linked['PMON'])\n",
    "date_list = [pd.to_datetime(str(year_list[i]) + '-' + str(month_list[i]) + '-' + '1') for i in tqdm(range(len(year_list)))]\n",
    "sue_df_linked['pyear_month_date'] = date_list"
   ]
  },
  {
   "cell_type": "code",
   "execution_count": 11,
   "id": "caff8007-5b73-4645-ac04-9cfab156628d",
   "metadata": {},
   "outputs": [],
   "source": [
    "sue_df_linked['bias'] = sue_df_linked['actual'] - sue_df_linked['surpmean'] "
   ]
  },
  {
   "cell_type": "code",
   "execution_count": 12,
   "id": "c811f5cc-38f0-4300-8346-1cb067886895",
   "metadata": {},
   "outputs": [],
   "source": [
    "sue_df_linked_merged = pd.merge_asof(sue_df_linked.sort_values('anndats'), \n",
    "                                     sics_sc_df.sort_values('date'), \n",
    "                                     by='PERMNO', \n",
    "                                     left_on='anndats', \n",
    "                                     right_on='date', \n",
    "                                     tolerance=pd.Timedelta(days=28), \n",
    "                                     direction='nearest')"
   ]
  },
  {
   "cell_type": "code",
   "execution_count": 13,
   "id": "cd44505e-81f2-4247-a556-9603744dc0de",
   "metadata": {},
   "outputs": [],
   "source": [
    "sue_df_linked_merged = sue_df_linked_merged[(sue_df_linked_merged['SHRCD']==10) | (sue_df_linked_merged['SHRCD']==11)]"
   ]
  },
  {
   "cell_type": "code",
   "execution_count": 14,
   "id": "f4c2b0e4-8dc2-420d-8496-52dc1cefb7c8",
   "metadata": {},
   "outputs": [],
   "source": [
    "sue_df_linked_merged['SICCD'] = sue_df_linked_merged['SICCD'].apply(lambda x: math.nan if x == 'Z' else x)\n",
    "sue_df_linked_merged['SICCD'] = sue_df_linked_merged['SICCD'].astype(float)"
   ]
  },
  {
   "cell_type": "code",
   "execution_count": 15,
   "id": "af37d1ef-1d3b-4b0f-801e-eeeea0e12a15",
   "metadata": {},
   "outputs": [],
   "source": [
    "sue_df_linked_merged = sue_df_linked_merged[~((sue_df_linked_merged['SICCD']<=4949) & (sue_df_linked_merged['SICCD']>=4900))]\n",
    "sue_df_linked_merged = sue_df_linked_merged[~((sue_df_linked_merged['SICCD']<=6999) & (sue_df_linked_merged['SICCD']>=6000))]"
   ]
  },
  {
   "cell_type": "code",
   "execution_count": 80,
   "id": "6b8ced88-1ca2-4bae-b99b-daf1b4e8f27c",
   "metadata": {},
   "outputs": [],
   "source": [
    "sue_df_linked_merged = pd.merge(sue_df_linked_merged, \n",
    "         numest_df, \n",
    "         left_on=['TICKER', 'anndats'],\n",
    "         right_on=['TICKER', 'ANNDATS_ACT'],\n",
    "         how='left')"
   ]
  },
  {
   "cell_type": "code",
   "execution_count": 85,
   "id": "24876c66-83d7-4c89-8dcc-b8d00c0b2e11",
   "metadata": {},
   "outputs": [],
   "source": [
    "sue_df_linked_merged.to_pickle('data/checkpoint_data/sue_df_linked.pkl')\n",
    "# sue_df_linked_merged.to_pickle('data/checkpoint_data/sue_df_linked_qtr.pkl')"
   ]
  }
 ],
 "metadata": {
  "kernelspec": {
   "display_name": "Python 3",
   "language": "python",
   "name": "python3"
  },
  "language_info": {
   "codemirror_mode": {
    "name": "ipython",
    "version": 3
   },
   "file_extension": ".py",
   "mimetype": "text/x-python",
   "name": "python",
   "nbconvert_exporter": "python",
   "pygments_lexer": "ipython3",
   "version": "3.9.5"
  },
  "toc": {
   "base_numbering": 1,
   "nav_menu": {},
   "number_sections": true,
   "sideBar": true,
   "skip_h1_title": false,
   "title_cell": "Table of Contents",
   "title_sidebar": "Contents",
   "toc_cell": false,
   "toc_position": {},
   "toc_section_display": true,
   "toc_window_display": false
  },
  "varInspector": {
   "cols": {
    "lenName": 16,
    "lenType": 16,
    "lenVar": 40
   },
   "kernels_config": {
    "python": {
     "delete_cmd_postfix": "",
     "delete_cmd_prefix": "del ",
     "library": "var_list.py",
     "varRefreshCmd": "print(var_dic_list())"
    },
    "r": {
     "delete_cmd_postfix": ") ",
     "delete_cmd_prefix": "rm(",
     "library": "var_list.r",
     "varRefreshCmd": "cat(var_dic_list()) "
    }
   },
   "types_to_exclude": [
    "module",
    "function",
    "builtin_function_or_method",
    "instance",
    "_Feature"
   ],
   "window_display": false
  }
 },
 "nbformat": 4,
 "nbformat_minor": 5
}
