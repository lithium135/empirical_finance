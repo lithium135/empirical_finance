{
 "cells": [
  {
   "cell_type": "code",
   "execution_count": 17,
   "id": "440c38e4-430d-4475-8434-2f36df1f96d8",
   "metadata": {},
   "outputs": [],
   "source": [
    "import pandas as pd\n",
    "import numpy as np\n",
    "import math\n",
    "import matplotlib.pyplot as plt\n",
    "import datetime\n",
    "\n",
    "from tqdm import tqdm\n",
    "from dateutil.relativedelta import relativedelta\n",
    "from pandas.tseries.offsets import DateOffset"
   ]
  },
  {
   "cell_type": "code",
   "execution_count": 18,
   "id": "4fe2a046-f542-48a4-9895-da0d12558ba5",
   "metadata": {},
   "outputs": [],
   "source": [
    "ltg_df = pd.read_csv('data/LTG_projections.csv', parse_dates=['STATPERS'])"
   ]
  },
  {
   "cell_type": "code",
   "execution_count": 19,
   "id": "70144ed9-d0b2-4b8a-b7f8-f389ca1ed67e",
   "metadata": {},
   "outputs": [],
   "source": [
    "ltg_df['STATPERS_month'] = ltg_df['STATPERS'].dt.month\n",
    "ltg_df['STATPERS_year'] = ltg_df['STATPERS'].dt.year\n",
    "ltg_df['STATPERS_month_year'] = pd.to_datetime(ltg_df['STATPERS']).dt.to_period('M')"
   ]
  },
  {
   "cell_type": "code",
   "execution_count": 20,
   "id": "cb9e0481-84df-42d0-b737-7d000dafff9a",
   "metadata": {},
   "outputs": [],
   "source": [
    "ltg_df = ltg_df.drop_duplicates(['TICKER', 'STATPERS_month_year']).drop(columns=['STATPERS_month_year'])"
   ]
  },
  {
   "cell_type": "code",
   "execution_count": 21,
   "id": "aeed88c7-2aa5-4d59-ad09-7cac2ae1e572",
   "metadata": {},
   "outputs": [
    {
     "name": "stderr",
     "output_type": "stream",
     "text": [
      "<ipython-input-21-f09869e358ec>:2: SettingWithCopyWarning: \n",
      "A value is trying to be set on a copy of a slice from a DataFrame.\n",
      "Try using .loc[row_indexer,col_indexer] = value instead\n",
      "\n",
      "See the caveats in the documentation: https://pandas.pydata.org/pandas-docs/stable/user_guide/indexing.html#returning-a-view-versus-a-copy\n",
      "  ltg_subset_df['STATPERS_match_p1'] = ltg_subset_df['STATPERS'] - pd.DateOffset(months=1)\n",
      "<ipython-input-21-f09869e358ec>:3: SettingWithCopyWarning: \n",
      "A value is trying to be set on a copy of a slice from a DataFrame.\n",
      "Try using .loc[row_indexer,col_indexer] = value instead\n",
      "\n",
      "See the caveats in the documentation: https://pandas.pydata.org/pandas-docs/stable/user_guide/indexing.html#returning-a-view-versus-a-copy\n",
      "  ltg_subset_df['STATPERS_match_month_p1'] = ltg_subset_df['STATPERS_match_p1'].dt.month\n",
      "<ipython-input-21-f09869e358ec>:4: SettingWithCopyWarning: \n",
      "A value is trying to be set on a copy of a slice from a DataFrame.\n",
      "Try using .loc[row_indexer,col_indexer] = value instead\n",
      "\n",
      "See the caveats in the documentation: https://pandas.pydata.org/pandas-docs/stable/user_guide/indexing.html#returning-a-view-versus-a-copy\n",
      "  ltg_subset_df['STATPERS_match_year_p1'] = ltg_subset_df['STATPERS_match_p1'].dt.year\n",
      "<ipython-input-21-f09869e358ec>:6: SettingWithCopyWarning: \n",
      "A value is trying to be set on a copy of a slice from a DataFrame.\n",
      "Try using .loc[row_indexer,col_indexer] = value instead\n",
      "\n",
      "See the caveats in the documentation: https://pandas.pydata.org/pandas-docs/stable/user_guide/indexing.html#returning-a-view-versus-a-copy\n",
      "  ltg_subset_df['STATPERS_match_p2'] = ltg_subset_df['STATPERS'] - pd.DateOffset(months=2)\n",
      "<ipython-input-21-f09869e358ec>:7: SettingWithCopyWarning: \n",
      "A value is trying to be set on a copy of a slice from a DataFrame.\n",
      "Try using .loc[row_indexer,col_indexer] = value instead\n",
      "\n",
      "See the caveats in the documentation: https://pandas.pydata.org/pandas-docs/stable/user_guide/indexing.html#returning-a-view-versus-a-copy\n",
      "  ltg_subset_df['STATPERS_match_month_p2'] = ltg_subset_df['STATPERS_match_p2'].dt.month\n",
      "<ipython-input-21-f09869e358ec>:8: SettingWithCopyWarning: \n",
      "A value is trying to be set on a copy of a slice from a DataFrame.\n",
      "Try using .loc[row_indexer,col_indexer] = value instead\n",
      "\n",
      "See the caveats in the documentation: https://pandas.pydata.org/pandas-docs/stable/user_guide/indexing.html#returning-a-view-versus-a-copy\n",
      "  ltg_subset_df['STATPERS_match_year_p2'] = ltg_subset_df['STATPERS_match_p2'].dt.year\n"
     ]
    }
   ],
   "source": [
    "ltg_subset_df = ltg_df[['TICKER', 'STATPERS', 'MEDEST', 'MEANEST']]\n",
    "ltg_subset_df['STATPERS_match_p1'] = ltg_subset_df['STATPERS'] - pd.DateOffset(months=1)\n",
    "ltg_subset_df['STATPERS_match_month_p1'] = ltg_subset_df['STATPERS_match_p1'].dt.month\n",
    "ltg_subset_df['STATPERS_match_year_p1'] = ltg_subset_df['STATPERS_match_p1'].dt.year\n",
    "\n",
    "ltg_subset_df['STATPERS_match_p2'] = ltg_subset_df['STATPERS'] - pd.DateOffset(months=2)\n",
    "ltg_subset_df['STATPERS_match_month_p2'] = ltg_subset_df['STATPERS_match_p2'].dt.month\n",
    "ltg_subset_df['STATPERS_match_year_p2'] = ltg_subset_df['STATPERS_match_p2'].dt.year\n",
    "\n",
    "ltg_subset_df['STATPERS_match_p3'] = ltg_subset_df['STATPERS'] - pd.DateOffset(months=3)\n",
    "ltg_subset_df['STATPERS_match_month_p3'] = ltg_subset_df['STATPERS_match_p3'].dt.month\n",
    "ltg_subset_df['STATPERS_match_year_p3'] = ltg_subset_df['STATPERS_match_p3'].dt.year\n",
    "\n",
    "ltg_subset_df['STATPERS_match_l1'] = ltg_subset_df['STATPERS'] + pd.DateOffset(months=1)\n",
    "ltg_subset_df['STATPERS_match_month_l1'] = ltg_subset_df['STATPERS_match_l1'].dt.month\n",
    "ltg_subset_df['STATPERS_match_year_l1'] = ltg_subset_df['STATPERS_match_l1'].dt.year\n",
    "\n",
    "ltg_subset_df = ltg_subset_df.drop(columns=['STATPERS'])\n",
    "matching_columns = ['STATPERS_match_p1', 'STATPERS_match_month_p1', 'STATPERS_match_year_p1', \n",
    "                    'STATPERS_match_p2', 'STATPERS_match_month_p2', 'STATPERS_match_year_p2', \n",
    "                    'STATPERS_match_l1', 'STATPERS_match_month_l1', 'STATPERS_match_year_l1']"
   ]
  },
  {
   "cell_type": "code",
   "execution_count": 22,
   "id": "b191111a-60c6-4bd5-993f-7fd69bce97fa",
   "metadata": {},
   "outputs": [],
   "source": [
    "ltg_df = pd.merge(ltg_df, \n",
    "                  ltg_subset_df, \n",
    "                  left_on=['TICKER', 'STATPERS_month', 'STATPERS_year'], \n",
    "                  right_on=['TICKER', 'STATPERS_match_month_p1', 'STATPERS_match_year_p1'], \n",
    "                  suffixes=[None, '_p1'], \n",
    "                  how='left').drop(columns=matching_columns)\n",
    "\n",
    "ltg_df = pd.merge(ltg_df, \n",
    "                  ltg_subset_df, \n",
    "                  left_on=['TICKER', 'STATPERS_month', 'STATPERS_year'], \n",
    "                  right_on=['TICKER', 'STATPERS_match_month_p2', 'STATPERS_match_year_p2'], \n",
    "                  suffixes=[None, '_p2'], \n",
    "                  how='left').drop(columns=matching_columns)\n",
    "\n",
    "ltg_df = pd.merge(ltg_df, \n",
    "                  ltg_subset_df, \n",
    "                  left_on=['TICKER', 'STATPERS_month', 'STATPERS_year'], \n",
    "                  right_on=['TICKER', 'STATPERS_match_month_p3', 'STATPERS_match_year_p3'], \n",
    "                  suffixes=[None, '_p3'], \n",
    "                  how='left').drop(columns=matching_columns)\n",
    "\n",
    "ltg_df = pd.merge(ltg_df, \n",
    "                  ltg_subset_df, \n",
    "                  left_on=['TICKER', 'STATPERS_month', 'STATPERS_year'], \n",
    "                  right_on=['TICKER', 'STATPERS_match_month_l1', 'STATPERS_match_year_l1'], \n",
    "                  suffixes=[None, '_l1'], \n",
    "                  how='left').drop(columns=matching_columns)"
   ]
  },
  {
   "cell_type": "code",
   "execution_count": 23,
   "id": "0dfc1408-ab41-43b9-9404-449b402399a0",
   "metadata": {
    "tags": []
   },
   "outputs": [],
   "source": [
    "ltg_df['chg_MEDEST_2'] = ltg_df['MEDEST_p1'] - ltg_df['MEDEST_l1']\n",
    "ltg_df['chg_MEANEST_2'] = ltg_df['MEANEST_p1'] - ltg_df['MEANEST_l1']\n",
    "ltg_df['chg_MEDEST_3'] = ltg_df['MEDEST_p2'] - ltg_df['MEDEST_l1']\n",
    "ltg_df['chg_MEANEST_3'] = ltg_df['MEANEST_p2'] - ltg_df['MEANEST_l1']\n",
    "ltg_df['chg_MEANEST_rev21'] = ltg_df['MEANEST_p2'] - ltg_df['MEANEST_p1']\n",
    "ltg_df['chg_MEDEST_rev21'] = ltg_df['MEDEST_p2'] - ltg_df['MEDEST_p1']\n",
    "ltg_df['chg_MEANEST_rev32'] = ltg_df['MEANEST_p3'] - ltg_df['MEANEST_p2']\n",
    "ltg_df['chg_MEDEST_rev32'] = ltg_df['MEDEST_p3'] - ltg_df['MEDEST_p2']\n",
    "ltg_df['chg_MEANEST_rev31'] = ltg_df['MEANEST_p3'] - ltg_df['MEANEST_p1']\n",
    "ltg_df['chg_MEDEST_rev31'] = ltg_df['MEDEST_p3'] - ltg_df['MEDEST_p1']"
   ]
  },
  {
   "cell_type": "code",
   "execution_count": 24,
   "id": "90025a39-46b5-487d-8aee-85f67931269b",
   "metadata": {},
   "outputs": [],
   "source": [
    "ltg_df.to_pickle('data/checkpoint_data/LTG.pkl')"
   ]
  }
 ],
 "metadata": {
  "kernelspec": {
   "display_name": "Python 3",
   "language": "python",
   "name": "python3"
  },
  "language_info": {
   "codemirror_mode": {
    "name": "ipython",
    "version": 3
   },
   "file_extension": ".py",
   "mimetype": "text/x-python",
   "name": "python",
   "nbconvert_exporter": "python",
   "pygments_lexer": "ipython3",
   "version": "3.9.5"
  }
 },
 "nbformat": 4,
 "nbformat_minor": 5
}
