{
 "cells": [
  {
   "cell_type": "code",
   "execution_count": 2,
   "id": "6af29b68-01b8-4674-9cf4-0234dc4d5878",
   "metadata": {},
   "outputs": [],
   "source": [
    "import pandas as pd\n",
    "from tqdm import tqdm\n",
    "import math\n",
    "import matplotlib.pyplot as plt\n",
    "import datetime\n",
    "from dateutil.relativedelta import relativedelta\n",
    "from pandas.tseries.offsets import DateOffset"
   ]
  },
  {
   "cell_type": "code",
   "execution_count": 49,
   "id": "028bdf85-a8ce-4c7c-88d3-a2dec7a5d56e",
   "metadata": {},
   "outputs": [],
   "source": [
    "sue_df = pd.read_csv('data/sue.csv')\n",
    "permno_list = list((sue_df['OFTIC'].dropna().unique()))\n",
    "with open(\"data/sue_tickers.txt\", \"w\") as outfile:\n",
    "    outfile.write(\"\\n\".join(str(permno) for permno in permno_list))"
   ]
  },
  {
   "cell_type": "code",
   "execution_count": 4,
   "id": "26643650-b2e1-45fd-89fb-e2343f3fda37",
   "metadata": {},
   "outputs": [],
   "source": [
    "sue_df = pd.read_pickle('data/checkpoint_data/sue_df_linked.pkl')\n",
    "with open(\"data/ibes_tickers.txt\", \"w\") as outfile:\n",
    "    outfile.write(\"\\n\".join(str(ibes_ticker) for ibes_ticker in list(sue_df['OFTIC'].unique())))"
   ]
  },
  {
   "cell_type": "code",
   "execution_count": 6,
   "id": "d610e554-44b7-4bfd-947b-2a2044226426",
   "metadata": {},
   "outputs": [],
   "source": [
    "ret_df = pd.read_csv('data/crsp_dailydata.csv', parse_dates=['date'], usecols=[0, 1, 4])\n",
    "ret_df = ret_df.dropna()"
   ]
  },
  {
   "cell_type": "code",
   "execution_count": 8,
   "id": "880fc802-9b15-4db4-850f-939945ab64e5",
   "metadata": {},
   "outputs": [],
   "source": [
    "ret_df.columns = ['PERMNO', 'date', 'PRC']"
   ]
  },
  {
   "cell_type": "code",
   "execution_count": 9,
   "id": "d4dc06b1-1a1b-4207-9cee-ef3e556ff800",
   "metadata": {},
   "outputs": [
    {
     "name": "stderr",
     "output_type": "stream",
     "text": [
      "<ipython-input-9-fa20c4264c85>:2: SettingWithCopyWarning: \n",
      "A value is trying to be set on a copy of a slice from a DataFrame.\n",
      "Try using .loc[row_indexer,col_indexer] = value instead\n",
      "\n",
      "See the caveats in the documentation: https://pandas.pydata.org/pandas-docs/stable/user_guide/indexing.html#returning-a-view-versus-a-copy\n",
      "  ret_df['forward_date_3m'] = ret_df['date'] + pd.tseries.offsets.BusinessDay(n=61)\n",
      "<ipython-input-9-fa20c4264c85>:3: SettingWithCopyWarning: \n",
      "A value is trying to be set on a copy of a slice from a DataFrame.\n",
      "Try using .loc[row_indexer,col_indexer] = value instead\n",
      "\n",
      "See the caveats in the documentation: https://pandas.pydata.org/pandas-docs/stable/user_guide/indexing.html#returning-a-view-versus-a-copy\n",
      "  ret_df['forward_date_1d'] = ret_df['date'] + pd.tseries.offsets.BusinessDay(n=1)\n"
     ]
    }
   ],
   "source": [
    "ret_df_forward = ret_df[['PERMNO', 'date', 'PRC']]\n",
    "ret_df['forward_date_3m'] = ret_df['date'] + pd.tseries.offsets.BusinessDay(n=61)\n",
    "ret_df['forward_date_1d'] = ret_df['date'] + pd.tseries.offsets.BusinessDay(n=1)"
   ]
  },
  {
   "cell_type": "code",
   "execution_count": 10,
   "id": "682d365e-7a30-4554-9cc1-ce24d8e7e780",
   "metadata": {},
   "outputs": [],
   "source": [
    "ret_df_forward_list = {permno: permno_df for permno, permno_df in ret_df_forward.groupby('PERMNO')}\n",
    "del ret_df_forward\n",
    "\n",
    "ret_df_list = [[permno, permno_df] for permno, permno_df in ret_df.groupby('PERMNO')]\n",
    "del ret_df"
   ]
  },
  {
   "cell_type": "code",
   "execution_count": 11,
   "id": "7e839f00-728e-48c5-b5f3-0ca007493536",
   "metadata": {},
   "outputs": [
    {
     "name": "stderr",
     "output_type": "stream",
     "text": [
      "100%|███████████████████████████████████████████████████████████████████████████| 16458/16458 [01:55<00:00, 142.32it/s]\n"
     ]
    }
   ],
   "source": [
    "ret_df_merged_lists = []\n",
    "for permno, ret_df_subset in tqdm(ret_df_list): \n",
    "    ret_df_forward_subset = ret_df_forward_list[permno]\n",
    "    ret_df_merged = pd.merge_asof(ret_df_subset, \n",
    "                        ret_df_forward_subset, \n",
    "                        left_on='forward_date_3m', \n",
    "                        right_on='date', \n",
    "                        suffixes=['', '_3m'], \n",
    "                        direction='forward', \n",
    "                        tolerance=pd.Timedelta(days=5))\n",
    "    ret_df_merged_lists.append(ret_df_merged)\n",
    "ret_df = pd.concat(ret_df_merged_lists).drop(columns=['date_3m'])"
   ]
  },
  {
   "cell_type": "code",
   "execution_count": 12,
   "id": "7a2e878f-33c1-4c1a-8f75-53cd691f0913",
   "metadata": {},
   "outputs": [
    {
     "name": "stderr",
     "output_type": "stream",
     "text": [
      "100%|███████████████████████████████████████████████████████████████████████████| 16458/16458 [01:57<00:00, 139.96it/s]\n"
     ]
    }
   ],
   "source": [
    "ret_df_list = [[permno, permno_df] for permno, permno_df in ret_df.groupby('PERMNO')]\n",
    "del ret_df\n",
    "\n",
    "ret_df_merged_lists = []\n",
    "for permno, ret_df_subset in tqdm(ret_df_list): \n",
    "    ret_df_forward_subset = ret_df_forward_list[permno]\n",
    "    ret_df_merged = pd.merge_asof(ret_df_subset, \n",
    "                        ret_df_forward_subset, \n",
    "                        left_on='forward_date_1d', \n",
    "                        right_on='date', \n",
    "                        suffixes=['', '_1d'], \n",
    "                        direction='forward', \n",
    "                        tolerance=pd.Timedelta(days=5))\n",
    "    ret_df_merged_lists.append(ret_df_merged)\n",
    "ret_df = pd.concat(ret_df_merged_lists).drop(columns=['date_1d'])"
   ]
  },
  {
   "cell_type": "code",
   "execution_count": 13,
   "id": "ecd2a4ee-0ffb-4120-90f3-1ef85d6cf349",
   "metadata": {},
   "outputs": [],
   "source": [
    "ret_df['3m_ret'] = ret_df['PRC_3m']/ret_df['PRC_1d'] - 1\n",
    "ret_df['1d_ret'] = ret_df['PRC_1d']/ret_df['PRC'] - 1"
   ]
  },
  {
   "cell_type": "code",
   "execution_count": 14,
   "id": "d4d26f9f-22dc-4dd2-acbd-0fa00ff0ff9b",
   "metadata": {},
   "outputs": [],
   "source": [
    "ret_df.to_pickle('data/checkpoint_data/crsp_dailydata_with_period_ret.pkl')"
   ]
  }
 ],
 "metadata": {
  "kernelspec": {
   "display_name": "Python 3",
   "language": "python",
   "name": "python3"
  },
  "language_info": {
   "codemirror_mode": {
    "name": "ipython",
    "version": 3
   },
   "file_extension": ".py",
   "mimetype": "text/x-python",
   "name": "python",
   "nbconvert_exporter": "python",
   "pygments_lexer": "ipython3",
   "version": "3.9.5"
  }
 },
 "nbformat": 4,
 "nbformat_minor": 5
}
