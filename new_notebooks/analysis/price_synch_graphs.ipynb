{
 "cells": [
  {
   "cell_type": "code",
   "execution_count": 1,
   "id": "adf69713-2dca-4d6b-9bd3-7a3a5f2e037f",
   "metadata": {},
   "outputs": [],
   "source": [
    "import pandas as pd\n",
    "import numpy as np\n",
    "import datetime as dt\n",
    "import math\n",
    "import matplotlib.pyplot as plt\n",
    "from pandas.tseries.offsets import BDay\n",
    "from tqdm import tqdm\n",
    "\n",
    "pd.set_option(\"display.max_columns\", None)\n",
    "\n",
    "PATH = \"C:/Users/jackl/OneDrive/Documents/finance_research/japan_qe/\"\n",
    "\n",
    "def get_plot_data(bottom_quintile_end, mean=True):\n",
    "    if mean:\n",
    "        return pd.concat([pd.DataFrame({'event_day': [-23], 'abret_cum': [1]}), bottom_quintile_end.groupby('event_day').mean()['abret_cum'].reset_index()]).set_index('event_day')\n",
    "    else:\n",
    "        return pd.concat([pd.DataFrame({'event_day': [-23], 'abret_cum': [1]}), bottom_quintile_end.groupby('event_day').median()['abret_cum'].reset_index()]).set_index('event_day')\n",
    "    \n",
    "def get_plot_data_turnover(bottom_quintile_end, mean=True):\n",
    "    if mean:\n",
    "        return bottom_quintile_end.groupby('event_day').mean()['ab_turnover'].reset_index().set_index('event_day')\n",
    "    else:\n",
    "        return bottom_quintile_end.groupby('event_day').mean()['ab_turnover'].reset_index().set_index('event_day')\n",
    "    \n",
    "def get_boj_quintiles_conditional(sue_df_boj_merged, suffix=None, quantiles=5):\n",
    "    sue_df_boj_merged_nd = sue_df_boj_merged[['sedol', 'qtr_yr_index', 'boj_share_shares']].drop_duplicates()\n",
    "    sue_df_boj_merged_nd_list = []\n",
    "    for index, df in tqdm(sue_df_boj_merged_nd.groupby('qtr_yr_index')): \n",
    "        try:\n",
    "            df['boj_share_shares_quantiles_'+suffix] = pd.qcut(df['boj_share_shares'], quantiles, labels=False)\n",
    "        except: \n",
    "            df['boj_share_shares_quantiles_'+suffix] = [math.nan for i in range(len(df))]\n",
    "\n",
    "        sue_df_boj_merged_nd_list.append(df)\n",
    "\n",
    "    sue_df_boj_merged_nd = pd.concat(sue_df_boj_merged_nd_list)\n",
    "\n",
    "    sue_df_boj_merged = pd.merge(sue_df_boj_merged, \n",
    "                                 sue_df_boj_merged_nd, \n",
    "                                 on=['sedol', 'qtr_yr_index', 'boj_share_shares'])\n",
    "    return sue_df_boj_merged\n",
    "\n",
    "def get_firm_quarter_count(df):\n",
    "    return df.drop_duplicates(['SEDOL', 'eff_anndats'])"
   ]
  },
  {
   "cell_type": "code",
   "execution_count": 2,
   "id": "7968bd94-325d-45d4-854e-7d6d262e3d88",
   "metadata": {},
   "outputs": [],
   "source": [
    "def get_truncated_df(merge_df, columns, year_column_name=None, low=0.01, high=0.99):\n",
    "    merge_df_copy = merge_df.copy()\n",
    "    if year_column_name == None:\n",
    "        for column in columns: \n",
    "            _1pct, _99pct = merge_df_copy[column].quantile(q=low), merge_df_copy[column].quantile(q=high)\n",
    "            merge_df_copy[column].where((merge_df_copy[column] < _99pct) & (merge_df_copy[column] > _1pct), math.nan, inplace=True)\n",
    "    else: \n",
    "        merge_df_list = []\n",
    "        merge_year_df_list = [[year, merge_year_df] for year, merge_year_df in merge_df_copy.groupby(year_column_name)]\n",
    "        for year, merge_year_df in tqdm(merge_year_df_list):\n",
    "            for column in columns: \n",
    "                _1pct, _99pct = merge_year_df[column].quantile(q=low), merge_year_df[column].quantile(q=high)\n",
    "                merge_year_df[column].where(~((merge_year_df[column] > _99pct) | (merge_year_df[column] < _1pct)), math.nan, inplace=True)\n",
    "            merge_df_list.append(merge_year_df)\n",
    "        merge_df_copy = pd.concat(merge_df_list)\n",
    "    \n",
    "    return merge_df_copy"
   ]
  },
  {
   "cell_type": "code",
   "execution_count": 3,
   "id": "5a18b500-36d2-464c-b8d8-9f83bd33b585",
   "metadata": {},
   "outputs": [],
   "source": [
    "r2_df = pd.read_pickle(PATH+'checkpoint_data/r2_df.pkl')"
   ]
  },
  {
   "cell_type": "code",
   "execution_count": 4,
   "id": "ed96c972-a7a6-4b63-98d0-4e3cbdbde08c",
   "metadata": {},
   "outputs": [],
   "source": [
    "weight_df = pd.read_pickle(PATH+'checkpoint_data/index_weights.pkl')\n",
    "\n",
    "nk_stocks = weight_df[weight_df['indexlistmnem']=='LJAPDOWA'].drop_duplicates(['sedol'])[['sedol']]\n",
    "nk_stocks['nk_flag'] = [1 for i in range(len(nk_stocks))]\n",
    "\n",
    "nk_stocks_ref = weight_df[weight_df['indexlistmnem']=='LJAPDOWA'].drop_duplicates(['sedol', 'month', 'yr'])\n",
    "nk_stocks_ref = nk_stocks_ref[['sedol', 'month', 'yr']]\n",
    "nk_stocks_ref['nk_flag_ref'] = [1 for i in range(len(nk_stocks_ref))]"
   ]
  },
  {
   "cell_type": "code",
   "execution_count": 5,
   "id": "63c6adfc-aa98-40b8-8797-e6bd9ee07117",
   "metadata": {},
   "outputs": [],
   "source": [
    "boj_df = pd.read_pickle(PATH+'checkpoint_data/boj_purchases_stock_level_v2.pkl')"
   ]
  },
  {
   "cell_type": "code",
   "execution_count": 88,
   "id": "e14185ea-7787-4b0e-851f-02f000fb2a59",
   "metadata": {
    "jupyter": {
     "source_hidden": true
    },
    "tags": []
   },
   "outputs": [],
   "source": [
    "# sue_df = pd.read_pickle(PATH+'checkpoint_data/sue_df_nm.pkl')\n",
    "# sue_df = sue_df.dropna(subset=['eff_anndats'])\n",
    "\n",
    "# sue_df['eff_PMON'] = sue_df['eff_anndats'].dt.month\n",
    "# sue_df['eff_PYEAR'] = sue_df['eff_anndats'].dt.year\n",
    "\n",
    "# sue_df_1 = pd.merge(sue_df, \n",
    "#                     nk_dummy_df,\n",
    "#                     left_on=['SEDOL', 'eff_PMON', 'eff_PYEAR'], \n",
    "#                     right_on=['sedol', 'month', 'yr'], \n",
    "#                     how='left').drop(columns=['month', 'yr', 'sedol'])\n",
    "\n",
    "# sue_df_2 = pd.merge(sue_df_1, \n",
    "#                     nk_dummy_df_rough,\n",
    "#                     left_on=['SEDOL'], \n",
    "#                     right_on=['sedol'], \n",
    "#                     how='left').drop(columns=['sedol'])\n",
    "\n",
    "# nk_sue_df = sue_df_2[sue_df_2['nk_flag']==1]"
   ]
  },
  {
   "cell_type": "code",
   "execution_count": 89,
   "id": "e89d2190-7346-472d-8c3b-ad79f289e058",
   "metadata": {
    "jupyter": {
     "source_hidden": true
    },
    "tags": []
   },
   "outputs": [],
   "source": [
    "# nk_sue_df_1 = pd.merge_asof(nk_sue_df.sort_values('eff_anndats'), \n",
    "#                       boj_df.sort_values('date').drop(columns=['nk_flag']), \n",
    "#                       left_by=['SEDOL'], \n",
    "#                       right_by=['sedol'], \n",
    "#                       left_on=['eff_anndats'], \n",
    "#                       right_on=['date'], \n",
    "#                       direction='backward', \n",
    "#                       tolerance=pd.Timedelta(days=3))"
   ]
  },
  {
   "cell_type": "code",
   "execution_count": 90,
   "id": "15f56017-daa7-4aa2-b181-506ac0e8b557",
   "metadata": {
    "jupyter": {
     "source_hidden": true
    },
    "tags": []
   },
   "outputs": [],
   "source": [
    "# cols = ['SEDOL', 'FPEDATS', 'eff_anndats', 'PMON', \n",
    "#         'PYEAR', 'eff_PMON', 'eff_PYEAR', 'sue_nm', \n",
    "#         'sue_nm_quintiles', 'sue_nm_deciles', 'nk_flag', \n",
    "#         'nk_flag_fine', 'date', 'boj_share_shares']\n",
    "# nk_sue_df_1 = nk_sue_df_1[cols]\n",
    "# cols[-2] = 'boj_date'\n",
    "# nk_sue_df_1.columns = cols"
   ]
  },
  {
   "cell_type": "code",
   "execution_count": 91,
   "id": "b2f0aa11-dc2f-4c71-b762-a64221f601cd",
   "metadata": {
    "jupyter": {
     "source_hidden": true
    },
    "tags": []
   },
   "outputs": [],
   "source": [
    "# nk_sue_df_2 = pd.merge_asof(nk_sue_df_1.sort_values('eff_anndats'), \n",
    "#                   r2_df.sort_values('fin_date'), \n",
    "#                   left_by='SEDOL', \n",
    "#                   right_by='sedol', \n",
    "#                   left_on='eff_anndats', \n",
    "#                   right_on='fin_date', \n",
    "#                   direction='nearest', \n",
    "#                   tolerance=pd.Timedelta(weeks=8)).drop(columns=['sedol'])"
   ]
  },
  {
   "cell_type": "markdown",
   "id": "a52184c0-fc4b-4ba4-ae8c-615504beedcb",
   "metadata": {},
   "source": [
    "## R^2 Better Version"
   ]
  },
  {
   "cell_type": "code",
   "execution_count": null,
   "id": "b210b6b2-4289-4bc9-a08e-e6d91426e9e0",
   "metadata": {},
   "outputs": [],
   "source": [
    "r2_df"
   ]
  },
  {
   "cell_type": "code",
   "execution_count": 6,
   "id": "3c2522d2-9a94-49b6-879a-9da6968d63d4",
   "metadata": {},
   "outputs": [],
   "source": [
    "r2_df = r2_df[r2_df['nobs'] >= 40]"
   ]
  },
  {
   "cell_type": "code",
   "execution_count": 7,
   "id": "6b5303cb-3dc6-44f6-b611-37f2ffc392fb",
   "metadata": {},
   "outputs": [],
   "source": [
    "r2_df_1 = pd.merge_asof(r2_df.sort_values('fin_date'), \n",
    "                        boj_df.sort_values('date'),\n",
    "                        by='sedol', \n",
    "                        left_on='fin_date',\n",
    "                        right_on='date', \n",
    "                        direction='backward'\n",
    "                       )"
   ]
  },
  {
   "cell_type": "code",
   "execution_count": 8,
   "id": "d8119293-2de2-4081-8833-f9365848d039",
   "metadata": {},
   "outputs": [],
   "source": [
    "r2_df_1 = pd.merge(r2_df_1, \n",
    "                   nk_stocks, \n",
    "                   on='sedol', \n",
    "                   how='left')"
   ]
  },
  {
   "cell_type": "code",
   "execution_count": 9,
   "id": "17a0f07e-ad66-4ee9-a4c9-1274355506d2",
   "metadata": {},
   "outputs": [],
   "source": [
    "nk_r2_df = r2_df_1[r2_df_1['nk_flag']==1]\n",
    "nk_r2_df['fin_date_yr'] = nk_r2_df['fin_date'].dt.year"
   ]
  },
  {
   "cell_type": "code",
   "execution_count": 10,
   "id": "32cab761-2551-417d-896e-e99656fc0603",
   "metadata": {},
   "outputs": [
    {
     "name": "stderr",
     "output_type": "stream",
     "text": [
      "100%|█████████████████████████████████████████████████████████████████████████████████| 44/44 [00:00<00:00, 269.80it/s]\n"
     ]
    }
   ],
   "source": [
    "nk_r2_df = get_boj_quintiles_conditional(nk_r2_df, suffix='nk', quantiles=5)"
   ]
  },
  {
   "cell_type": "code",
   "execution_count": 11,
   "id": "88da79ee-68f2-4d52-adf8-5c2490b80924",
   "metadata": {},
   "outputs": [],
   "source": [
    "nk_r2_df['qtr_yr_index_str'] = nk_r2_df['qtr_yr_index'].apply(lambda x: str(x[0]) + 'Q' + str(x[1]))"
   ]
  },
  {
   "cell_type": "code",
   "execution_count": 12,
   "id": "128d23b0-d337-4404-81f3-c6cb6ec07bf7",
   "metadata": {},
   "outputs": [],
   "source": [
    "nk_r2_df['ab_qtr'] = nk_r2_df['qtr_yr_index'].apply(lambda x: x[1])"
   ]
  },
  {
   "cell_type": "code",
   "execution_count": 13,
   "id": "afc3129d-e891-4018-ac30-82a879326018",
   "metadata": {},
   "outputs": [],
   "source": [
    "nk_r2_df.drop(columns='qtr_yr_index').to_stata(PATH+'regression_files/dta_files/r2.dta')"
   ]
  },
  {
   "cell_type": "code",
   "execution_count": 16,
   "id": "45a64dc4-eeb7-479a-bef1-c0039f02f9e9",
   "metadata": {},
   "outputs": [
    {
     "data": {
      "image/png": "[encoded data removed]",
      "text/plain": [
       "<Figure size 576x288 with 1 Axes>"
      ]
     },
     "metadata": {
      "needs_background": "light"
     },
     "output_type": "display_data"
    }
   ],
   "source": [
    "r2_bot_quant_df = nk_r2_df[nk_r2_df['boj_share_shares_quantiles_nk'].isin([1])]\n",
    "r2_top_quant_df = nk_r2_df[nk_r2_df['boj_share_shares_quantiles_nk'].isin([4])]\n",
    "\n",
    "fig = plt.figure(figsize=(8, 4))\n",
    "ax = fig.add_subplot(111)\n",
    "ax.set_xticks([0, 8, 16, 24, 32, 40])\n",
    "\n",
    "ax.plot(r2_bot_quant_df.groupby('qtr_yr_index_str').mean()['r2'], ls='--', color='b', label='Low BOJ Ownership')\n",
    "ax.plot(r2_top_quant_df.groupby('qtr_yr_index_str').mean()['r2'], marker='.', color='r', label='High BOJ Ownership')\n",
    "\n",
    "ax.set_ylabel('$R^2$ from Market Model Regression')\n",
    "ax.set_title('$R^2$ from Market-Model')\n",
    "\n",
    "plt.legend()\n",
    "plt.savefig(PATH+'images/nov_1/r2')\n",
    "plt.show()"
   ]
  },
  {
   "cell_type": "markdown",
   "id": "30a42050-ccf0-47be-8300-3e6b622a4ab7",
   "metadata": {},
   "source": [
    "## Other"
   ]
  },
  {
   "cell_type": "code",
   "execution_count": 30,
   "id": "13cd35be-6f29-4b4e-bb67-8e2db61683a1",
   "metadata": {},
   "outputs": [
    {
     "name": "stderr",
     "output_type": "stream",
     "text": [
      "<ipython-input-30-0e6a58481e1e>:3: SettingWithCopyWarning: \n",
      "A value is trying to be set on a copy of a slice from a DataFrame.\n",
      "Try using .loc[row_indexer,col_indexer] = value instead\n",
      "\n",
      "See the caveats in the documentation: https://pandas.pydata.org/pandas-docs/stable/user_guide/indexing.html#returning-a-view-versus-a-copy\n",
      "  nk_weights_2010['2010_nk_weight_decile'] = pd.qcut(nk_weights_2010['weight'], 10, labels=False)\n"
     ]
    }
   ],
   "source": [
    "weight_df = pd.read_pickle(PATH+'checkpoint_data/index_weights.pkl')\n",
    "nk_weights_2010 = weight_df[(weight_df['indexlistmnem']=='LJAPDOWA') & (weight_df['month']==11) & (weight_df['yr']==2010)]\n",
    "nk_weights_2010['2010_nk_weight_decile'] = pd.qcut(nk_weights_2010['weight'], 10, labels=False)\n",
    "nk_weights_2010 = nk_weights_2010[['sedol', '2010_nk_weight_decile', 'weight']]\n",
    "nk_weights_2010.columns = ['sedol', '2010_nk_weight_decile', 'nk_weight']"
   ]
  },
  {
   "cell_type": "code",
   "execution_count": 40,
   "id": "30004dc7-86e6-4256-8cf5-d7174a98eeb6",
   "metadata": {},
   "outputs": [],
   "source": [
    "nk_r2_df_w_2010_weights = pd.merge(nk_r2_df, \n",
    "                                   nk_weights_2010, \n",
    "                                   on=['sedol'], \n",
    "                                   how='left')"
   ]
  },
  {
   "cell_type": "code",
   "execution_count": 119,
   "id": "52420cd7-1ef2-4c3b-a310-dbe91d958ca9",
   "metadata": {},
   "outputs": [
    {
     "data": {
      "text/plain": [
       "<matplotlib.legend.Legend at 0x2660b8a38b0>"
      ]
     },
     "execution_count": 119,
     "metadata": {},
     "output_type": "execute_result"
    },
    {
     "data": {
      "image/png": "[encoded data removed]",
      "text/plain": [
       "<Figure size 432x288 with 1 Axes>"
      ]
     },
     "metadata": {
      "needs_background": "light"
     },
     "output_type": "display_data"
    }
   ],
   "source": [
    "r2_bot_quant_df = nk_r2_df_w_2010_weights[nk_r2_df_w_2010_weights['2010_nk_weight_decile'].isin([3])]\n",
    "r2_top_quant_df = nk_r2_df_w_2010_weights[nk_r2_df_w_2010_weights['2010_nk_weight_decile'].isin([9])]\n",
    "\n",
    "plt.plot(r2_bot_quant_df.groupby('fin_date_yr').mean()['r2'], marker='.', label='Low 2010 Price')\n",
    "plt.plot(r2_top_quant_df.groupby('fin_date_yr').mean()['r2'], marker='.', label='High 2010 Price')\n",
    "plt.legend()"
   ]
  },
  {
   "cell_type": "code",
   "execution_count": 108,
   "id": "0e701c4e-81f4-4fbe-be2d-93f75f9fcfe4",
   "metadata": {},
   "outputs": [],
   "source": [
    "nk_r2_df_w_2010_weights.drop(columns='qtr_yr_index').to_stata(PATH+'checkpoint_data/r2_reg.dta')"
   ]
  },
  {
   "cell_type": "code",
   "execution_count": null,
   "id": "be8fea97-dcb8-42e5-8e11-5768ceaffa8c",
   "metadata": {},
   "outputs": [],
   "source": [
    "r2_df['fin_date_yr'] = r2_df['fin_date'].dt.year\n",
    "r2_df['qtr_yr_index_str'] = r2_df['qtr_yr_index'].apply(lambda x: str(x[0]) + 'Q' + str(x[1]))\n",
    "plt.plot(r2_df.groupby('fin_date_yr')['r2'].mean())"
   ]
  }
 ],
 "metadata": {
  "kernelspec": {
   "display_name": "Python 3",
   "language": "python",
   "name": "python3"
  },
  "language_info": {
   "codemirror_mode": {
    "name": "ipython",
    "version": 3
   },
   "file_extension": ".py",
   "mimetype": "text/x-python",
   "name": "python",
   "nbconvert_exporter": "python",
   "pygments_lexer": "ipython3",
   "version": "3.9.5"
  }
 },
 "nbformat": 4,
 "nbformat_minor": 5
}
