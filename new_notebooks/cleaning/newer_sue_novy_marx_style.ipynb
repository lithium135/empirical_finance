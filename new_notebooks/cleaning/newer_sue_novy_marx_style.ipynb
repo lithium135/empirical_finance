{
 "cells": [
  {
   "cell_type": "markdown",
   "id": "6564504b-9342-41fd-9958-3b529217f281",
   "metadata": {},
   "source": [
    "Cleans IBES data and adds Novy-Marx style SUE measures. \n",
    "\n",
    "Final output is a dataframe containing companies with their SUE at different quarters. "
   ]
  },
  {
   "cell_type": "code",
   "execution_count": 1,
   "id": "092d75a1-33da-49f4-acf5-96fb94af3a63",
   "metadata": {},
   "outputs": [],
   "source": [
    "import pandas as pd\n",
    "import datetime as dt\n",
    "import math\n",
    "import matplotlib.pyplot as plt\n",
    "\n",
    "from tqdm import tqdm\n",
    "from pandas.tseries.offsets import BDay\n",
    "\n",
    "pd.set_option(\"display.max_columns\", None)\n",
    "\n",
    "PATH = \"C:/Users/jackl/OneDrive/Documents/finance_research/japan_qe/\""
   ]
  },
  {
   "cell_type": "markdown",
   "id": "c5717987-555d-41e0-bda8-2842004e8a8e",
   "metadata": {},
   "source": [
    "## IBES SUE Cleaning"
   ]
  },
  {
   "cell_type": "code",
   "execution_count": 2,
   "id": "771666ff-c049-4d9c-8bc8-cb1c773ebd91",
   "metadata": {},
   "outputs": [],
   "source": [
    "_alphabet = '0123456789 BCD FGH JKLMN PQRST VWXYZ'\n",
    "def calc_check_digit(number):\n",
    "    weights = (1, 3, 1, 7, 3, 9)\n",
    "    s = sum(w * _alphabet.index(n) for w, n in zip(weights, number))\n",
    "    return str((10 - s) % 10)"
   ]
  },
  {
   "cell_type": "code",
   "execution_count": 3,
   "id": "008e2bbd-4619-4540-ab4c-0eb2d1ea1a28",
   "metadata": {},
   "outputs": [],
   "source": [
    "sum_detailed_df = pd.read_csv(PATH+'raw_data/ibes/detailed_int_v2.csv', parse_dates=['ANNDATS', 'PENDS'])"
   ]
  },
  {
   "cell_type": "code",
   "execution_count": 4,
   "id": "a78a51cd-3272-4dc3-9265-b4dca2f01f18",
   "metadata": {},
   "outputs": [],
   "source": [
    "sum_detailed_jp_df = sum_detailed_df[sum_detailed_df['CURR_ACT']=='JPY'][['TICKER', 'CUSIP', 'CNAME', 'ANNDATS', 'ANNTIMS', 'PENDS']]"
   ]
  },
  {
   "cell_type": "code",
   "execution_count": 5,
   "id": "8b42473e-72ee-4a93-9636-9ec1746b5ed9",
   "metadata": {},
   "outputs": [
    {
     "name": "stderr",
     "output_type": "stream",
     "text": [
      "100%|█████████████████████████████████████████████████████████████████████████████| 5328/5328 [00:33<00:00, 159.74it/s]\n"
     ]
    }
   ],
   "source": [
    "ticker_df_list = []\n",
    "for ticker, ticker_df in tqdm(sum_detailed_jp_df.groupby(['TICKER'])):\n",
    "    try: \n",
    "        cusip, cname = ticker_df[['CUSIP', 'CNAME']].dropna().iloc[0]\n",
    "        ticker_df['CUSIP'] = ticker_df['CUSIP'].fillna(cusip)\n",
    "        ticker_df['CNAME'] = ticker_df['CNAME'].fillna(cname)\n",
    "    except:\n",
    "        pass\n",
    "    ticker_df_list.append(ticker_df)"
   ]
  },
  {
   "cell_type": "code",
   "execution_count": 6,
   "id": "f0a9c272-c20b-4682-9ac0-c28567c4d482",
   "metadata": {},
   "outputs": [],
   "source": [
    "sum_detailed_jp_df = pd.concat(ticker_df_list)"
   ]
  },
  {
   "cell_type": "code",
   "execution_count": 7,
   "id": "ef0f0065-7742-4c24-94b9-216251620112",
   "metadata": {},
   "outputs": [],
   "source": [
    "#there are only 135 na's in total. Sufficieint to just drop all NANs\n",
    "sum_detailed_jp_df = sum_detailed_jp_df.dropna()"
   ]
  },
  {
   "cell_type": "code",
   "execution_count": 8,
   "id": "467118ac-79d1-4d65-96f1-723e5241b4e0",
   "metadata": {},
   "outputs": [],
   "source": [
    "#get SEDOL from CUSIP\n",
    "sum_detailed_jp_df['SEDOL'] = sum_detailed_jp_df['CUSIP'].apply(lambda x: str(x)[2:] if len(str(x)) == 8 else math.nan)\n",
    "sum_detailed_jp_df['SEDOL'] = sum_detailed_jp_df['SEDOL'].apply(lambda x: str(x) + calc_check_digit(x) if len(str(x)) == 6 else math.nan)"
   ]
  },
  {
   "cell_type": "code",
   "execution_count": 9,
   "id": "a1435b75-fb81-46dc-b554-c0d3964c6515",
   "metadata": {},
   "outputs": [],
   "source": [
    "sum_detailed_jp_df[['TICKER', 'CUSIP']] = sum_detailed_jp_df[['TICKER', 'CUSIP']].astype(str)\n",
    "sum_detailed_jp_df['ANNTIMS'] = pd.to_timedelta(sum_detailed_jp_df['ANNTIMS'])"
   ]
  },
  {
   "cell_type": "code",
   "execution_count": 10,
   "id": "3e9ae493-2cd7-4f49-8e34-d3efad34d144",
   "metadata": {},
   "outputs": [],
   "source": [
    "sum_detailed_jp_df = sum_detailed_jp_df[sum_detailed_jp_df['ANNTIMS'] != pd.Timedelta('00:00:00')]"
   ]
  },
  {
   "cell_type": "code",
   "execution_count": 11,
   "id": "bd40f14f-bc6f-4914-89d6-006d97ee11b8",
   "metadata": {},
   "outputs": [],
   "source": [
    "sum_detailed_jp_df['ANNDATS_FULL_EST'] = (sum_detailed_jp_df['ANNDATS'] + sum_detailed_jp_df['ANNTIMS'])\n",
    "sum_detailed_jp_df['ANNDATS_FULL_JST'] = sum_detailed_jp_df['ANNDATS_FULL_EST'].dt.tz_localize('EST').dt.tz_convert('Asia/Tokyo')"
   ]
  },
  {
   "cell_type": "code",
   "execution_count": 12,
   "id": "40528813-db27-449e-bea4-ece0cbc00cf1",
   "metadata": {},
   "outputs": [],
   "source": [
    "#convert times\n",
    "sum_detailed_jp_df['ANNDATS_JST'] = sum_detailed_jp_df['ANNDATS_FULL_JST'].dt.date\n",
    "sum_detailed_jp_df['ANNTIMS_JST'] = pd.to_timedelta(sum_detailed_jp_df['ANNDATS_FULL_JST'].dt.time.astype(str))"
   ]
  },
  {
   "cell_type": "code",
   "execution_count": 13,
   "id": "d881c487-f959-4e62-b901-6f8595131303",
   "metadata": {},
   "outputs": [],
   "source": [
    "#adjust time zones. This is needed since IBES data is quoted in NY time, while price data is Japanese local time\n",
    "sum_detailed_jp_df['eff_anndats'] = sum_detailed_jp_df['ANNDATS_JST'] + sum_detailed_jp_df['ANNTIMS_JST'].apply(lambda x: BDay(1) if (x > pd.to_timedelta('15:00:00')) else BDay(0))"
   ]
  },
  {
   "cell_type": "code",
   "execution_count": 14,
   "id": "f7161c5d-b2ab-494d-9e8c-a038bf693f13",
   "metadata": {},
   "outputs": [],
   "source": [
    "sum_detailed_jp_df = sum_detailed_jp_df.drop(columns=['ANNDATS',\n",
    "                                                      'ANNTIMS',\n",
    "                                                      'ANNDATS_JST', \n",
    "                                                      'ANNTIMS_JST'])"
   ]
  },
  {
   "cell_type": "code",
   "execution_count": 15,
   "id": "89fa6606-ffc5-4a17-b0ae-a6f62dec301d",
   "metadata": {},
   "outputs": [],
   "source": [
    "sum_detailed_jp_df['PMON'] = sum_detailed_jp_df['PENDS'].dt.month\n",
    "sum_detailed_jp_df['PYEAR'] = sum_detailed_jp_df['PENDS'].dt.year"
   ]
  },
  {
   "cell_type": "code",
   "execution_count": 16,
   "id": "bd714a4a-8246-426c-a151-d72bec05109b",
   "metadata": {},
   "outputs": [],
   "source": [
    "sum_detailed_jp_df.columns = ['TICKER', 'CUSIP', 'CNAME', 'FPEDATS', 'SEDOL', 'ANNDATS_FULL_EST', \n",
    "                              'ANNDATS_FULL_JST', 'eff_anndats', 'PMON', 'PYEAR']"
   ]
  },
  {
   "cell_type": "code",
   "execution_count": 17,
   "id": "970ffc31-9ff4-458d-9176-aacb19185dd4",
   "metadata": {},
   "outputs": [],
   "source": [
    "sum_detailed_jp_df = sum_detailed_jp_df.sort_values(['CUSIP', 'FPEDATS']).drop_duplicates(['CUSIP', 'eff_anndats'], keep='last')"
   ]
  },
  {
   "cell_type": "code",
   "execution_count": 18,
   "id": "51ef523b-b84f-4ec1-a39a-fea6a784892c",
   "metadata": {
    "tags": []
   },
   "outputs": [],
   "source": [
    "# anndats = list(sum_detailed_jp_df['eff_anndats'])\n",
    "# times = list(sum_detailed_jp_df['ANNTIMS_ACT'])\n",
    "# ref_anndats = []\n",
    "# for i in range(len(anndats)): \n",
    "#     if times[i] >= pd.to_timedelta('00:00:00'): \n",
    "#         ref_anndats.append(anndats[i])\n",
    "#     else: \n",
    "#         ref_anndats.append(math.nan)\n",
    "        \n",
    "# sum_detailed_jp_df['eff_anndats'] = ref_anndats"
   ]
  },
  {
   "cell_type": "markdown",
   "id": "cf8e4a05-f7c1-41fc-ac49-4fe35c36b8eb",
   "metadata": {},
   "source": [
    "### Novy-Marx SUE"
   ]
  },
  {
   "cell_type": "code",
   "execution_count": 1,
   "id": "e15d6fe6-ef04-43fd-aae7-a629d6c3d06f",
   "metadata": {},
   "outputs": [
    {
     "ename": "NameError",
     "evalue": "name 'pd' is not defined",
     "output_type": "error",
     "traceback": [
      "\u001b[1;31m---------------------------------------------------------------------------\u001b[0m",
      "\u001b[1;31mNameError\u001b[0m                                 Traceback (most recent call last)",
      "\u001b[1;32m<ipython-input-1-f0314dc760d0>\u001b[0m in \u001b[0;36m<module>\u001b[1;34m\u001b[0m\n\u001b[1;32m----> 1\u001b[1;33m \u001b[0mws_df\u001b[0m \u001b[1;33m=\u001b[0m \u001b[0mpd\u001b[0m\u001b[1;33m.\u001b[0m\u001b[0mread_csv\u001b[0m\u001b[1;33m(\u001b[0m\u001b[0mPATH\u001b[0m\u001b[1;33m+\u001b[0m\u001b[1;34m'raw_data/worldscope/all_earnings.csv'\u001b[0m\u001b[1;33m,\u001b[0m \u001b[0mparse_dates\u001b[0m\u001b[1;33m=\u001b[0m\u001b[1;33m[\u001b[0m\u001b[1;34m'ITEM5350'\u001b[0m\u001b[1;33m]\u001b[0m\u001b[1;33m)\u001b[0m\u001b[1;33m\u001b[0m\u001b[1;33m\u001b[0m\u001b[0m\n\u001b[0m\u001b[0;32m      2\u001b[0m \u001b[0mws_df\u001b[0m\u001b[1;33m.\u001b[0m\u001b[0mcolumns\u001b[0m \u001b[1;33m=\u001b[0m \u001b[1;33m[\u001b[0m\u001b[1;34m'code'\u001b[0m\u001b[1;33m,\u001b[0m \u001b[1;34m'year_'\u001b[0m\u001b[1;33m,\u001b[0m \u001b[1;34m'freq'\u001b[0m\u001b[1;33m,\u001b[0m \u001b[1;34m'seq'\u001b[0m\u001b[1;33m,\u001b[0m \u001b[1;34m'e'\u001b[0m\u001b[1;33m,\u001b[0m \u001b[1;34m'date'\u001b[0m\u001b[1;33m,\u001b[0m \u001b[1;34m'sedol'\u001b[0m\u001b[1;33m,\u001b[0m \u001b[1;34m'fyr'\u001b[0m\u001b[1;33m]\u001b[0m\u001b[1;33m\u001b[0m\u001b[1;33m\u001b[0m\u001b[0m\n\u001b[0;32m      3\u001b[0m \u001b[0mws_df\u001b[0m\u001b[1;33m[\u001b[0m\u001b[1;34m'sedol'\u001b[0m\u001b[1;33m]\u001b[0m \u001b[1;33m=\u001b[0m \u001b[0mws_df\u001b[0m\u001b[1;33m[\u001b[0m\u001b[1;34m'sedol'\u001b[0m\u001b[1;33m]\u001b[0m\u001b[1;33m.\u001b[0m\u001b[0mastype\u001b[0m\u001b[1;33m(\u001b[0m\u001b[0mstr\u001b[0m\u001b[1;33m)\u001b[0m\u001b[1;33m\u001b[0m\u001b[1;33m\u001b[0m\u001b[0m\n\u001b[0;32m      4\u001b[0m \u001b[0mws_df\u001b[0m \u001b[1;33m=\u001b[0m \u001b[0mws_df\u001b[0m\u001b[1;33m.\u001b[0m\u001b[0mdrop\u001b[0m\u001b[1;33m(\u001b[0m\u001b[0mcolumns\u001b[0m\u001b[1;33m=\u001b[0m\u001b[1;33m[\u001b[0m\u001b[1;34m'code'\u001b[0m\u001b[1;33m]\u001b[0m\u001b[1;33m)\u001b[0m\u001b[1;33m\u001b[0m\u001b[1;33m\u001b[0m\u001b[0m\n",
      "\u001b[1;31mNameError\u001b[0m: name 'pd' is not defined"
     ]
    }
   ],
   "source": [
    "ws_df = pd.read_csv(PATH+'raw_data/worldscope/all_earnings.csv', parse_dates=['ITEM5350'])\n",
    "ws_df.columns = ['code', 'year_', 'freq', 'seq', 'e', 'date', 'sedol', 'fyr']\n",
    "ws_df['sedol'] = ws_df['sedol'].astype(str)\n",
    "ws_df = ws_df.drop(columns=['code'])"
   ]
  },
  {
   "cell_type": "code",
   "execution_count": 20,
   "id": "26b0ae6f-67e1-4c90-b5db-e047ef7ea29d",
   "metadata": {},
   "outputs": [],
   "source": [
    "ws_df = ws_df[ws_df['sedol'].isin(sum_detailed_jp_df['SEDOL'].unique())].dropna(subset=['sedol'])\n",
    "ws_df['year_behind'] = ws_df['year_'] - 1\n",
    "\n",
    "ws_df_merged = pd.merge(ws_df, \n",
    "                        ws_df[['sedol', 'year_', 'e' ,'seq']], \n",
    "                        left_on=['sedol', 'year_behind', 'seq'], \n",
    "                        right_on=['sedol', 'year_', 'seq'], \n",
    "                        how='left', \n",
    "                        suffixes=[None, '_behind']).drop(columns=['year__behind', 'year_behind'])"
   ]
  },
  {
   "cell_type": "code",
   "execution_count": 21,
   "id": "598243e1-ae9f-48fb-960e-91a09709420a",
   "metadata": {},
   "outputs": [],
   "source": [
    "ws_df_merged['e_diff'] = ws_df_merged['e'] - ws_df_merged['e_behind']\n",
    "ws_df_merged = ws_df_merged.sort_values(['sedol', 'year_', 'seq']).reset_index(drop=True)"
   ]
  },
  {
   "cell_type": "code",
   "execution_count": 22,
   "id": "19e2a49e-76a1-490e-ae4a-d81273272344",
   "metadata": {},
   "outputs": [
    {
     "name": "stderr",
     "output_type": "stream",
     "text": [
      "100%|█████████████████████████████████████████████████████████████████████████████| 5106/5106 [00:18<00:00, 276.73it/s]\n"
     ]
    }
   ],
   "source": [
    "ws_df_merged_list = []\n",
    "for sedol, df in tqdm(ws_df_merged.groupby(['sedol'])): \n",
    "    df = df.sort_values('date')\n",
    "    df['e_std_dev_past'] = df['e_diff'].rolling(window=8, min_periods=6).std().shift(1)\n",
    "    ws_df_merged_list.append(df)\n",
    "    \n",
    "ws_df_merged = pd.concat(ws_df_merged_list)"
   ]
  },
  {
   "cell_type": "code",
   "execution_count": 23,
   "id": "09002ff4-4b66-485c-a992-c9a33cf77ff0",
   "metadata": {},
   "outputs": [],
   "source": [
    "ws_df_merged['sue_nm'] = ws_df_merged['e_diff']/ws_df_merged['e_std_dev_past']\n",
    "ws_df_merged['PYEAR'] = ws_df_merged['date'].dt.year\n",
    "ws_df_merged['PMON'] = ws_df_merged['date'].dt.month"
   ]
  },
  {
   "cell_type": "code",
   "execution_count": 24,
   "id": "04c0acf4-e349-4599-a257-ad70a621a2ab",
   "metadata": {},
   "outputs": [],
   "source": [
    "ws_df_merged = ws_df_merged.dropna(subset=['sedol'])\n",
    "ws_df_merged['sedol'] = ws_df_merged['sedol'].astype(str)"
   ]
  },
  {
   "cell_type": "code",
   "execution_count": 25,
   "id": "d8d4c831-0617-4bc3-83da-b861e7f96a8e",
   "metadata": {
    "tags": []
   },
   "outputs": [],
   "source": [
    "jp_sue_df_merged_nm = pd.merge(sum_detailed_jp_df, \n",
    "                               ws_df_merged[['sedol', 'PMON', 'PYEAR', 'e_diff', 'sue_nm']], \n",
    "                               left_on=['SEDOL', 'PMON', 'PYEAR'],\n",
    "                               right_on=['sedol', 'PMON', 'PYEAR'], \n",
    "                               how='left').drop(columns='sedol')"
   ]
  },
  {
   "cell_type": "code",
   "execution_count": 26,
   "id": "42126ffd-930a-4d04-8170-ae63ddba4d41",
   "metadata": {},
   "outputs": [],
   "source": [
    "qtr = list(jp_sue_df_merged_nm['eff_anndats'].dt.quarter)\n",
    "yr = list(jp_sue_df_merged_nm['eff_anndats'].dt.year)\n",
    "pairs = [(qtr[i], yr[i]) for i in range(len(qtr))]\n",
    "jp_sue_df_merged_nm['qtr_yr_index'] = pairs\n",
    "\n",
    "jp_sue_df_merged_nm_list = []\n",
    "for index, df in jp_sue_df_merged_nm.groupby('qtr_yr_index'): \n",
    "    try:\n",
    "        df['sue_nm_quintiles'] = pd.qcut(df['sue_nm'], 5, labels=False)\n",
    "        df['sue_nm_deciles'] = pd.qcut(df['sue_nm'], 10, labels=False)\n",
    "        jp_sue_df_merged_nm_list.append(df)\n",
    "    except: \n",
    "        pass\n",
    "\n",
    "jp_sue_df_merged_nm = pd.concat(jp_sue_df_merged_nm_list)"
   ]
  },
  {
   "cell_type": "markdown",
   "id": "bec2a17c-91dd-43a2-9903-cd8402727fe4",
   "metadata": {},
   "source": [
    "## Get $\\Delta$E/P"
   ]
  },
  {
   "cell_type": "code",
   "execution_count": 27,
   "id": "f6a9cb36-f6be-4c2e-b158-9b11b22b8baf",
   "metadata": {},
   "outputs": [],
   "source": [
    "ret_df = pd.read_pickle(PATH+'checkpoint_data/returns_all_stocks.pkl')"
   ]
  },
  {
   "cell_type": "code",
   "execution_count": 28,
   "id": "08ba5141-efa4-4304-99d5-69655d9adb99",
   "metadata": {},
   "outputs": [],
   "source": [
    "jp_sue_df_merged_nm['eff_anndats_l1'] = jp_sue_df_merged_nm['eff_anndats'] - pd.DateOffset(days=1)"
   ]
  },
  {
   "cell_type": "code",
   "execution_count": 29,
   "id": "483c74bb-8316-4233-982e-51181d06202b",
   "metadata": {},
   "outputs": [],
   "source": [
    "jp_sue_df_merged_nm_1 = pd.merge_asof(\n",
    "                                jp_sue_df_merged_nm.sort_values(['eff_anndats_l1']),\n",
    "                                ret_df[['datadate', 'sedol', 'prccd', 'cshoc']].sort_values(['datadate']), \n",
    "                                left_by=['SEDOL'], \n",
    "                                right_by=['sedol'], \n",
    "                                left_on=['eff_anndats_l1'], \n",
    "                                right_on=['datadate'], \n",
    "                                direction='backward',\n",
    "                                tolerance=pd.Timedelta(days=5)\n",
    ")\n",
    "\n",
    "del ret_df"
   ]
  },
  {
   "cell_type": "code",
   "execution_count": 30,
   "id": "a4dc3a58-b408-466c-bdce-bbbe37756ba2",
   "metadata": {},
   "outputs": [],
   "source": [
    "jp_sue_df_merged_nm_1['dep'] = jp_sue_df_merged_nm_1['e_diff']/(jp_sue_df_merged_nm_1['prccd'] * jp_sue_df_merged_nm_1['cshoc'])"
   ]
  },
  {
   "cell_type": "code",
   "execution_count": 31,
   "id": "31e5f167-fe91-40ea-a921-4b62c7bcf770",
   "metadata": {},
   "outputs": [
    {
     "name": "stderr",
     "output_type": "stream",
     "text": [
      "100%|█████████████████████████████████████████████████████████████████████████████████| 63/63 [00:00<00:00, 111.83it/s]\n"
     ]
    }
   ],
   "source": [
    "jp_sue_df_merged_nm_list = []\n",
    "for index, df in tqdm(jp_sue_df_merged_nm_1.groupby('qtr_yr_index')): \n",
    "    try:\n",
    "        df['dep_nm_quintiles'] = pd.qcut(df['dep'], 5, labels=False)\n",
    "        df['dep_nm_deciles'] = pd.qcut(df['dep'], 10, labels=False)\n",
    "        jp_sue_df_merged_nm_list.append(df)\n",
    "    except: \n",
    "        pass\n",
    "\n",
    "jp_sue_df_merged_nm_1 = pd.concat(jp_sue_df_merged_nm_list)"
   ]
  },
  {
   "cell_type": "code",
   "execution_count": 33,
   "id": "60870a92-9c64-473e-a9ae-cae12b13d485",
   "metadata": {},
   "outputs": [],
   "source": [
    "jp_sue_df_merged_nm_1.to_pickle(PATH+'checkpoint_data/sue_df_nm.pkl')"
   ]
  }
 ],
 "metadata": {
  "kernelspec": {
   "display_name": "Python 3",
   "language": "python",
   "name": "python3"
  },
  "language_info": {
   "codemirror_mode": {
    "name": "ipython",
    "version": 3
   },
   "file_extension": ".py",
   "mimetype": "text/x-python",
   "name": "python",
   "nbconvert_exporter": "python",
   "pygments_lexer": "ipython3",
   "version": "3.9.5"
  }
 },
 "nbformat": 4,
 "nbformat_minor": 5
}
