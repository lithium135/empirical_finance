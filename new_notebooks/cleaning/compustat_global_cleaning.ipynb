{
 "cells": [
  {
   "cell_type": "code",
   "execution_count": 2,
   "id": "f16b7f79-8409-4729-884d-e5f53e4b2caa",
   "metadata": {
    "tags": []
   },
   "outputs": [],
   "source": [
    "import pandas as pd\n",
    "import datetime as dt\n",
    "import math\n",
    "from tqdm import tqdm\n",
    "from pandas.tseries.offsets import BDay\n",
    "\n",
    "PATH = \"C:/Users/jackl/OneDrive/Documents/finance_research/japan_qe/\""
   ]
  },
  {
   "cell_type": "code",
   "execution_count": 8,
   "id": "050fa782-d4b8-46aa-a625-73178647a12b",
   "metadata": {},
   "outputs": [],
   "source": [
    "def get_truncated_df(merge_df, columns, year_column_name=None, low=0.01, high=0.99):\n",
    "    merge_df_copy = merge_df.copy()\n",
    "    if year_column_name == None:\n",
    "        for column in columns: \n",
    "            _1pct, _99pct = merge_df_copy[column].quantile(q=low), merge_df_copy[column].quantile(q=high)\n",
    "            merge_df_copy[column].where((merge_df_copy[column] < _99pct) & (merge_df_copy[column] > _1pct), math.nan, inplace=True)\n",
    "    else: \n",
    "        merge_df_list = []\n",
    "        merge_year_df_list = [[year, merge_year_df] for year, merge_year_df in merge_df_copy.groupby(year_column_name)]\n",
    "        for year, merge_year_df in tqdm(merge_year_df_list):\n",
    "            for column in columns: \n",
    "                _1pct, _99pct = merge_year_df[column].quantile(q=low), merge_year_df[column].quantile(q=high)\n",
    "                merge_year_df[column].where(~((merge_year_df[column] > _99pct) | (merge_year_df[column] < _1pct)), math.nan, inplace=True)\n",
    "            merge_df_list.append(merge_year_df)\n",
    "        merge_df_copy = pd.concat(merge_df_list)\n",
    "    \n",
    "    return merge_df_copy\n",
    "\n",
    "def get_boj_quintiles_conditional(sue_df_boj_merged, suffix=None, quantiles=5):\n",
    "    sue_df_boj_merged_nd = sue_df_boj_merged[['sedol', 'yr_qtr_index', 'boj_share_shares']].drop_duplicates()\n",
    "    sue_df_boj_merged_nd_list = []\n",
    "    for index, df in tqdm(sue_df_boj_merged_nd.groupby('yr_qtr_index')): \n",
    "        try:\n",
    "            df['boj_share_shares_quantiles_'+suffix] = pd.qcut(df['boj_share_shares'], quantiles, labels=False)\n",
    "        except: \n",
    "            df['boj_share_shares_quantiles_'+suffix] = [math.nan for i in range(len(df))]\n",
    "\n",
    "        sue_df_boj_merged_nd_list.append(df)\n",
    "\n",
    "    sue_df_boj_merged_nd = pd.concat(sue_df_boj_merged_nd_list)\n",
    "\n",
    "    sue_df_boj_merged = pd.merge(sue_df_boj_merged, \n",
    "                                 sue_df_boj_merged_nd, \n",
    "                                 on=['sedol', 'yr_qtr_index', 'boj_share_shares'])\n",
    "    return sue_df_boj_merged"
   ]
  },
  {
   "cell_type": "markdown",
   "id": "b4e9e5fa-dd36-49e2-8ae8-325a83fbbc0c",
   "metadata": {},
   "source": [
    "## Returns"
   ]
  },
  {
   "cell_type": "code",
   "execution_count": 25,
   "id": "451b3b99-545f-41e2-900a-fc81150fde8d",
   "metadata": {},
   "outputs": [],
   "source": [
    "ret_df = pd.read_csv(PATH+'raw_data/comp_global/all_japanese_stocks.csv', parse_dates=['datadate'])"
   ]
  },
  {
   "cell_type": "code",
   "execution_count": 26,
   "id": "56e3de29-a6b1-48dd-b28c-df937b548df3",
   "metadata": {},
   "outputs": [],
   "source": [
    "ret_df = ret_df.dropna(subset=['sedol'])\n",
    "ret_df['sedol'] = ret_df['sedol'].astype(str)"
   ]
  },
  {
   "cell_type": "code",
   "execution_count": 27,
   "id": "0bd369af-c30c-4d8a-84c4-66230afed930",
   "metadata": {},
   "outputs": [],
   "source": [
    "ret_df = ret_df.drop(columns=['gvkey', 'iid'])"
   ]
  },
  {
   "cell_type": "code",
   "execution_count": 28,
   "id": "0fa0d650-a071-4eab-9dc3-a50fe6690eeb",
   "metadata": {},
   "outputs": [],
   "source": [
    "ret_df['mod_prccd'] = ret_df['prccd'] * ret_df['trfd'] / ret_df['ajexdi']\n",
    "ret_df['mod_ret'] = ret_df.groupby('sedol')['mod_prccd'].pct_change()\n",
    "ret_df['yr_qtr_index'] = ret_df['datadate'].apply(lambda x: (x.year, x.quarter))"
   ]
  },
  {
   "cell_type": "code",
   "execution_count": 31,
   "id": "55351dea-8f88-4e71-80db-73af4b8d91e1",
   "metadata": {},
   "outputs": [],
   "source": [
    "ret_df = ret_df[~ret_df['datadate'].isin([pd.to_datetime('2018-09-30'), \n",
    "                                          pd.to_datetime('2020-02-29'), \n",
    "                                          pd.to_datetime('2015-03-28'), \n",
    "                                          pd.to_datetime('2019-06-30'), \n",
    "                                          pd.to_datetime('2019-03-31')])]"
   ]
  },
  {
   "cell_type": "code",
   "execution_count": 35,
   "id": "fe4743b0-f232-4f20-ad4e-70af0ab8345c",
   "metadata": {},
   "outputs": [
    {
     "name": "stderr",
     "output_type": "stream",
     "text": [
      "  1%|▍                                                         | 22/3024 [00:00<00:42, 71.41it/s]"
     ]
    },
    {
     "name": "stdout",
     "output_type": "stream",
     "text": [
      "2009-06-01 00:00:00\n"
     ]
    },
    {
     "name": "stderr",
     "output_type": "stream",
     "text": [
      "100%|███████████████████████████████████████████████████████| 3024/3024 [00:13<00:00, 218.70it/s]\n"
     ]
    }
   ],
   "source": [
    "#restricts sample to trading-days, i.e. gets rid of days where more than 90% of stocks are not traded\n",
    "ret_df_without_non_trading_days_list = []\n",
    "for date, df in tqdm(ret_df.groupby(['datadate'])): \n",
    "    ret_non_nan = df[['mod_ret']].dropna()\n",
    "    num_stocks = len(ret_non_nan)\n",
    "    num_stocks_w_0_ret = len(ret_non_nan[ret_non_nan['mod_ret']==0])\n",
    "    try:\n",
    "        if num_stocks_w_0_ret/num_stocks < 0.9: \n",
    "            ret_df_without_non_trading_days_list.append(df)\n",
    "    except:\n",
    "        print(date)\n",
    "        \n",
    "ret_df_without_non_trading_days = pd.concat(ret_df_without_non_trading_days_list)"
   ]
  },
  {
   "cell_type": "code",
   "execution_count": 36,
   "id": "a73472e2-5048-41b8-8b51-44197671736b",
   "metadata": {},
   "outputs": [
    {
     "name": "stderr",
     "output_type": "stream",
     "text": [
      "100%|█████████████████████████████████████████████████████| 12257/12257 [01:03<00:00, 194.20it/s]\n"
     ]
    }
   ],
   "source": [
    "#restricts sample to stocks that trade, i.e. gets rid of stocks with 80% of days in a quarter are not traded\n",
    "ret_df_without_non_traded_stocks_list = []\n",
    "for sedol_qtr, df in tqdm(ret_df_without_non_trading_days.groupby(['sedol', 'yr_qtr_index'])): \n",
    "    ret_non_nan = df[['mod_ret']].dropna()\n",
    "    num_days = len(ret_non_nan)\n",
    "    num_days_w_0_ret = len(ret_non_nan[ret_non_nan['mod_ret']==0])\n",
    "    \n",
    "    #reasonable cutoff is if there are 19 trading days in the quarter\n",
    "    if num_days >= 31: \n",
    "        if num_days_w_0_ret / num_days < 0.8: \n",
    "            ret_df_without_non_traded_stocks_list.append(df)\n",
    "\n",
    "ret_df_without_non_traded_stocks = pd.concat(ret_df_without_non_traded_stocks_list)"
   ]
  },
  {
   "cell_type": "code",
   "execution_count": 37,
   "id": "579d321a-2085-4159-82ba-3c5d7d46bbdf",
   "metadata": {},
   "outputs": [],
   "source": [
    "ret_df_without_non_traded_stocks.to_pickle(PATH+'checkpoint_data/returns_all_stocks_intermediate.pkl')\n",
    "# ret_df_without_non_traded_stocks = pd.read_pickle(PATH+'checkpoint_data/returns_all_stocks_intermediate.pkl')"
   ]
  },
  {
   "cell_type": "markdown",
   "id": "58d33735-716d-432f-96d7-31229d7015a1",
   "metadata": {},
   "source": [
    "## Merge with TOPIX Index To Get Mkt Returns"
   ]
  },
  {
   "cell_type": "code",
   "execution_count": 38,
   "id": "4045e461-eb5a-4fd5-801b-01482218d983",
   "metadata": {},
   "outputs": [],
   "source": [
    "topix_df = pd.read_csv(PATH+'raw_data/datastream/topix_daily_returns.csv', parse_dates=['valuedate'])\n",
    "topix_df['ret'] = topix_df['pi_'].pct_change()"
   ]
  },
  {
   "cell_type": "code",
   "execution_count": 39,
   "id": "d92a41fe-dee4-428c-824f-0c81b1500d4f",
   "metadata": {},
   "outputs": [],
   "source": [
    "ret_df_merged_1 = pd.merge(ret_df_without_non_traded_stocks, \n",
    "                           topix_df, \n",
    "                           left_on=['datadate'], \n",
    "                           right_on=['valuedate'], \n",
    "                           how='left')\n",
    "\n",
    "ret_df_merged_1 = ret_df_merged_1.drop(columns=['valuedate'])"
   ]
  },
  {
   "cell_type": "code",
   "execution_count": 40,
   "id": "dfddef8f-c423-42cc-acb0-71bbf062b472",
   "metadata": {},
   "outputs": [],
   "source": [
    "ret_df_merged_1['mod_ret_mkt_adj'] = ret_df_merged_1['mod_ret'] - ret_df_merged_1['ret']"
   ]
  },
  {
   "cell_type": "code",
   "execution_count": 41,
   "id": "91aa2116-ef18-4a44-be96-90924d439391",
   "metadata": {},
   "outputs": [],
   "source": [
    "ret_df_merged_1 = ret_df_merged_1.drop(columns=['dsindexmnem', 'pi_', 'ret'])"
   ]
  },
  {
   "cell_type": "code",
   "execution_count": 47,
   "id": "36bc4310-af49-4e89-b744-3802fdcdab71",
   "metadata": {},
   "outputs": [],
   "source": [
    "ret_df_merged_1.sort_values(['sedol', 'datadate']).to_pickle(PATH+'checkpoint_data/returns_all_stocks.pkl')"
   ]
  },
  {
   "cell_type": "markdown",
   "id": "80de965d-6f6d-4326-9bcd-248f5a0ee112",
   "metadata": {},
   "source": [
    "<!-- ## Volume -->"
   ]
  },
  {
   "cell_type": "code",
   "execution_count": 22,
   "id": "160767d5-2950-4cdb-bdda-8587a940aa72",
   "metadata": {},
   "outputs": [],
   "source": [
    "# ret_df_list = []\n",
    "# for sedol, sedol_ret_df in tqdm(ret_df.groupby(['sedol'])): \n",
    "#     sedol_ret_df['cshtrd_av_yr'] = sedol_ret_df['cshtrd'].rolling(252, min_periods=210).mean().shift(1)\n",
    "#     sedol_ret_df['cshtrd_av_qtr'] = sedol_ret_df['cshtrd'].rolling(63, min_periods=52).mean().shift(1)\n",
    "#     ret_df_list.append(sedol_ret_df)"
   ]
  },
  {
   "cell_type": "code",
   "execution_count": 23,
   "id": "5235cdcc-41ee-43a4-ac8d-7fc5d32ae92e",
   "metadata": {},
   "outputs": [],
   "source": [
    "# ret_df = pd.concat(ret_df_list)"
   ]
  }
 ],
 "metadata": {
  "kernelspec": {
   "display_name": "Python 3",
   "language": "python",
   "name": "python3"
  },
  "language_info": {
   "codemirror_mode": {
    "name": "ipython",
    "version": 3
   },
   "file_extension": ".py",
   "mimetype": "text/x-python",
   "name": "python",
   "nbconvert_exporter": "python",
   "pygments_lexer": "ipython3",
   "version": "3.9.5"
  }
 },
 "nbformat": 4,
 "nbformat_minor": 5
}
