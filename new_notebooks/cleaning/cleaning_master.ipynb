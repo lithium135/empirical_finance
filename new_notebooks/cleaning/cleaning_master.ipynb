{
 "cells": [
  {
   "cell_type": "code",
   "execution_count": 2,
   "id": "5529f556-7346-4d76-8481-6e5d55d1817a",
   "metadata": {},
   "outputs": [],
   "source": [
    "import pandas as pd\n",
    "import datetime as dt\n",
    "import math\n",
    "from tqdm import tqdm\n",
    "from pandas.tseries.offsets import BDay"
   ]
  },
  {
   "cell_type": "markdown",
   "id": "9e6a1e82-ec70-409b-a3bc-9eb9b8515594",
   "metadata": {},
   "source": [
    "# IBES Cleaning"
   ]
  },
  {
   "cell_type": "code",
   "execution_count": 19,
   "id": "1127b9d2-96b2-4a4d-a621-dde325fe8395",
   "metadata": {},
   "outputs": [],
   "source": [
    "_alphabet = '0123456789 BCD FGH JKLMN PQRST VWXYZ'\n",
    "def calc_check_digit(number):\n",
    "    weights = (1, 3, 1, 7, 3, 9)\n",
    "    s = sum(w * _alphabet.index(n) for w, n in zip(weights, number))\n",
    "    return str((10 - s) % 10)\n",
    "\n",
    "pd.set_option('display.max_columns', None)"
   ]
  },
  {
   "cell_type": "code",
   "execution_count": 30,
   "id": "dae5e86f-3ec5-42cf-9cde-9f5c9473aa1f",
   "metadata": {},
   "outputs": [],
   "source": [
    "sue_df = pd.read_csv('raw_data/ibes/surprise_int.csv', parse_dates=['anndats'])"
   ]
  },
  {
   "cell_type": "code",
   "execution_count": 31,
   "id": "7d5df2e0-7a4b-4fd2-a4f8-e10c6ef3d521",
   "metadata": {},
   "outputs": [],
   "source": [
    "sum_df = pd.read_csv('raw_data/ibes/summary_int.csv', parse_dates=['STATPERS'])"
   ]
  },
  {
   "cell_type": "code",
   "execution_count": 32,
   "id": "0b0d7cff-9b6c-4057-927d-087923055d39",
   "metadata": {},
   "outputs": [
    {
     "name": "stderr",
     "output_type": "stream",
     "text": [
      "c:\\users\\jackl\\appdata\\local\\programs\\python\\python39\\lib\\site-packages\\IPython\\core\\interactiveshell.py:3169: DtypeWarning: Columns (7) have mixed types.Specify dtype option on import or set low_memory=False.\n",
      "  has_raised = await self.run_ast_nodes(code_ast.body, cell_name,\n"
     ]
    }
   ],
   "source": [
    "sum_detailed_df = pd.read_csv('raw_data/ibes/detailed_int.csv', parse_dates=['ANNDATS_ACT'])\n",
    "sum_detailed_df = sum_detailed_df[['TICKER', 'ANNDATS_ACT', 'ANNTIMS_ACT']].drop_duplicates().dropna()\n",
    "sum_detailed_df['ANNTIMS_ACT'] = pd.to_timedelta(sum_detailed_df['ANNTIMS_ACT'])"
   ]
  },
  {
   "cell_type": "code",
   "execution_count": 21,
   "id": "404a4134-ad11-4250-bc4f-5932ab5de76b",
   "metadata": {},
   "outputs": [],
   "source": [
    "sum_detailed_df['TICKER'] = sum_detailed_df['TICKER'].astype(str)\n",
    "sue_df['TICKER'] = sue_df['TICKER'].astype(str)\n",
    "sum_df['TICKER'] = sum_df['TICKER'].astype(str)\n",
    "\n",
    "sue_df['anndats'] = pd.to_datetime(sue_df['anndats'])\n",
    "sum_detailed_df['ANNDATS_ACT'] = pd.to_datetime(sum_detailed_df['ANNDATS_ACT'])"
   ]
  },
  {
   "cell_type": "code",
   "execution_count": 22,
   "id": "39b39c3b-937f-4afb-8a74-1359bdd54072",
   "metadata": {},
   "outputs": [],
   "source": [
    "sue_df = pd.merge(sue_df, \n",
    "                  sum_detailed_df, \n",
    "                  left_on=['TICKER', 'anndats'], \n",
    "                  right_on=['TICKER', 'ANNDATS_ACT'], how='left')"
   ]
  },
  {
   "cell_type": "code",
   "execution_count": 23,
   "id": "36ae03ee-d77a-4022-9cd4-bbe3db9c8a63",
   "metadata": {},
   "outputs": [],
   "source": [
    "jp_sum_df = sum_df[sum_df['CURCODE']=='JPY']\n",
    "jp_tickers = (jp_sum_df['OFTIC']).unique()\n",
    "jp_sue_df = sue_df[sue_df['OFTIC'].isin(jp_tickers)].sort_values(['anndats'])\n",
    "jp_sue_df = pd.merge(jp_sum_df[['TICKER', 'CUSIP']].drop_duplicates(), jp_sue_df, on='TICKER', how='right')"
   ]
  },
  {
   "cell_type": "code",
   "execution_count": 24,
   "id": "5ef2bfac-049c-4248-b58c-c2aec07a8ce5",
   "metadata": {},
   "outputs": [],
   "source": [
    "jp_sue_df['SEDOL'] = jp_sue_df['CUSIP'].apply(lambda x: str(x)[2:] if len(str(x)) == 8 else math.nan)\n",
    "jp_sue_df['SEDOL'] = jp_sue_df['SEDOL'].apply(lambda x: str(x) + calc_check_digit(x) if len(str(x)) == 6 else math.nan)"
   ]
  },
  {
   "cell_type": "code",
   "execution_count": 25,
   "id": "e24a4610-073d-4122-a711-0784d12c0168",
   "metadata": {},
   "outputs": [],
   "source": [
    "jp_sue_df['ANNDATS_FULL_CONVERT'] = (jp_sue_df['ANNDATS_ACT'] + jp_sue_df['ANNTIMS_ACT']).dt.tz_localize('EST').dt.tz_convert('Asia/Tokyo')\n",
    "jp_sue_df['ANNDATS_ACT_CONVERT'] = jp_sue_df['ANNDATS_FULL_CONVERT'].dt.date\n",
    "jp_sue_df['ANNTIMS_ACT_CONVERT'] = pd.to_timedelta(jp_sue_df['ANNDATS_FULL_CONVERT'].dt.time.astype(str))"
   ]
  },
  {
   "cell_type": "code",
   "execution_count": 26,
   "id": "7a106223-450b-4fae-a821-f74a2727a2e6",
   "metadata": {},
   "outputs": [],
   "source": [
    "jp_sue_df['eff_anndats'] = jp_sue_df['ANNDATS_ACT_CONVERT'] + jp_sue_df['ANNTIMS_ACT_CONVERT'].apply(lambda x: BDay(1) if (x > pd.to_timedelta('15:00:00')) else BDay(0))"
   ]
  },
  {
   "cell_type": "code",
   "execution_count": 27,
   "id": "73f84265-fc22-4d9f-b09d-0168479e374f",
   "metadata": {},
   "outputs": [],
   "source": [
    "anndats = list(jp_sue_df['eff_anndats'])\n",
    "times = list(jp_sue_df['ANNTIMS_ACT'])\n",
    "ref_anndats = []\n",
    "for i in range(len(anndats)): \n",
    "    if times[i] >= pd.to_timedelta('00:00:00'): \n",
    "        ref_anndats.append(anndats[i])\n",
    "    else: \n",
    "        ref_anndats.append(math.nan)\n",
    "        \n",
    "jp_sue_df['eff_anndats'] = ref_anndats"
   ]
  },
  {
   "cell_type": "code",
   "execution_count": 28,
   "id": "b838b7d3-1c4b-4165-a4c6-978d0edafc1f",
   "metadata": {},
   "outputs": [],
   "source": [
    "jp_sue_df['SEDOL'] = jp_sue_df['SEDOL'].astype(str)"
   ]
  },
  {
   "cell_type": "code",
   "execution_count": 29,
   "id": "bfa8998d-6d26-4e28-ae12-19cd598f5498",
   "metadata": {},
   "outputs": [],
   "source": [
    "jp_sue_df.to_pickle('checkpoint_data/japan_sue.pkl')"
   ]
  },
  {
   "cell_type": "code",
   "execution_count": 67,
   "id": "17a6c19a-90c1-46e2-8c5f-ac8e1c14c60c",
   "metadata": {},
   "outputs": [],
   "source": [
    "with open(\"raw_data/txt_files/sedol_list.txt\", \"w\") as outfile:\n",
    "    outfile.write(\"\\n\".join(str(sedol) for sedol in list(jp_sue_df['SEDOL'].unique())))"
   ]
  },
  {
   "cell_type": "markdown",
   "id": "eff9de49-a934-4048-85c3-0a7aaf491f18",
   "metadata": {},
   "source": [
    "# Global Compustat Cleaning"
   ]
  },
  {
   "cell_type": "code",
   "execution_count": 3,
   "id": "2892a870-a997-4bf8-934e-c7c2b131eea6",
   "metadata": {},
   "outputs": [],
   "source": [
    "topix_df = pd.read_csv('raw_data/datastream/topix_daily_returns.csv', parse_dates=['valuedate'])\n",
    "topix_df['ret'] = topix_df['pi_'].pct_change()"
   ]
  },
  {
   "cell_type": "code",
   "execution_count": 21,
   "id": "4d618010-5e4e-4cb7-a872-820896554f5b",
   "metadata": {
    "tags": []
   },
   "outputs": [
    {
     "name": "stderr",
     "output_type": "stream",
     "text": [
      "c:\\users\\jackl\\appdata\\local\\programs\\python\\python39\\lib\\site-packages\\IPython\\core\\interactiveshell.py:3169: DtypeWarning: Columns (9) have mixed types.Specify dtype option on import or set low_memory=False.\n",
      "  has_raised = await self.run_ast_nodes(code_ast.body, cell_name,\n"
     ]
    }
   ],
   "source": [
    "ret_df = pd.read_csv('raw_data/comp_global/prices_and_vol.csv', parse_dates=['datadate'])\n",
    "ret_df['mod_prccd'] = ret_df['prccd'] * ret_df['trfd'] / ret_df['ajexdi']\n",
    "ret_df['mod_ret'] = ret_df.groupby('gvkey')['mod_prccd'].pct_change()"
   ]
  },
  {
   "cell_type": "code",
   "execution_count": 22,
   "id": "6ddae4d3-2b14-44f5-a2f0-39f93fbcd686",
   "metadata": {},
   "outputs": [],
   "source": [
    "ret_df = pd.merge(ret_df, \n",
    "                  topix_df, \n",
    "                  left_on=['datadate'], \n",
    "                  right_on=['valuedate'], \n",
    "                  how='left')\n",
    "\n",
    "ret_df = ret_df.drop(columns=['valuedate'])"
   ]
  },
  {
   "cell_type": "code",
   "execution_count": 28,
   "id": "2efaa847-a6f4-4095-975e-1ff5f20c90c6",
   "metadata": {},
   "outputs": [],
   "source": [
    "ret_df['mod_ret_mkt_adj'] = ret_df['mod_ret'] - ret_df['ret']\n",
    "ret_df['turnover'] = ret_df['cshtrd']/ret_df['cshoc']\n",
    "ret_df['mod_ret_mkt_adj_sq'] = ret_df['mod_ret_mkt_adj'] * ret_df['mod_ret_mkt_adj']"
   ]
  },
  {
   "cell_type": "code",
   "execution_count": 31,
   "id": "c6231c42-57a3-4e8c-9b25-f5e89a28546c",
   "metadata": {},
   "outputs": [
    {
     "name": "stderr",
     "output_type": "stream",
     "text": [
      "100%|███████████████████████████████████████████████████████| 1017/1017 [00:09<00:00, 102.40it/s]\n"
     ]
    }
   ],
   "source": [
    "df_list = []\n",
    "for gvkey, df in tqdm(ret_df.groupby('gvkey')): \n",
    "    df['av_turnover'] = df['turnover'].rolling(252, min_periods=200).mean()\n",
    "    df['ab_turnover'] = df['turnover']/df['av_turnover']\n",
    "    \n",
    "    df['mod_ret_mkt_adj_sq_back'] = df['mod_ret_mkt_adj_sq'].rolling(23).sum()\n",
    "    df['qvs_day'] = 1 - df['mod_ret_mkt_adj_sq']/df['mod_ret_mkt_adj_sq_back']\n",
    "    \n",
    "    df_list.append(df)\n",
    "    \n",
    "ret_df = pd.concat(df_list)"
   ]
  },
  {
   "cell_type": "code",
   "execution_count": 35,
   "id": "0c9eae32-254c-4ba5-ae8f-9981bd7bb587",
   "metadata": {},
   "outputs": [],
   "source": [
    "df = df_list[23]"
   ]
  },
  {
   "cell_type": "code",
   "execution_count": 8,
   "id": "0fcba62f-aa15-4302-9be8-f154df32350c",
   "metadata": {},
   "outputs": [],
   "source": [
    "ret_df['sedol'] = ret_df['sedol'].astype(str)"
   ]
  },
  {
   "cell_type": "code",
   "execution_count": 9,
   "id": "c3687430-a66d-4860-bcff-dbfeb1aed842",
   "metadata": {},
   "outputs": [],
   "source": [
    "ret_df.to_pickle('checkpoint_data/japan_prices_and_volume.pkl')"
   ]
  },
  {
   "cell_type": "code",
   "execution_count": 13,
   "id": "ddc8c406-eb48-49f9-a53b-e812c8d8bdfb",
   "metadata": {},
   "outputs": [
    {
     "data": {
      "text/plain": [
       "0         NaN\n",
       "1         NaN\n",
       "2         NaN\n",
       "3         NaN\n",
       "4         NaN\n",
       "           ..\n",
       "4075627   NaN\n",
       "4075628   NaN\n",
       "4075629   NaN\n",
       "4075630   NaN\n",
       "4075631   NaN\n",
       "Name: mod_ret_mkt_adj_sq_back, Length: 4075632, dtype: float64"
      ]
     },
     "execution_count": 13,
     "metadata": {},
     "output_type": "execute_result"
    }
   ],
   "source": [
    "ret_df['mod_ret_mkt_adj_sq_back']"
   ]
  }
 ],
 "metadata": {
  "kernelspec": {
   "display_name": "Python 3",
   "language": "python",
   "name": "python3"
  },
  "language_info": {
   "codemirror_mode": {
    "name": "ipython",
    "version": 3
   },
   "file_extension": ".py",
   "mimetype": "text/x-python",
   "name": "python",
   "nbconvert_exporter": "python",
   "pygments_lexer": "ipython3",
   "version": "3.9.5"
  }
 },
 "nbformat": 4,
 "nbformat_minor": 5
}
