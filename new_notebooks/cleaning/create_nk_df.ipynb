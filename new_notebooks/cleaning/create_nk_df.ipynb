{
 "cells": [
  {
   "cell_type": "code",
   "execution_count": 47,
   "id": "8656132d-3d73-4e56-b60a-44d33f5024ce",
   "metadata": {},
   "outputs": [],
   "source": [
    "import pandas as pd\n",
    "PATH = \"C:/Users/jackl/OneDrive/Documents/finance_research/japan_qe/\""
   ]
  },
  {
   "cell_type": "code",
   "execution_count": 48,
   "id": "5134c234-da88-4b93-bdd9-058186518695",
   "metadata": {},
   "outputs": [],
   "source": [
    "# textfile = open(PATH+\"nikkei_sedols.txt\", \"w\")\n",
    "# for element in sorted(list(set(weight_df[weight_df['indexlistmnem']=='LJAPDOWA']['sedol']))):\n",
    "#     textfile.write(element + \"\\n\")\n",
    "# textfile.close()"
   ]
  },
  {
   "cell_type": "code",
   "execution_count": 49,
   "id": "b1067bd7-a0de-4820-a5ec-92f5651f12d9",
   "metadata": {},
   "outputs": [],
   "source": [
    "ticker_df = pd.read_csv(PATH+'raw_data/worldscope/ticker_sedol.csv')\n",
    "ticker_df.columns = ['code', 'year_', 'freq', 'ticker', 'sedol']"
   ]
  },
  {
   "cell_type": "code",
   "execution_count": 50,
   "id": "e272406c-91fa-41d9-891b-7b08739a5004",
   "metadata": {},
   "outputs": [],
   "source": [
    "weight_df = pd.read_pickle(PATH+'checkpoint_data/index_weights.pkl')\n",
    "weight_df.columns = ['date_', 'weight_within_index', 'constintcode', 'indexlistmnem', 'month_yr_index',\n",
    "                     'merged_date', 'sedol', 'month', 'yr', 'conm']\n",
    "topix_df = weight_df[weight_df['indexlistmnem']=='LTOKYOSE'].sort_values('date_').drop_duplicates(['sedol'], keep='last')\n",
    "nikkei_df = weight_df[weight_df['indexlistmnem']=='LJAPDOWA'].sort_values('date_').drop_duplicates(['sedol'], keep='last')"
   ]
  },
  {
   "cell_type": "code",
   "execution_count": 51,
   "id": "33830731-0984-409e-b55f-3d0a0b3b1f4a",
   "metadata": {},
   "outputs": [],
   "source": [
    "always_in = weight_df[(weight_df['date_'] > pd.to_datetime('2010-12-01')) & \n",
    "                      (weight_df['date_'] < pd.to_datetime('2021-01-01'))]\n",
    "\n",
    "always_in = always_in[always_in['indexlistmnem']=='LJAPDOWA'].groupby(['sedol']).count()[['date_']].reset_index()\n",
    "always_in = always_in[always_in['date_'] >= 121]\n",
    "always_in['date_'] = 1\n",
    "always_in.columns = ['sedol', 'always_in']"
   ]
  },
  {
   "cell_type": "code",
   "execution_count": 52,
   "id": "cae937a9-81de-4704-afba-f5700be04b16",
   "metadata": {
    "tags": []
   },
   "outputs": [],
   "source": [
    "nk_df = pd.merge(nikkei_df[['sedol', 'conm']], \n",
    "                 ticker_df[['ticker', 'sedol']].drop_duplicates(), \n",
    "                 on=['sedol'], \n",
    "                 how='left').sort_values(['ticker'])"
   ]
  },
  {
   "cell_type": "code",
   "execution_count": 53,
   "id": "3d718e3e-d569-4321-8ebf-393185f94ad8",
   "metadata": {},
   "outputs": [],
   "source": [
    "nk_df = pd.merge(nk_df, \n",
    "                 always_in, \n",
    "                 on=['sedol'], \n",
    "                 how='left')"
   ]
  },
  {
   "cell_type": "code",
   "execution_count": 54,
   "id": "4fa17c9a-bd4b-4251-abe8-17965c930697",
   "metadata": {},
   "outputs": [],
   "source": [
    "nk_df.to_csv(PATH+'nk_df_v2.csv', index=False)"
   ]
  }
 ],
 "metadata": {
  "kernelspec": {
   "display_name": "Python 3",
   "language": "python",
   "name": "python3"
  },
  "language_info": {
   "codemirror_mode": {
    "name": "ipython",
    "version": 3
   },
   "file_extension": ".py",
   "mimetype": "text/x-python",
   "name": "python",
   "nbconvert_exporter": "python",
   "pygments_lexer": "ipython3",
   "version": "3.9.5"
  }
 },
 "nbformat": 4,
 "nbformat_minor": 5
}
