{
 "cells": [
  {
   "cell_type": "markdown",
   "id": "6564504b-9342-41fd-9958-3b529217f281",
   "metadata": {},
   "source": [
    "Cleans IBES data and adds Novy-Marx style SUE measures. \n",
    "\n",
    "Final output is a dataframe containing companies with their SUE at different quarters. "
   ]
  },
  {
   "cell_type": "code",
   "execution_count": 1,
   "id": "092d75a1-33da-49f4-acf5-96fb94af3a63",
   "metadata": {},
   "outputs": [],
   "source": [
    "import pandas as pd\n",
    "import datetime as dt\n",
    "import math\n",
    "from tqdm import tqdm\n",
    "from pandas.tseries.offsets import BDay\n",
    "\n",
    "import matplotlib.pyplot as plt\n",
    "\n",
    "pd.set_option(\"display.max_columns\", None)\n",
    "\n",
    "PATH = \"C:/Users/jackl/OneDrive/Documents/finance_research/japan_qe/\""
   ]
  },
  {
   "cell_type": "markdown",
   "id": "c5717987-555d-41e0-bda8-2842004e8a8e",
   "metadata": {},
   "source": [
    "## IBES SUE Cleaning"
   ]
  },
  {
   "cell_type": "code",
   "execution_count": 2,
   "id": "771666ff-c049-4d9c-8bc8-cb1c773ebd91",
   "metadata": {},
   "outputs": [],
   "source": [
    "_alphabet = '0123456789 BCD FGH JKLMN PQRST VWXYZ'\n",
    "def calc_check_digit(number):\n",
    "    weights = (1, 3, 1, 7, 3, 9)\n",
    "    s = sum(w * _alphabet.index(n) for w, n in zip(weights, number))\n",
    "    return str((10 - s) % 10)\n",
    "pd.set_option('display.max_columns', None)"
   ]
  },
  {
   "cell_type": "code",
   "execution_count": 3,
   "id": "008e2bbd-4619-4540-ab4c-0eb2d1ea1a28",
   "metadata": {},
   "outputs": [
    {
     "name": "stderr",
     "output_type": "stream",
     "text": [
      "c:\\users\\jackl\\appdata\\local\\programs\\python\\python39\\lib\\site-packages\\IPython\\core\\interactiveshell.py:3169: DtypeWarning: Columns (7) have mixed types.Specify dtype option on import or set low_memory=False.\n",
      "  has_raised = await self.run_ast_nodes(code_ast.body, cell_name,\n"
     ]
    }
   ],
   "source": [
    "#load data\n",
    "su_df = pd.read_csv(PATH+'raw_data/ibes/surprise_int.csv', parse_dates=['anndats'])\n",
    "sum_df = pd.read_csv(PATH+'raw_data/ibes/summary_int.csv', parse_dates=['STATPERS'])\n",
    "\n",
    "sum_detailed_df = pd.read_csv(PATH+'raw_data/ibes/detailed_int.csv', parse_dates=['ANNDATS_ACT'])\n",
    "# sum_detailed_df = sum_detailed_df[['TICKER', 'ANNDATS_ACT', 'ANNTIMS_ACT']].drop_duplicates().dropna()\n",
    "sum_detailed_df['ANNTIMS_ACT'] = pd.to_timedelta(sum_detailed_df['ANNTIMS_ACT'])"
   ]
  },
  {
   "cell_type": "code",
   "execution_count": 4,
   "id": "76e55971-092b-4500-b3e6-d76f16ca4d77",
   "metadata": {},
   "outputs": [],
   "source": [
    "#extract relevant columns\n",
    "su_df = su_df[['OFTIC', 'TICKER', 'PYEAR', 'PMON', 'anndats', 'actual', 'surpmean', 'surpstdev', 'suescore']]"
   ]
  },
  {
   "cell_type": "code",
   "execution_count": 5,
   "id": "5da965e9-3dc0-46c9-a446-dc3256a913b2",
   "metadata": {},
   "outputs": [],
   "source": [
    "#make sure matching columns are the same type\n",
    "sum_detailed_df['TICKER'] = sum_detailed_df['TICKER'].astype(str)\n",
    "su_df['TICKER'] = su_df['TICKER'].astype(str)\n",
    "sum_df['TICKER'] = sum_df['TICKER'].astype(str)\n",
    "\n",
    "su_df['anndats'] = pd.to_datetime(su_df['anndats'])\n",
    "sum_detailed_df['ANNDATS_ACT'] = pd.to_datetime(sum_detailed_df['ANNDATS_ACT'])"
   ]
  },
  {
   "cell_type": "code",
   "execution_count": 101,
   "id": "2176ca4b-87bc-477f-9137-6e184427bfd3",
   "metadata": {},
   "outputs": [],
   "source": [
    "#merge to get precise release times\n",
    "sue_df = pd.merge(su_df, \n",
    "                  sum_detailed_df, \n",
    "                  left_on=['TICKER', 'anndats'], \n",
    "                  right_on=['TICKER', 'ANNDATS_ACT'], \n",
    "                  how='left')"
   ]
  },
  {
   "cell_type": "code",
   "execution_count": 7,
   "id": "cce51722-f70c-49f7-aa38-0bf36ec52778",
   "metadata": {},
   "outputs": [],
   "source": [
    "#restrict to Japanese firms\n",
    "jp_sum_df = sum_df[sum_df['CURCODE']=='JPY']\n",
    "jp_tickers = (jp_sum_df['OFTIC']).unique()\n",
    "\n",
    "jp_sue_df = sue_df[sue_df['OFTIC'].isin(jp_tickers)].sort_values(['anndats'])\n",
    "jp_sue_df = pd.merge(jp_sum_df[['TICKER', 'CUSIP']].drop_duplicates(), \n",
    "                     jp_sue_df, \n",
    "                     on='TICKER', \n",
    "                     how='right')"
   ]
  },
  {
   "cell_type": "code",
   "execution_count": 8,
   "id": "67090b7d-05d9-40f0-8a88-39edaabd2754",
   "metadata": {},
   "outputs": [],
   "source": [
    "#get SEDOL from ISIN\n",
    "jp_sue_df['SEDOL'] = jp_sue_df['CUSIP'].apply(lambda x: str(x)[2:] if len(str(x)) == 8 else math.nan)\n",
    "jp_sue_df['SEDOL'] = jp_sue_df['SEDOL'].apply(lambda x: str(x) + calc_check_digit(x) if len(str(x)) == 6 else math.nan)"
   ]
  },
  {
   "cell_type": "code",
   "execution_count": 9,
   "id": "40528813-db27-449e-bea4-ece0cbc00cf1",
   "metadata": {},
   "outputs": [],
   "source": [
    "#convert times\n",
    "jp_sue_df['ANNDATS_FULL_CONVERT'] = (jp_sue_df['ANNDATS_ACT'] + jp_sue_df['ANNTIMS_ACT']).dt.tz_localize('EST').dt.tz_convert('Asia/Tokyo')\n",
    "jp_sue_df['ANNDATS_ACT_CONVERT'] = jp_sue_df['ANNDATS_FULL_CONVERT'].dt.date\n",
    "jp_sue_df['ANNTIMS_ACT_CONVERT'] = pd.to_timedelta(jp_sue_df['ANNDATS_FULL_CONVERT'].dt.time.astype(str))"
   ]
  },
  {
   "cell_type": "code",
   "execution_count": 10,
   "id": "d881c487-f959-4e62-b901-6f8595131303",
   "metadata": {},
   "outputs": [],
   "source": [
    "#adjust time zones. This is needed since IBES data is quoted in NY time, while price data is Japanese local time\n",
    "jp_sue_df['eff_anndats'] = jp_sue_df['ANNDATS_ACT_CONVERT'] + jp_sue_df['ANNTIMS_ACT_CONVERT'].apply(lambda x: BDay(1) if (x > pd.to_timedelta('15:00:00')) else BDay(0))"
   ]
  },
  {
   "cell_type": "code",
   "execution_count": 11,
   "id": "51ef523b-b84f-4ec1-a39a-fea6a784892c",
   "metadata": {},
   "outputs": [],
   "source": [
    "anndats = list(jp_sue_df['eff_anndats'])\n",
    "times = list(jp_sue_df['ANNTIMS_ACT'])\n",
    "ref_anndats = []\n",
    "for i in range(len(anndats)): \n",
    "    if times[i] >= pd.to_timedelta('00:00:00'): \n",
    "        ref_anndats.append(anndats[i])\n",
    "    else: \n",
    "        ref_anndats.append(math.nan)\n",
    "        \n",
    "jp_sue_df['eff_anndats'] = ref_anndats"
   ]
  },
  {
   "cell_type": "code",
   "execution_count": 12,
   "id": "a8be61e0-cad0-4909-ad8d-386d051030e6",
   "metadata": {},
   "outputs": [],
   "source": [
    "jp_sue_df = jp_sue_df.drop(columns=['ANNDATS_ACT', 'ANNTIMS_ACT', 'ANNDATS_FULL_CONVERT', 'ANNDATS_ACT_CONVERT', 'ANNTIMS_ACT_CONVERT'])\n",
    "jp_sue_df = jp_sue_df[['TICKER', 'CUSIP', 'SEDOL', 'OFTIC', 'PYEAR', 'PMON', 'anndats', 'eff_anndats', 'actual', 'surpmean', 'surpstdev', 'suescore']]"
   ]
  },
  {
   "cell_type": "code",
   "execution_count": 13,
   "id": "ca6c1d93-273b-4747-9874-51b3b64eba6a",
   "metadata": {},
   "outputs": [],
   "source": [
    "jp_sue_df.to_pickle(PATH+'checkpoint_data/japan_sue.pkl')"
   ]
  },
  {
   "cell_type": "markdown",
   "id": "cf8e4a05-f7c1-41fc-ac49-4fe35c36b8eb",
   "metadata": {},
   "source": [
    "### Novy-Marx SUE"
   ]
  },
  {
   "cell_type": "code",
   "execution_count": 4,
   "id": "d5b8c3e5-e526-4e1e-97ad-85849f8d06b8",
   "metadata": {},
   "outputs": [],
   "source": [
    "jp_sue_df = pd.read_pickle(PATH+'checkpoint_data/japan_sue.pkl')"
   ]
  },
  {
   "cell_type": "code",
   "execution_count": 86,
   "id": "e15d6fe6-ef04-43fd-aae7-a629d6c3d06f",
   "metadata": {},
   "outputs": [],
   "source": [
    "ws_df = pd.read_csv(PATH+'raw_data/worldscope/all_earnings.csv', parse_dates=['ITEM5350'])\n",
    "ws_df.columns = ['code', 'year_', 'freq', 'seq', 'e', 'date', 'sedol', 'fyr']\n",
    "ws_df['sedol'] = ws_df['sedol'].astype(str)\n",
    "ws_df = ws_df.drop(columns=['code'])"
   ]
  },
  {
   "cell_type": "code",
   "execution_count": 62,
   "id": "911482e1-0696-410c-b461-9597b4d92bf1",
   "metadata": {},
   "outputs": [],
   "source": [
    "ws_df = ws_df[ws_df['sedol'].isin(jp_sue_df['SEDOL'].unique())].dropna(subset=['sedol'])\n",
    "ws_df['year_behind'] = ws_df['year_'] - 1\n",
    "\n",
    "ws_df_merged = pd.merge(ws_df, \n",
    "                        ws_df[['sedol', 'year_', 'e' ,'seq']], \n",
    "                        left_on=['sedol', 'year_behind', 'seq'], \n",
    "                        right_on=['sedol', 'year_', 'seq'], \n",
    "                        how='left', \n",
    "                        suffixes=[None, '_behind']).drop(columns=['year__behind', 'year_behind'])"
   ]
  },
  {
   "cell_type": "code",
   "execution_count": 63,
   "id": "93091324-d0c4-4ed4-9910-1be97b963d00",
   "metadata": {},
   "outputs": [],
   "source": [
    "ws_df_merged['e_diff'] = ws_df_merged['e'] - ws_df_merged['e_behind']"
   ]
  },
  {
   "cell_type": "code",
   "execution_count": 64,
   "id": "bc7566ea-c304-47cc-bc94-2e12d8d857a9",
   "metadata": {},
   "outputs": [],
   "source": [
    "ws_df_merged = ws_df_merged.sort_values(['sedol', 'year_', 'seq']).reset_index(drop=True)"
   ]
  },
  {
   "cell_type": "code",
   "execution_count": 67,
   "id": "19e2a49e-76a1-490e-ae4a-d81273272344",
   "metadata": {},
   "outputs": [
    {
     "name": "stderr",
     "output_type": "stream",
     "text": [
      "100%|█████████████████████████████████████████████████████████████████████████████| 1031/1031 [00:02<00:00, 378.58it/s]\n"
     ]
    }
   ],
   "source": [
    "ws_df_merged_list = []\n",
    "for sedol, df in tqdm(ws_df_merged.groupby(['sedol'])): \n",
    "    df['e_std_dev_past'] = df['e_diff'].rolling(window=8, min_periods=6).std().shift(1)\n",
    "    ws_df_merged_list.append(df)\n",
    "ws_df_merged = pd.concat(ws_df_merged_list)"
   ]
  },
  {
   "cell_type": "code",
   "execution_count": 68,
   "id": "09002ff4-4b66-485c-a992-c9a33cf77ff0",
   "metadata": {},
   "outputs": [],
   "source": [
    "ws_df_merged['sue_nm'] = ws_df_merged['e_diff']/ws_df_merged['e_std_dev_past']"
   ]
  },
  {
   "cell_type": "code",
   "execution_count": 74,
   "id": "e970c2d0-ac26-4433-914c-3bb814c8b78d",
   "metadata": {},
   "outputs": [],
   "source": [
    "ws_df_merged['PYEAR'] = ws_df_merged['date'].dt.year\n",
    "ws_df_merged['PMON'] = ws_df_merged['date'].dt.month"
   ]
  },
  {
   "cell_type": "code",
   "execution_count": 79,
   "id": "d8d4c831-0617-4bc3-83da-b861e7f96a8e",
   "metadata": {},
   "outputs": [],
   "source": [
    "jp_sue_df_merged_nm = pd.merge(jp_sue_df, \n",
    "                               ws_df_merged[['sedol', 'PMON', 'PYEAR', 'sue_nm']], \n",
    "                               left_on=['SEDOL', 'PMON', 'PYEAR'],\n",
    "                               right_on=['sedol', 'PMON', 'PYEAR'], \n",
    "                               how='left').drop(columns=['sedol'])"
   ]
  },
  {
   "cell_type": "code",
   "execution_count": 83,
   "id": "60870a92-9c64-473e-a9ae-cae12b13d485",
   "metadata": {},
   "outputs": [],
   "source": [
    "jp_sue_df_merged_nm.to_pickle(PATH+'checkpoint_data/sue_df_nm.pkl')"
   ]
  },
  {
   "cell_type": "code",
   "execution_count": 91,
   "id": "46fa2460-8343-4090-8acb-11e1509cc545",
   "metadata": {},
   "outputs": [],
   "source": [
    "jp_sue_df_merged_nm.to_stata(PATH+'test_sue.dta')"
   ]
  }
 ],
 "metadata": {
  "kernelspec": {
   "display_name": "Python 3",
   "language": "python",
   "name": "python3"
  },
  "language_info": {
   "codemirror_mode": {
    "name": "ipython",
    "version": 3
   },
   "file_extension": ".py",
   "mimetype": "text/x-python",
   "name": "python",
   "nbconvert_exporter": "python",
   "pygments_lexer": "ipython3",
   "version": "3.9.5"
  }
 },
 "nbformat": 4,
 "nbformat_minor": 5
}
