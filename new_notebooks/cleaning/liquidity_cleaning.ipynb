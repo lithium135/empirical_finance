{
 "cells": [
  {
   "cell_type": "code",
   "execution_count": 4,
   "id": "e5c7b8f1-dbde-45e8-822c-b3d874532c25",
   "metadata": {},
   "outputs": [],
   "source": [
    "import pandas as pd\n",
    "import datetime as dt\n",
    "import math\n",
    "from tqdm import tqdm\n",
    "import numpy as np\n",
    "from pandas.tseries.offsets import BDay\n",
    "\n",
    "PATH = \"C:/Users/jackl/OneDrive/Documents/finance_research/japan_qe/\""
   ]
  },
  {
   "cell_type": "code",
   "execution_count": 5,
   "id": "a8897e71-c771-4d5d-a31a-46b3c1b24b93",
   "metadata": {},
   "outputs": [],
   "source": [
    "def get_truncated_df(merge_df, columns, year_column_name=None, low=0.01, high=0.99):\n",
    "    merge_df_copy = merge_df.copy()\n",
    "    if year_column_name == None:\n",
    "        for column in columns: \n",
    "            _1pct, _99pct = merge_df_copy[column].quantile(q=low), merge_df_copy[column].quantile(q=high)\n",
    "            merge_df_copy[column].where((merge_df_copy[column] < _99pct) & (merge_df_copy[column] > _1pct), math.nan, inplace=True)\n",
    "    else: \n",
    "        merge_df_list = []\n",
    "        merge_year_df_list = [[year, merge_year_df] for year, merge_year_df in merge_df_copy.groupby(year_column_name)]\n",
    "        for year, merge_year_df in tqdm(merge_year_df_list):\n",
    "            for column in columns: \n",
    "                _1pct, _99pct = merge_year_df[column].quantile(q=low), merge_year_df[column].quantile(q=high)\n",
    "                merge_year_df[column].where(~((merge_year_df[column] > _99pct) | (merge_year_df[column] < _1pct)), math.nan, inplace=True)\n",
    "            merge_df_list.append(merge_year_df)\n",
    "        merge_df_copy = pd.concat(merge_df_list)\n",
    "    \n",
    "    return merge_df_copy\n",
    "\n",
    "def get_boj_quintiles_conditional(sue_df_boj_merged, suffix=None, quantiles=5):\n",
    "    sue_df_boj_merged_nd = sue_df_boj_merged[['sedol', 'yr_qtr_index', 'boj_share_shares']].drop_duplicates()\n",
    "    sue_df_boj_merged_nd_list = []\n",
    "    for index, df in tqdm(sue_df_boj_merged_nd.groupby('yr_qtr_index')): \n",
    "        try:\n",
    "            df['boj_share_shares_quantiles_'+suffix] = pd.qcut(df['boj_share_shares'], quantiles, labels=False)\n",
    "        except: \n",
    "            df['boj_share_shares_quantiles_'+suffix] = [math.nan for i in range(len(df))]\n",
    "\n",
    "        sue_df_boj_merged_nd_list.append(df)\n",
    "\n",
    "    sue_df_boj_merged_nd = pd.concat(sue_df_boj_merged_nd_list)\n",
    "\n",
    "    sue_df_boj_merged = pd.merge(sue_df_boj_merged, \n",
    "                                 sue_df_boj_merged_nd, \n",
    "                                 on=['sedol', 'yr_qtr_index', 'boj_share_shares'])\n",
    "    return sue_df_boj_merged"
   ]
  },
  {
   "cell_type": "code",
   "execution_count": 6,
   "id": "248e3aea-1907-416d-a0c1-133b2c8a1db2",
   "metadata": {},
   "outputs": [],
   "source": [
    "ret_df = pd.read_pickle(PATH+'checkpoint_data/returns_all_stocks.pkl')"
   ]
  },
  {
   "cell_type": "code",
   "execution_count": 9,
   "id": "8878611c-5089-4b56-b152-96c1355cc73e",
   "metadata": {},
   "outputs": [],
   "source": [
    "ret_df['amihud_raw'] = abs(ret_df['mod_ret'])/(ret_df['cshtrd'] * ret_df['prccd'])\n",
    "ret_df['turn_raw_no_ff'] = ret_df['cshtrd']/ret_df['cshoc']"
   ]
  },
  {
   "cell_type": "code",
   "execution_count": 10,
   "id": "7f212610-0190-4d17-a593-848bf9a6888d",
   "metadata": {},
   "outputs": [
    {
     "name": "stderr",
     "output_type": "stream",
     "text": [
      "  0%|                                                                            | 64/172472 [00:09<4:21:06, 11.00it/s]<ipython-input-10-599d56e0f70b>:13: RuntimeWarning: divide by zero encountered in log\n",
      "  amihud_qtr = np.log(10**6 * df['amihud_raw'].mean())\n",
      "100%|█████████████████████████████████████████████████████████████████████████| 172472/172472 [08:23<00:00, 342.60it/s]\n"
     ]
    }
   ],
   "source": [
    "amihud_list = []\n",
    "turn_no_ff_list = []\n",
    "num_days_total_list = []\n",
    "num_days_w_data_list = []\n",
    "coverage_ratio_list = []\n",
    "\n",
    "datadate_list = []\n",
    "yr_qtr_index_list = [] \n",
    "sedol_list = []\n",
    "\n",
    "for index, df in tqdm(ret_df.groupby(['sedol', 'yr_qtr_index'])):\n",
    "    datadate = df.iloc[0]['datadate']\n",
    "    amihud_qtr = np.log(10**6 * df['amihud_raw'].mean())\n",
    "    turn_no_ff_qtr = np.log(df['turn_raw_no_ff'].mean())\n",
    "    \n",
    "    num_days_total = len(df)\n",
    "    num_days_w_data = len(df[~df['amihud_raw'].isna()])\n",
    "    coverage_ratio = num_days_w_data/num_days_total\n",
    "    \n",
    "    amihud_list.append(amihud_qtr)\n",
    "    turn_no_ff_list.append(turn_no_ff_qtr)\n",
    "    \n",
    "    num_days_total_list.append(num_days_total)\n",
    "    num_days_w_data_list.append(num_days_w_data)\n",
    "    coverage_ratio_list.append(coverage_ratio)\n",
    "    \n",
    "    datadate_list.append(datadate)\n",
    "    sedol_list.append(index[0])\n",
    "    yr_qtr_index_list.append(index[1])"
   ]
  },
  {
   "cell_type": "code",
   "execution_count": 11,
   "id": "0837af51-f587-4e97-9ae1-dbc20c45e42e",
   "metadata": {},
   "outputs": [],
   "source": [
    "liq_df = pd.DataFrame({'sedol': sedol_list, \n",
    "                       'datadate': datadate_list,\n",
    "                       'yr_qtr_index': yr_qtr_index_list, \n",
    "                       'amihud': amihud_list, \n",
    "                       'turn_no_ff': turn_no_ff_list, \n",
    "                       'num_days_total': num_days_total_list, \n",
    "                       'num_days_w_data': num_days_w_data_list, \n",
    "                       'coverage_ratio': coverage_ratio_list})\n",
    "\n",
    "liq_df['yr'] = liq_df['yr_qtr_index'].apply(lambda x: x[0])\n",
    "liq_df['coverage_ratio'] = liq_df['num_days_w_data']/liq_df['num_days_total']\n",
    "liq_df = liq_df.sort_values(['sedol', 'yr_qtr_index'])"
   ]
  },
  {
   "cell_type": "code",
   "execution_count": 13,
   "id": "821cdb61-1ddf-412c-b521-7951406c33d2",
   "metadata": {},
   "outputs": [],
   "source": [
    "liq_df['yr_qtr_index_f1'] = (liq_df['datadate'] + pd.DateOffset(months=3)).apply(lambda x: (x.year, x.quarter))"
   ]
  },
  {
   "cell_type": "code",
   "execution_count": 14,
   "id": "29894e36-4ca9-40fe-82f7-e53c3558833c",
   "metadata": {},
   "outputs": [
    {
     "name": "stderr",
     "output_type": "stream",
     "text": [
      "100%|██████████████████████████████████████████████████████████████████████████████████| 45/45 [00:00<00:00, 87.23it/s]\n"
     ]
    }
   ],
   "source": [
    "liq_df = get_truncated_df(liq_df, \n",
    "                          columns=['amihud', 'turn_no_ff'], \n",
    "                          year_column_name=['yr_qtr_index'], \n",
    "                          low=0.01, \n",
    "                          high=0.99).sort_values(['sedol', 'yr_qtr_index'])"
   ]
  },
  {
   "cell_type": "code",
   "execution_count": 15,
   "id": "fbfaa414-3e13-4822-abc7-4b736cca4944",
   "metadata": {},
   "outputs": [],
   "source": [
    "liq_df.to_pickle(PATH+'checkpoint_data/liq.pkl')"
   ]
  }
 ],
 "metadata": {
  "kernelspec": {
   "display_name": "Python 3",
   "language": "python",
   "name": "python3"
  },
  "language_info": {
   "codemirror_mode": {
    "name": "ipython",
    "version": 3
   },
   "file_extension": ".py",
   "mimetype": "text/x-python",
   "name": "python",
   "nbconvert_exporter": "python",
   "pygments_lexer": "ipython3",
   "version": "3.9.5"
  }
 },
 "nbformat": 4,
 "nbformat_minor": 5
}
