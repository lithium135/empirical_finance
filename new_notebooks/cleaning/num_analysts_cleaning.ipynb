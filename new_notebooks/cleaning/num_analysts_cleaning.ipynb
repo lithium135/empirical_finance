{
 "cells": [
  {
   "cell_type": "code",
   "execution_count": 1,
   "id": "4b54bd31-91ef-4802-bb12-9e0c3cafd5a4",
   "metadata": {},
   "outputs": [],
   "source": [
    "import pandas as pd\n",
    "import numpy as np\n",
    "import datetime as dt\n",
    "import math\n",
    "import matplotlib.pyplot as plt\n",
    "from pandas.tseries.offsets import BDay\n",
    "from tqdm import tqdm\n",
    "\n",
    "pd.set_option(\"display.max_columns\", None)\n",
    "PATH = \"C:/Users/jackl/OneDrive/Documents/finance_research/japan_qe/\"\n",
    "\n",
    "def get_qtr_index(sue_df, date_column): \n",
    "    sue_df['year'] = sue_df[date_column].apply(lambda x: x.year)\n",
    "    sue_df['qtr'] = sue_df[date_column].apply(lambda x: x.quarter)\n",
    "\n",
    "    fpe_year_list = list(sue_df['year'].astype(str)) \n",
    "    fpe_qtr_list = list(sue_df['qtr'].astype(str))\n",
    "    qtr_year_list = [fpe_year_list[i] + 'Q' + fpe_qtr_list[i] for i in tqdm(range(len(fpe_year_list)))]\n",
    "\n",
    "    sue_df['qtr_year_str'] = qtr_year_list\n",
    "    qtr_dict = dict(zip(sorted(list(sue_df['qtr_year_str'].unique())), [i for i in range(len(list(sue_df['qtr_year_str'].unique())))]))\n",
    "    sue_df['qtr_index'] = sue_df['qtr_year_str'].apply(lambda x: qtr_dict[x])\n",
    "    \n",
    "    sue_df = sue_df.drop(columns=['year', 'qtr'])\n",
    "    \n",
    "    return sue_df\n",
    "\n",
    "def get_truncated_df(merge_df, columns, year_column_name=None, low=0.01, high=0.99):\n",
    "    merge_df_copy = merge_df.copy()\n",
    "    if year_column_name == None:\n",
    "        for column in columns: \n",
    "            _1pct, _99pct = merge_df_copy[column].quantile(q=low), merge_df_copy[column].quantile(q=high)\n",
    "            merge_df_copy[column].where((merge_df_copy[column] < _99pct) & (merge_df_copy[column] > _1pct), math.nan, inplace=True)\n",
    "    else: \n",
    "        merge_df_list = []\n",
    "        merge_year_df_list = [[year, merge_year_df] for year, merge_year_df in merge_df_copy.groupby(year_column_name)]\n",
    "        for year, merge_year_df in tqdm(merge_year_df_list):\n",
    "            for column in columns: \n",
    "                _1pct, _99pct = merge_year_df[column].quantile(q=low), merge_year_df[column].quantile(q=high)\n",
    "                merge_year_df[column].where(~((merge_year_df[column] > _99pct) | (merge_year_df[column] < _1pct)), math.nan, inplace=True)\n",
    "            merge_df_list.append(merge_year_df)\n",
    "        merge_df_copy = pd.concat(merge_df_list)\n",
    "    \n",
    "    return merge_df_copy\n",
    "\n",
    "def get_boj_quintiles_conditional(sue_df_boj_merged, column, suffix=None, quantiles=5):\n",
    "    sue_df_boj_merged_nd = sue_df_boj_merged[['sedol', column, 'boj_share_shares']].drop_duplicates()\n",
    "    sue_df_boj_merged_nd_list = []\n",
    "    for index, df in tqdm(sue_df_boj_merged_nd.groupby(column)): \n",
    "        try:\n",
    "            df['boj_share_shares_quantiles_'+suffix] = pd.qcut(df['boj_share_shares'], quantiles, labels=False)\n",
    "        except: \n",
    "            df['boj_share_shares_quantiles_'+suffix] = [math.nan for i in range(len(df))]\n",
    "\n",
    "        sue_df_boj_merged_nd_list.append(df)\n",
    "\n",
    "    sue_df_boj_merged_nd = pd.concat(sue_df_boj_merged_nd_list)\n",
    "\n",
    "    sue_df_boj_merged = pd.merge(sue_df_boj_merged, \n",
    "                                 sue_df_boj_merged_nd, \n",
    "                                 on=['sedol', column, 'boj_share_shares'])\n",
    "    return sue_df_boj_merged"
   ]
  },
  {
   "cell_type": "code",
   "execution_count": 2,
   "id": "907e1abd-a5c5-4a77-b6e2-ae4a4bba6426",
   "metadata": {},
   "outputs": [],
   "source": [
    "_alphabet = '0123456789 BCD FGH JKLMN PQRST VWXYZ'\n",
    "def calc_check_digit(number):\n",
    "    weights = (1, 3, 1, 7, 3, 9)\n",
    "    s = sum(w * _alphabet.index(n) for w, n in zip(weights, number))\n",
    "    return str((10 - s) % 10)\n",
    "pd.set_option('display.max_columns', None)"
   ]
  },
  {
   "cell_type": "code",
   "execution_count": 3,
   "id": "8e472c5b-b179-41ed-929f-f2fe874d2333",
   "metadata": {},
   "outputs": [],
   "source": [
    "boj_df = pd.read_pickle(PATH+'checkpoint_data/boj_purchases_stock_level_v2.pkl')"
   ]
  },
  {
   "cell_type": "code",
   "execution_count": 4,
   "id": "3fd11b96-262b-49d2-a9c7-1b395dee59ed",
   "metadata": {},
   "outputs": [],
   "source": [
    "sue_df = pd.read_csv(PATH+'raw_data/ibes/full_summary_int.csv', parse_dates=['STATPERS', 'FPEDATS', 'ANNDATS_ACT'])\n",
    "sue_df = sue_df[sue_df['FPI']==6]"
   ]
  },
  {
   "cell_type": "code",
   "execution_count": 5,
   "id": "ed3a794e-ab28-4f33-a5b1-109fa4ac0412",
   "metadata": {},
   "outputs": [],
   "source": [
    "control_df = pd.read_pickle(PATH+'checkpoint_data/control.pkl')"
   ]
  },
  {
   "cell_type": "markdown",
   "id": "881c64c8-d80e-4e8d-b9c6-abdc6ab2c727",
   "metadata": {},
   "source": [
    "## Merge"
   ]
  },
  {
   "cell_type": "code",
   "execution_count": 6,
   "id": "f87ab153-901e-48ad-a092-bdb5db12adc2",
   "metadata": {},
   "outputs": [],
   "source": [
    "sue_df = sue_df[sue_df['FPEDATS'] >= pd.to_datetime('2010-12-10')]\n",
    "sue_df = sue_df[sue_df['CURCODE']=='JPY']\n",
    "sue_df = sue_df.sort_values(['CUSIP', 'STATPERS'])\n",
    "sue_df = sue_df.drop_duplicates(['FPEDATS', 'CUSIP'], keep='last')\n",
    "\n",
    "#get SEDOL from ISIN\n",
    "sue_df['sedol'] = sue_df['CUSIP'].apply(lambda x: str(x)[2:] if len(str(x)) == 8 else math.nan)\n",
    "sue_df['sedol'] = sue_df['sedol'].apply(lambda x: str(x) + calc_check_digit(x) if len(str(x)) == 6 else math.nan)"
   ]
  },
  {
   "cell_type": "code",
   "execution_count": 7,
   "id": "5889f651-19d9-4fde-a49f-cf0d0e8677ad",
   "metadata": {},
   "outputs": [],
   "source": [
    "sue_df['yr_qtr_index'] = sue_df['FPEDATS'].apply(lambda x: (x.year, x.quarter))\n",
    "sue_df = sue_df.sort_values(['sedol', 'FPEDATS'])\n",
    "\n",
    "#only two dupliates. No reason to choose first; just a random choice\n",
    "sue_df = sue_df.drop_duplicates(['sedol', 'yr_qtr_index'], keep='first')"
   ]
  },
  {
   "cell_type": "code",
   "execution_count": 8,
   "id": "8385f67c-b286-46a1-94f0-49f14e335f94",
   "metadata": {},
   "outputs": [
    {
     "name": "stderr",
     "output_type": "stream",
     "text": [
      "100%|████████████████████████████████████████████████████████████████████████████████| 993/993 [00:10<00:00, 90.63it/s]\n"
     ]
    }
   ],
   "source": [
    "# qtr_dict = dict(zip(sorted(list(sue_df['qtr_year_str'].unique())), [i for i in range(len(list(sue_df['qtr_year_str'].unique())))]))\n",
    "# qtr_dict_inv = qtr_dict = dict(zip([i for i in range(len(list(sue_df['qtr_year_str'].unique())))], sorted(list(sue_df['qtr_year_str'].unique()))))\n",
    "\n",
    "sue_df_reindexed_list = []\n",
    "full_index = sorted(list(sue_df['yr_qtr_index'].unique()))\n",
    "for sedol, df in tqdm(sue_df.groupby(['sedol'])): \n",
    "    index = full_index.index(df['yr_qtr_index'].iloc[0])\n",
    "    df = df.set_index(['yr_qtr_index'])\n",
    "    df = df.reindex(full_index[index : ])\n",
    "    df = df.reset_index()\n",
    "    df['NUMEST'] = df['NUMEST'].fillna(0)\n",
    "    df['sedol'] = sedol\n",
    "    sue_df_reindexed_list.append(df)\n",
    "\n",
    "sue_df_reindexed = pd.concat(sue_df_reindexed_list).reset_index(drop=True)"
   ]
  },
  {
   "cell_type": "code",
   "execution_count": 9,
   "id": "0acd0a82-5160-4517-8bd4-3d37536b08fb",
   "metadata": {},
   "outputs": [],
   "source": [
    "boj_df['yr_qtr_index'] = boj_df['date'].apply(lambda x: (x.year, x.quarter))\n",
    "boj_df['yr_qtr_index_f1'] = (boj_df['date'] + pd.DateOffset(months=3)).apply(lambda x: (x.year, x.quarter))"
   ]
  },
  {
   "cell_type": "code",
   "execution_count": 10,
   "id": "c666157c-4624-4c88-bdba-437145f7d733",
   "metadata": {},
   "outputs": [],
   "source": [
    "boj_df = boj_df.sort_values(['sedol', 'date'])\n",
    "boj_df = boj_df.drop_duplicates(['yr_qtr_index', 'sedol'], keep='last')"
   ]
  },
  {
   "cell_type": "code",
   "execution_count": 11,
   "id": "81e338e1-81bd-4b21-a244-dbf582e22da5",
   "metadata": {},
   "outputs": [],
   "source": [
    "sue_df_merged_1 = pd.merge(sue_df_reindexed, \n",
    "                           boj_df.drop(columns=['yr_qtr_index']), \n",
    "                           left_on=['sedol', 'yr_qtr_index'],\n",
    "                           right_on=['sedol', 'yr_qtr_index_f1'],\n",
    "                           how='left').drop(columns=['yr_qtr_index_f1'])"
   ]
  },
  {
   "cell_type": "code",
   "execution_count": 15,
   "id": "81504f7d-fddc-4ce4-981c-0dce0c1ac35a",
   "metadata": {},
   "outputs": [],
   "source": [
    "sue_df_merged_2 = pd.merge(sue_df_merged_1, \n",
    "                           control_df, \n",
    "                           on=['sedol', 'yr_qtr_index'], \n",
    "                           how='left')"
   ]
  },
  {
   "cell_type": "code",
   "execution_count": 16,
   "id": "6e3f73f4-075c-4a66-9b63-d3b5c1d61ac9",
   "metadata": {},
   "outputs": [],
   "source": [
    "sue_df_merged_2['yr'] = sue_df_merged_2['yr_qtr_index'].apply(lambda x: x[0])"
   ]
  },
  {
   "cell_type": "code",
   "execution_count": 19,
   "id": "bc048961-1770-4c38-a91c-baef1bdc15e6",
   "metadata": {},
   "outputs": [],
   "source": [
    "sue_df_merged_2['yr_qtr_index'] = sue_df_merged_2['yr_qtr_index'].astype(str)\n",
    "sue_df_merged_2.to_stata(PATH+'regression_files/dta_files/num_analysts_regression.dta')"
   ]
  },
  {
   "cell_type": "markdown",
   "id": "3a447ce1-efd8-430e-8638-ecd193d6c6f7",
   "metadata": {},
   "source": [
    "# Exploration"
   ]
  },
  {
   "cell_type": "code",
   "execution_count": 99,
   "id": "a7bea3f3-efed-49f5-b308-cc9f356db039",
   "metadata": {},
   "outputs": [],
   "source": [
    "nk_sue_df = sue_df_merged_2[sue_df_merged_2['nk_flag']==1]"
   ]
  },
  {
   "cell_type": "code",
   "execution_count": 100,
   "id": "4c4d6d6c-df69-4ab8-a9c0-499522bb1fd6",
   "metadata": {},
   "outputs": [
    {
     "name": "stderr",
     "output_type": "stream",
     "text": [
      "100%|█████████████████████████████████████████████████████████████████████████████████| 43/43 [00:00<00:00, 253.54it/s]\n"
     ]
    }
   ],
   "source": [
    "nk_sue_df = get_boj_quintiles_conditional(nk_sue_df, column='qtr_index', suffix='nk', quantiles=5)"
   ]
  },
  {
   "cell_type": "code",
   "execution_count": 101,
   "id": "810fdbc9-fb7a-4c30-a423-5aa2d187baa1",
   "metadata": {},
   "outputs": [],
   "source": [
    "# nk_sue_df = get_truncated_df(nk_sue_df, \n",
    "#                              columns=['NUMEST', 'boj_share_shares'], \n",
    "#                              year_column_name=None, \n",
    "#                              low=0.00, \n",
    "#                              high=0.99)"
   ]
  },
  {
   "cell_type": "code",
   "execution_count": 103,
   "id": "ea23b9ae-e1b1-4332-8280-a84eccc545a2",
   "metadata": {},
   "outputs": [],
   "source": [
    "nk_sue_df = nk_sue_df[['sedol', 'conm', 'qtr_index', 'qtr_year_str', 'STATPERS', 'FPEDATS', 'NUMEST', 'date', \n",
    "           'boj_share_shares', 'boj_share_shares_no_ff', 'nk_flag', \n",
    "           'boj_share_shares_quantiles_nk']]"
   ]
  },
  {
   "cell_type": "code",
   "execution_count": 109,
   "id": "af74590c-5d3e-4193-b58f-46215517909d",
   "metadata": {},
   "outputs": [
    {
     "data": {
      "text/plain": [
       "<matplotlib.legend.Legend at 0x13e30e86070>"
      ]
     },
     "execution_count": 109,
     "metadata": {},
     "output_type": "execute_result"
    },
    {
     "data": {
      "image/png": "[encoded data removed]",
      "text/plain": [
       "<Figure size 576x288 with 1 Axes>"
      ]
     },
     "metadata": {
      "needs_background": "light"
     },
     "output_type": "display_data"
    }
   ],
   "source": [
    "fig = plt.figure(figsize=(8, 4))\n",
    "ax = fig.add_subplot(111)\n",
    "ax.set_xticks([0, 8, 16, 24, 32, 40, 48, 56])\n",
    "\n",
    "plt.plot(nk_sue_df[nk_sue_df['boj_share_shares_quantiles_nk'].isin([4, 3])].groupby(['qtr_year_str'])['NUMEST'].mean(), \n",
    "         label='High BOJ')\n",
    "plt.plot(nk_sue_df[nk_sue_df['boj_share_shares_quantiles_nk'].isin([0, 1])].groupby(['qtr_year_str'])['NUMEST'].mean(), \n",
    "         label='Low BOJ')\n",
    "plt.legend()"
   ]
  },
  {
   "cell_type": "code",
   "execution_count": 104,
   "id": "71064b4a-21b8-4ab3-8833-08db628bca4f",
   "metadata": {},
   "outputs": [],
   "source": [
    "nk_sue_df.to_stata(PATH+'regression_files/dta_files/num_analysts_regression.dta')"
   ]
  },
  {
   "cell_type": "code",
   "execution_count": null,
   "id": "7adc17ff-a508-4029-88a2-26b18f462069",
   "metadata": {},
   "outputs": [],
   "source": []
  }
 ],
 "metadata": {
  "kernelspec": {
   "display_name": "Python 3",
   "language": "python",
   "name": "python3"
  },
  "language_info": {
   "codemirror_mode": {
    "name": "ipython",
    "version": 3
   },
   "file_extension": ".py",
   "mimetype": "text/x-python",
   "name": "python",
   "nbconvert_exporter": "python",
   "pygments_lexer": "ipython3",
   "version": "3.9.5"
  }
 },
 "nbformat": 4,
 "nbformat_minor": 5
}
