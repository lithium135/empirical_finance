{
 "cells": [
  {
   "cell_type": "code",
   "execution_count": 1,
   "id": "a0783a2e-4a24-4ee5-a96b-550134dc2425",
   "metadata": {
    "tags": []
   },
   "outputs": [],
   "source": [
    "import pandas as pd\n",
    "import datetime as dt\n",
    "import math\n",
    "from tqdm import tqdm\n",
    "import numpy as np\n",
    "from pandas.tseries.offsets import BDay\n",
    "import matplotlib.pyplot as plt\n",
    "\n",
    "PATH = \"C:/Users/jackl/OneDrive/Documents/finance_research/japan_qe/\"\n",
    "\n",
    "nk_df = pd.read_csv(PATH+'nk_df_v2.csv')\n",
    "sedol_list = list(nk_df['sedol'])\n",
    "del nk_df"
   ]
  },
  {
   "cell_type": "code",
   "execution_count": 2,
   "id": "aed13cd1-39de-4d42-baa1-79eb6174755c",
   "metadata": {
    "tags": []
   },
   "outputs": [],
   "source": [
    "def get_truncated_df(merge_df, columns, year_column_name=None, low=0.01, high=0.99):\n",
    "    merge_df_copy = merge_df.copy()\n",
    "    if year_column_name == None:\n",
    "        for column in columns: \n",
    "            _1pct, _99pct = merge_df_copy[column].quantile(q=low), merge_df_copy[column].quantile(q=high)\n",
    "            merge_df_copy[column].where((merge_df_copy[column] < _99pct) & (merge_df_copy[column] > _1pct), math.nan, inplace=True)\n",
    "    else: \n",
    "        merge_df_list = []\n",
    "        merge_year_df_list = [[year, merge_year_df] for year, merge_year_df in merge_df_copy.groupby(year_column_name)]\n",
    "        for year, merge_year_df in tqdm(merge_year_df_list):\n",
    "            for column in columns: \n",
    "                _1pct, _99pct = merge_year_df[column].quantile(q=low), merge_year_df[column].quantile(q=high)\n",
    "                merge_year_df[column].where(~((merge_year_df[column] > _99pct) | (merge_year_df[column] < _1pct)), math.nan, inplace=True)\n",
    "            merge_df_list.append(merge_year_df)\n",
    "        merge_df_copy = pd.concat(merge_df_list)\n",
    "    \n",
    "    return merge_df_copy\n",
    "\n",
    "def get_boj_quintiles_conditional(sue_df_boj_merged, suffix=None, quantiles=5):\n",
    "    sue_df_boj_merged_nd = sue_df_boj_merged[['sedol', 'yr_qtr_index', 'boj_share_shares']].drop_duplicates()\n",
    "    sue_df_boj_merged_nd_list = []\n",
    "    for index, df in tqdm(sue_df_boj_merged_nd.groupby('yr_qtr_index')): \n",
    "        try:\n",
    "            df['boj_share_shares_quantiles_'+suffix] = pd.qcut(df['boj_share_shares'], quantiles, labels=False)\n",
    "        except: \n",
    "            df['boj_share_shares_quantiles_'+suffix] = [math.nan for i in range(len(df))]\n",
    "\n",
    "        sue_df_boj_merged_nd_list.append(df)\n",
    "\n",
    "    sue_df_boj_merged_nd = pd.concat(sue_df_boj_merged_nd_list)\n",
    "\n",
    "    sue_df_boj_merged = pd.merge(sue_df_boj_merged, \n",
    "                                 sue_df_boj_merged_nd, \n",
    "                                 on=['sedol', 'yr_qtr_index', 'boj_share_shares'])\n",
    "    return sue_df_boj_merged"
   ]
  },
  {
   "cell_type": "markdown",
   "id": "3246f308-bfab-4423-99ee-f66d69e2272c",
   "metadata": {},
   "source": [
    "# Daily Returns Setup"
   ]
  },
  {
   "cell_type": "code",
   "execution_count": 3,
   "id": "eedef54f-4c4c-4cc7-b1ce-021d9c99fe6f",
   "metadata": {},
   "outputs": [],
   "source": [
    "ret_df = pd.read_pickle(PATH+'checkpoint_data/returns_all_stocks.pkl')\n",
    "\n",
    "ret_df = ret_df[['yr_qtr_index', 'datadate', 'conm', 'sedol', 'cshoc', 'cshtrd', \n",
    "                 'prccd', 'mod_prccd', 'mod_ret', 'mod_ret_mkt_adj']]\n",
    "\n",
    "ret_df['mc'] = ret_df['cshoc'] * ret_df['prccd']\n",
    "ret_df['turnover'] = ret_df['cshtrd']/ret_df['cshoc']"
   ]
  },
  {
   "cell_type": "code",
   "execution_count": 4,
   "id": "5835a5cf-d19c-41d0-b463-85fcdfd2c40e",
   "metadata": {},
   "outputs": [],
   "source": [
    "mc_df = ret_df[['datadate', 'sedol', 'mc']]\n",
    "mc_for_later = mc_df.copy()"
   ]
  },
  {
   "cell_type": "markdown",
   "id": "544fe6ec-5793-45ba-b98e-ee95cd4979b2",
   "metadata": {},
   "source": [
    "# Market-to-Book Setup"
   ]
  },
  {
   "cell_type": "code",
   "execution_count": 5,
   "id": "535653b7-a88e-4240-ab2c-8db84e349788",
   "metadata": {},
   "outputs": [],
   "source": [
    "mb_df = pd.read_csv(PATH+'raw_data/worldscope/mb.csv', parse_dates=['ITEM5350'])\n",
    "mb_df.columns = ['code', 'year_', 'freq', 'seq', 'def_taxes', 'prf', 'common_equity', 'datadate', 'sedol']"
   ]
  },
  {
   "cell_type": "code",
   "execution_count": 6,
   "id": "56d159d1-59ef-4467-9039-b9a9961d8edc",
   "metadata": {},
   "outputs": [],
   "source": [
    "mb_df = mb_df.dropna(subset=['sedol'])\n",
    "mb_df['sedol'] = mb_df['sedol'].astype(str)"
   ]
  },
  {
   "cell_type": "code",
   "execution_count": 7,
   "id": "5a37459a-09e6-42bd-ad5b-b07aafea955a",
   "metadata": {},
   "outputs": [],
   "source": [
    "mb_df = mb_df.drop(columns=['code', 'year_', 'freq', 'seq'])"
   ]
  },
  {
   "cell_type": "code",
   "execution_count": 8,
   "id": "f5b152e1-409a-4cd4-9ffd-8572852cadaf",
   "metadata": {},
   "outputs": [],
   "source": [
    "mb_df['def_taxes'] = mb_df['def_taxes'].apply(lambda x: 0 if math.isnan(x)==True else x)\n",
    "mb_df['prf'] = mb_df['prf'].apply(lambda x: 0 if math.isnan(x)==True else x)"
   ]
  },
  {
   "cell_type": "code",
   "execution_count": 9,
   "id": "6a8b8ae7-30b6-410e-acf7-4176caab4cb0",
   "metadata": {},
   "outputs": [],
   "source": [
    "mb_df['bv'] = mb_df['common_equity'] + mb_df['def_taxes'] - mb_df['prf']\n",
    "mb_df = mb_df[mb_df['bv'] > 0]"
   ]
  },
  {
   "cell_type": "code",
   "execution_count": 10,
   "id": "e56c88e1-ebef-4765-adb6-c4d073c36245",
   "metadata": {},
   "outputs": [],
   "source": [
    "mb_df = mb_df[['datadate','sedol', 'bv']]\n",
    "mb_df = mb_df.dropna()"
   ]
  },
  {
   "cell_type": "code",
   "execution_count": 11,
   "id": "1af90682-13b8-445a-a9bd-4dd5c9dc7c79",
   "metadata": {},
   "outputs": [],
   "source": [
    "mb_df.columns = ['mb_datadate', 'sedol', 'bv']"
   ]
  },
  {
   "cell_type": "code",
   "execution_count": 12,
   "id": "95407eba-05d1-4fed-b7b2-add58f2d10b8",
   "metadata": {},
   "outputs": [],
   "source": [
    "mb_df['yr_qtr_index'] = mb_df['mb_datadate'].apply(lambda x: (x.year, math.ceil(x.month / 3)))\n",
    "qtr_yr_index_list = list(mb_df['yr_qtr_index'].sort_values().unique())\n",
    "qtr_index = [i for i in range(len(qtr_yr_index_list))]\n",
    "qtr_conv_dict = dict(zip(qtr_yr_index_list, qtr_index))\n",
    "mb_df['qtr_index'] = mb_df['yr_qtr_index'].apply(lambda x: qtr_conv_dict[x])"
   ]
  },
  {
   "cell_type": "code",
   "execution_count": 13,
   "id": "d5c5dab3-a6b5-4277-8a67-b5f5bb963d2d",
   "metadata": {},
   "outputs": [],
   "source": [
    "mb_df = pd.merge_asof(mb_df.sort_values('mb_datadate'), \n",
    "                      mc_df.sort_values('datadate'), \n",
    "                      by='sedol', \n",
    "                      left_on=['mb_datadate'], \n",
    "                      right_on=['datadate'], \n",
    "                      direction='backward', \n",
    "                      tolerance=pd.Timedelta(days=3))"
   ]
  },
  {
   "cell_type": "code",
   "execution_count": 14,
   "id": "7297d69b-c2d0-4eb5-ad40-3be40e868eeb",
   "metadata": {},
   "outputs": [],
   "source": [
    "mb_df['mb'] = mb_df['mc']/mb_df['bv']\n",
    "mb_df = mb_df.dropna(subset=['mb'])\n",
    "mb_df = mb_df.drop(columns=['mc', 'datadate'])"
   ]
  },
  {
   "cell_type": "markdown",
   "id": "9cb44916-c937-467e-85ef-44848f233924",
   "metadata": {},
   "source": [
    "# Earnings Setup"
   ]
  },
  {
   "cell_type": "code",
   "execution_count": 15,
   "id": "1b82a6c6-4b85-449e-9e98-dedc2191ef2c",
   "metadata": {
    "tags": []
   },
   "outputs": [],
   "source": [
    "# ws_df = pd.read_csv(PATH+'raw_data/worldscope/all_earnings.csv', parse_dates=['ITEM5350'])\n",
    "# ws_df.columns = ['code', 'year', 'freq', 'seq', 'e', 'date', 'sedol', 'fyr']\n",
    "# ws_df = ws_df.dropna(subset=['sedol'])\n",
    "# ws_df['sedol'] = ws_df['sedol'].astype(str)"
   ]
  },
  {
   "cell_type": "code",
   "execution_count": 16,
   "id": "a17bf1a5-e218-4145-bda0-74b143ca22da",
   "metadata": {
    "tags": []
   },
   "outputs": [],
   "source": [
    "# ws_df = ws_df.dropna(subset=['sedol', 'date'])\n",
    "# ws_df['sedol'] = ws_df['sedol'].astype(str)\n",
    "# ws_df = ws_df.drop(columns=['code', 'fyr', 'seq', 'freq'])"
   ]
  },
  {
   "cell_type": "code",
   "execution_count": 17,
   "id": "18675f3f-8a0d-4077-acc3-be64890ad68b",
   "metadata": {
    "tags": []
   },
   "outputs": [
    {
     "name": "stderr",
     "output_type": "stream",
     "text": [
      "100%|████████████████████████████████████████████████████████████████████| 2627985/2627985 [00:04<00:00, 654661.32it/s]\n"
     ]
    }
   ],
   "source": [
    "# ws_df['month'] = ws_df['date'].dt.month\n",
    "# month_list = list(ws_df['month'])\n",
    "# new_month_list = []\n",
    "# for i in tqdm(range(len(month_list))):\n",
    "#     month = month_list[i]\n",
    "#     if month in [1, 4, 7, 10]: \n",
    "#         month += 2\n",
    "#     elif month in [2, 5, 8, 11]: \n",
    "#         month += 1\n",
    "#     new_month_list.append(month)\n",
    "# ws_df['month'] = new_month_list\n",
    "# ws_df['day'] = 30"
   ]
  },
  {
   "cell_type": "code",
   "execution_count": 18,
   "id": "f94c0d60-6010-48c6-b7da-6962e88ac164",
   "metadata": {
    "tags": []
   },
   "outputs": [],
   "source": [
    "# ws_df['datadate'] = pd.to_datetime(ws_df[['year', 'month', 'day']])\n",
    "# ws_df = ws_df.drop(columns=['year', 'month', 'day', 'date'])"
   ]
  },
  {
   "cell_type": "code",
   "execution_count": 20,
   "id": "fef94b04-5372-4cc2-ae87-c752217b75ea",
   "metadata": {
    "tags": []
   },
   "outputs": [],
   "source": [
    "# date_index = [pd.to_datetime('2010-03-30') + pd.DateOffset(months=3 * i) for i in range(44)]\n",
    "# sedol_list = []\n",
    "# for _, sedol_df in tqdm(ws_df.groupby('sedol')): \n",
    "#     sedol_df = sedol_df.set_index('datadate').reindex(date_index).reset_index()\n",
    "#     sedol_df['e_rolling'] = sedol_df['e'].rolling(window=4, min_periods=4).mean()\n",
    "#     sedol_list.append(sedol_df)\n",
    "# ws_df = pd.concat(sedol_list)"
   ]
  },
  {
   "cell_type": "code",
   "execution_count": 21,
   "id": "b97ebd81-d528-4656-8478-0e2b67a36c4e",
   "metadata": {
    "tags": []
   },
   "outputs": [],
   "source": [
    "# ws_df.columns = ['earnings_datadate', 'e', 'sedol', 'e_rolling']"
   ]
  },
  {
   "cell_type": "code",
   "execution_count": 22,
   "id": "fad62680-5f1f-4042-8844-ada8727a8a4f",
   "metadata": {
    "tags": []
   },
   "outputs": [],
   "source": [
    "# ws_df['yr_qtr_index'] = ws_df['earnings_datadate'].apply(lambda x: (x.year, math.ceil(x.month / 3)))\n",
    "# ws_df['qtr_index'] = ws_df['yr_qtr_index'].apply(lambda x: qtr_conv_dict[x])"
   ]
  },
  {
   "cell_type": "code",
   "execution_count": 23,
   "id": "930be143-5e8c-4864-95dd-122b2c690c27",
   "metadata": {
    "tags": []
   },
   "outputs": [],
   "source": [
    "# ws_df = pd.merge_asof(ws_df.sort_values('earnings_datadate'), \n",
    "#                       mc_df.sort_values('datadate'), \n",
    "#                       by='sedol', \n",
    "#                       left_on=['earnings_datadate'], \n",
    "#                       right_on=['datadate'], \n",
    "#                       direction='backward', \n",
    "#                       tolerance=pd.Timedelta(days=3))"
   ]
  },
  {
   "cell_type": "code",
   "execution_count": 21,
   "id": "23877f08-db28-41b7-a0b4-2907a5089dc3",
   "metadata": {
    "tags": []
   },
   "outputs": [],
   "source": [
    "# ws_df['pe'] = ws_df['mc']/ws_df['e_rolling']\n",
    "# ws_df = ws_df.drop(columns=['mc', 'datadate'])"
   ]
  },
  {
   "cell_type": "markdown",
   "id": "a4d6b263-6af5-4730-b965-9363528c619d",
   "metadata": {},
   "source": [
    "## Beta"
   ]
  },
  {
   "cell_type": "code",
   "execution_count": 22,
   "id": "d02e86e0-84f1-478f-be01-fc38fdfafc8f",
   "metadata": {},
   "outputs": [],
   "source": [
    "beta_df = pd.read_pickle(PATH+'checkpoint_data/beta_qtr_df.pkl').drop(columns=['qtr_yr_index'])"
   ]
  },
  {
   "cell_type": "code",
   "execution_count": 23,
   "id": "aeb4f708-f426-47c4-9c43-f92ffd13e4f0",
   "metadata": {},
   "outputs": [],
   "source": [
    "beta_df['yr_qtr_index'] = beta_df['beta_date'].apply(lambda x: (x.year, math.ceil(x.month / 3)))\n",
    "beta_df['qtr_index'] = beta_df['yr_qtr_index'].apply(lambda x: qtr_conv_dict[x])"
   ]
  },
  {
   "cell_type": "markdown",
   "id": "13424b6d-2879-4088-ad8e-df76b3607618",
   "metadata": {},
   "source": [
    "## Daily Controls"
   ]
  },
  {
   "cell_type": "code",
   "execution_count": 24,
   "id": "e1571d11-fd2a-4909-aa82-4cfb73f2ef93",
   "metadata": {},
   "outputs": [],
   "source": [
    "mc_for_later['index'] = mc_for_later['datadate'].apply(lambda x: (x.year, x.month))\n",
    "mc_for_later = mc_for_later.drop_duplicates(['index', 'sedol'], keep='first').drop(columns=['index'])\n",
    "mc_for_later.columns = ['datadate', 'sedol', 'mc_monthly']\n",
    "ret_df = pd.merge_asof(ret_df.sort_values('datadate'), \n",
    "                       mc_for_later.sort_values('datadate'), \n",
    "                       by='sedol', \n",
    "                       on='datadate', \n",
    "                       direction='backward')"
   ]
  },
  {
   "cell_type": "code",
   "execution_count": 25,
   "id": "329b10db-21ec-4090-9a2d-b65d7701dc3a",
   "metadata": {},
   "outputs": [],
   "source": [
    "ret_df['yr_qtr_index'] = ret_df['datadate'].apply(lambda x: (x.year, math.ceil(x.month / 3)))\n",
    "ret_df['qtr_index'] = ret_df['yr_qtr_index'].map(qtr_conv_dict)"
   ]
  },
  {
   "cell_type": "code",
   "execution_count": 26,
   "id": "4a6fc915-29fa-4386-9f05-5622aea80feb",
   "metadata": {},
   "outputs": [
    {
     "name": "stderr",
     "output_type": "stream",
     "text": [
      "100%|███████████████████████████████████████████████████████████████████████████████| 266/266 [00:02<00:00, 111.18it/s]\n"
     ]
    }
   ],
   "source": [
    "sedol_df_list = []\n",
    "for _, sedol_df in tqdm(ret_df.groupby('sedol')):\n",
    "    sedol_df = sedol_df.sort_values('datadate')\n",
    "    sedol_df['turnover_3m'] = sedol_df['turnover'].rolling(window=60, min_periods=30).mean().shift(1)\n",
    "    sedol_df['vlt_12m'] = sedol_df['mod_ret_mkt_adj'].rolling(window=245, min_periods=245//2).std().shift(1)\n",
    "    sedol_df_list.append(sedol_df)\n",
    "ret_df = pd.concat(sedol_df_list)"
   ]
  },
  {
   "cell_type": "code",
   "execution_count": 27,
   "id": "bc7db1ce-d1ad-446b-b567-1b206137d965",
   "metadata": {},
   "outputs": [],
   "source": [
    "ret_df = pd.merge(ret_df, \n",
    "                  mb_df, \n",
    "                  on=['sedol', 'qtr_index', 'yr_qtr_index'],\n",
    "                  how='left')\n",
    "\n",
    "ret_df['qtr_index_l1'] = ret_df['qtr_index'] - 1\n",
    "ret_df = pd.merge(ret_df, \n",
    "                  ret_df[['mb', 'qtr_index', 'sedol']].drop_duplicates(['qtr_index', 'sedol']), \n",
    "                  left_on=['sedol', 'qtr_index_l1'], \n",
    "                  right_on=['sedol', 'qtr_index'],\n",
    "                  suffixes=[None, '_l1']).drop(columns=['qtr_index_l1'])"
   ]
  },
  {
   "cell_type": "code",
   "execution_count": 28,
   "id": "9b2754d5-01f7-43cb-bae5-d32372dffe9b",
   "metadata": {
    "tags": []
   },
   "outputs": [],
   "source": [
    "# ret_df = pd.merge(ret_df, \n",
    "#                   ws_df, \n",
    "#                   on=['sedol', 'qtr_index', 'yr_qtr_index'],\n",
    "#                   how='left')\n",
    "\n",
    "# ret_df['qtr_index_l1'] = ret_df['qtr_index'] - 1\n",
    "# ret_df = pd.merge(ret_df, \n",
    "#                   ret_df[['pe', 'qtr_index', 'sedol']].drop_duplicates(['qtr_index', 'sedol']), \n",
    "#                   left_on=['sedol', 'qtr_index_l1'], \n",
    "#                   right_on=['sedol', 'qtr_index'],\n",
    "#                   suffixes=[None, '_l1']).drop(columns=['qtr_index_l1'])"
   ]
  },
  {
   "cell_type": "code",
   "execution_count": 29,
   "id": "9582e88e-56dc-4da7-9a00-e910bd922709",
   "metadata": {},
   "outputs": [],
   "source": [
    "#note beta is already lagged\n",
    "ret_df = pd.merge(ret_df, \n",
    "                  beta_df, \n",
    "                  on=['sedol', 'qtr_index', 'yr_qtr_index'],\n",
    "                  how='left')"
   ]
  },
  {
   "cell_type": "code",
   "execution_count": 30,
   "id": "1b54b47e-2ab9-48d5-8c85-52b93c445890",
   "metadata": {},
   "outputs": [],
   "source": [
    "#past returns\n",
    "ret_df_subset = ret_df[['datadate', 'mod_prccd', 'sedol']]\n",
    "ret_df['datadate_l_year'] = ret_df['datadate'] - pd.DateOffset(years = 1)"
   ]
  },
  {
   "cell_type": "code",
   "execution_count": 34,
   "id": "41ad7d4b-670d-471a-ae28-cb235ee4d198",
   "metadata": {},
   "outputs": [],
   "source": [
    "ret_df = pd.merge_asof(ret_df.sort_values('datadate_l_year'), \n",
    "                       ret_df_subset.sort_values('datadate'), \n",
    "                       by=['sedol'], \n",
    "                       left_on=['datadate_l_year'], \n",
    "                       right_on=['datadate'], \n",
    "                       suffixes=[None, '_l_year'],\n",
    "                       direction='backward', \n",
    "                       tolerance=pd.Timedelta(days=7)).drop(columns=['datadate_l_year'])\n",
    "\n",
    "ret_df['datadate_l_day'] = ret_df['datadate'] - pd.DateOffset(days = 1)\n",
    "ret_df = pd.merge_asof(ret_df.sort_values('datadate_l_day'), \n",
    "                       ret_df_subset.sort_values('datadate'), \n",
    "                       by=['sedol'], \n",
    "                       left_on=['datadate_l_day'], \n",
    "                       right_on=['datadate'], \n",
    "                       suffixes=[None, '_l_day'],\n",
    "                       direction='backward', \n",
    "                       tolerance=pd.Timedelta(days=7)).drop(columns=['datadate_l_day'])\n",
    "\n",
    "ret_df['past_yr_returns'] = ret_df['mod_prccd']/ret_df['mod_prccd_l_year'] - 1\n",
    "ret_df['past_yr_returns_l_day'] = ret_df['mod_prccd_l_day']/ret_df['mod_prccd_l_year'] - 1"
   ]
  },
  {
   "cell_type": "code",
   "execution_count": 35,
   "id": "fe848424-a055-427f-adfd-d0e0e31b6814",
   "metadata": {},
   "outputs": [],
   "source": [
    "ret_df.to_pickle(PATH+'checkpoint_data/controls_daily.pkl')"
   ]
  },
  {
   "cell_type": "code",
   "execution_count": 30,
   "id": "daa016f6-f778-4265-9914-73c054900f00",
   "metadata": {},
   "outputs": [],
   "source": [
    "# ret_df = pd.read_pickle(PATH+'checkpoint_data/controls_daily.pkl')"
   ]
  },
  {
   "cell_type": "markdown",
   "id": "237bf3d3-a183-4aa1-b828-7a61b048b252",
   "metadata": {
    "tags": []
   },
   "source": [
    "## Ignore Below\n",
    "\n",
    "## Quarterly Controls"
   ]
  },
  {
   "cell_type": "code",
   "execution_count": 8,
   "id": "415d66b7-15cd-480a-be72-6ea880004099",
   "metadata": {
    "tags": []
   },
   "outputs": [
    {
     "name": "stderr",
     "output_type": "stream",
     "text": [
      "100%|█████████████████████████████████████████████████████████████████████████| 172472/172472 [14:07<00:00, 203.56it/s]\n"
     ]
    }
   ],
   "source": [
    "mc_list = []\n",
    "vlt_list = []\n",
    "ret_list = []\n",
    "prc_list = []\n",
    "turnover_list = []\n",
    "\n",
    "num_days_total_list = []\n",
    "num_days_w_data_list = []\n",
    "coverage_ratio_list = []\n",
    "\n",
    "start_date_list = []\n",
    "yr_qtr_index_list = [] \n",
    "sedol_list = []\n",
    "\n",
    "for index, df in tqdm(ret_df.groupby(['sedol', 'yr_qtr_index'])): \n",
    "    #get values\n",
    "    start_date = df.iloc[0]['datadate']\n",
    "    \n",
    "    vlt = df['mod_ret'].std()\n",
    "    ret = df['mod_ret'].mean()\n",
    "    prc = np.log(df.iloc[0]['prccd'])\n",
    "    mc = np.log(df.iloc[0]['log_mc'])\n",
    "    turnover = df['turnover'].mean()\n",
    "    \n",
    "    num_days_total = len(df)\n",
    "    num_days_w_data = len(df[~(abs(df['mod_ret']) <= 10**(-6))])\n",
    "    coverage_ratio = num_days_w_data/num_days_total\n",
    "    \n",
    "    #append\n",
    "    mc_list.append(mc)\n",
    "    vlt_list.append(vlt)\n",
    "    prc_list.append(prc)\n",
    "    ret_list.append(ret)\n",
    "    turnover_list.append(turnover)\n",
    "    \n",
    "    num_days_total_list.append(num_days_total)\n",
    "    num_days_w_data_list.append(num_days_w_data)\n",
    "    coverage_ratio_list.append(coverage_ratio)\n",
    "    \n",
    "    start_date_list.append(start_date)\n",
    "    sedol_list.append(index[0])\n",
    "    yr_qtr_index_list.append(index[1])"
   ]
  },
  {
   "cell_type": "code",
   "execution_count": 9,
   "id": "04411854-8604-4613-89d8-9b710deeef64",
   "metadata": {
    "tags": []
   },
   "outputs": [],
   "source": [
    "control_df = pd.DataFrame({'sedol': sedol_list, \n",
    "                           'yr_qtr_index': yr_qtr_index_list, \n",
    "                           'start_date': start_date_list,\n",
    "                           'mc': mc_list, \n",
    "                           'vlt': vlt_list,\n",
    "                           'ret': ret_list,\n",
    "                           'prc': prc_list,\n",
    "                           'turnover': turnover_list,\n",
    "                           'num_days_total': num_days_total_list, \n",
    "                           'num_days_w_data': num_days_w_data_list, \n",
    "                           'coverage_ratio': coverage_ratio_list})\n",
    "\n",
    "control_df['yr'] = control_df['yr_qtr_index'].apply(lambda x: x[0])\n",
    "control_df = control_df.sort_values(['sedol', 'yr_qtr_index'])"
   ]
  },
  {
   "cell_type": "code",
   "execution_count": 17,
   "id": "b4a3f06f-df0f-45ae-872a-a3f448cfb2eb",
   "metadata": {
    "tags": []
   },
   "outputs": [],
   "source": [
    "control_df_1 = pd.merge(control_df, \n",
    "                        mb_df, \n",
    "                        left_on=['yr', 'sedol'], \n",
    "                        right_on=['year_', 'sedol'], \n",
    "                        how='left').drop(columns=['year_'])"
   ]
  },
  {
   "cell_type": "code",
   "execution_count": 18,
   "id": "e14a3244-0ba1-496b-b717-76093f2ba9c7",
   "metadata": {
    "collapsed": true,
    "jupyter": {
     "outputs_hidden": true
    },
    "tags": []
   },
   "outputs": [
    {
     "name": "stderr",
     "output_type": "stream",
     "text": [
      "<ipython-input-18-23f50c1bb14b>:2: SettingWithCopyWarning: \n",
      "A value is trying to be set on a copy of a slice from a DataFrame.\n",
      "Try using .loc[row_indexer,col_indexer] = value instead\n",
      "\n",
      "See the caveats in the documentation: https://pandas.pydata.org/pandas-docs/stable/user_guide/indexing.html#returning-a-view-versus-a-copy\n",
      "  control_match_df['start_date_f1'] = control_match_df['start_date'] + pd.DateOffset(months=3)\n",
      "<ipython-input-18-23f50c1bb14b>:3: SettingWithCopyWarning: \n",
      "A value is trying to be set on a copy of a slice from a DataFrame.\n",
      "Try using .loc[row_indexer,col_indexer] = value instead\n",
      "\n",
      "See the caveats in the documentation: https://pandas.pydata.org/pandas-docs/stable/user_guide/indexing.html#returning-a-view-versus-a-copy\n",
      "  control_match_df['yr_qtr_index_f1'] = control_match_df['start_date_f1'].apply(lambda x: (x.year, x.quarter))\n"
     ]
    }
   ],
   "source": [
    "control_match_df = control_df_1[['start_date', 'sedol', 'vlt', 'ret', 'turnover']]\n",
    "control_match_df['start_date_f1'] = control_match_df['start_date'] + pd.DateOffset(months=3)\n",
    "control_match_df['yr_qtr_index_f1'] = control_match_df['start_date_f1'].apply(lambda x: (x.year, x.quarter))\n",
    "control_match_df = control_match_df.drop(columns=['start_date_f1'])"
   ]
  },
  {
   "cell_type": "code",
   "execution_count": 19,
   "id": "96a1c91c-3166-40b9-9edc-7cfcac0b94fd",
   "metadata": {
    "tags": []
   },
   "outputs": [],
   "source": [
    "control_df_2 = pd.merge(control_df_1, \n",
    "                        control_match_df.drop(columns=['start_date']), \n",
    "                        left_on=['sedol', 'yr_qtr_index'], \n",
    "                        right_on=['sedol', 'yr_qtr_index_f1'], \n",
    "                        suffixes=[None, '_l1'], \n",
    "                        how='left').drop(columns=['yr_qtr_index_f1', 'yr'])"
   ]
  },
  {
   "cell_type": "code",
   "execution_count": 20,
   "id": "e33a9976-f066-4373-87ec-31b68f69f4b4",
   "metadata": {
    "tags": []
   },
   "outputs": [
    {
     "name": "stderr",
     "output_type": "stream",
     "text": [
      "100%|██████████████████████████████████████████████████████████████████████████████████| 45/45 [00:02<00:00, 19.24it/s]\n"
     ]
    }
   ],
   "source": [
    "control_df_2 = get_truncated_df(control_df_2, \n",
    "                 columns=['mc', 'vlt', 'ret', 'prc', 'mb', 'turnover', 'vlt_l1','ret_l1', 'turnover_l1'], \n",
    "                 year_column_name='yr_qtr_index', \n",
    "                 low=0.01, \n",
    "                 high=0.99)"
   ]
  },
  {
   "cell_type": "code",
   "execution_count": 22,
   "id": "3a88221b-14ab-4c2e-b873-6c737df29737",
   "metadata": {
    "tags": []
   },
   "outputs": [],
   "source": [
    "control_df_2.to_pickle(PATH+'checkpoint_data/control.pkl')"
   ]
  },
  {
   "cell_type": "code",
   "execution_count": 6,
   "id": "dbe4d913-d52f-44b9-af99-0b0e4bfdc64d",
   "metadata": {
    "tags": []
   },
   "outputs": [],
   "source": [
    "control_df_2 = pd.read_pickle(PATH+'checkpoint_data/control.pkl')"
   ]
  },
  {
   "cell_type": "markdown",
   "id": "62221b82-391f-4deb-8687-c611ced494bf",
   "metadata": {},
   "source": [
    "## Yearly Controls"
   ]
  },
  {
   "cell_type": "code",
   "execution_count": 11,
   "id": "329fe6e7-6bbf-4a80-a4c8-324099a5d6fd",
   "metadata": {
    "tags": []
   },
   "outputs": [],
   "source": [
    "ret_df['yr'] = ret_df['datadate'].dt.year"
   ]
  },
  {
   "cell_type": "code",
   "execution_count": 18,
   "id": "da4578ba-83ea-4b92-bf7f-43b7464ab064",
   "metadata": {
    "tags": []
   },
   "outputs": [
    {
     "name": "stderr",
     "output_type": "stream",
     "text": [
      "100%|███████████████████████████████████████████████████████████████████████████| 46842/46842 [04:21<00:00, 178.90it/s]\n"
     ]
    }
   ],
   "source": [
    "mc_list = []\n",
    "vlt_list = []\n",
    "ret_list = []\n",
    "prc_list = []\n",
    "turnover_list = []\n",
    "\n",
    "num_days_total_list = []\n",
    "num_days_w_data_list = []\n",
    "coverage_ratio_list = []\n",
    "\n",
    "start_date_list = []\n",
    "yr_qtr_index_list = [] \n",
    "sedol_list = []\n",
    "\n",
    "for index, df in tqdm(ret_df.groupby(['sedol', 'yr'])): \n",
    "    #get values\n",
    "    start_date = df.iloc[0]['datadate']\n",
    "    \n",
    "    vlt = df['mod_ret_mkt_adj'].std()\n",
    "    ret = df['mod_ret_mkt_adj'].mean()\n",
    "    turnover = df['turnover'].mean()\n",
    "    prc = np.log(df.iloc[0]['prccd'])\n",
    "    mc = np.log(df.iloc[0]['log_mc'])\n",
    "    \n",
    "    num_days_total = len(df)\n",
    "    num_days_w_data = len(df[~(abs(df['mod_ret']) <= 10**(-6))])\n",
    "    coverage_ratio = num_days_w_data/num_days_total\n",
    "    \n",
    "    #append\n",
    "    mc_list.append(mc)\n",
    "    vlt_list.append(vlt)\n",
    "    prc_list.append(prc)\n",
    "    ret_list.append(ret)\n",
    "    turnover_list.append(turnover)\n",
    "    \n",
    "    num_days_total_list.append(num_days_total)\n",
    "    num_days_w_data_list.append(num_days_w_data)\n",
    "    coverage_ratio_list.append(coverage_ratio)\n",
    "    \n",
    "    start_date_list.append(start_date)\n",
    "    sedol_list.append(index[0])\n",
    "    yr_qtr_index_list.append(index[1])"
   ]
  },
  {
   "cell_type": "code",
   "execution_count": 75,
   "id": "d11c4c47-3043-459f-8577-14ec6445788b",
   "metadata": {
    "tags": []
   },
   "outputs": [],
   "source": [
    "control_df = pd.DataFrame({'sedol': sedol_list, \n",
    "                           'yr': yr_qtr_index_list, \n",
    "                           'start_date': start_date_list,\n",
    "                           'mc': mc_list, \n",
    "                           'vlt': vlt_list,\n",
    "                           'ret': ret_list,\n",
    "                           'prc': prc_list,\n",
    "                           'turnover': turnover_list,\n",
    "                           'num_days_total': num_days_total_list, \n",
    "                           'num_days_w_data': num_days_w_data_list, \n",
    "                           'coverage_ratio': coverage_ratio_list})\n",
    "\n",
    "control_df = control_df.sort_values(['sedol', 'yr'])"
   ]
  },
  {
   "cell_type": "code",
   "execution_count": 78,
   "id": "963706b3-2b32-4950-b0a6-b85de93986dd",
   "metadata": {
    "tags": []
   },
   "outputs": [],
   "source": [
    "control_df_1 = pd.merge(control_df, \n",
    "                        mb_df, \n",
    "                        left_on=['yr', 'sedol'], \n",
    "                        right_on=['year_', 'sedol'], \n",
    "                        how='left').drop(columns=['year_'])"
   ]
  },
  {
   "cell_type": "code",
   "execution_count": 84,
   "id": "a1f7f08f-8f4a-42ec-83c9-052b9dcb4a78",
   "metadata": {
    "collapsed": true,
    "jupyter": {
     "outputs_hidden": true
    },
    "tags": []
   },
   "outputs": [
    {
     "name": "stderr",
     "output_type": "stream",
     "text": [
      "<ipython-input-84-0b7633555bde>:2: SettingWithCopyWarning: \n",
      "A value is trying to be set on a copy of a slice from a DataFrame.\n",
      "Try using .loc[row_indexer,col_indexer] = value instead\n",
      "\n",
      "See the caveats in the documentation: https://pandas.pydata.org/pandas-docs/stable/user_guide/indexing.html#returning-a-view-versus-a-copy\n",
      "  control_match_df['yr_f1'] = control_match_df['yr'] + 1\n"
     ]
    }
   ],
   "source": [
    "control_match_df = control_df_1[['start_date', 'sedol', 'vlt', 'ret', 'turnover', 'yr']]\n",
    "control_match_df['yr_f1'] = control_match_df['yr'] + 1"
   ]
  },
  {
   "cell_type": "code",
   "execution_count": 88,
   "id": "9be5fdb3-001a-4f26-9e72-8bb8e1dd0086",
   "metadata": {
    "tags": []
   },
   "outputs": [],
   "source": [
    "control_df_2 = pd.merge(control_df_1, \n",
    "                        control_match_df.drop(columns=['start_date']), \n",
    "                        left_on=['sedol', 'yr'], \n",
    "                        right_on=['sedol', 'yr_f1'], \n",
    "                        suffixes=[None, '_l1'], \n",
    "                        how='left').drop(columns=['yr_f1', 'yr_l1'])"
   ]
  },
  {
   "cell_type": "code",
   "execution_count": 90,
   "id": "fba05283-6986-4dff-ad6e-67609c464f26",
   "metadata": {
    "tags": []
   },
   "outputs": [
    {
     "name": "stderr",
     "output_type": "stream",
     "text": [
      "100%|██████████████████████████████████████████████████████████████████████████████████| 12/12 [00:00<00:00, 17.90it/s]\n"
     ]
    }
   ],
   "source": [
    "control_df_2 = get_truncated_df(control_df_2, \n",
    "                 columns=['mc', 'vlt', 'ret', 'prc', 'mb', 'turnover', 'vlt_l1','ret_l1', 'turnover_l1'], \n",
    "                 year_column_name='yr', \n",
    "                 low=0.01, \n",
    "                 high=0.99)"
   ]
  },
  {
   "cell_type": "code",
   "execution_count": 91,
   "id": "3cbf8182-851a-49bf-b4cd-d3dd507a8ffb",
   "metadata": {
    "tags": []
   },
   "outputs": [],
   "source": [
    "control_df_2.to_pickle(PATH+'checkpoint_data/control_yearly.pkl')"
   ]
  }
 ],
 "metadata": {
  "kernelspec": {
   "display_name": "Python 3",
   "language": "python",
   "name": "python3"
  },
  "language_info": {
   "codemirror_mode": {
    "name": "ipython",
    "version": 3
   },
   "file_extension": ".py",
   "mimetype": "text/x-python",
   "name": "python",
   "nbconvert_exporter": "python",
   "pygments_lexer": "ipython3",
   "version": "3.9.5"
  }
 },
 "nbformat": 4,
 "nbformat_minor": 5
}
