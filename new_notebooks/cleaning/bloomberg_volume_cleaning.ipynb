{
 "cells": [
  {
   "cell_type": "code",
   "execution_count": 327,
   "id": "9a37d7df-a962-4708-be38-62ba7b1cd766",
   "metadata": {},
   "outputs": [],
   "source": [
    "import pandas as pd\n",
    "import numpy as np\n",
    "import datetime as dt\n",
    "import math\n",
    "import matplotlib.pyplot as plt\n",
    "import pytz\n",
    "\n",
    "from pandas.tseries.offsets import BDay, Day\n",
    "from tqdm import tqdm\n",
    "\n",
    "PATH = \"C:/Users/jackl/OneDrive/Documents/finance_research/japan_qe/\"\n",
    "pd.options.mode.chained_assignment = None"
   ]
  },
  {
   "cell_type": "code",
   "execution_count": 328,
   "id": "993397da-a634-4332-a914-286070430905",
   "metadata": {},
   "outputs": [],
   "source": [
    "def adjust_header(df):\n",
    "    first_row = pd.DataFrame(df.columns).T\n",
    "    first_row.columns = ['date', 'vlm']\n",
    "    df.columns = ['date', 'vlm']\n",
    "    df = first_row.append(df)\n",
    "    df = df.reset_index(drop=True)\n",
    "    return df"
   ]
  },
  {
   "cell_type": "code",
   "execution_count": 575,
   "id": "5ec6d83c-6dff-4574-b2e2-d6bef61a2b3f",
   "metadata": {},
   "outputs": [],
   "source": [
    "def adjust_dates(df, year):\n",
    "    df['month'] = df['date'].dt.month\n",
    "    df['day'] = df['date'].dt.day\n",
    "    df['hour'] = df['date'].dt.hour\n",
    "    df['minute'] = df['date'].dt.minute\n",
    "    df = df.drop(columns=['date'])\n",
    "    \n",
    "    if df['month'].iloc[-1] == 12:\n",
    "        dec_list = list(df[df['month']==12].index)\n",
    "        for i in range(len(dec_list)):\n",
    "            try:\n",
    "                if dec_list[i] - dec_list[i-1] > 1: \n",
    "                    break\n",
    "            except:\n",
    "                pass\n",
    "\n",
    "        same_yr_indices = list(range(len(df)))[:dec_list[i]] \n",
    "        last_yr_indices = list(range(len(df)))[dec_list[i]:] \n",
    "\n",
    "    else: \n",
    "        same_yr_indices = list(range(len(df)))\n",
    "        last_yr_indices = []\n",
    "\n",
    "    same_yr_df = df.iloc[same_yr_indices]\n",
    "    last_yr_df = df.iloc[last_yr_indices]\n",
    "\n",
    "    same_yr_df['year'] = year\n",
    "    last_yr_df['year'] = year - 1\n",
    "    df = pd.concat([same_yr_df, last_yr_df])\n",
    "\n",
    "    df['date_full'] = pd.to_datetime(df.drop(columns='vlm'))\n",
    "    df['date_full'] = pd.to_datetime(df['date_full'].dt.tz_localize('EST').dt.tz_convert('Asia/Tokyo'))\n",
    "    df['hour'] = df['date_full'].dt.hour \n",
    "    df['minute'] = df['date_full'].dt.minute\n",
    "    df['date'] = pd.to_datetime(df['date_full'].dt.date)\n",
    "    \n",
    "    df = df.drop(columns=['day', 'month'])\n",
    "    return df"
   ]
  },
  {
   "cell_type": "code",
   "execution_count": 576,
   "id": "85fb5124-d9f1-4e44-9a55-a44aa71b3ac8",
   "metadata": {},
   "outputs": [],
   "source": [
    "def convert_values(val): \n",
    "    val = str(val)\n",
    "    if val[-1]=='k': \n",
    "        val = float(val[:-1]) * 10 ** 3\n",
    "    elif val[-1]=='M': \n",
    "        val = float(val[:-1]) * 10 ** 6\n",
    "    else:\n",
    "        val = float(val)\n",
    "    \n",
    "    return val"
   ]
  },
  {
   "cell_type": "code",
   "execution_count": 611,
   "id": "e5b55a42-aa24-4baf-83a9-364805c80179",
   "metadata": {},
   "outputs": [],
   "source": [
    "def get_vlm_df(df):\n",
    "    df['session'] = df['date_full'].apply(lambda x: 'A' if x.hour in [8, 9, 13, 14, 15] else 'M')\n",
    "    df['session_12'] = df['date_full'].apply(lambda x: 'A' if x.hour in [8, 9, 12, 13, 14, 15] else 'M')\n",
    "    df['session_11'] = df['date_full'].apply(lambda x: 'A' if x.hour in [8, 9, 11, 12, 13, 14, 15] else 'M')\n",
    "\n",
    "    df['date'] = pd.to_datetime(df['date_full'].dt.date)\n",
    "    vlm_df1 = df[['date', 'session', 'vlm']].groupby(['date', 'session']).sum().reset_index()\n",
    "    vlm_df2 = df[['date', 'session_12', 'vlm']].groupby(['date', 'session_12']).sum().reset_index()\n",
    "    vlm_df3 = df[['date', 'session_11', 'vlm']].groupby(['date', 'session_11']).sum().reset_index()\n",
    "\n",
    "    vlm_df12 = pd.merge(vlm_df1, \n",
    "                        vlm_df2, \n",
    "                        left_on=['date', 'session'], \n",
    "                        right_on=['date', 'session_12'], \n",
    "                        suffixes=[None, '_12']).drop(columns=['session_12'])\n",
    "\n",
    "    vlm_df = pd.merge(vlm_df12, \n",
    "                      vlm_df3, \n",
    "                      left_on=['date', 'session'], \n",
    "                      right_on=['date', 'session_11'], \n",
    "                      suffixes=[None, '_11']).drop(columns=['session_11'])\n",
    "    \n",
    "    vlm_df['year'] = vlm_df['date'].dt.year\n",
    "    return vlm_df"
   ]
  },
  {
   "cell_type": "code",
   "execution_count": 612,
   "id": "bbc6de96-f541-4d66-971b-63438fc9c374",
   "metadata": {},
   "outputs": [],
   "source": [
    "def main(p, vlm=True):\n",
    "    df_list = []\n",
    "    for year in tqdm(range(2010, 2021)):\n",
    "        df = pd.read_excel(PATH+p, sheet_name=str(year))\n",
    "        df = adjust_header(df)\n",
    "        df = adjust_dates(df, year)\n",
    "        df['vlm'] = df['vlm'].apply(lambda x: convert_values(x))\n",
    "        df_list.append(df)\n",
    "\n",
    "    df = pd.concat(df_list).drop_duplicates()\n",
    "    if vlm==True:\n",
    "        vlm_df = get_vlm_df(df)\n",
    "    else:\n",
    "        vlm_df = df\n",
    "    \n",
    "    return vlm_df"
   ]
  },
  {
   "cell_type": "code",
   "execution_count": 613,
   "id": "239a7ccc-c516-4900-a4ad-847c158b8001",
   "metadata": {},
   "outputs": [],
   "source": [
    "boj_df = pd.read_pickle(PATH+'checkpoint_data/boj_purchases_stock_level_v2.pkl')"
   ]
  },
  {
   "cell_type": "markdown",
   "id": "abf975bb-da8c-4f91-b0bf-80bdc9b8a9cc",
   "metadata": {},
   "source": [
    "## Action Commands"
   ]
  },
  {
   "cell_type": "code",
   "execution_count": 623,
   "id": "d930ce76-8ba0-4a7b-906a-41cca5470644",
   "metadata": {},
   "outputs": [
    {
     "name": "stderr",
     "output_type": "stream",
     "text": [
      "100%|██████████████████████████████████████████████████████████████████████████████████| 11/11 [00:04<00:00,  2.21it/s]\n"
     ]
    }
   ],
   "source": [
    "fr_df = main('raw_data/bloomberg/9983_master_volume.xlsx', vlm=False)\n",
    "# av_df = main('raw_data/bloomberg/6857_master_volume.xlsx')"
   ]
  },
  {
   "cell_type": "code",
   "execution_count": 624,
   "id": "3ed9043e-9846-4d70-af85-0c92564b8ae9",
   "metadata": {},
   "outputs": [],
   "source": [
    "fr_sedol, av_sedol = '6332439', '6870490'"
   ]
  },
  {
   "cell_type": "code",
   "execution_count": 625,
   "id": "5a093ed4-31e5-4727-83a6-661925a5241e",
   "metadata": {},
   "outputs": [],
   "source": [
    "fr_df = pd.merge(fr_df, \n",
    "                 boj_df[boj_df['sedol'].isin([fr_sedol])][['date', 'shares_purchased']], \n",
    "                 on=['date'], \n",
    "                 how='left').sort_values('date')\n",
    "\n",
    "# av_df = pd.merge(av_df, \n",
    "#                  boj_df[boj_df['sedol'].isin([av_sedol])][['date', 'shares_purchased']], \n",
    "#                  on=['date'], \n",
    "#                  how='left')"
   ]
  },
  {
   "cell_type": "code",
   "execution_count": 626,
   "id": "edaf39c5-3b4c-45f3-9ce3-84d0aa3acfcd",
   "metadata": {},
   "outputs": [],
   "source": [
    "fr_df['shares_purchased'] = fr_df['shares_purchased'].apply(lambda x: 0 if math.isnan(x)==True else x)\n",
    "# av_df['shares_purchased'] = av_df['shares_purchased'].apply(lambda x: 0 if math.isnan(x)==True else x)"
   ]
  },
  {
   "cell_type": "code",
   "execution_count": 629,
   "id": "0b4eabaa-6582-4d9d-94d1-89bcada70f16",
   "metadata": {},
   "outputs": [],
   "source": [
    "fr_df.drop(columns=['date_full']).to_stata(PATH+'test.dta')"
   ]
  },
  {
   "cell_type": "code",
   "execution_count": 461,
   "id": "8229aa3f-101a-4d6c-83c3-dbe5de4bb06a",
   "metadata": {},
   "outputs": [
    {
     "data": {
      "text/plain": [
       "<matplotlib.collections.PathCollection at 0x28993a22340>"
      ]
     },
     "execution_count": 461,
     "metadata": {},
     "output_type": "execute_result"
    },
    {
     "data": {
      "image/png": "[encoded data removed]",
      "text/plain": [
       "<Figure size 432x288 with 1 Axes>"
      ]
     },
     "metadata": {
      "needs_background": "light"
     },
     "output_type": "display_data"
    }
   ],
   "source": [
    "plt.scatter(x=fr_df_1['shares_purchased'], y=fr_df_1['vlm'])"
   ]
  },
  {
   "cell_type": "code",
   "execution_count": null,
   "id": "02db50eb-ab38-4e9b-9ef7-5563150165ca",
   "metadata": {},
   "outputs": [],
   "source": []
  }
 ],
 "metadata": {
  "kernelspec": {
   "display_name": "Python 3",
   "language": "python",
   "name": "python3"
  },
  "language_info": {
   "codemirror_mode": {
    "name": "ipython",
    "version": 3
   },
   "file_extension": ".py",
   "mimetype": "text/x-python",
   "name": "python",
   "nbconvert_exporter": "python",
   "pygments_lexer": "ipython3",
   "version": "3.9.5"
  }
 },
 "nbformat": 4,
 "nbformat_minor": 5
}
