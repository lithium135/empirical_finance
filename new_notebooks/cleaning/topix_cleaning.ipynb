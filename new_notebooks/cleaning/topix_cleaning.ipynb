{
 "cells": [
  {
   "cell_type": "code",
   "execution_count": 284,
   "id": "a497b42b-017c-4d14-aa32-28b94368adca",
   "metadata": {},
   "outputs": [],
   "source": [
    "import pandas as pd\n",
    "from tqdm import tqdm\n",
    "pd.options.mode.chained_assignment = None  # default='warn'"
   ]
  },
  {
   "cell_type": "code",
   "execution_count": 330,
   "id": "fc25564f-e1e8-4e9c-9ac9-9d1cd732fc31",
   "metadata": {},
   "outputs": [],
   "source": [
    "def format_df(df): \n",
    "    df = df.iloc[1:].reset_index(drop=True)\n",
    "    df = df.append(df.iloc[0], ignore_index=True)\n",
    "\n",
    "    list_index = list(df[df['Time Interval'].str.contains(\"JAN|FEB|MAR|APR|MAY|JUN|JUL|AUG|SEP|OCT|NOV|DEC\")].index)\n",
    "    list_index += [len(df) - 1]\n",
    "\n",
    "    counter = 0\n",
    "    list_acc = []\n",
    "    list_ = []\n",
    "    for i in range(0, len(df)): \n",
    "        try:\n",
    "            if i < list_index[counter]: \n",
    "                list_.append(i)\n",
    "            else: \n",
    "                counter += 1\n",
    "                list_acc.append(list_)\n",
    "                list_ = []\n",
    "        except:\n",
    "            break\n",
    "\n",
    "    date_list = list(df.iloc[list_index]['Time Interval'])\n",
    "    list_acc = list_acc[1:]\n",
    "    lists = []\n",
    "    for i in range(len(list_acc)): \n",
    "        list2 = []\n",
    "        list_ = list_acc[i]\n",
    "        date = date_list[i]\n",
    "        for i in list_: \n",
    "            list2.append(date)\n",
    "        lists.append(list2)\n",
    "\n",
    "    list_subsets = [df.iloc[list_] for list_ in list_acc]\n",
    "\n",
    "    subsets = []\n",
    "    for i in range(len(list_subsets)):\n",
    "        subset = list_subsets[i]\n",
    "        subset['date'] = date_list[i]\n",
    "        subsets.append(subset)\n",
    "\n",
    "    df_f1 = pd.concat(subsets)\n",
    "    df_f1['start_full_time'] = pd.to_datetime(df_f1['date'].apply(lambda x: str(x)[:9]) + df_f1['Time Interval'].apply(lambda x: ' ' + str(x)[:5]))\n",
    "    df_f1['start_full_time'] = df_f1['start_full_time'].dt.tz_localize('US/Eastern').dt.tz_convert('Japan')\n",
    "    df_f1['start_date'] = df_f1['start_full_time'].dt.date\n",
    "    df_f1['start_time_int'] = df_f1['start_full_time'].dt.time\n",
    "    \n",
    "    return df_f1"
   ]
  },
  {
   "cell_type": "code",
   "execution_count": 331,
   "id": "93d372af-5d3d-400f-a9c1-cce52b8b8b9d",
   "metadata": {},
   "outputs": [],
   "source": [
    "file_names = ['2010', '2010-11a', '2011-12', '2011a-11b', '2012-13', '2013-14', '2014-15', '2015-16', '2016-17', '2017-18', '2018-19', '2019-20', '2020-21']\n",
    "file_names = ['raw_data/topix/' + name + '.xlsx' for name in file_names]"
   ]
  },
  {
   "cell_type": "code",
   "execution_count": 332,
   "id": "2d1cf4f8-f52a-49fd-9036-c92e1d239f4e",
   "metadata": {},
   "outputs": [],
   "source": [
    "df_list = [pd.read_excel(file_name) for file_name in file_names]"
   ]
  },
  {
   "cell_type": "code",
   "execution_count": 333,
   "id": "131c6b34-054c-4c7a-8512-aa837ee27e7d",
   "metadata": {
    "tags": []
   },
   "outputs": [
    {
     "name": "stderr",
     "output_type": "stream",
     "text": [
      "\n",
      "  0%|                                                                                           | 0/13 [00:00<?, ?it/s]\u001b[A\n",
      "  8%|██████▍                                                                            | 1/13 [00:00<00:06,  1.83it/s]\u001b[A\n",
      " 15%|████████████▊                                                                      | 2/13 [00:01<00:05,  2.02it/s]\u001b[A\n",
      " 23%|███████████████████▏                                                               | 3/13 [00:01<00:06,  1.51it/s]\u001b[A\n",
      " 31%|█████████████████████████▌                                                         | 4/13 [00:02<00:04,  1.85it/s]\u001b[A\n",
      " 38%|███████████████████████████████▉                                                   | 5/13 [00:03<00:05,  1.55it/s]\u001b[A\n",
      " 46%|██████████████████████████████████████▎                                            | 6/13 [00:03<00:04,  1.44it/s]\u001b[A\n",
      " 54%|████████████████████████████████████████████▋                                      | 7/13 [00:04<00:04,  1.37it/s]\u001b[A\n",
      " 62%|███████████████████████████████████████████████████                                | 8/13 [00:05<00:03,  1.34it/s]\u001b[A\n",
      " 69%|█████████████████████████████████████████████████████████▍                         | 9/13 [00:06<00:03,  1.32it/s]\u001b[A\n",
      " 77%|███████████████████████████████████████████████████████████████                   | 10/13 [00:06<00:02,  1.31it/s]\u001b[A\n",
      " 85%|█████████████████████████████████████████████████████████████████████▍            | 11/13 [00:07<00:01,  1.28it/s]\u001b[A\n",
      " 92%|███████████████████████████████████████████████████████████████████████████▋      | 12/13 [00:08<00:00,  1.23it/s]\u001b[A\n",
      "100%|██████████████████████████████████████████████████████████████████████████████████| 13/13 [00:09<00:00,  1.36it/s]\u001b[A\n"
     ]
    }
   ],
   "source": [
    "topix_df = pd.concat([format_df(df) for df in tqdm(df_list)])"
   ]
  },
  {
   "cell_type": "code",
   "execution_count": 340,
   "id": "f77d5a12-aaba-410d-a21e-2fc70a7f6ace",
   "metadata": {},
   "outputs": [],
   "source": [
    "topix_df.to_pickle('checkpoint_data/topix_df.pkl')"
   ]
  }
 ],
 "metadata": {
  "kernelspec": {
   "display_name": "Python 3",
   "language": "python",
   "name": "python3"
  },
  "language_info": {
   "codemirror_mode": {
    "name": "ipython",
    "version": 3
   },
   "file_extension": ".py",
   "mimetype": "text/x-python",
   "name": "python",
   "nbconvert_exporter": "python",
   "pygments_lexer": "ipython3",
   "version": "3.9.5"
  }
 },
 "nbformat": 4,
 "nbformat_minor": 5
}
