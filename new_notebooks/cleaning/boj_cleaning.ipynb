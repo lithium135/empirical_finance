{
 "cells": [
  {
   "cell_type": "code",
   "execution_count": 11,
   "id": "a9a78469-105e-4c11-ad1d-aaa9efb8b773",
   "metadata": {},
   "outputs": [],
   "source": [
    "import pandas as pd\n",
    "import numpy as np\n",
    "import math\n",
    "PATH = \"C:/Users/jackl/OneDrive/Documents/finance_research/japan_qe/\""
   ]
  },
  {
   "cell_type": "code",
   "execution_count": 12,
   "id": "e26c8032-2b5f-4633-806c-a875d12159d5",
   "metadata": {},
   "outputs": [],
   "source": [
    "def df_cleaner_year(file_name):\n",
    "    try:\n",
    "        df = pd.read_excel(PATH+'raw_data/boj_etf_purchases/' + file_name + '.xls', usecols=[1, 2, 3])\n",
    "    except: \n",
    "        df = pd.read_excel(PATH+'raw_data/boj_etf_purchases/' + file_name + '.xlsx', usecols=[1, 2, 3])\n",
    "    df.columns = ['date', 'etf', 'reit']\n",
    "    df = df.iloc[7:].dropna(subset=['date'])\n",
    "    return df\n",
    "\n",
    "def df_cleaner_months(file_name): \n",
    "    df = pd.read_excel(PATH+'raw_data/boj_etf_purchases/' + file_name + '.xlsx', usecols=[1, 2, 3])\n",
    "    df.columns = ['date', 'etf', 'reit']\n",
    "    df = df.iloc[9:]\n",
    "    return df\n",
    "\n",
    "def get_date(date): \n",
    "    try: \n",
    "        date = pd.to_datetime(date)\n",
    "        return date\n",
    "    except:\n",
    "        return math.nan"
   ]
  },
  {
   "cell_type": "code",
   "execution_count": 13,
   "id": "76a0cadb-db89-45fb-8cdb-ff4ccc344d3e",
   "metadata": {},
   "outputs": [],
   "source": [
    "df_years = ['2010', '2011', '2012', '2013', '2014', '2015', '2016 (Purchases until March)', '2016 (Purchases from April)', '2017', '2018', '2019', '2020']\n",
    "df_months = ['etfreit01', 'etfreit02', 'etfreit03', 'etfreit04', 'etfreit05', 'etfreit06', 'etfreit07', 'etfreit08']"
   ]
  },
  {
   "cell_type": "code",
   "execution_count": 14,
   "id": "8ce99d8e-8900-4056-beaf-6018b7198519",
   "metadata": {
    "tags": []
   },
   "outputs": [],
   "source": [
    "df_cleaned_year_list = [df_cleaner_year(name) for name in df_years]\n",
    "df_cleaned_month_list = [df_cleaner_months(name) for name in df_months]\n",
    "df = pd.concat(df_cleaned_year_list + df_cleaned_month_list)\n",
    "df['date'] = df['date'].astype(str).apply(lambda x: str(x)[:10])\n",
    "df['date'] = df['date'].apply(lambda x: get_date(x))\n",
    "df = df.dropna(subset=['date'])"
   ]
  },
  {
   "cell_type": "code",
   "execution_count": 15,
   "id": "3edc29a6-e17c-407f-a7de-6d2feef7b634",
   "metadata": {},
   "outputs": [],
   "source": [
    "df[['etf', 'reit']] = df[['etf', 'reit']].astype(float)\n",
    "df['etf'] = df['etf'].apply(lambda x: 0 if math.isnan(x) else x)"
   ]
  },
  {
   "cell_type": "code",
   "execution_count": 16,
   "id": "fe49cc48-e3c3-4e7e-b49e-5a3677602fa3",
   "metadata": {},
   "outputs": [
    {
     "name": "stdout",
     "output_type": "stream",
     "text": [
      "2021-08-28 00:00:00\n"
     ]
    }
   ],
   "source": [
    "# code check\n",
    "date_list = list(df['date'])\n",
    "start_date = pd.to_datetime('2010-12-15')\n",
    "while start_date <= pd.to_datetime('2021-08-28'):\n",
    "    if start_date not in date_list: \n",
    "        print(start_date)\n",
    "    start_date += pd.Timedelta(days=1)"
   ]
  },
  {
   "cell_type": "code",
   "execution_count": 18,
   "id": "902d9522-06f0-4b1d-8457-4c031d70c802",
   "metadata": {},
   "outputs": [],
   "source": [
    "df.to_pickle('checkpoint_data/boj_purchases.pkl')"
   ]
  },
  {
   "cell_type": "code",
   "execution_count": null,
   "id": "aea63990-b449-4cdc-be71-53ece9d38290",
   "metadata": {},
   "outputs": [],
   "source": []
  }
 ],
 "metadata": {
  "kernelspec": {
   "display_name": "Python 3",
   "language": "python",
   "name": "python3"
  },
  "language_info": {
   "codemirror_mode": {
    "name": "ipython",
    "version": 3
   },
   "file_extension": ".py",
   "mimetype": "text/x-python",
   "name": "python",
   "nbconvert_exporter": "python",
   "pygments_lexer": "ipython3",
   "version": "3.9.5"
  }
 },
 "nbformat": 4,
 "nbformat_minor": 5
}
