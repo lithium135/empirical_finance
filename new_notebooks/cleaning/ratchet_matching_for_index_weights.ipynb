{
 "cells": [
  {
   "cell_type": "code",
   "execution_count": 2,
   "id": "daecc88d-d6af-4937-b7e9-a4c1533098ba",
   "metadata": {},
   "outputs": [],
   "source": [
    "import pandas as pd\n",
    "import numpy as np\n",
    "import math\n",
    "from tqdm import tqdm\n",
    "PATH = \"C:/Users/jackl/OneDrive/Documents/finance_research/japan_qe/\"\n",
    "\n",
    "def print_full(x):\n",
    "    pd.set_option('display.max_rows', len(x))\n",
    "    print(x)\n",
    "    pd.reset_option('display.max_rows')"
   ]
  },
  {
   "cell_type": "code",
   "execution_count": 3,
   "id": "25ac3e0f-db92-4d54-8e13-0321ff961a66",
   "metadata": {},
   "outputs": [],
   "source": [
    "# jp_df = pd.read_csv(PATH+'raw_data/comp_global/all_japanese_stocks.csv', parse_dates=['datadate'])\n",
    "# jp_df = jp_df.dropna(subset=['prccd'])\n",
    "# jp_df['imp_market_val'] = jp_df['cshoc'] * jp_df['prccd'] / 10e5\n",
    "# jp_df['sedol'] = jp_df['sedol'].astype(str)\n",
    "# jp_df['prccd'] = jp_df['prccd'].astype('float64')\n",
    "# jp_df['imp_market_val'] = jp_df['imp_market_val'].astype('float64')"
   ]
  },
  {
   "cell_type": "code",
   "execution_count": 4,
   "id": "00fe4c12-cd69-4dc0-ab33-8408a2038b73",
   "metadata": {},
   "outputs": [],
   "source": [
    "const_df_full = pd.read_csv(PATH+'raw_data/datastream/topix_nikkei_constituents_v2.csv', parse_dates=['date_'])\n",
    "const_df_full = const_df_full.dropna(subset=['close_', 'weight'])\n",
    "const_df_full = const_df_full[const_df_full['close_'] != 0] \n",
    "const_df_full['weight'] = const_df_full['weight'] / 100\n",
    "const_df_full['close_'] = const_df_full['close_'].astype('float64')\n",
    "const_df_full['mktval'] = const_df_full['mktval'].astype('float64')\n",
    "const_df_full['month_yr_index'] = const_df_full['date_'].apply(lambda x: (x.year, x.month))\n",
    "const_df_full = const_df_full[const_df_full['date_'] >= pd.to_datetime('2010-11-30')]"
   ]
  },
  {
   "cell_type": "code",
   "execution_count": 5,
   "id": "910eee23-2c41-40ad-9904-7630fab50230",
   "metadata": {},
   "outputs": [],
   "source": [
    "nikkei_df_reo = pd.read_pickle(PATH+'checkpoint_data/nikkei_weights_bloomberg.pkl')\n",
    "nikkei_df_reo['SEDOL'] = nikkei_df_reo['SEDOL'].astype(str)\n",
    "nikkei_df_reo = nikkei_df_reo.dropna(subset=['weight'])\n",
    "nikkei_df_reo['indexlistmnem'] = ['LJAPDOWA' for i in range(len(nikkei_df_reo))]\n",
    "nikkei_df_reo['weight'] = nikkei_df_reo['weight'] / 100\n",
    "nikkei_df_reo['month_yr_index'] = nikkei_df_reo['date'].apply(lambda x: (x.year, x.month))\n",
    "\n",
    "merge_df = pd.read_pickle(PATH+'checkpoint_data/sedol_constintcode_match.pkl')\n",
    "merge_df['sedol'] = merge_df['sedol'].astype(str)\n",
    "nikkei_df_reo = pd.merge_asof(nikkei_df_reo.sort_values('date'), \n",
    "                              merge_df.sort_values('merged_date'), \n",
    "                              left_by=['SEDOL'], \n",
    "                              right_by=['sedol'],\n",
    "                              left_on=['date'],\n",
    "                              right_on=['merged_date'],\n",
    "                              direction='nearest').drop(columns=['merged_date', 'SEDOL'])\n",
    "\n",
    "nikkei_df_reo_pre_aug = nikkei_df_reo[nikkei_df_reo['date'] <= pd.to_datetime('2011-08-01')]\n",
    "nikkei_df_reo_pre_aug = nikkei_df_reo_pre_aug[['date', 'weight', 'constintcode', 'indexlistmnem', 'month_yr_index']]\n",
    "nikkei_df_reo_pre_aug.columns = ['date_', 'weight', 'constintcode', 'indexlistmnem', 'month_yr_index']\n",
    "nikkei_df_reo_pre_aug = nikkei_df_reo_pre_aug.dropna(subset=['constintcode'])"
   ]
  },
  {
   "cell_type": "code",
   "execution_count": 6,
   "id": "9f28f7fa-f010-4768-9e2f-dba2c10fb29f",
   "metadata": {},
   "outputs": [],
   "source": [
    "comn_df = pd.read_csv(PATH+'raw_data/comp_global/company_names.csv')\n",
    "comn_df = comn_df.drop_duplicates(['sedol'])[['sedol', 'conm']]\n",
    "comn_df['sedol'] = comn_df['sedol'].astype(str)"
   ]
  },
  {
   "cell_type": "markdown",
   "id": "2794f19f-fe68-45c8-b246-c6dc7cb529ad",
   "metadata": {},
   "source": [
    "# Merging"
   ]
  },
  {
   "cell_type": "code",
   "execution_count": 7,
   "id": "59668717-5672-4022-8506-0942f64ea14c",
   "metadata": {},
   "outputs": [],
   "source": [
    "const_df = const_df_full[['indexlistmnem', 'constintcode', 'date_', 'weight', 'month_yr_index']]"
   ]
  },
  {
   "cell_type": "code",
   "execution_count": 8,
   "id": "273d6888-fa6e-44d6-ab11-2261b7f35aa3",
   "metadata": {},
   "outputs": [
    {
     "name": "stderr",
     "output_type": "stream",
     "text": [
      "<ipython-input-8-0cd56638b9cd>:7: SettingWithCopyWarning: \n",
      "A value is trying to be set on a copy of a slice from a DataFrame.\n",
      "Try using .loc[row_indexer,col_indexer] = value instead\n",
      "\n",
      "See the caveats in the documentation: https://pandas.pydata.org/pandas-docs/stable/user_guide/indexing.html#returning-a-view-versus-a-copy\n",
      "  add_df['month_yr_index'] = [index for i in range(len(add_df))]\n",
      "<ipython-input-8-0cd56638b9cd>:8: SettingWithCopyWarning: \n",
      "A value is trying to be set on a copy of a slice from a DataFrame.\n",
      "Try using .loc[row_indexer,col_indexer] = value instead\n",
      "\n",
      "See the caveats in the documentation: https://pandas.pydata.org/pandas-docs/stable/user_guide/indexing.html#returning-a-view-versus-a-copy\n",
      "  add_df['date_'] = [df.iloc[0]['date_'] for i in range(len(add_df))]\n"
     ]
    }
   ],
   "source": [
    "control_df = const_df[(const_df['indexlistmnem']=='LJAPDOWA') & \n",
    "                      (const_df['month_yr_index']==(2011, 8))]\n",
    "\n",
    "nikkei_df_reo_pre_aug_added_list = []\n",
    "for index, df in nikkei_df_reo_pre_aug.groupby(['month_yr_index']): \n",
    "    add_df = control_df[~control_df['constintcode'].isin(df['constintcode'])]\n",
    "    add_df['month_yr_index'] = [index for i in range(len(add_df))]\n",
    "    add_df['date_'] = [df.iloc[0]['date_'] for i in range(len(add_df))]\n",
    "    df_added = pd.concat([df, add_df])\n",
    "    nikkei_df_reo_pre_aug_added_list.append(df_added)\n",
    "\n",
    "nikkei_df_reo_pre_aug_added = pd.concat(nikkei_df_reo_pre_aug_added_list)"
   ]
  },
  {
   "cell_type": "code",
   "execution_count": 9,
   "id": "586eb95f-7214-4384-9a2c-4a44820f662c",
   "metadata": {},
   "outputs": [],
   "source": [
    "nk_df = const_df[const_df['indexlistmnem']=='LJAPDOWA']\n",
    "tp_df = const_df[const_df['indexlistmnem']=='LTOKYOSE']\n",
    "\n",
    "missing_months_1 = [(2020, 10), (2020, 11), (2020, 12), (2021, 1), (2021, 2)]\n",
    "missing_months_2 = [(2015, 11), (2015, 12)]\n",
    "missing_months_3 = [(2014, 11), (2014, 12), (2015, 1), (2015, 2), (2015, 3), (2015, 4), (2015, 5)]\n",
    "missing_months_4 = [(2015, 7)]\n",
    "missing_months_5 = [(2016, 2)]\n",
    "missing_months_list = [missing_months_1, missing_months_2, missing_months_3, missing_months_4, missing_months_5]\n",
    "\n",
    "gen_mon_dfs_list = []\n",
    "for missing_month_x in missing_months_list: \n",
    "    start_index = missing_month_x[0]\n",
    "    before_index = (start_index[0], start_index[1]-1)\n",
    "    gen_mon_df = nk_df[nk_df['month_yr_index']==before_index]\n",
    "    \n",
    "    counter = 1\n",
    "    for missing_month in missing_month_x:\n",
    "        gen_mon_df_copy = gen_mon_df.copy()\n",
    "        gen_mon_df_copy['date_'] = tp_df[tp_df['month_yr_index']==missing_month]['date_'].iloc[0]\n",
    "        gen_mon_df_copy['month_yr_index'] = [missing_month for i in range(len(gen_mon_df))]\n",
    "        gen_mon_dfs_list.append(gen_mon_df_copy)\n",
    "        counter += 1\n",
    "        \n",
    "gen_mon_dfs_full = pd.concat(gen_mon_dfs_list)"
   ]
  },
  {
   "cell_type": "code",
   "execution_count": 10,
   "id": "9f8aa8eb-4a1b-4380-9084-a7edb3555ff7",
   "metadata": {},
   "outputs": [],
   "source": [
    "const_df_fixed = pd.concat([nikkei_df_reo_pre_aug_added, gen_mon_dfs_full, nk_df, tp_df])\n",
    "const_df_fixed['constintcode'] = const_df_fixed['constintcode'].astype('int64')"
   ]
  },
  {
   "cell_type": "code",
   "execution_count": 11,
   "id": "97296a4f-b470-4a03-8543-32d0405c4e6b",
   "metadata": {},
   "outputs": [],
   "source": [
    "#get SEDOLs\n",
    "merge_df = pd.read_pickle(PATH+'checkpoint_data/sedol_constintcode_match.pkl')\n",
    "const_df_final = pd.merge_asof(const_df_fixed.sort_values('date_'), \n",
    "                               merge_df.sort_values('merged_date'), \n",
    "                               by=['constintcode'], \n",
    "                               left_on=['date_'],\n",
    "                               right_on=['merged_date'],\n",
    "                               direction='nearest').dropna(subset=['sedol']).drop_duplicates(['indexlistmnem', 'date_', 'sedol'])"
   ]
  },
  {
   "cell_type": "code",
   "execution_count": 12,
   "id": "8e4426fe-2158-41b0-a153-937b9dbc3c57",
   "metadata": {},
   "outputs": [],
   "source": [
    "# print_full(const_df_final.groupby(['date_', 'indexlistmnem']).sum())"
   ]
  },
  {
   "cell_type": "code",
   "execution_count": 15,
   "id": "b66abee9-5de1-4604-9b41-e6eb2b50b6d1",
   "metadata": {},
   "outputs": [],
   "source": [
    "# #get free float factor\n",
    "# fffactor_match_df = const_df_full[const_df_full['indexlistmnem']=='LTOKYOSE'][['constintcode', 'date_', 'fffactor', 'month_yr_index']]\n",
    "# fffactor_match_df = fffactor_match_df[fffactor_match_df['fffactor'] != 0]\n",
    "# const_df_final_1 = pd.merge(const_df_final, \n",
    "#                             fffactor_match_df.drop(columns=['date_']), \n",
    "#                             on=['month_yr_index', 'constintcode'],\n",
    "#                             how='left')\n",
    "\n",
    "const_df_final_1 = const_df_final"
   ]
  },
  {
   "cell_type": "code",
   "execution_count": 16,
   "id": "daccd48d-f2d6-47df-bdd3-eba7ea701f41",
   "metadata": {},
   "outputs": [],
   "source": [
    "const_df_final_1['month'] = const_df_final_1['date_'].dt.month\n",
    "const_df_final_1['yr'] = const_df_final_1['date_'].dt.year"
   ]
  },
  {
   "cell_type": "code",
   "execution_count": 17,
   "id": "3133baec-105c-4d97-8680-ae7f787387fc",
   "metadata": {},
   "outputs": [],
   "source": [
    "const_df_final_1['sedol'] = const_df_final_1['sedol'].astype(str)"
   ]
  },
  {
   "cell_type": "code",
   "execution_count": 18,
   "id": "9faf9e61-ddbf-4426-a30f-6cc0de19c5f7",
   "metadata": {},
   "outputs": [],
   "source": [
    "const_df_final_1 = pd.merge(const_df_final_1, \n",
    "                            comn_df, \n",
    "                            on='sedol', \n",
    "                            how='left')"
   ]
  },
  {
   "cell_type": "code",
   "execution_count": 20,
   "id": "17e1dacf-b103-47f5-acb7-cebc48d6b5b5",
   "metadata": {},
   "outputs": [],
   "source": [
    "const_df_final_1.to_pickle(PATH+'checkpoint_data/index_weights.pkl')"
   ]
  },
  {
   "cell_type": "code",
   "execution_count": 15,
   "id": "5827772f-1e16-4548-ad8e-dbf9da8eb4de",
   "metadata": {},
   "outputs": [],
   "source": [
    "# print_full(const_df_final.groupby(['date_', 'indexlistmnem']).count())"
   ]
  }
 ],
 "metadata": {
  "kernelspec": {
   "display_name": "Python 3",
   "language": "python",
   "name": "python3"
  },
  "language_info": {
   "codemirror_mode": {
    "name": "ipython",
    "version": 3
   },
   "file_extension": ".py",
   "mimetype": "text/x-python",
   "name": "python",
   "nbconvert_exporter": "python",
   "pygments_lexer": "ipython3",
   "version": "3.9.5"
  }
 },
 "nbformat": 4,
 "nbformat_minor": 5
}
