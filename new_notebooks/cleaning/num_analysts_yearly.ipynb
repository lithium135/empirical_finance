{
 "cells": [
  {
   "cell_type": "code",
   "execution_count": 52,
   "id": "4b54bd31-91ef-4802-bb12-9e0c3cafd5a4",
   "metadata": {},
   "outputs": [],
   "source": [
    "import pandas as pd\n",
    "import numpy as np\n",
    "import datetime as dt\n",
    "import math\n",
    "import matplotlib.pyplot as plt\n",
    "from pandas.tseries.offsets import BDay\n",
    "from tqdm import tqdm\n",
    "\n",
    "pd.set_option(\"display.max_columns\", None)\n",
    "PATH = \"C:/Users/jackl/OneDrive/Documents/finance_research/japan_qe/\"\n",
    "\n",
    "def get_qtr_index(sue_df, date_column): \n",
    "    sue_df['year'] = sue_df[date_column].apply(lambda x: x.year)\n",
    "    sue_df['qtr'] = sue_df[date_column].apply(lambda x: x.quarter)\n",
    "\n",
    "    fpe_year_list = list(sue_df['year'].astype(str)) \n",
    "    fpe_qtr_list = list(sue_df['qtr'].astype(str))\n",
    "    qtr_year_list = [fpe_year_list[i] + 'Q' + fpe_qtr_list[i] for i in tqdm(range(len(fpe_year_list)))]\n",
    "\n",
    "    sue_df['qtr_year_str'] = qtr_year_list\n",
    "    qtr_dict = dict(zip(sorted(list(sue_df['qtr_year_str'].unique())), [i for i in range(len(list(sue_df['qtr_year_str'].unique())))]))\n",
    "    sue_df['qtr_index'] = sue_df['qtr_year_str'].apply(lambda x: qtr_dict[x])\n",
    "    \n",
    "    sue_df = sue_df.drop(columns=['year', 'qtr'])\n",
    "    \n",
    "    return sue_df\n",
    "\n",
    "def get_truncated_df(merge_df, columns, year_column_name=None, low=0.01, high=0.99):\n",
    "    merge_df_copy = merge_df.copy()\n",
    "    if year_column_name == None:\n",
    "        for column in columns: \n",
    "            _1pct, _99pct = merge_df_copy[column].quantile(q=low), merge_df_copy[column].quantile(q=high)\n",
    "            merge_df_copy[column].where((merge_df_copy[column] < _99pct) & (merge_df_copy[column] > _1pct), math.nan, inplace=True)\n",
    "    else: \n",
    "        merge_df_list = []\n",
    "        merge_year_df_list = [[year, merge_year_df] for year, merge_year_df in merge_df_copy.groupby(year_column_name)]\n",
    "        for year, merge_year_df in tqdm(merge_year_df_list):\n",
    "            for column in columns: \n",
    "                _1pct, _99pct = merge_year_df[column].quantile(q=low), merge_year_df[column].quantile(q=high)\n",
    "                merge_year_df[column].where(~((merge_year_df[column] > _99pct) | (merge_year_df[column] < _1pct)), math.nan, inplace=True)\n",
    "            merge_df_list.append(merge_year_df)\n",
    "        merge_df_copy = pd.concat(merge_df_list)\n",
    "    \n",
    "    return merge_df_copy\n",
    "\n",
    "def get_boj_quintiles_conditional(sue_df_boj_merged, column, suffix=None, quantiles=5):\n",
    "    sue_df_boj_merged_nd = sue_df_boj_merged[['sedol', column, 'boj_share_shares']].drop_duplicates()\n",
    "    sue_df_boj_merged_nd_list = []\n",
    "    for index, df in tqdm(sue_df_boj_merged_nd.groupby(column)): \n",
    "        try:\n",
    "            df['boj_share_shares_quantiles_'+suffix] = pd.qcut(df['boj_share_shares'], quantiles, labels=False)\n",
    "        except: \n",
    "            df['boj_share_shares_quantiles_'+suffix] = [math.nan for i in range(len(df))]\n",
    "\n",
    "        sue_df_boj_merged_nd_list.append(df)\n",
    "\n",
    "    sue_df_boj_merged_nd = pd.concat(sue_df_boj_merged_nd_list)\n",
    "\n",
    "    sue_df_boj_merged = pd.merge(sue_df_boj_merged, \n",
    "                                 sue_df_boj_merged_nd, \n",
    "                                 on=['sedol', column, 'boj_share_shares'])\n",
    "    return sue_df_boj_merged"
   ]
  },
  {
   "cell_type": "code",
   "execution_count": 53,
   "id": "907e1abd-a5c5-4a77-b6e2-ae4a4bba6426",
   "metadata": {},
   "outputs": [],
   "source": [
    "_alphabet = '0123456789 BCD FGH JKLMN PQRST VWXYZ'\n",
    "def calc_check_digit(number):\n",
    "    weights = (1, 3, 1, 7, 3, 9)\n",
    "    s = sum(w * _alphabet.index(n) for w, n in zip(weights, number))\n",
    "    return str((10 - s) % 10)\n",
    "pd.set_option('display.max_columns', None)"
   ]
  },
  {
   "cell_type": "code",
   "execution_count": 54,
   "id": "8e472c5b-b179-41ed-929f-f2fe874d2333",
   "metadata": {},
   "outputs": [],
   "source": [
    "boj_df = pd.read_pickle(PATH+'checkpoint_data/boj_purchases_stock_level_v2.pkl')"
   ]
  },
  {
   "cell_type": "code",
   "execution_count": 55,
   "id": "3fd11b96-262b-49d2-a9c7-1b395dee59ed",
   "metadata": {},
   "outputs": [],
   "source": [
    "sue_df = pd.read_csv(PATH+'raw_data/ibes/full_summary_int.csv', parse_dates=['STATPERS', 'FPEDATS', 'ANNDATS_ACT'])\n",
    "sue_df = sue_df[sue_df['FPI']==1]"
   ]
  },
  {
   "cell_type": "code",
   "execution_count": 56,
   "id": "ed3a794e-ab28-4f33-a5b1-109fa4ac0412",
   "metadata": {},
   "outputs": [],
   "source": [
    "control_df = pd.read_pickle(PATH+'checkpoint_data/control_yearly.pkl')\n",
    "control_df = control_df.sort_values(['sedol', 'yr'])"
   ]
  },
  {
   "cell_type": "markdown",
   "id": "881c64c8-d80e-4e8d-b9c6-abdc6ab2c727",
   "metadata": {},
   "source": [
    "## Merge"
   ]
  },
  {
   "cell_type": "code",
   "execution_count": 57,
   "id": "f87ab153-901e-48ad-a092-bdb5db12adc2",
   "metadata": {},
   "outputs": [],
   "source": [
    "sue_df = sue_df[sue_df['FPEDATS'] >= pd.to_datetime('2010-12-10')]\n",
    "sue_df = sue_df[sue_df['CURCODE']=='JPY']\n",
    "sue_df = sue_df.sort_values(['CUSIP', 'STATPERS'])\n",
    "sue_df = sue_df.drop_duplicates(['ANNDATS_ACT', 'CUSIP'], keep='last')\n",
    "\n",
    "#get SEDOL from ISIN\n",
    "sue_df['sedol'] = sue_df['CUSIP'].apply(lambda x: str(x)[2:] if len(str(x)) == 8 else math.nan)\n",
    "sue_df['sedol'] = sue_df['sedol'].apply(lambda x: str(x) + calc_check_digit(x) if len(str(x)) == 6 else math.nan)"
   ]
  },
  {
   "cell_type": "code",
   "execution_count": 58,
   "id": "5889f651-19d9-4fde-a49f-cf0d0e8677ad",
   "metadata": {},
   "outputs": [],
   "source": [
    "sue_df['yr'] = sue_df['ANNDATS_ACT'].dt.year\n",
    "sue_df = sue_df.sort_values(['sedol', 'FPEDATS'])\n",
    "sue_df = sue_df.drop_duplicates(['sedol', 'yr'], keep='last')"
   ]
  },
  {
   "cell_type": "code",
   "execution_count": 59,
   "id": "8db41a2b-8ae0-4a87-9846-e5965ee0431b",
   "metadata": {},
   "outputs": [],
   "source": [
    "sue_df = sue_df.dropna(subset=['yr'])"
   ]
  },
  {
   "cell_type": "code",
   "execution_count": 60,
   "id": "8385f67c-b286-46a1-94f0-49f14e335f94",
   "metadata": {},
   "outputs": [
    {
     "name": "stderr",
     "output_type": "stream",
     "text": [
      "100%|█████████████████████████████████████████████████████████████████████████████| 2462/2462 [00:12<00:00, 196.67it/s]\n"
     ]
    }
   ],
   "source": [
    "sue_df_reindexed_list = []\n",
    "for sedol, df in tqdm(sue_df.groupby(['sedol'])):\n",
    "    year_list = sorted(list(df['yr']))\n",
    "    first_year, last_year = year_list[0], year_list[-1]\n",
    "    \n",
    "    full_year_index = []\n",
    "    year = first_year\n",
    "    while year <= last_year: \n",
    "        full_year_index.append(year)\n",
    "        year += 1\n",
    "    \n",
    "    df = df.set_index(['yr'])\n",
    "    df = df.reindex(full_year_index)\n",
    "    df = df.reset_index()\n",
    "    df['NUMEST'] = df['NUMEST'].fillna(0)\n",
    "    df['sedol'] = sedol\n",
    "    sue_df_reindexed_list.append(df)\n",
    "\n",
    "sue_df_reindexed = pd.concat(sue_df_reindexed_list).reset_index(drop=True)"
   ]
  },
  {
   "cell_type": "code",
   "execution_count": 61,
   "id": "c666157c-4624-4c88-bdba-437145f7d733",
   "metadata": {},
   "outputs": [],
   "source": [
    "boj_df['yr'] = boj_df['date'].dt.year\n",
    "boj_df['yr_f1'] = boj_df['date'].dt.year + 1\n",
    "boj_df = boj_df.sort_values(['sedol', 'date'])\n",
    "boj_df = boj_df.drop_duplicates(['yr', 'sedol'], keep='last')\n",
    "boj_df = boj_df.drop(columns=['yr_qtr_index', 'yr_qtr_index_f1'])"
   ]
  },
  {
   "cell_type": "code",
   "execution_count": 62,
   "id": "81e338e1-81bd-4b21-a244-dbf582e22da5",
   "metadata": {},
   "outputs": [],
   "source": [
    "sue_df_merged_1 = pd.merge(sue_df_reindexed, \n",
    "                           boj_df.drop(columns=['yr']), \n",
    "                           left_on=['sedol', 'yr'],\n",
    "                           right_on=['sedol', 'yr_f1'],\n",
    "                           how='left').drop(columns=['yr_f1'])"
   ]
  },
  {
   "cell_type": "code",
   "execution_count": 63,
   "id": "81504f7d-fddc-4ce4-981c-0dce0c1ac35a",
   "metadata": {},
   "outputs": [],
   "source": [
    "sue_df_merged_2 = pd.merge(sue_df_merged_1, \n",
    "                           control_df, \n",
    "                           on=['sedol', 'yr'], \n",
    "                           how='left')"
   ]
  },
  {
   "cell_type": "code",
   "execution_count": 64,
   "id": "bc048961-1770-4c38-a91c-baef1bdc15e6",
   "metadata": {},
   "outputs": [],
   "source": [
    "sue_df_merged_2.to_stata(PATH+'regression_files/dta_files/num_analysts_regression_yearly.dta')"
   ]
  },
  {
   "cell_type": "markdown",
   "id": "3a447ce1-efd8-430e-8638-ecd193d6c6f7",
   "metadata": {},
   "source": [
    "# Exploration"
   ]
  },
  {
   "cell_type": "code",
   "execution_count": 65,
   "id": "4c4d6d6c-df69-4ab8-a9c0-499522bb1fd6",
   "metadata": {},
   "outputs": [
    {
     "name": "stderr",
     "output_type": "stream",
     "text": [
      "100%|█████████████████████████████████████████████████████████████████████████████████| 11/11 [00:00<00:00, 239.76it/s]\n"
     ]
    }
   ],
   "source": [
    "nk_sue_df = sue_df_merged_2[sue_df_merged_2['nk_flag']==1]\n",
    "nk_sue_df = get_boj_quintiles_conditional(nk_sue_df, column='yr', suffix='nk', quantiles=10)"
   ]
  },
  {
   "cell_type": "code",
   "execution_count": 66,
   "id": "af74590c-5d3e-4193-b58f-46215517909d",
   "metadata": {},
   "outputs": [
    {
     "data": {
      "text/plain": [
       "<matplotlib.legend.Legend at 0x166bd052640>"
      ]
     },
     "execution_count": 66,
     "metadata": {},
     "output_type": "execute_result"
    },
    {
     "data": {
      "image/png": "[encoded data removed]",
      "text/plain": [
       "<Figure size 576x288 with 1 Axes>"
      ]
     },
     "metadata": {
      "needs_background": "light"
     },
     "output_type": "display_data"
    }
   ],
   "source": [
    "fig = plt.figure(figsize=(8, 4))\n",
    "ax = fig.add_subplot(111)\n",
    "plt.plot(nk_sue_df[nk_sue_df['boj_share_shares_quantiles_nk'].isin([9])].groupby(['yr'])['NUMEST'].mean(), \n",
    "         label='High BOJ')\n",
    "plt.plot(nk_sue_df[nk_sue_df['boj_share_shares_quantiles_nk'].isin([0])].groupby(['yr'])['NUMEST'].mean(), \n",
    "         label='Low BOJ')\n",
    "\n",
    "# plt.plot(nk_sue_df.groupby(['yr'])['NUMEST'].mean(), \n",
    "#          label='Mean')\n",
    "\n",
    "plt.legend()"
   ]
  },
  {
   "cell_type": "code",
   "execution_count": 104,
   "id": "71064b4a-21b8-4ab3-8833-08db628bca4f",
   "metadata": {},
   "outputs": [],
   "source": [
    "nk_sue_df.to_stata(PATH+'regression_files/dta_files/num_analysts_regression.dta')"
   ]
  },
  {
   "cell_type": "code",
   "execution_count": null,
   "id": "7adc17ff-a508-4029-88a2-26b18f462069",
   "metadata": {},
   "outputs": [],
   "source": []
  }
 ],
 "metadata": {
  "kernelspec": {
   "display_name": "Python 3",
   "language": "python",
   "name": "python3"
  },
  "language_info": {
   "codemirror_mode": {
    "name": "ipython",
    "version": 3
   },
   "file_extension": ".py",
   "mimetype": "text/x-python",
   "name": "python",
   "nbconvert_exporter": "python",
   "pygments_lexer": "ipython3",
   "version": "3.9.5"
  }
 },
 "nbformat": 4,
 "nbformat_minor": 5
}
