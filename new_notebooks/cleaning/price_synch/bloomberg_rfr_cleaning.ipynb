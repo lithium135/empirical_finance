{
 "cells": [
  {
   "cell_type": "code",
   "execution_count": 1,
   "id": "d135849d-5529-4c42-a231-30f38ec8fbd9",
   "metadata": {},
   "outputs": [],
   "source": [
    "import pandas as pd\n",
    "import numpy as np\n",
    "import datetime as dt\n",
    "import math\n",
    "import matplotlib.pyplot as plt\n",
    "from pandas.tseries.offsets import BDay\n",
    "from tqdm import tqdm\n",
    "from sklearn.linear_model import LinearRegression\n",
    "import statsmodels.api as sm\n",
    "\n",
    "pd.set_option(\"display.max_columns\", None)\n",
    "\n",
    "PATH = \"C:/Users/jackl/OneDrive/Documents/finance_research/japan_qe/\""
   ]
  },
  {
   "cell_type": "markdown",
   "id": "87daf90d-a71a-462b-935f-dfde528d9fcc",
   "metadata": {},
   "source": [
    "#### MarketWatch 3month data turned out not to have negative signs fuck that; used Fred 10 year data instead. "
   ]
  },
  {
   "cell_type": "code",
   "execution_count": 80,
   "id": "fda75a85-7ca2-4c00-8023-9e803d797b3b",
   "metadata": {},
   "outputs": [
    {
     "name": "stderr",
     "output_type": "stream",
     "text": [
      "<ipython-input-80-97127c5a53ae>:4: SettingWithCopyWarning: \n",
      "A value is trying to be set on a copy of a slice from a DataFrame.\n",
      "Try using .loc[row_indexer,col_indexer] = value instead\n",
      "\n",
      "See the caveats in the documentation: https://pandas.pydata.org/pandas-docs/stable/user_guide/indexing.html#returning-a-view-versus-a-copy\n",
      "  df_copy['Close'] = ((df['Close']/100 + 1) ** (1/4) - 1) * 100\n"
     ]
    }
   ],
   "source": [
    "df = pd.read_csv(PATH+'raw_data/bloomberg/jgb_3m_2009.csv', parse_dates=['Date'])\n",
    "df['Close'] = df['Close'].apply(lambda x: float(x[:-1]))\n",
    "df_copy = df[['Date', 'Close']]\n",
    "df_copy['Close'] = ((df['Close']/100 + 1) ** (1/4) - 1) * 100"
   ]
  },
  {
   "cell_type": "code",
   "execution_count": 114,
   "id": "ace2833d-21a7-44f9-a7c8-34d88569ddc8",
   "metadata": {},
   "outputs": [],
   "source": [
    "names = ['jgb_3m_'+str(i) for i in range(2010, 2021)]\n",
    "df_list = [df_copy]\n",
    "df_list = []\n",
    "for name in names:\n",
    "    df = pd.read_csv(PATH+'raw_data/bloomberg/' + name + '.csv', parse_dates=['Date'])\n",
    "#     df = df[['Date', 'Close']]\n",
    "#     df['Close'] = df['Close'].apply(lambda x: float(x[:-1]))\n",
    "    df_list.append(df)"
   ]
  },
  {
   "cell_type": "code",
   "execution_count": 116,
   "id": "799b289b-4b68-4739-835a-6ad634dee9d8",
   "metadata": {},
   "outputs": [
    {
     "data": {
      "text/html": [
       "<div>\n",
       "<style scoped>\n",
       "    .dataframe tbody tr th:only-of-type {\n",
       "        vertical-align: middle;\n",
       "    }\n",
       "\n",
       "    .dataframe tbody tr th {\n",
       "        vertical-align: top;\n",
       "    }\n",
       "\n",
       "    .dataframe thead th {\n",
       "        text-align: right;\n",
       "    }\n",
       "</style>\n",
       "<table border=\"1\" class=\"dataframe\">\n",
       "  <thead>\n",
       "    <tr style=\"text-align: right;\">\n",
       "      <th></th>\n",
       "      <th>Date</th>\n",
       "      <th>Open</th>\n",
       "      <th>High</th>\n",
       "      <th>Low</th>\n",
       "      <th>Close</th>\n",
       "    </tr>\n",
       "  </thead>\n",
       "  <tbody>\n",
       "    <tr>\n",
       "      <th>0</th>\n",
       "      <td>2016-12-30</td>\n",
       "      <td>0.41%</td>\n",
       "      <td>0.39%</td>\n",
       "      <td>0.41%</td>\n",
       "      <td>0.39%</td>\n",
       "    </tr>\n",
       "    <tr>\n",
       "      <th>1</th>\n",
       "      <td>2016-12-29</td>\n",
       "      <td>0.43%</td>\n",
       "      <td>0.40%</td>\n",
       "      <td>0.43%</td>\n",
       "      <td>0.40%</td>\n",
       "    </tr>\n",
       "    <tr>\n",
       "      <th>2</th>\n",
       "      <td>2016-12-28</td>\n",
       "      <td>0.44%</td>\n",
       "      <td>0.42%</td>\n",
       "      <td>0.44%</td>\n",
       "      <td>0.43%</td>\n",
       "    </tr>\n",
       "    <tr>\n",
       "      <th>3</th>\n",
       "      <td>2016-12-27</td>\n",
       "      <td>0.44%</td>\n",
       "      <td>0.44%</td>\n",
       "      <td>0.45%</td>\n",
       "      <td>0.44%</td>\n",
       "    </tr>\n",
       "    <tr>\n",
       "      <th>4</th>\n",
       "      <td>2016-12-26</td>\n",
       "      <td>0.44%</td>\n",
       "      <td>0.44%</td>\n",
       "      <td>0.45%</td>\n",
       "      <td>0.45%</td>\n",
       "    </tr>\n",
       "    <tr>\n",
       "      <th>...</th>\n",
       "      <td>...</td>\n",
       "      <td>...</td>\n",
       "      <td>...</td>\n",
       "      <td>...</td>\n",
       "      <td>...</td>\n",
       "    </tr>\n",
       "    <tr>\n",
       "      <th>251</th>\n",
       "      <td>2016-01-06</td>\n",
       "      <td>0.03%</td>\n",
       "      <td>0.03%</td>\n",
       "      <td>0.03%</td>\n",
       "      <td>0.03%</td>\n",
       "    </tr>\n",
       "    <tr>\n",
       "      <th>252</th>\n",
       "      <td>2016-01-05</td>\n",
       "      <td>0.03%</td>\n",
       "      <td>0.03%</td>\n",
       "      <td>0.04%</td>\n",
       "      <td>0.03%</td>\n",
       "    </tr>\n",
       "    <tr>\n",
       "      <th>253</th>\n",
       "      <td>2016-01-04</td>\n",
       "      <td>0.04%</td>\n",
       "      <td>0.03%</td>\n",
       "      <td>0.04%</td>\n",
       "      <td>0.04%</td>\n",
       "    </tr>\n",
       "    <tr>\n",
       "      <th>254</th>\n",
       "      <td>2015-12-31</td>\n",
       "      <td>0.04%</td>\n",
       "      <td>0.04%</td>\n",
       "      <td>0.04%</td>\n",
       "      <td>0.04%</td>\n",
       "    </tr>\n",
       "    <tr>\n",
       "      <th>255</th>\n",
       "      <td>2015-12-30</td>\n",
       "      <td>0.04%</td>\n",
       "      <td>0.04%</td>\n",
       "      <td>0.04%</td>\n",
       "      <td>0.04%</td>\n",
       "    </tr>\n",
       "  </tbody>\n",
       "</table>\n",
       "<p>256 rows × 5 columns</p>\n",
       "</div>"
      ],
      "text/plain": [
       "          Date   Open   High    Low  Close\n",
       "0   2016-12-30  0.41%  0.39%  0.41%  0.39%\n",
       "1   2016-12-29  0.43%  0.40%  0.43%  0.40%\n",
       "2   2016-12-28  0.44%  0.42%  0.44%  0.43%\n",
       "3   2016-12-27  0.44%  0.44%  0.45%  0.44%\n",
       "4   2016-12-26  0.44%  0.44%  0.45%  0.45%\n",
       "..         ...    ...    ...    ...    ...\n",
       "251 2016-01-06  0.03%  0.03%  0.03%  0.03%\n",
       "252 2016-01-05  0.03%  0.03%  0.04%  0.03%\n",
       "253 2016-01-04  0.04%  0.03%  0.04%  0.04%\n",
       "254 2015-12-31  0.04%  0.04%  0.04%  0.04%\n",
       "255 2015-12-30  0.04%  0.04%  0.04%  0.04%\n",
       "\n",
       "[256 rows x 5 columns]"
      ]
     },
     "execution_count": 116,
     "metadata": {},
     "output_type": "execute_result"
    }
   ],
   "source": [
    "df_list[6]"
   ]
  },
  {
   "cell_type": "code",
   "execution_count": 110,
   "id": "e25e5b75-c64c-46c1-b62c-a22e5a015d69",
   "metadata": {},
   "outputs": [],
   "source": [
    "df_full = pd.concat(df_list)\n",
    "df_full['rfr'] = (df_full['Close'] / 100 + 1) ** (1/63) - 1\n",
    "df_full = df_full.drop(columns=['Close'])"
   ]
  },
  {
   "cell_type": "code",
   "execution_count": 111,
   "id": "95095c20-0550-4a96-a90e-1a35c5e90125",
   "metadata": {},
   "outputs": [],
   "source": [
    "df_full.columns = ['date', 'rfr']"
   ]
  },
  {
   "cell_type": "code",
   "execution_count": 112,
   "id": "ca686cd9-30da-4b08-bf27-ccd14160f9d9",
   "metadata": {},
   "outputs": [],
   "source": [
    "df_full = df_full.drop_duplicates(['date'], keep='last').sort_values(['date']).reset_index(drop=True)"
   ]
  },
  {
   "cell_type": "code",
   "execution_count": 94,
   "id": "2b57df0f-6e86-47aa-b7f0-04b246d1b7e0",
   "metadata": {},
   "outputs": [],
   "source": [
    "df_full.to_pickle(PATH+'checkpoint_data/jgb_1m.pkl')"
   ]
  },
  {
   "cell_type": "code",
   "execution_count": 113,
   "id": "e30f0daa-c051-4c3e-9fd8-09997fb0205c",
   "metadata": {},
   "outputs": [
    {
     "data": {
      "text/plain": [
       "[<matplotlib.lines.Line2D at 0x22f571f8820>]"
      ]
     },
     "execution_count": 113,
     "metadata": {},
     "output_type": "execute_result"
    },
    {
     "data": {
      "image/png": "[encoded data removed]",
      "text/plain": [
       "<Figure size 432x288 with 1 Axes>"
      ]
     },
     "metadata": {
      "needs_background": "light"
     },
     "output_type": "display_data"
    }
   ],
   "source": [
    "plt.plot(df_full.set_index('date'))"
   ]
  },
  {
   "cell_type": "markdown",
   "id": "20a459bf-b8ad-4779-9590-685da2aad8b6",
   "metadata": {},
   "source": [
    "## FRED Cleaning"
   ]
  },
  {
   "cell_type": "code",
   "execution_count": 149,
   "id": "7ce954a4-064d-4a45-958b-fc6a643c29f1",
   "metadata": {},
   "outputs": [],
   "source": [
    "df = pd.read_csv(PATH+'raw_data/bloomberg/fred_10yr_bond.csv')"
   ]
  },
  {
   "cell_type": "code",
   "execution_count": 150,
   "id": "263cc7d6-7b31-43f5-805d-3f18cdda58c4",
   "metadata": {},
   "outputs": [],
   "source": [
    "df.columns = ['date', 'rfr']\n",
    "df['date'] = pd.to_datetime(df['date'])"
   ]
  },
  {
   "cell_type": "code",
   "execution_count": 151,
   "id": "6560459a-38c9-4bab-ac9c-7bff204662a6",
   "metadata": {},
   "outputs": [],
   "source": [
    "df['rfr'] = ((df['rfr']/100 + 1) ** (1/(10 * 245)) - 1) "
   ]
  },
  {
   "cell_type": "code",
   "execution_count": 155,
   "id": "4bec2c5b-6666-4795-b5f2-21d43a48c02a",
   "metadata": {},
   "outputs": [],
   "source": [
    "df.to_pickle(PATH+'checkpoint_data/jgb_1d.pkl')"
   ]
  },
  {
   "cell_type": "code",
   "execution_count": null,
   "id": "2c367663-a5b7-4044-a764-7cd4e31fe4cb",
   "metadata": {},
   "outputs": [],
   "source": []
  }
 ],
 "metadata": {
  "kernelspec": {
   "display_name": "Python 3",
   "language": "python",
   "name": "python3"
  },
  "language_info": {
   "codemirror_mode": {
    "name": "ipython",
    "version": 3
   },
   "file_extension": ".py",
   "mimetype": "text/x-python",
   "name": "python",
   "nbconvert_exporter": "python",
   "pygments_lexer": "ipython3",
   "version": "3.9.5"
  }
 },
 "nbformat": 4,
 "nbformat_minor": 5
}
