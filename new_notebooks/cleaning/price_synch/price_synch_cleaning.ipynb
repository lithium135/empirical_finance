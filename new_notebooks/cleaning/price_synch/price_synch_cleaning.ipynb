{
 "cells": [
  {
   "cell_type": "code",
   "execution_count": 1,
   "id": "11f29bd8-2dd1-4382-a02e-b026270ff8ab",
   "metadata": {},
   "outputs": [],
   "source": [
    "import pandas as pd\n",
    "import numpy as np\n",
    "import datetime as dt\n",
    "import math\n",
    "import matplotlib.pyplot as plt\n",
    "from pandas.tseries.offsets import BDay\n",
    "from tqdm import tqdm\n",
    "from sklearn.linear_model import LinearRegression\n",
    "import statsmodels.api as sm\n",
    "\n",
    "pd.set_option(\"display.max_columns\", None)\n",
    "\n",
    "PATH = \"C:/Users/jackl/OneDrive/Documents/finance_research/japan_qe/\""
   ]
  },
  {
   "cell_type": "code",
   "execution_count": 2,
   "id": "5343c096-77ec-4c3d-9d8c-5a6279884fc4",
   "metadata": {},
   "outputs": [],
   "source": [
    "topix_df = pd.read_csv(PATH+'raw_data/datastream/topix_daily_returns.csv', parse_dates=['valuedate'])\n",
    "topix_df['ret'] = topix_df['pi_'].pct_change()"
   ]
  },
  {
   "cell_type": "code",
   "execution_count": 3,
   "id": "f8982248-c350-4c18-a602-3aae68f975f1",
   "metadata": {},
   "outputs": [],
   "source": [
    "weight_df = pd.read_pickle(PATH+'checkpoint_data/index_weights.pkl')\n",
    "topix_weight_df = weight_df[weight_df['indexlistmnem']=='LTOKYOSE']"
   ]
  },
  {
   "cell_type": "code",
   "execution_count": 4,
   "id": "c16b2ccc-0e0e-437c-807d-1c81478743cf",
   "metadata": {},
   "outputs": [],
   "source": [
    "ret_nk_df = pd.read_pickle(PATH+'checkpoint_data/returns_all_stocks.pkl')"
   ]
  },
  {
   "cell_type": "code",
   "execution_count": 5,
   "id": "0a14d91f-d475-40a8-8ac8-3a8729602244",
   "metadata": {},
   "outputs": [],
   "source": [
    "boj_df = pd.read_pickle(PATH+'checkpoint_data/boj_purchases_stock_level_v2.pkl')\n",
    "boj_dates_df = boj_df[['date']].drop_duplicates()\n",
    "boj_dates_df['boj_flag'] = [1 for i in range(len(boj_dates_df))]"
   ]
  },
  {
   "cell_type": "code",
   "execution_count": 6,
   "id": "13c419da-fdc0-4351-9c00-27a7b255a49c",
   "metadata": {},
   "outputs": [],
   "source": [
    "rfr_df = pd.read_pickle(PATH+'checkpoint_data/jgb_1d.pkl')"
   ]
  },
  {
   "cell_type": "markdown",
   "id": "9093516e-dec8-4e35-8cbb-e67b193c451a",
   "metadata": {},
   "source": [
    "# Data Organization"
   ]
  },
  {
   "cell_type": "code",
   "execution_count": 7,
   "id": "0ef95697-bf13-49ff-9d18-18e22c8e8fcd",
   "metadata": {},
   "outputs": [],
   "source": [
    "ret_nk_df = pd.merge_asof(ret_nk_df.sort_values('datadate'), \n",
    "                          rfr_df.sort_values('date'), \n",
    "                          left_on=['datadate'],\n",
    "                          right_on=['date'],\n",
    "                          direction='backward').sort_values(['sedol', 'datadate'])"
   ]
  },
  {
   "cell_type": "code",
   "execution_count": 8,
   "id": "20380076-c4b0-4d11-a7d6-65b3bf67bda4",
   "metadata": {},
   "outputs": [],
   "source": [
    "ret_nk_df = pd.merge(ret_nk_df, \n",
    "                     boj_dates_df, \n",
    "                     left_on=['datadate'], \n",
    "                     right_on=['date'], \n",
    "                     how='left')"
   ]
  },
  {
   "cell_type": "code",
   "execution_count": 9,
   "id": "9d88f672-1c8c-4c38-88f3-3f20b70fc289",
   "metadata": {},
   "outputs": [
    {
     "name": "stderr",
     "output_type": "stream",
     "text": [
      "100%|███████████████████████████████████████████████████████████████████████████| 11661/11661 [00:15<00:00, 751.57it/s]\n"
     ]
    }
   ],
   "source": [
    "len_ones = []\n",
    "full_list = []\n",
    "for index, df in tqdm(ret_nk_df.groupby(['sedol', 'yr_qtr_index'])): \n",
    "    len_ = len(df[df['boj_flag']==1])\n",
    "    full_ = len(df)\n",
    "    len_ones.append(len_)\n",
    "    full_list.append(full_)"
   ]
  },
  {
   "cell_type": "code",
   "execution_count": 10,
   "id": "a9aa95a9-3310-442f-be62-7de7dd430dd5",
   "metadata": {},
   "outputs": [],
   "source": [
    "ret_nk_df['mod_ret'] = ret_nk_df['mod_ret'].apply(lambda x: math.nan if x==0 else x)"
   ]
  },
  {
   "cell_type": "code",
   "execution_count": 11,
   "id": "579c2eb8-cce6-4439-b398-930c08c364c6",
   "metadata": {},
   "outputs": [],
   "source": [
    "ret_nk_df = ret_nk_df[(ret_nk_df['datadate'] >= pd.to_datetime('2005-01-01')) & \n",
    "                      (ret_nk_df['datadate'] <= pd.to_datetime('2021-01-01'))]"
   ]
  },
  {
   "cell_type": "code",
   "execution_count": 12,
   "id": "bdee1b0c-6682-49dd-8634-6fa27df48f36",
   "metadata": {},
   "outputs": [],
   "source": [
    "ret_nk_df_0 = pd.merge_asof(ret_nk_df.sort_values('datadate'), \n",
    "                            topix_weight_df[['date_', 'sedol', 'weight']].sort_values('date_'), \n",
    "                            by='sedol', \n",
    "                            left_on='datadate', \n",
    "                            right_on='date_', \n",
    "                            direction='backward', \n",
    "                            tolerance=pd.Timedelta(days=31)).drop(columns='date_')"
   ]
  },
  {
   "cell_type": "code",
   "execution_count": 13,
   "id": "7e060e1f-b480-4dbc-93f2-11e1d3a65dba",
   "metadata": {},
   "outputs": [],
   "source": [
    "ret_nk_df_1 = pd.merge(ret_nk_df_0, \n",
    "                       topix_df, \n",
    "                       left_on=['datadate'], \n",
    "                       right_on=['valuedate'], \n",
    "                       how='left').drop(columns=['dsindexmnem', 'valuedate', 'pi_'])"
   ]
  },
  {
   "cell_type": "code",
   "execution_count": 14,
   "id": "4d34e8aa-eb99-4d10-84e2-01a9d3249962",
   "metadata": {},
   "outputs": [],
   "source": [
    "cols = list(ret_nk_df_1.columns)\n",
    "cols[-1] = 'topix_ret'\n",
    "ret_nk_df_1.columns = cols"
   ]
  },
  {
   "cell_type": "code",
   "execution_count": 15,
   "id": "ef6615dd-7c82-4967-a04d-a3d97632b719",
   "metadata": {},
   "outputs": [],
   "source": [
    "ret_nk_df_1['qtr'] = ret_nk_df_1['datadate'].dt.quarter\n",
    "ret_nk_df_1['yr'] = ret_nk_df_1['datadate'].dt.year\n",
    "ret_nk_df_1['qtr_yr_index'] = list(zip(list(ret_nk_df_1['yr']), list(ret_nk_df_1['qtr'])))\n",
    "\n",
    "qtr_yr_index_list = list(ret_nk_df_1['qtr_yr_index'].sort_values().unique())\n",
    "qtr_index = [i for i in range(len(qtr_yr_index_list))]\n",
    "qtr_conv_dict = dict(zip(qtr_yr_index_list, qtr_index))"
   ]
  },
  {
   "cell_type": "code",
   "execution_count": 16,
   "id": "e286d840-a2d7-4483-af19-dccd7b19f72e",
   "metadata": {},
   "outputs": [],
   "source": [
    "ret_nk_df_1 = ret_nk_df_1[['sedol', 'datadate', 'qtr_yr_index', 'mod_ret', 'topix_ret', 'weight', 'boj_flag', 'rfr']]"
   ]
  },
  {
   "cell_type": "code",
   "execution_count": 17,
   "id": "6d99fcde-9d5b-4c4a-9c00-57479811afb8",
   "metadata": {},
   "outputs": [],
   "source": [
    "ret_nk_df_1['topix_ret_adj'] = (ret_nk_df_1['topix_ret'] - (ret_nk_df_1['weight'] * ret_nk_df_1['mod_ret'])) * (1 / 1 - (ret_nk_df_1['weight']))"
   ]
  },
  {
   "cell_type": "code",
   "execution_count": 18,
   "id": "30396585-acf7-445a-a1ad-d9fd435504c3",
   "metadata": {},
   "outputs": [],
   "source": [
    "ret_nk_df_1['mod_ret'] = ret_nk_df_1['mod_ret'] - ret_nk_df_1['rfr']\n",
    "ret_nk_df_1['topix_ret'] = ret_nk_df_1['topix_ret'] - ret_nk_df_1['rfr']\n",
    "ret_nk_df_1['topix_ret_adj'] = ret_nk_df_1['topix_ret_adj'] - ret_nk_df_1['rfr']"
   ]
  },
  {
   "cell_type": "code",
   "execution_count": 19,
   "id": "b1dcbf2c-bb72-4aa4-8d78-67c630df8da3",
   "metadata": {},
   "outputs": [],
   "source": [
    "ret_nk_df_1 = ret_nk_df_1.drop(columns=['rfr'])"
   ]
  },
  {
   "cell_type": "markdown",
   "id": "a22721f8-8b86-4f71-8583-fd4ed788f2cc",
   "metadata": {},
   "source": [
    "# Quarterly $R^2$"
   ]
  },
  {
   "cell_type": "code",
   "execution_count": 19,
   "id": "740bfd12-c3a0-4c2e-ba77-c872bb0497b2",
   "metadata": {},
   "outputs": [
    {
     "name": "stderr",
     "output_type": "stream",
     "text": [
      "100%|██████████████████████████████████████████████████████████████████████████████| 9786/9786 [04:40<00:00, 34.85it/s]\n"
     ]
    }
   ],
   "source": [
    "#quarterly\n",
    "qtr_yr_index_list = []\n",
    "sedol_list = []\n",
    "fin_date_list = [] \n",
    "\n",
    "r2_list = []\n",
    "idio_list = []\n",
    "nobs_list = []\n",
    "\n",
    "r2_exc_boj_list = []\n",
    "idio_list_exc_boj = []\n",
    "nobs_exc_boj_list = []\n",
    "\n",
    "for index, df in tqdm(ret_nk_df_1.groupby(['qtr_yr_index', 'sedol'])): \n",
    "    df = df.reset_index(drop=True)\n",
    "    qtr_yr_index, sedol = index\n",
    "    fin_date = df.iat[-1, 1]\n",
    "    try: \n",
    "        df = df.dropna(subset=['topix_ret_adj'])\n",
    "        x = sm.add_constant(df['topix_ret_adj'])\n",
    "        y = df[['mod_ret']]\n",
    "        res = sm.OLS(y, x).fit()\n",
    "\n",
    "        r2 = res.rsquared\n",
    "        nobs = res.nobs\n",
    "        idio = res.resid.std()\n",
    "\n",
    "    except: \n",
    "        r2 = math.nan\n",
    "        nobs = math.nan\n",
    "        idio = math.nan\n",
    "    \n",
    "    # removes BOJ days\n",
    "    try: \n",
    "        df_exc_boj = df.dropna(subset=['topix_ret_adj'])\n",
    "        df_exc_boj = df_exc_boj[~(df_exc_boj['boj_flag']==1)]\n",
    "        \n",
    "        x_exc_boj = sm.add_constant(df_exc_boj['topix_ret_adj'])\n",
    "        y_exc_boj = df_exc_boj[['mod_ret']]\n",
    "        res_exc_boj = sm.OLS(y_exc_boj, x_exc_boj).fit()\n",
    "\n",
    "        r2_exc_boj = res_exc_boj.rsquared\n",
    "        nobs_exc_boj = res_exc_boj.nobs\n",
    "        idio_exc_boj = res_exc_boj.resid.std()\n",
    "        \n",
    "    except: \n",
    "        r2_exc_boj = math.nan\n",
    "        nobs_exc_boj = math.nan\n",
    "        idio_exc_boj = math.nan\n",
    "        \n",
    "    qtr_yr_index_list.append(qtr_yr_index)\n",
    "    sedol_list.append(sedol)\n",
    "    fin_date_list.append(fin_date)\n",
    "    \n",
    "    r2_list.append(r2)\n",
    "    nobs_list.append(nobs)\n",
    "    idio_list.append(idio)\n",
    "    \n",
    "    r2_exc_boj_list.append(r2_exc_boj)\n",
    "    nobs_exc_boj_list.append(nobs_exc_boj)\n",
    "    idio_list_exc_boj.append(idio_exc_boj)\n",
    "    \n",
    "r2_qtr_df = pd.DataFrame({\n",
    "                        'qtr_yr_index': qtr_yr_index_list, \n",
    "                        'sedol': sedol_list, \n",
    "                        'fin_date': fin_date_list, \n",
    "                        'r2': r2_list, \n",
    "                        'idio': idio_list,\n",
    "                        'nobs': nobs_list,\n",
    "                        'r2_exc_boj': r2_exc_boj_list,\n",
    "                        'idio_exc_boj': idio_list_exc_boj,\n",
    "                        'nobs_exc_boj': nobs_exc_boj_list, \n",
    "                     })\n",
    "\n",
    "r2_qtr_df['qtr_index'] = r2_qtr_df['qtr_yr_index'].apply(lambda x: qtr_conv_dict[x])"
   ]
  },
  {
   "cell_type": "markdown",
   "id": "b64a5393-125f-467e-ad04-c0020f098c20",
   "metadata": {},
   "source": [
    "# Quarterly Beta"
   ]
  },
  {
   "cell_type": "code",
   "execution_count": 30,
   "id": "68c69ea4-6290-400b-8985-7fc8254c686d",
   "metadata": {},
   "outputs": [],
   "source": [
    "ret_nk_df_1['qtr_index'] = ret_nk_df_1['qtr_yr_index'].apply(lambda x: qtr_conv_dict[x])"
   ]
  },
  {
   "cell_type": "code",
   "execution_count": 32,
   "id": "60ae34c3-bf1e-4834-a71d-030d140fa693",
   "metadata": {},
   "outputs": [
    {
     "name": "stderr",
     "output_type": "stream",
     "text": [
      "100%|███████████████████████████████████████████████████████████████████████████████| 266/266 [00:00<00:00, 617.45it/s]\n"
     ]
    }
   ],
   "source": [
    "#quarterly betas estimated over past year\n",
    "qtr_yr_index_list = []\n",
    "sedol_list = []\n",
    "fin_date_list = [] \n",
    "\n",
    "beta_list = []\n",
    "nobs_list = []\n",
    "\n",
    "beta_exc_boj_list = []\n",
    "nobs_exc_boj_list = []\n",
    "\n",
    "for sedol, sedol_df in tqdm(ret_nk_df_1.groupby(['sedol'])):\n",
    "    for window in window_list:\n",
    "        df = sedol_df[sedol_df['qtr_index'].isin(window)]\n",
    "        df = df.reset_index(drop=True)\n",
    "        \n",
    "        try:\n",
    "            qtr_yr_index = df['qtr_yr_index'].iloc[-1]\n",
    "            fin_date = df.iat[-1, 1]\n",
    "        except: \n",
    "            qtr_yr_index = math.nan\n",
    "            fin_date = math.nan\n",
    "        \n",
    "        try: \n",
    "            df = df.dropna(subset=['topix_ret', 'mod_ret'])\n",
    "            x = sm.add_constant(df['topix_ret'])\n",
    "            y = df[['mod_ret']]\n",
    "            res = sm.OLS(y, x).fit()\n",
    "\n",
    "            beta = res.params[1]\n",
    "            nobs = res.nobs\n",
    "\n",
    "        except: \n",
    "            beta = math.nan\n",
    "            nobs = math.nan\n",
    "\n",
    "        # removes BOJ days\n",
    "        try: \n",
    "            df_exc_boj = df.dropna(subset=['topix_ret', 'mod_ret'])\n",
    "            df_exc_boj = df_exc_boj[~(df_exc_boj['boj_flag']==1)]\n",
    "\n",
    "            x_exc_boj = sm.add_constant(df_exc_boj['topix_ret'])\n",
    "            y_exc_boj = df_exc_boj[['mod_ret']]\n",
    "            res_exc_boj = sm.OLS(y_exc_boj, x_exc_boj).fit()\n",
    "\n",
    "            beta_exc_boj = res_exc_boj.params[1]\n",
    "            nobs_exc_boj = res_exc_boj.nobs\n",
    "\n",
    "        except: \n",
    "            beta_exc_boj = math.nan\n",
    "            nobs_exc_boj = math.nan\n",
    "\n",
    "        sedol_list.append(sedol)\n",
    "        qtr_yr_index_list.append(qtr_yr_index)\n",
    "        fin_date_list.append(fin_date)\n",
    "\n",
    "        beta_list.append(beta)\n",
    "        nobs_list.append(nobs)\n",
    "\n",
    "        beta_exc_boj_list.append(beta_exc_boj)\n",
    "        nobs_exc_boj_list.append(nobs_exc_boj)"
   ]
  },
  {
   "cell_type": "code",
   "execution_count": 131,
   "id": "73c4ca42-f086-4851-bab5-e0a96859a026",
   "metadata": {},
   "outputs": [],
   "source": [
    "beta_qtr_df = pd.DataFrame({\n",
    "                        'qtr_yr_index': qtr_yr_index_list, \n",
    "                        'sedol': sedol_list, \n",
    "                        'beta_date': fin_date_list, \n",
    "                        'beta': beta_list, \n",
    "                        'nobs': nobs_list,\n",
    "                        'beta_exc_boj': beta_exc_boj_list,\n",
    "                        'nobs_exc_boj': nobs_exc_boj_list, \n",
    "                     }).sort_values(['sedol', 'beta_date'])\n",
    "\n",
    "beta_qtr_df = beta_qtr_df.dropna(subset=['sedol', 'qtr_yr_index'])"
   ]
  },
  {
   "cell_type": "code",
   "execution_count": 132,
   "id": "7f19b913-4054-41da-a8f1-43bce542789b",
   "metadata": {
    "tags": []
   },
   "outputs": [],
   "source": [
    "beta_qtr_df['beta_date_l1'] = beta_qtr_df['beta_date'] - pd.DateOffset(months=3)\n",
    "beta_qtr_df['qtr_yr_index_l1'] = beta_qtr_df['beta_date_l1'].apply(lambda x: (x.year, x.month // 3) if x.month != 8 else (x.year, 3))"
   ]
  },
  {
   "cell_type": "code",
   "execution_count": 133,
   "id": "35b4132c-e887-47e0-b4ad-b5f5ab35aeef",
   "metadata": {
    "tags": []
   },
   "outputs": [],
   "source": [
    "beta_qtr_df = pd.merge(beta_qtr_df,\n",
    "                       beta_qtr_df[['qtr_yr_index', 'sedol', 'beta', 'nobs', 'beta_exc_boj', 'nobs_exc_boj']],\n",
    "                       left_on=['sedol', 'qtr_yr_index_l1'], \n",
    "                       right_on=['sedol', 'qtr_yr_index'],\n",
    "                       how='left',\n",
    "                       suffixes=[None, '_l1']).drop(columns=['qtr_yr_index_l1'])"
   ]
  },
  {
   "cell_type": "code",
   "execution_count": 134,
   "id": "84093859-3199-42f2-85df-401ba3a2e21c",
   "metadata": {},
   "outputs": [],
   "source": [
    "beta_qtr_df.to_pickle(PATH+'checkpoint_data/beta_qtr_df.pkl')"
   ]
  },
  {
   "cell_type": "markdown",
   "id": "b5890513-c399-4fe6-b868-86177700f3ee",
   "metadata": {},
   "source": [
    "## Yearly"
   ]
  },
  {
   "cell_type": "code",
   "execution_count": 24,
   "id": "9eb73582-eaf8-4eaf-91a1-80036dea6e10",
   "metadata": {},
   "outputs": [
    {
     "name": "stderr",
     "output_type": "stream",
     "text": [
      "<ipython-input-24-4e4a7c06473c>:2: SettingWithCopyWarning: \n",
      "A value is trying to be set on a copy of a slice from a DataFrame.\n",
      "Try using .loc[row_indexer,col_indexer] = value instead\n",
      "\n",
      "See the caveats in the documentation: https://pandas.pydata.org/pandas-docs/stable/user_guide/indexing.html#returning-a-view-versus-a-copy\n",
      "  ret_nk_df_1_merge['datadate_f1'] = ret_nk_df_1_merge['datadate'] + pd.DateOffset(days=1)\n"
     ]
    }
   ],
   "source": [
    "ret_nk_df_1_merge = ret_nk_df_1[['datadate', 'sedol', 'boj_flag']]\n",
    "ret_nk_df_1_merge['datadate_f1'] = ret_nk_df_1_merge['datadate'] + pd.DateOffset(days=1)"
   ]
  },
  {
   "cell_type": "code",
   "execution_count": 25,
   "id": "df530624-36ed-4243-b537-e8808bf25956",
   "metadata": {},
   "outputs": [],
   "source": [
    "ret_nk_df_1 = pd.merge(\n",
    "         ret_nk_df_1, \n",
    "         ret_nk_df_1_merge, \n",
    "         left_on=['datadate', 'sedol'], \n",
    "         right_on=['datadate_f1', 'sedol'], \n",
    "         suffixes=[None, '_l1']).drop(columns=['datadate_l1', 'datadate_f1']\n",
    ")"
   ]
  },
  {
   "cell_type": "code",
   "execution_count": 26,
   "id": "6f430510-3965-44dd-a411-131d646afe0b",
   "metadata": {},
   "outputs": [],
   "source": [
    "ret_nk_df_1['boj_flag'] = ret_nk_df_1['boj_flag'].apply(lambda x: 1 if x==1 else 0)\n",
    "ret_nk_df_1['boj_flag_l1'] = ret_nk_df_1['boj_flag_l1'].apply(lambda x: 1 if x==1 else 0)\n",
    "ret_nk_df_1['boj_flag_master'] = ret_nk_df_1['boj_flag'] + ret_nk_df_1['boj_flag_l1']"
   ]
  },
  {
   "cell_type": "code",
   "execution_count": 27,
   "id": "1e0e0d96-34d9-4a2a-b42a-cd73025626ae",
   "metadata": {},
   "outputs": [],
   "source": [
    "ret_nk_df_1['yr'] = ret_nk_df_1['datadate'].dt.year"
   ]
  },
  {
   "cell_type": "code",
   "execution_count": 31,
   "id": "9d0b29d2-a0d4-4f3f-9f38-54f8ae1d865b",
   "metadata": {},
   "outputs": [
    {
     "name": "stderr",
     "output_type": "stream",
     "text": [
      "100%|██████████████████████████████████████████████████████████████████████████████| 2632/2632 [01:13<00:00, 35.67it/s]\n"
     ]
    }
   ],
   "source": [
    "#yearly\n",
    "qtr_yr_index_list = []\n",
    "sedol_list = []\n",
    "fin_date_list = [] \n",
    "\n",
    "r2_list = []\n",
    "idio_list = []\n",
    "nobs_list = []\n",
    "\n",
    "r2_exc_boj_list = []\n",
    "idio_list_exc_boj = []\n",
    "nobs_exc_boj_list = []\n",
    "\n",
    "for index, df in tqdm(ret_nk_df_1.groupby(['yr', 'sedol'])): \n",
    "    qtr_yr_index, sedol = index\n",
    "    fin_date = df.iat[-1, 1]\n",
    "    try: \n",
    "        df = df.dropna(subset=['topix_ret_adj'])\n",
    "        x = sm.add_constant(df['topix_ret_adj'])\n",
    "        y = df[['mod_ret']]\n",
    "        res = sm.OLS(y, x).fit()\n",
    "\n",
    "        r2 = res.rsquared\n",
    "        nobs = res.nobs\n",
    "        idio = res.resid.std()\n",
    "\n",
    "    except: \n",
    "        r2 = math.nan\n",
    "        nobs = math.nan\n",
    "        idio = math.nan\n",
    "\n",
    "    try: \n",
    "        df_exc_boj = df.dropna(subset=['topix_ret_adj'])\n",
    "        df_exc_boj = df_exc_boj[~(df_exc_boj['boj_flag']==1)]\n",
    "        \n",
    "        x_exc_boj = sm.add_constant(df_exc_boj['topix_ret_adj'])\n",
    "        y_exc_boj = df_exc_boj[['mod_ret']]\n",
    "        res_exc_boj = sm.OLS(y_exc_boj, x_exc_boj).fit()\n",
    "\n",
    "        r2_exc_boj = res_exc_boj.rsquared\n",
    "        nobs_exc_boj = res_exc_boj.nobs\n",
    "        idio_exc_boj = res_exc_boj.resid.std()\n",
    "        \n",
    "    except: \n",
    "        r2_exc_boj = math.nan\n",
    "        nobs_exc_boj = math.nan\n",
    "        idio_exc_boj = math.nan\n",
    "        \n",
    "    qtr_yr_index_list.append(qtr_yr_index)\n",
    "    sedol_list.append(sedol)\n",
    "    fin_date_list.append(fin_date)\n",
    "    \n",
    "    r2_list.append(r2)\n",
    "    nobs_list.append(nobs)\n",
    "    idio_list.append(idio)\n",
    "    \n",
    "    r2_exc_boj_list.append(r2_exc_boj)\n",
    "    nobs_exc_boj_list.append(nobs_exc_boj)\n",
    "    idio_list_exc_boj.append(idio_exc_boj)"
   ]
  },
  {
   "cell_type": "code",
   "execution_count": 33,
   "id": "83558312-1a62-4dba-8f95-4ebd7d908cb9",
   "metadata": {},
   "outputs": [],
   "source": [
    "r2_yr_df = pd.DataFrame({\n",
    "                        'yr_index': qtr_yr_index_list, \n",
    "                        'sedol': sedol_list, \n",
    "                        'fin_date': fin_date_list, \n",
    "                        'r2': r2_list, \n",
    "                        'idio': idio_list,\n",
    "                        'nobs': nobs_list,\n",
    "                        'r2_exc_boj': r2_exc_boj_list,\n",
    "                        'idio_exc_boj': idio_list_exc_boj,\n",
    "                        'nobs_exc_boj': nobs_exc_boj_list, \n",
    "                     })"
   ]
  },
  {
   "cell_type": "code",
   "execution_count": 34,
   "id": "8b9e2a4a-f0b6-45dc-b35f-dcaf590e6c0d",
   "metadata": {},
   "outputs": [],
   "source": [
    "r2_yr_df.to_pickle(PATH+'checkpoint_data/r2_yr_df.pkl')"
   ]
  },
  {
   "cell_type": "code",
   "execution_count": null,
   "id": "230a8de7-c8a3-450d-a676-686a4ac8c52d",
   "metadata": {},
   "outputs": [],
   "source": []
  }
 ],
 "metadata": {
  "kernelspec": {
   "display_name": "Python 3",
   "language": "python",
   "name": "python3"
  },
  "language_info": {
   "codemirror_mode": {
    "name": "ipython",
    "version": 3
   },
   "file_extension": ".py",
   "mimetype": "text/x-python",
   "name": "python",
   "nbconvert_exporter": "python",
   "pygments_lexer": "ipython3",
   "version": "3.9.5"
  }
 },
 "nbformat": 4,
 "nbformat_minor": 5
}
