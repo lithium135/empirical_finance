{
 "cells": [
  {
   "cell_type": "code",
   "execution_count": 3,
   "id": "adf69713-2dca-4d6b-9bd3-7a3a5f2e037f",
   "metadata": {},
   "outputs": [],
   "source": [
    "import pandas as pd\n",
    "import numpy as np\n",
    "import datetime as dt\n",
    "import math\n",
    "import matplotlib.pyplot as plt\n",
    "from pandas.tseries.offsets import BDay\n",
    "from tqdm import tqdm\n",
    "\n",
    "pd.set_option(\"display.max_columns\", None)\n",
    "\n",
    "PATH = \"C:/Users/jackl/OneDrive/Documents/finance_research/japan_qe/\"\n",
    "\n",
    "def get_plot_data(bottom_quintile_end, mean=True):\n",
    "    if mean:\n",
    "        return pd.concat([pd.DataFrame({'event_day': [-23], 'abret_cum': [1]}), bottom_quintile_end.groupby('event_day').mean()['abret_cum'].reset_index()]).set_index('event_day')\n",
    "    else:\n",
    "        return pd.concat([pd.DataFrame({'event_day': [-23], 'abret_cum': [1]}), bottom_quintile_end.groupby('event_day').median()['abret_cum'].reset_index()]).set_index('event_day')\n",
    "    \n",
    "def get_plot_data_turnover(bottom_quintile_end, mean=True):\n",
    "    if mean:\n",
    "        return bottom_quintile_end.groupby('event_day').mean()['ab_turnover'].reset_index().set_index('event_day')\n",
    "    else:\n",
    "        return bottom_quintile_end.groupby('event_day').mean()['ab_turnover'].reset_index().set_index('event_day')\n",
    "    \n",
    "def get_boj_quintiles_conditional(sue_df_boj_merged, suffix=None, quantiles=5):\n",
    "    sue_df_boj_merged_nd = sue_df_boj_merged[['sedol', 'qtr_yr_index', 'boj_share_shares']].drop_duplicates()\n",
    "    sue_df_boj_merged_nd_list = []\n",
    "    for index, df in tqdm(sue_df_boj_merged_nd.groupby('qtr_yr_index')): \n",
    "        try:\n",
    "            df['boj_share_shares_quantiles_'+suffix] = pd.qcut(df['boj_share_shares'], quantiles, labels=False)\n",
    "        except: \n",
    "            df['boj_share_shares_quantiles_'+suffix] = [math.nan for i in range(len(df))]\n",
    "\n",
    "        sue_df_boj_merged_nd_list.append(df)\n",
    "\n",
    "    sue_df_boj_merged_nd = pd.concat(sue_df_boj_merged_nd_list)\n",
    "\n",
    "    sue_df_boj_merged = pd.merge(sue_df_boj_merged, \n",
    "                                 sue_df_boj_merged_nd, \n",
    "                                 on=['sedol', 'qtr_yr_index', 'boj_share_shares'])\n",
    "    return sue_df_boj_merged\n",
    "\n",
    "def get_firm_quarter_count(df):\n",
    "    return df.drop_duplicates(['SEDOL', 'eff_anndats'])"
   ]
  },
  {
   "cell_type": "code",
   "execution_count": 4,
   "id": "7968bd94-325d-45d4-854e-7d6d262e3d88",
   "metadata": {},
   "outputs": [],
   "source": [
    "def get_truncated_df(merge_df, columns, year_column_name=None, low=0.01, high=0.99):\n",
    "    merge_df_copy = merge_df.copy()\n",
    "    if year_column_name == None:\n",
    "        for column in columns: \n",
    "            _1pct, _99pct = merge_df_copy[column].quantile(q=low), merge_df_copy[column].quantile(q=high)\n",
    "            merge_df_copy[column].where((merge_df_copy[column] < _99pct) & (merge_df_copy[column] > _1pct), math.nan, inplace=True)\n",
    "    else: \n",
    "        merge_df_list = []\n",
    "        merge_year_df_list = [[year, merge_year_df] for year, merge_year_df in merge_df_copy.groupby(year_column_name)]\n",
    "        for year, merge_year_df in tqdm(merge_year_df_list):\n",
    "            for column in columns: \n",
    "                _1pct, _99pct = merge_year_df[column].quantile(q=low), merge_year_df[column].quantile(q=high)\n",
    "                merge_year_df[column].where(~((merge_year_df[column] > _99pct) | (merge_year_df[column] < _1pct)), math.nan, inplace=True)\n",
    "            merge_df_list.append(merge_year_df)\n",
    "        merge_df_copy = pd.concat(merge_df_list)\n",
    "    \n",
    "    return merge_df_copy"
   ]
  },
  {
   "cell_type": "code",
   "execution_count": 86,
   "id": "5a18b500-36d2-464c-b8d8-9f83bd33b585",
   "metadata": {},
   "outputs": [],
   "source": [
    "r2_df = pd.read_pickle(PATH+'checkpoint_data/r2_df.pkl')"
   ]
  },
  {
   "cell_type": "code",
   "execution_count": 106,
   "id": "9a885b1a-47a8-43ac-9998-82c3d3dbd2a5",
   "metadata": {},
   "outputs": [],
   "source": [
    "r2_yr_df = pd.read_pickle(PATH+'checkpoint_data/r2_yr_df.pkl')"
   ]
  },
  {
   "cell_type": "code",
   "execution_count": 88,
   "id": "ed96c972-a7a6-4b63-98d0-4e3cbdbde08c",
   "metadata": {},
   "outputs": [],
   "source": [
    "weight_df = pd.read_pickle(PATH+'checkpoint_data/index_weights.pkl')\n",
    "\n",
    "nk_stocks = weight_df[weight_df['indexlistmnem']=='LJAPDOWA'].drop_duplicates(['sedol'])[['sedol']]\n",
    "nk_stocks['nk_flag'] = [1 for i in range(len(nk_stocks))]\n",
    "\n",
    "nk_stocks_ref = weight_df[weight_df['indexlistmnem']=='LJAPDOWA'].drop_duplicates(['sedol', 'month', 'yr'])\n",
    "nk_stocks_ref = nk_stocks_ref[['sedol', 'month', 'yr']]\n",
    "nk_stocks_ref['nk_flag_ref'] = [1 for i in range(len(nk_stocks_ref))]"
   ]
  },
  {
   "cell_type": "code",
   "execution_count": 89,
   "id": "63c6adfc-aa98-40b8-8797-e6bd9ee07117",
   "metadata": {},
   "outputs": [],
   "source": [
    "boj_df = pd.read_pickle(PATH+'checkpoint_data/boj_purchases_stock_level_v2.pkl')"
   ]
  },
  {
   "cell_type": "code",
   "execution_count": 5,
   "id": "5c2aef10-9da8-4f07-8d88-a442de1bef69",
   "metadata": {},
   "outputs": [],
   "source": [
    "control_df = pd.read_pickle(PATH+'checkpoint_data/control.pkl')"
   ]
  },
  {
   "cell_type": "code",
   "execution_count": 8,
   "id": "defc120d-7250-41ce-82dd-3e2ba4956f57",
   "metadata": {},
   "outputs": [],
   "source": [
    "control_yr_df = pd.read_pickle(PATH+'checkpoint_data/control_yearly.pkl')"
   ]
  },
  {
   "cell_type": "code",
   "execution_count": 11,
   "id": "a6f2fce6-c316-4ec0-8323-8d74c1896004",
   "metadata": {},
   "outputs": [],
   "source": [
    "control_yr_df['mc_raw'] = np.exp(control_yr_df['mc'])"
   ]
  },
  {
   "cell_type": "markdown",
   "id": "a52184c0-fc4b-4ba4-ae8c-615504beedcb",
   "metadata": {},
   "source": [
    "## $R^2$ Better Version"
   ]
  },
  {
   "cell_type": "markdown",
   "id": "175fc510-ad7f-44d1-8620-7016d5409056",
   "metadata": {},
   "source": [
    "### Quarterly"
   ]
  },
  {
   "cell_type": "code",
   "execution_count": 92,
   "id": "ae43788d-31bb-4203-b543-8911db7a3570",
   "metadata": {},
   "outputs": [],
   "source": [
    "boj_df = boj_df.sort_values(['date']).drop_duplicates(['sedol', 'yr_qtr_index'], keep='last')"
   ]
  },
  {
   "cell_type": "code",
   "execution_count": 96,
   "id": "6b5303cb-3dc6-44f6-b611-37f2ffc392fb",
   "metadata": {},
   "outputs": [],
   "source": [
    "r2_df_1 = pd.merge(r2_df, \n",
    "                   boj_df, \n",
    "                   left_on=['qtr_yr_index', 'sedol'], \n",
    "                   right_on=['yr_qtr_index_f1', 'sedol']).drop(columns=['yr_qtr_index', 'yr_qtr_index_f1', 'ajexdi'])"
   ]
  },
  {
   "cell_type": "code",
   "execution_count": 97,
   "id": "e684b400-8fc0-401a-8006-36c3d90f5e21",
   "metadata": {},
   "outputs": [],
   "source": [
    "r2_df_2 = pd.merge(r2_df_1, \n",
    "                   control_df[['sedol', 'yr_qtr_index', 'mc', 'prc', 'mb', 'vlt_l1', 'ret_l1', 'turnover_l1', 'turnover']], \n",
    "                   left_on=['sedol', 'qtr_yr_index'], \n",
    "                   right_on=['sedol', 'yr_qtr_index'], \n",
    "                   how='left').drop(columns=['yr_qtr_index'])"
   ]
  },
  {
   "cell_type": "code",
   "execution_count": 98,
   "id": "99af60e3-3391-40a1-b90f-bac6b308c755",
   "metadata": {},
   "outputs": [],
   "source": [
    "r2_df_2['qtr_yr_index'] = r2_df_2['qtr_yr_index'].astype(str) \n",
    "r2_df_2.to_stata(PATH+'regression_files/dta_files/r2_df.dta')"
   ]
  },
  {
   "cell_type": "code",
   "execution_count": 99,
   "id": "1e518240-1622-42e8-b01a-1920afc3fa21",
   "metadata": {},
   "outputs": [],
   "source": [
    "# r2_df_2 = pd.read_stata(PATH+'regression_files/dta_files/r2_df.dta')"
   ]
  },
  {
   "cell_type": "markdown",
   "id": "f3ea9f17-14ec-4023-a56f-29e4c79a9520",
   "metadata": {},
   "source": [
    "### Yearly"
   ]
  },
  {
   "cell_type": "code",
   "execution_count": 108,
   "id": "216ba988-71aa-4ce9-8be4-a71b7931e146",
   "metadata": {},
   "outputs": [],
   "source": [
    "boj_df = pd.read_pickle(PATH+'checkpoint_data/boj_purchases_stock_level_v2.pkl')"
   ]
  },
  {
   "cell_type": "code",
   "execution_count": 109,
   "id": "1ca6b702-7e88-45ed-887f-c937a232a4c7",
   "metadata": {},
   "outputs": [],
   "source": [
    "boj_df['yr'] = boj_df['date'].dt.year\n",
    "boj_df = boj_df.sort_values(['date']).drop_duplicates(['sedol', 'yr'], keep='last')"
   ]
  },
  {
   "cell_type": "code",
   "execution_count": 110,
   "id": "72324ab7-87eb-43a5-9fde-91f46bd62650",
   "metadata": {},
   "outputs": [],
   "source": [
    "boj_df['yr_f1'] = boj_df['yr'] + 1"
   ]
  },
  {
   "cell_type": "code",
   "execution_count": 111,
   "id": "9a85291c-4829-4fdc-a463-ba2d03a67746",
   "metadata": {},
   "outputs": [],
   "source": [
    "r2_df_1 = pd.merge(r2_yr_df, \n",
    "                   boj_df, \n",
    "                   left_on=['yr_index', 'sedol'], \n",
    "                   right_on=['yr_f1', 'sedol']).drop(columns=['yr_qtr_index', 'yr_qtr_index_f1', 'yr', 'yr_f1', 'fin_date', 'date'])"
   ]
  },
  {
   "cell_type": "code",
   "execution_count": 112,
   "id": "f1ea5da2-cc07-4a02-a72c-c9a44fa70d06",
   "metadata": {},
   "outputs": [],
   "source": [
    "r2_df_2 = pd.merge(r2_df_1, \n",
    "                   control_yr_df, \n",
    "                   left_on=['yr_index', 'sedol'], \n",
    "                   right_on=['yr', 'sedol'])"
   ]
  },
  {
   "cell_type": "code",
   "execution_count": 113,
   "id": "ad444e2b-bf8d-4905-b028-bc23cefba9fa",
   "metadata": {},
   "outputs": [],
   "source": [
    "r2_df_2.to_stata(PATH+'regression_files/dta_files/r2_yr_df.dta')"
   ]
  },
  {
   "cell_type": "markdown",
   "id": "d0e76e6f-0d26-4426-b0e9-29695f051f57",
   "metadata": {},
   "source": [
    "# Other"
   ]
  },
  {
   "cell_type": "code",
   "execution_count": 5,
   "id": "893b8dab-d567-4e6c-8f52-46d0b4610bb0",
   "metadata": {},
   "outputs": [],
   "source": [
    "sum_stats = r2_df_3[r2_df_3['nobs_exc_boj'] >= 38]"
   ]
  },
  {
   "cell_type": "code",
   "execution_count": 8,
   "id": "8cbf13c7-de5c-4019-a138-224480b604da",
   "metadata": {},
   "outputs": [],
   "source": [
    "sum_stats = sum_stats[['sedol', 'qtr_yr_index', 'r2_exc_boj', 'r2']]"
   ]
  },
  {
   "cell_type": "code",
   "execution_count": 13,
   "id": "77aec504-a293-4258-92b7-aa102ff23123",
   "metadata": {},
   "outputs": [
    {
     "data": {
      "text/html": [
       "<div>\n",
       "<style scoped>\n",
       "    .dataframe tbody tr th:only-of-type {\n",
       "        vertical-align: middle;\n",
       "    }\n",
       "\n",
       "    .dataframe tbody tr th {\n",
       "        vertical-align: top;\n",
       "    }\n",
       "\n",
       "    .dataframe thead th {\n",
       "        text-align: right;\n",
       "    }\n",
       "</style>\n",
       "<table border=\"1\" class=\"dataframe\">\n",
       "  <thead>\n",
       "    <tr style=\"text-align: right;\">\n",
       "      <th></th>\n",
       "      <th>r2_exc_boj</th>\n",
       "      <th>r2</th>\n",
       "    </tr>\n",
       "  </thead>\n",
       "  <tbody>\n",
       "    <tr>\n",
       "      <th>count</th>\n",
       "      <td>243.000000</td>\n",
       "      <td>243.000000</td>\n",
       "    </tr>\n",
       "    <tr>\n",
       "      <th>mean</th>\n",
       "      <td>0.170101</td>\n",
       "      <td>0.172558</td>\n",
       "    </tr>\n",
       "    <tr>\n",
       "      <th>std</th>\n",
       "      <td>0.022861</td>\n",
       "      <td>0.025680</td>\n",
       "    </tr>\n",
       "    <tr>\n",
       "      <th>min</th>\n",
       "      <td>0.084482</td>\n",
       "      <td>0.025814</td>\n",
       "    </tr>\n",
       "    <tr>\n",
       "      <th>25%</th>\n",
       "      <td>0.156785</td>\n",
       "      <td>0.158117</td>\n",
       "    </tr>\n",
       "    <tr>\n",
       "      <th>50%</th>\n",
       "      <td>0.169908</td>\n",
       "      <td>0.174266</td>\n",
       "    </tr>\n",
       "    <tr>\n",
       "      <th>75%</th>\n",
       "      <td>0.186454</td>\n",
       "      <td>0.187264</td>\n",
       "    </tr>\n",
       "    <tr>\n",
       "      <th>max</th>\n",
       "      <td>0.230768</td>\n",
       "      <td>0.243220</td>\n",
       "    </tr>\n",
       "  </tbody>\n",
       "</table>\n",
       "</div>"
      ],
      "text/plain": [
       "       r2_exc_boj          r2\n",
       "count  243.000000  243.000000\n",
       "mean     0.170101    0.172558\n",
       "std      0.022861    0.025680\n",
       "min      0.084482    0.025814\n",
       "25%      0.156785    0.158117\n",
       "50%      0.169908    0.174266\n",
       "75%      0.186454    0.187264\n",
       "max      0.230768    0.243220"
      ]
     },
     "execution_count": 13,
     "metadata": {},
     "output_type": "execute_result"
    }
   ],
   "source": [
    "sum_stats.groupby(['sedol']).std().describe()"
   ]
  }
 ],
 "metadata": {
  "kernelspec": {
   "display_name": "Python 3",
   "language": "python",
   "name": "python3"
  },
  "language_info": {
   "codemirror_mode": {
    "name": "ipython",
    "version": 3
   },
   "file_extension": ".py",
   "mimetype": "text/x-python",
   "name": "python",
   "nbconvert_exporter": "python",
   "pygments_lexer": "ipython3",
   "version": "3.9.5"
  }
 },
 "nbformat": 4,
 "nbformat_minor": 5
}
