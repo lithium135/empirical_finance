{
 "cells": [
  {
   "cell_type": "code",
   "execution_count": 1,
   "id": "479789c0-0447-4416-a535-1bc111ed7dfd",
   "metadata": {},
   "outputs": [],
   "source": [
    "import pandas as pd\n",
    "import numpy as np\n",
    "import seaborn as sns\n",
    "import matplotlib.pyplot as plt\n",
    "import math\n",
    "import time\n",
    "import datetime\n",
    "\n",
    "from tqdm import tqdm \n",
    "from scipy import stats\n",
    "from matplotlib.dates import date2num\n",
    "pd.options.mode.chained_assignment = None\n",
    "\n",
    "PATH = \"C:/Users/jackl/OneDrive/Documents/finance_research/japan_qe/\""
   ]
  },
  {
   "cell_type": "code",
   "execution_count": 2,
   "id": "f30685c5-6602-424e-b60f-a3717d5a5402",
   "metadata": {},
   "outputs": [],
   "source": [
    "nk_df = pd.read_csv(PATH+'nk_df_v2.csv')\n",
    "sedol_list = list(nk_df['sedol'])\n",
    "del nk_df"
   ]
  },
  {
   "cell_type": "code",
   "execution_count": 3,
   "id": "84bcbf48-44dd-4d6b-8030-571ea0415474",
   "metadata": {},
   "outputs": [],
   "source": [
    "ret_df = pd.read_pickle(PATH+'checkpoint_data/returns_all_stocks.pkl')\n",
    "r_df = ret_df[ret_df['sedol'].isin(sedol_list)]\n",
    "del ret_df"
   ]
  },
  {
   "cell_type": "code",
   "execution_count": 5,
   "id": "7bc37d84-924b-486c-bb05-9d61dbab73e8",
   "metadata": {},
   "outputs": [],
   "source": [
    "r_df_og = r_df.copy()"
   ]
  },
  {
   "cell_type": "code",
   "execution_count": 58,
   "id": "57680e83-7924-4ded-aa93-b77f2430e83a",
   "metadata": {},
   "outputs": [],
   "source": [
    "r_df_two_day = pd.read_pickle(PATH+'checkpoint_data/ret_two_day.pkl')\n",
    "r_df_three_day = pd.read_pickle(PATH+'checkpoint_data/ret_three_day.pkl')"
   ]
  },
  {
   "cell_type": "code",
   "execution_count": 62,
   "id": "e8db4bd9-1fed-46b2-abf8-2c53ef2bb649",
   "metadata": {},
   "outputs": [],
   "source": [
    "date_index_og = sorted(set(r_df['datadate']))\n",
    "\n",
    "interval_length = 2\n",
    "two_day_index = [date_index_og[i * interval_length] for i in range(len(date_index_og)//interval_length)]\n",
    "two_day_df = pd.DataFrame({'two_day_index': two_day_index})\n",
    "\n",
    "interval_length = 3\n",
    "three_day_index = [date_index_og[i * interval_length] for i in range(len(date_index_og)//interval_length)]\n",
    "three_day_df = pd.DataFrame({'three_day_index': three_day_index})\n",
    "\n",
    "# r_df = pd.merge_asof(r_df.sort_values('datadate'), \n",
    "#               two_day_df.sort_values('two_day_index'), \n",
    "#               left_on=['datadate'], \n",
    "#               right_on=['two_day_index'], \n",
    "#               direction='backward')\n",
    "\n",
    "# r_df = pd.merge_asof(r_df.sort_values('datadate'), \n",
    "#               three_day_df.sort_values('three_day_index'), \n",
    "#               left_on=['datadate'], \n",
    "#               right_on=['three_day_index'], \n",
    "#               direction='backward')\n",
    "\n",
    "# sedol_list = []\n",
    "# date_list = []\n",
    "# ret_list = []\n",
    "# for sedol, sedol_df in tqdm(r_df.groupby('sedol')):\n",
    "#     for date, date_df in sedol_df.groupby(['two_day_index']):\n",
    "#         sedol_list.append(sedol)\n",
    "#         date_list.append(date)\n",
    "#         ret_list.append(np.exp(np.log((date_df['mod_ret'] + 1)).sum()) - 1)\n",
    "        \n",
    "# r_df_two_day = pd.DataFrame({'sedol': sedol_list, \n",
    "#                              'date': date_list, \n",
    "#                              'two_day_ret': ret_list})\n",
    "\n",
    "# sedol_list = []\n",
    "# date_list = []\n",
    "# ret_list = []\n",
    "# for sedol, sedol_df in tqdm(r_df.groupby('sedol')):\n",
    "#     for date, date_df in sedol_df.groupby(['three_day_index']):\n",
    "#         sedol_list.append(sedol)\n",
    "#         date_list.append(date)\n",
    "#         ret_list.append(np.exp(np.log((date_df['mod_ret'] + 1)).sum()) - 1)\n",
    "        \n",
    "# r_df_three_day = pd.DataFrame({'sedol': sedol_list, \n",
    "#                              'date': date_list, \n",
    "#                               'three_day_ret': ret_list})\n",
    "\n",
    "# r_df_two_day.to_pickle(PATH+'checkpoint_data/ret_two_day.pkl')\n",
    "# r_df_three_day.to_pickle(PATH+'checkpoint_data/ret_three_day.pkl')"
   ]
  },
  {
   "cell_type": "code",
   "execution_count": 94,
   "id": "64b918af-08ec-440f-9c99-24f5e26f171b",
   "metadata": {},
   "outputs": [],
   "source": [
    "r_df = r_df_og\n",
    "date_index = date_index_og"
   ]
  },
  {
   "cell_type": "code",
   "execution_count": 95,
   "id": "8657f576-16cf-4871-9f05-e77c87d3fcb1",
   "metadata": {},
   "outputs": [],
   "source": [
    "r_df_match = r_df.copy()\n",
    "r_df_match = r_df_match[['datadate', 'mod_ret', 'sedol']]"
   ]
  },
  {
   "cell_type": "code",
   "execution_count": 87,
   "id": "2f0d61c9-9144-475b-8266-e98cdaeb317e",
   "metadata": {},
   "outputs": [
    {
     "name": "stderr",
     "output_type": "stream",
     "text": [
      "100%|██████████████████████████████████████████████████████████| 243/243 [01:07<00:00,  3.60it/s]\n"
     ]
    }
   ],
   "source": [
    "sedol_list = []\n",
    "for sedol, sedol_df in tqdm(r_df.groupby('sedol')):\n",
    "    sedol_df = sedol_df.set_index('datadate').reindex(date_index).reset_index()\n",
    "    sedol_df['datadate_l1'] = sedol_df['datadate'].shift(1)\n",
    "    sedol_df = pd.merge(sedol_df, \n",
    "                        r_df_match, \n",
    "                        left_on=['sedol', 'datadate_l1'], \n",
    "                        right_on=['sedol', 'datadate'], \n",
    "                        suffixes=[None, '_l1'],\n",
    "                        how='left').drop(columns=['datadate_l1'])\n",
    "    sedol_list.append(sedol_df)\n",
    "r_df = pd.concat(sedol_list)"
   ]
  },
  {
   "cell_type": "code",
   "execution_count": 88,
   "id": "8f7e3dde-a38f-4e0b-ab97-0be0b538e9c8",
   "metadata": {},
   "outputs": [
    {
     "name": "stderr",
     "output_type": "stream",
     "text": [
      "  1%|▍                                                         | 10/1253 [00:00<00:33, 36.77it/s]"
     ]
    },
    {
     "name": "stdout",
     "output_type": "stream",
     "text": [
      "2010-10-01 00:00:00\n"
     ]
    },
    {
     "name": "stderr",
     "output_type": "stream",
     "text": [
      "100%|███████████████████████████████████████████████████████| 1253/1253 [00:07<00:00, 166.85it/s]\n"
     ]
    }
   ],
   "source": [
    "col_ret_used_for_ranking = 'mod_ret_l1'\n",
    "date_list = []\n",
    "counter = 0\n",
    "for date, date_df in tqdm(r_df.groupby('datadate')):\n",
    "    if len(date_df[[col_ret_used_for_ranking]].dropna()) > 220:\n",
    "        r_mt_1 = date_df[col_ret_used_for_ranking].mean()\n",
    "        const = (-1) * ((1/2) * abs(date_df[col_ret_used_for_ranking] - r_mt_1).sum()) ** (-1)\n",
    "        date_df['reversal_weight'] = const * (date_df[col_ret_used_for_ranking] - r_mt_1)\n",
    "        date_list.append(date_df)\n",
    "        \n",
    "r_df = pd.concat(date_list)"
   ]
  },
  {
   "cell_type": "code",
   "execution_count": 89,
   "id": "3b9d4249-6150-4b60-bad2-79cc28aba667",
   "metadata": {},
   "outputs": [],
   "source": [
    "r_df['reversal_ret'] = r_df['mod_ret'] * r_df['reversal_weight']\n",
    "rets_df = r_df.groupby(['datadate']).sum().reset_index()\n",
    "rets_df['log_reversal_ret'] = np.log((rets_df['reversal_ret'] + 1))\n",
    "rets_df['cum_ret'] = np.exp(rets_df['log_reversal_ret'].cumsum())"
   ]
  },
  {
   "cell_type": "code",
   "execution_count": 97,
   "id": "495568e9-3137-45f3-b424-a3133b66f7ac",
   "metadata": {},
   "outputs": [
    {
     "data": {
      "text/plain": [
       "[<matplotlib.lines.Line2D at 0x1809db0fb80>]"
      ]
     },
     "execution_count": 97,
     "metadata": {},
     "output_type": "execute_result"
    },
    {
     "data": {
      "image/png": "[encoded data removed]",
      "text/plain": [
       "<Figure size 432x288 with 1 Axes>"
      ]
     },
     "metadata": {
      "needs_background": "light"
     },
     "output_type": "display_data"
    }
   ],
   "source": [
    "plt.plot(rets_df[rets_df['datadate'] <= pd.to_datetime('2021-01-01')].set_index('datadate')['cum_ret'])"
   ]
  },
  {
   "cell_type": "code",
   "execution_count": null,
   "id": "49cc4f18-e174-41da-84bc-d47a226c67b0",
   "metadata": {},
   "outputs": [],
   "source": []
  }
 ],
 "metadata": {
  "kernelspec": {
   "display_name": "Python 3",
   "language": "python",
   "name": "python3"
  },
  "language_info": {
   "codemirror_mode": {
    "name": "ipython",
    "version": 3
   },
   "file_extension": ".py",
   "mimetype": "text/x-python",
   "name": "python",
   "nbconvert_exporter": "python",
   "pygments_lexer": "ipython3",
   "version": "3.9.5"
  }
 },
 "nbformat": 4,
 "nbformat_minor": 5
}
