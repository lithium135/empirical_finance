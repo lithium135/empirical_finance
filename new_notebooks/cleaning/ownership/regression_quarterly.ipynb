{
 "cells": [
  {
   "cell_type": "code",
   "execution_count": 1,
   "id": "f36d02e2-0fdb-4366-bd9f-44be69eb2530",
   "metadata": {},
   "outputs": [],
   "source": [
    "import pandas as pd\n",
    "import numpy as np\n",
    "import seaborn as sns\n",
    "import matplotlib.pyplot as plt\n",
    "import math\n",
    "import time\n",
    "import datetime\n",
    "\n",
    "from tqdm import tqdm \n",
    "from scipy import stats\n",
    "from matplotlib.dates import date2num\n",
    "pd.options.mode.chained_assignment = None\n",
    "PATH = \"C:/Users/jackl/OneDrive/Documents/finance_research/japan_qe/\""
   ]
  },
  {
   "cell_type": "code",
   "execution_count": 2,
   "id": "3b1fc9bb-aa63-43a8-af8f-88461a11c3e3",
   "metadata": {
    "jupyter": {
     "source_hidden": true
    },
    "tags": []
   },
   "outputs": [],
   "source": [
    "def change_orientation(df):\n",
    "    # modifies orientation list\n",
    "    # makes individual owners marked as passive\n",
    "    o_list, h_list = list(df['orientation']), list(df['holder_type'])\n",
    "    mod_o_list = []\n",
    "    for i in range(len(o_list)):\n",
    "        o, h = o_list[i], h_list[i]\n",
    "\n",
    "        if o == 'Active':\n",
    "            o = 'Active Informed'\n",
    "\n",
    "        if h == 'VC/PE Firm': \n",
    "            mod_o_list.append('Active Informed')\n",
    "        else: \n",
    "            mod_o_list.append(o)\n",
    "\n",
    "    df['mod_orientation'] = mod_o_list\n",
    "    return df\n",
    "\n",
    "def get_good_coverage(own_share_df):\n",
    "    #remove outliers likely due to bad coverage\n",
    "    sedol_df_list = []\n",
    "    for sedol, sedol_df in tqdm(own_share_df.groupby(['sedol'])): \n",
    "        sedol_df = sedol_df.reset_index(drop=True)\n",
    "        z_score_df = abs(sedol_df[sedol_df.columns[2:]].apply(stats.zscore, nan_policy='omit'))\n",
    "        good_index = z_score_df[((z_score_df['inf_share_no_ff'] < 2.5) & (z_score_df['pass_share_no_ff'] < 2.5))].index\n",
    "        bad_index = z_score_df[~((z_score_df['inf_share_no_ff'] < 2.5) & (z_score_df['pass_share_no_ff'] < 2.5))].index\n",
    "\n",
    "        good_df = sedol_df.iloc[good_index]\n",
    "        bad_df = sedol_df.iloc[bad_index]\n",
    "        bad_df[bad_df.columns[-3:]] = math.nan\n",
    "        sedol_df = pd.concat([good_df, bad_df])\n",
    "        sedol_df_list.append(sedol_df)\n",
    "\n",
    "    own_share_df = pd.concat(sedol_df_list)\n",
    "    return own_share_df\n",
    "\n",
    "#get turnover for active\n",
    "def get_chars_df(own_df1):\n",
    "    date_list = []\n",
    "    sedol_list = []\n",
    "    \n",
    "    turnover_list = []\n",
    "    gv_list = []\n",
    "    hy_list = []\n",
    "    \n",
    "    for [sedol, date], date_df in tqdm(own_df1.groupby(['sedol', 'asof_date'])): \n",
    "        date_list.append(date)\n",
    "        sedol_list.append(sedol)\n",
    "        \n",
    "        active_df = date_df[date_df['mod_orientation']=='Active Informed']\n",
    "        \n",
    "        #turnover\n",
    "        try:\n",
    "            turnover_pct_df = active_df[['holdings', 'turnover_pct']].dropna()\n",
    "            turnover_av = np.average(turnover_pct_df['turnover_pct'], weights=turnover_pct_df['holdings'])\n",
    "        except: \n",
    "            turnover_av = math.nan\n",
    "        turnover_list.append(turnover_av)\n",
    "\n",
    "        #growth vs value\n",
    "        try:\n",
    "            gv_df = active_df[['holdings', 'gv_scale']].dropna()\n",
    "            gv_av = np.average(gv_df['gv_scale'], weights=gv_df['holdings'])\n",
    "        except: \n",
    "            gv_av = math.nan\n",
    "        gv_list.append(gv_av)\n",
    "        \n",
    "        try:\n",
    "            hy_df = active_df[['holdings', 'hy_scale']].dropna()\n",
    "            hy_av = np.average(hy_df['hy_scale'], weights=hy_df['holdings'])\n",
    "        except: \n",
    "            hy_av = math.nan\n",
    "        hy_list.append(hy_av)\n",
    "        \n",
    "    chars_df = pd.DataFrame({\n",
    "                             'asof_date': date_list, \n",
    "                             'sedol': sedol_list, \n",
    "                             'inf_turnover': turnover_list, \n",
    "                             'inf_gv': gv_list, \n",
    "                             'inf_hy': hy_list\n",
    "                            })    \n",
    "    return chars_df\n",
    "\n",
    "# GET VALUES FOR EACH TYPE OF INVESTOR\n",
    "def get_breakdown(df):\n",
    "    df = df[~(df['short_dummy']==1)]\n",
    "    own_share_list = []\n",
    "    for sedol, sedol_df in tqdm(df.groupby(['sedol'])):\n",
    "        try: \n",
    "            breakdown_df = sedol_df.groupby(['mod_orientation', 'asof_date']).sum()[['pct']].reset_index()\n",
    "\n",
    "            uninf_df = (100 - breakdown_df.groupby(['asof_date']).sum()[['pct']]).reset_index()\n",
    "            inf_df = breakdown_df[breakdown_df['mod_orientation']=='Active Informed'][['asof_date', 'pct']]\n",
    "            pass_df = breakdown_df[breakdown_df['mod_orientation']=='Passive'][['asof_date', 'pct']]\n",
    "\n",
    "            uninf_df.columns = ['asof_date', 'uninf_share_no_ff']\n",
    "            inf_df.columns = ['asof_date', 'inf_share_no_ff']\n",
    "            pass_df.columns = ['asof_date', 'pass_share_no_ff']\n",
    "\n",
    "            date_df = pd.DataFrame({'asof_date': date_list})\n",
    "            date_df['sedol'] = sedol\n",
    "            pt1 = pd.merge(date_df, inf_df, on=['asof_date'], how='left')\n",
    "            pt2 = pd.merge(pt1, uninf_df, on=['asof_date'], how='left')\n",
    "            sedol_df_shares = pd.merge(pt2, pass_df, on=['asof_date'], how='left')\n",
    "            \n",
    "            own_share_list.append(sedol_df_shares)\n",
    "        except Exception as e: \n",
    "            print(sedol)\n",
    "            print(e)\n",
    "            \n",
    "    return pd.concat(own_share_list)\n",
    "\n",
    "def get_short_df(df): \n",
    "    #restrict to short only\n",
    "    df = df[(df['short_dummy']==1) & \n",
    "            (df['mod_orientation']=='Active Informed')]\n",
    "    \n",
    "    pct_list = []\n",
    "    sedol_list = []\n",
    "    date_list = []\n",
    "\n",
    "    for [sedol, date], df_subset in tqdm(df.groupby(['sedol', 'asof_date'])): \n",
    "        pct = df_subset['pct'].sum()\n",
    "        pct_list.append(pct)\n",
    "        sedol_list.append(sedol)\n",
    "        date_list.append(date)\n",
    "\n",
    "    short_df = pd.DataFrame({'sedol': sedol_list, \n",
    "                             'asof_date': date_list, \n",
    "                             'short_int': pct_list})\n",
    "    \n",
    "    return short_df\n",
    "\n",
    "def get_num_invs(df):     \n",
    "    sedol_list = []\n",
    "    date_list = []\n",
    "    num_passive_list = []\n",
    "    num_inf_list = []\n",
    "    \n",
    "    conc_inf_list_first = []\n",
    "    conc_total_list_first = []\n",
    "    \n",
    "    conc_inf_list_second = []\n",
    "    conc_total_list_second = []\n",
    "    \n",
    "    \n",
    "    for [sedol, date], df_subset in tqdm(df.groupby(['sedol', 'asof_date'])): \n",
    "        inf_df = df_subset[(df_subset['mod_orientation']=='Active Informed') & \n",
    "                           (df_subset['short_dummy']!=1)].sort_values(['pct'], ascending=False)\n",
    "        total_df = df_subset.sort_values(['pct'], ascending=False)\n",
    "            \n",
    "        num_inf_list.append(len(inf_df.drop_duplicates(subset=['ciq'])))\n",
    "        \n",
    "        conc_inf_list_first.append(inf_df['pct'].head(10).sum())\n",
    "        conc_total_list_first.append(total_df['pct'].head(10).sum())\n",
    "        \n",
    "        conc_inf_list_second.append(inf_df['pct'].head(30).sum())\n",
    "        conc_total_list_second.append(total_df['pct'].head(30).sum())\n",
    "        \n",
    "        sedol_list.append(sedol)\n",
    "        date_list.append(date)\n",
    "\n",
    "    num_df = pd.DataFrame({'sedol': sedol_list, \n",
    "                           'asof_date': date_list, \n",
    "                           'num_inf': num_inf_list, \n",
    "                           'conc_inf_5': conc_inf_list_first, \n",
    "                           'conc_total_5': conc_total_list_first, \n",
    "                           'conc_inf_20': conc_inf_list_second, \n",
    "                           'conc_total_20': conc_total_list_second\n",
    "                            })\n",
    "    \n",
    "    return num_df"
   ]
  },
  {
   "cell_type": "markdown",
   "id": "8010dd69-f8f9-4f89-8a5e-51d2380134a3",
   "metadata": {},
   "source": [
    "##### Ownership Data"
   ]
  },
  {
   "cell_type": "code",
   "execution_count": 3,
   "id": "edf8c6cd-8ecd-4c56-8031-ecb6cefc2ba4",
   "metadata": {},
   "outputs": [],
   "source": [
    "own_df1 = pd.read_pickle(PATH+'checkpoint_data/ownership_jan03_v2.pkl')\n",
    "own_df1 = own_df1[(own_df1['asof_date'] >= pd.to_datetime('2010-09-01'))& \n",
    "                  (own_df1['asof_date'] <= pd.to_datetime('2021-01-01'))]\n",
    "date_list = sorted(list(set(own_df1['asof_date'])))"
   ]
  },
  {
   "cell_type": "code",
   "execution_count": 4,
   "id": "897f49f6-1c8e-4b32-90c2-24a90d95c49c",
   "metadata": {},
   "outputs": [],
   "source": [
    "nk_df = pd.read_csv(PATH+'nk_df_v2.csv')\n",
    "sedol_list = list(nk_df['sedol'])"
   ]
  },
  {
   "cell_type": "markdown",
   "id": "722e2dba-d6a7-47b7-8e0d-d40efe72a513",
   "metadata": {},
   "source": [
    "##### BOJ Purchase Data"
   ]
  },
  {
   "cell_type": "code",
   "execution_count": 32,
   "id": "54eff5bf-3263-4bf8-81e7-160737b5ce2f",
   "metadata": {},
   "outputs": [],
   "source": [
    "boj_df = pd.read_pickle(PATH+'checkpoint_data/boj_purchases_stock_level_v2.pkl')"
   ]
  },
  {
   "cell_type": "code",
   "execution_count": 33,
   "id": "d68aaefe-ebaa-4e46-b248-387415b61794",
   "metadata": {},
   "outputs": [],
   "source": [
    "boj_df = boj_df[boj_df['sedol'].isin(sedol_list)].sort_values(['sedol', 'date'])"
   ]
  },
  {
   "cell_type": "code",
   "execution_count": 49,
   "id": "1549822f-1334-4b08-93b6-b4d437cc5178",
   "metadata": {},
   "outputs": [],
   "source": [
    "boj_df['date'] = boj_df['date'].replace({pd.to_datetime('2010-12-14'): pd.to_datetime('2010-09-30')})"
   ]
  },
  {
   "cell_type": "markdown",
   "id": "992ac028-c888-4f5b-816c-a112b24b3dee",
   "metadata": {},
   "source": [
    "##### Controls"
   ]
  },
  {
   "cell_type": "code",
   "execution_count": 8,
   "id": "957bc23e-03e6-4339-b928-087ac0faaed7",
   "metadata": {},
   "outputs": [],
   "source": [
    "control_df = pd.read_pickle(PATH+'checkpoint_data/controls_daily.pkl')"
   ]
  },
  {
   "cell_type": "code",
   "execution_count": 9,
   "id": "9ba0db51-e1cb-4104-a98a-241f9b17e3ee",
   "metadata": {},
   "outputs": [],
   "source": [
    "#quarterly data\n",
    "control_df = control_df.sort_values(['sedol', 'datadate']).drop_duplicates(['sedol', 'yr_qtr_index'], keep='first')"
   ]
  },
  {
   "cell_type": "markdown",
   "id": "d5aa1761-c920-4014-a8ac-9ebdf8a0aa1d",
   "metadata": {},
   "source": [
    "# Get Ownership Share Regressions"
   ]
  },
  {
   "cell_type": "code",
   "execution_count": 89,
   "id": "5965ee05-fc8f-4d17-81a4-a94e5f110140",
   "metadata": {},
   "outputs": [
    {
     "name": "stderr",
     "output_type": "stream",
     "text": [
      "100%|████████████████████████████████████████████████████████████████████████████████| 243/243 [00:12<00:00, 19.09it/s]\n",
      "100%|████████████████████████████████████████████████████████████████████████████████| 243/243 [00:04<00:00, 49.78it/s]\n"
     ]
    }
   ],
   "source": [
    "own_share_df = get_breakdown(own_df1)\n",
    "own_share_df = get_good_coverage(own_share_df)"
   ]
  },
  {
   "cell_type": "code",
   "execution_count": 90,
   "id": "80f7a829-a01a-47a6-b15e-dcb3bc611a23",
   "metadata": {},
   "outputs": [
    {
     "name": "stderr",
     "output_type": "stream",
     "text": [
      "100%|████████████████████████████████████████████████████████████████████████████| 6003/6003 [00:04<00:00, 1412.25it/s]\n"
     ]
    }
   ],
   "source": [
    "short_df = get_short_df(own_df1)\n",
    "own_share_df = pd.merge(own_share_df, \n",
    "                        short_df, \n",
    "                        on=['sedol', 'asof_date'], \n",
    "                        how='left')\n",
    "own_share_df['short_int'] = own_share_df['short_int'].apply(lambda x: 0 if math.isnan(x)==True else x)"
   ]
  },
  {
   "cell_type": "code",
   "execution_count": 91,
   "id": "4155c9be-f275-49ba-8ef4-5a46b42bc002",
   "metadata": {},
   "outputs": [],
   "source": [
    "# num_df = get_num_invs(own_df1)\n",
    "# num_df.to_pickle(PATH+'checkpoint_data/num_funds.pkl')\n",
    "num_df = pd.read_pickle(PATH+'checkpoint_data/num_funds.pkl')\n",
    "own_share_df = pd.merge(own_share_df, \n",
    "                        num_df, \n",
    "                        on=['sedol', 'asof_date'], \n",
    "                        how='left')\n",
    "\n",
    "own_share_df['conc_inf_5_rel'] = own_share_df['conc_inf_5']/own_share_df['inf_share_no_ff'] * 100\n",
    "own_share_df['conc_inf_20_rel'] = own_share_df['conc_inf_20']/own_share_df['inf_share_no_ff'] * 100"
   ]
  },
  {
   "cell_type": "code",
   "execution_count": 92,
   "id": "20c46f1b-c196-49b9-aa63-7064c68d9220",
   "metadata": {},
   "outputs": [],
   "source": [
    "own_share_df = pd.merge_asof(own_share_df.sort_values('asof_date'), \n",
    "                             boj_df[['sedol', 'date', 'boj_share_shares', 'boj_share_shares_no_ff', 'sic_2d']].sort_values('date'), \n",
    "                             by='sedol',\n",
    "                             left_on=['asof_date'], \n",
    "                             right_on=['date'],\n",
    "                             direction='backward').drop(columns='date').sort_values(['sedol', 'asof_date'])"
   ]
  },
  {
   "cell_type": "code",
   "execution_count": 98,
   "id": "401d6c7b-29a0-4580-9234-26791f0a620f",
   "metadata": {},
   "outputs": [],
   "source": [
    "own_share_df['yr_qtr_index'] = own_share_df['asof_date'].apply(lambda x: (x.year, math.ceil(x.month // 3)))\n",
    "own_share_df['asof_date'] = own_share_df['asof_date'].apply(lambda x: pd.to_datetime('2010-10-01') if x==pd.to_datetime('2010-09-30') else x)\n",
    "own_share_df = pd.merge(own_share_df, \n",
    "                        control_df, \n",
    "                        on=['sedol', 'yr_qtr_index'], \n",
    "                        how='left').sort_values(['sedol', 'asof_date'])"
   ]
  },
  {
   "cell_type": "code",
   "execution_count": 102,
   "id": "648363c6-38e7-4e85-afd0-1644552fc817",
   "metadata": {},
   "outputs": [],
   "source": [
    "qtr_dict = dict(zip(sorted(set(own_share_df['asof_date'])), range(len(own_share_df['asof_date'].unique()))))\n",
    "own_share_df['qtr'] = own_share_df['asof_date'].apply(lambda x: qtr_dict[x])\n",
    "own_share_df['act_qtr'] = own_share_df['asof_date'].dt.month"
   ]
  },
  {
   "cell_type": "code",
   "execution_count": 103,
   "id": "33aab6ed-8373-4d8b-bb58-1b5df9349214",
   "metadata": {},
   "outputs": [],
   "source": [
    "own_share_df['boj_share_shares'] = own_share_df['boj_share_shares'] * 100\n",
    "own_share_df['boj_share_shares_no_ff'] = own_share_df['boj_share_shares_no_ff'] * 100\n",
    "own_share_df['mc'] = own_share_df['mc']/10**12\n",
    "own_share_df['mc_monthly'] = own_share_df['mc_monthly']/10**12"
   ]
  },
  {
   "cell_type": "code",
   "execution_count": 104,
   "id": "c2685234-fad4-4e3b-8b6c-ae29d25e67e0",
   "metadata": {},
   "outputs": [],
   "source": [
    "own_share_df = pd.merge(own_share_df, \n",
    "                        nk_df[['sedol', 'always_in']], \n",
    "                        on=['sedol'], \n",
    "                        how='left')"
   ]
  },
  {
   "cell_type": "code",
   "execution_count": 105,
   "id": "959f422b-285c-4186-91b2-6dd73fd3ec79",
   "metadata": {},
   "outputs": [
    {
     "name": "stderr",
     "output_type": "stream",
     "text": [
      "100%|███████████████████████████████████████████████████████████████████████████████| 243/243 [00:02<00:00, 104.26it/s]\n"
     ]
    }
   ],
   "source": [
    "# Get changes\n",
    "chg_cols = [\n",
    "    'boj_share_shares', \n",
    "    'boj_share_shares_no_ff', \n",
    "    'pass_share_no_ff', \n",
    "    'uninf_share_no_ff', \n",
    "    'inf_share_no_ff', \n",
    "    'mb', \n",
    "    'mc', \n",
    "    'short_int',\n",
    "]\n",
    "sedol_df_list = []\n",
    "for _, sedol_df in tqdm(own_share_df.groupby('sedol')):\n",
    "    for col in chg_cols:\n",
    "        sedol_df[col+'_chg'] = sedol_df[col].diff()\n",
    "    sedol_df_list.append(sedol_df)\n",
    "own_share_df = pd.concat(sedol_df_list)"
   ]
  },
  {
   "cell_type": "code",
   "execution_count": 106,
   "id": "b895331b-2074-46ec-bb3c-178a59de9d92",
   "metadata": {},
   "outputs": [],
   "source": [
    "own_share_df['bm'] = 1/own_share_df['mb']"
   ]
  },
  {
   "cell_type": "code",
   "execution_count": 107,
   "id": "22751a02-d550-4827-a740-5855487b4e3b",
   "metadata": {},
   "outputs": [],
   "source": [
    "trim_cols = [\n",
    "    'pass_share_no_ff', \n",
    "    'inf_share_no_ff', \n",
    "    'uninf_share_no_ff', \n",
    "    'mc',\n",
    "    'mc_monthly',\n",
    "    'mb', \n",
    "    'bm',\n",
    "    'short_int',\n",
    "    'conc_inf_5_rel',\n",
    "    'conc_inf_20_rel',\n",
    "    'num_inf', \n",
    "    'turnover_3m', \n",
    "    'vlt_12m', \n",
    "    'beta_l1',\n",
    "    'beta'\n",
    "]\n",
    "\n",
    "own_share_df[trim_cols] = own_share_df[trim_cols].clip(lower=own_share_df[trim_cols].quantile(0.01), \n",
    "                                                       upper=own_share_df[trim_cols].quantile(0.99), \n",
    "                                                       axis=1)"
   ]
  },
  {
   "cell_type": "code",
   "execution_count": 108,
   "id": "75021905-97dd-442a-9347-b691a9b44a8d",
   "metadata": {},
   "outputs": [
    {
     "name": "stderr",
     "output_type": "stream",
     "text": [
      "100%|█████████████████████████████████████████████████████████████████████████████████| 42/42 [00:00<00:00, 249.18it/s]\n"
     ]
    }
   ],
   "source": [
    "date_df_list = []\n",
    "for date, date_df in tqdm(own_share_df.groupby(['asof_date'])):\n",
    "    date_df['mb_decile'] = pd.qcut(date_df['mb'], 10, labels=False)\n",
    "    date_df_list.append(date_df)\n",
    "    \n",
    "own_share_df = pd.concat(date_df_list)"
   ]
  },
  {
   "cell_type": "code",
   "execution_count": 109,
   "id": "57f1b3ea-c9ea-48b2-a387-65dd2075b2ba",
   "metadata": {},
   "outputs": [],
   "source": [
    "own_share_df['turnover_3m'] = own_share_df['turnover_3m'] * 100\n",
    "own_share_df['vlt_12m'] = own_share_df['vlt_12m'] * 100"
   ]
  },
  {
   "cell_type": "code",
   "execution_count": 112,
   "id": "20028dc5-d18d-45ef-904a-f3f0eba429d1",
   "metadata": {},
   "outputs": [],
   "source": [
    "own_share_df = own_share_df.sort_values(['sedol', 'asof_date'])\n",
    "own_share_df.drop(columns=['yr_qtr_index']).to_stata(PATH+'regression_files/dta_files/own_share_df_qtr.dta')"
   ]
  },
  {
   "cell_type": "markdown",
   "id": "a0cec60a-8b25-4ba9-bfd9-aba5e0467b98",
   "metadata": {},
   "source": [
    "# Characteristics Regressions"
   ]
  },
  {
   "cell_type": "code",
   "execution_count": 206,
   "id": "aba5887b-ffba-49d8-9b5b-a97069e02e7c",
   "metadata": {},
   "outputs": [],
   "source": [
    "details_df = pd.read_pickle(PATH+'checkpoint_data/ownership_detailed_complete.pkl')"
   ]
  },
  {
   "cell_type": "code",
   "execution_count": 207,
   "id": "a666ab84-79f0-4a87-9e97-afb52eda0c03",
   "metadata": {},
   "outputs": [],
   "source": [
    "own_df1_detailed = pd.merge(own_df1[own_df1['asof_date'].dt.month==12], \n",
    "                            details_df[['sedol', 'asof_date', 'ciq', 'market_cap', 'growth_value', 'high_yield', 'reported_style','turnover_pct', 'turnover_category']], \n",
    "                            on=['sedol', 'asof_date', 'ciq'], \n",
    "                            how='left')"
   ]
  },
  {
   "cell_type": "code",
   "execution_count": 208,
   "id": "022558c2-cea0-46c0-a96c-4f94e1391187",
   "metadata": {},
   "outputs": [],
   "source": [
    "style_dict = {\n",
    "    'Aggressive Growth': 2,\n",
    "    'Growth': 1, \n",
    "    'GARP': 0, \n",
    "    'Blend': 0, \n",
    "    'Value': -1, \n",
    "    'Deep Value': -2\n",
    "}\n",
    "\n",
    "yield_dict = {\n",
    "    'Yes': 1, \n",
    "    'No': 0\n",
    "}\n",
    "\n",
    "own_df1_detailed['gv_scale'] = own_df1_detailed['growth_value'].map(style_dict)\n",
    "own_df1_detailed['hy_scale'] = own_df1_detailed['high_yield'].map(yield_dict)"
   ]
  },
  {
   "cell_type": "code",
   "execution_count": 209,
   "id": "9b87d701-6cd4-46ab-81be-94a15cfb08aa",
   "metadata": {},
   "outputs": [
    {
     "name": "stderr",
     "output_type": "stream",
     "text": [
      "100%|██████████████████████████████████████████████████████████████████████████████| 2617/2617 [00:39<00:00, 65.70it/s]\n"
     ]
    }
   ],
   "source": [
    "chars_df = get_chars_df(own_df1_detailed)"
   ]
  },
  {
   "cell_type": "code",
   "execution_count": 210,
   "id": "448d4b97-e799-4fa5-addf-a12127b024bc",
   "metadata": {},
   "outputs": [],
   "source": [
    "chars_df = pd.merge_asof(chars_df.sort_values('asof_date'), \n",
    "                         boj_df[['sedol', 'date', 'boj_share_shares', 'boj_share_shares_no_ff', 'sic_2d']].sort_values('date'), \n",
    "                         by=['sedol'], \n",
    "                         left_on=['asof_date'], \n",
    "                         right_on=['date'], \n",
    "                         direction='backward').drop(columns='date').sort_values(['sedol', 'asof_date'])"
   ]
  },
  {
   "cell_type": "code",
   "execution_count": 211,
   "id": "b9d5aca6-7ef2-4cfb-bb11-b0a73063798f",
   "metadata": {},
   "outputs": [],
   "source": [
    "chars_df = pd.merge_asof(chars_df.sort_values(['asof_date']), \n",
    "                         control_df[['datadate', 'sedol', 'mb', 'mc']].sort_values(['datadate']), \n",
    "                         by='sedol',\n",
    "                         left_on=['asof_date'], \n",
    "                         right_on=['datadate'], \n",
    "                         direction='backward').sort_values(['sedol', 'asof_date'])"
   ]
  },
  {
   "cell_type": "code",
   "execution_count": 212,
   "id": "0c6aaed2-74cc-4793-868a-8b9767ebbacb",
   "metadata": {},
   "outputs": [],
   "source": [
    "chars_df['mc'] = chars_df['mc']/10**12"
   ]
  },
  {
   "cell_type": "code",
   "execution_count": 213,
   "id": "8018643b-5bc1-4f9f-9579-41fdf9927a37",
   "metadata": {},
   "outputs": [],
   "source": [
    "chars_df['yr'] = chars_df['asof_date'].dt.year"
   ]
  },
  {
   "cell_type": "code",
   "execution_count": 214,
   "id": "cc0b6536-6aca-48d4-b036-267e33a525f5",
   "metadata": {},
   "outputs": [],
   "source": [
    "cols = [\n",
    "        'inf_turnover', \n",
    "        'inf_gv', \n",
    "        'boj_share_shares_no_ff',\n",
    "        'boj_share_shares'\n",
    "]\n",
    "\n",
    "chars_df[cols] = chars_df[cols].clip(lower=chars_df[cols].quantile(0.005), \n",
    "                                     upper=chars_df[cols].quantile(0.995), \n",
    "                                     axis=1)"
   ]
  },
  {
   "cell_type": "code",
   "execution_count": 215,
   "id": "7c8ff10d-dcfc-4024-8ed0-219a7fc18669",
   "metadata": {},
   "outputs": [],
   "source": [
    "chars_df = chars_df.sort_values(['sedol', 'asof_date'])"
   ]
  },
  {
   "cell_type": "code",
   "execution_count": 216,
   "id": "be6d60e2-01db-47de-b873-42cdce62613d",
   "metadata": {},
   "outputs": [],
   "source": [
    "chars_df.to_stata(PATH+'regression_files/dta_files/chars_ownership.dta')"
   ]
  },
  {
   "cell_type": "code",
   "execution_count": 90,
   "id": "79b3d7d8-9117-40a8-97f0-aace6432b9ef",
   "metadata": {},
   "outputs": [],
   "source": [
    "# own_share_df = pd.merge(own_share_df,\n",
    "#                         turnover_df, \n",
    "#                         left_on=['sedol', 'date'], \n",
    "#                         right_on=['sedol', 'asof_date'], \n",
    "#                         how='left').drop(columns=['asof_date'])\n",
    "# own_share_df.columns = ['sedol', 'asof_date', 'pass_share_no_ff', 'inf_share_no_ff', 'uninf_share_no_ff', 'inf_turnover']"
   ]
  },
  {
   "cell_type": "markdown",
   "id": "119be5d2-016b-4a26-b2fd-2ec59d722dc5",
   "metadata": {},
   "source": [
    "## Checks"
   ]
  },
  {
   "cell_type": "code",
   "execution_count": 157,
   "id": "7a2cd0c5-b340-47f3-8324-ae0a57c247fc",
   "metadata": {},
   "outputs": [
    {
     "name": "stderr",
     "output_type": "stream",
     "text": [
      "c:\\users\\jackl\\appdata\\local\\programs\\python\\python39\\lib\\site-packages\\seaborn\\_decorators.py:36: FutureWarning: Pass the following variables as keyword args: x, y. From version 0.12, the only valid positional argument will be `data`, and passing other arguments without an explicit keyword will result in an error or misinterpretation.\n",
      "  warnings.warn(\n"
     ]
    },
    {
     "data": {
      "image/png": "[encoded data removed]",
      "text/plain": [
       "<Figure size 432x288 with 1 Axes>"
      ]
     },
     "metadata": {},
     "output_type": "display_data"
    }
   ],
   "source": [
    "num_funds_df = own_df1.groupby(['sedol', 'asof_date']).count()[['pct']].reset_index()\n",
    "\n",
    "sns.set()\n",
    "sns.set_style(\"white\")\n",
    "p = sns.lineplot(num_funds_df.groupby(['asof_date']).mean().index, num_funds_df.groupby(['asof_date']).mean()['pct'], marker='o')\n",
    "p.set_title('Average Number of Funds per Firm')\n",
    "p.set_ylabel('Average Number of Funds')\n",
    "p.set_xlabel('')\n",
    "plt.savefig(PATH+\"images/coverage.png\", bbox_inches=\"tight\", dpi=300)\n",
    "plt.show()"
   ]
  },
  {
   "cell_type": "code",
   "execution_count": 162,
   "id": "7bb71ad7-355a-45b2-97d1-6a8195c2a456",
   "metadata": {},
   "outputs": [
    {
     "name": "stderr",
     "output_type": "stream",
     "text": [
      "c:\\users\\jackl\\appdata\\local\\programs\\python\\python39\\lib\\site-packages\\seaborn\\_decorators.py:36: FutureWarning: Pass the following variables as keyword args: x, y. From version 0.12, the only valid positional argument will be `data`, and passing other arguments without an explicit keyword will result in an error or misinterpretation.\n",
      "  warnings.warn(\n"
     ]
    },
    {
     "data": {
      "image/png": "[encoded data removed]",
      "text/plain": [
       "<Figure size 432x288 with 1 Axes>"
      ]
     },
     "metadata": {},
     "output_type": "display_data"
    }
   ],
   "source": [
    "short_df = own_df1[own_df1['short_dummy']==1]\n",
    "num_funds_df = short_df.groupby(['sedol', 'asof_date']).count()[['pct']].reset_index()\n",
    "sns.set()\n",
    "sns.set_style(\"white\")\n",
    "p = sns.lineplot(num_funds_df.groupby(['asof_date']).mean().index, num_funds_df.groupby(['asof_date']).mean()['pct'], marker='o')\n",
    "p.set_title('Average Number of Funds per Firm')\n",
    "p.set_ylabel('Average Number of Funds')\n",
    "p.set_xlabel('')\n",
    "plt.savefig(PATH+\"images/coverage_short.png\", bbox_inches=\"tight\", dpi=300)\n",
    "plt.show()"
   ]
  },
  {
   "cell_type": "code",
   "execution_count": null,
   "id": "a00e6191-51ae-4a95-a74f-f9475b17a872",
   "metadata": {},
   "outputs": [],
   "source": []
  }
 ],
 "metadata": {
  "kernelspec": {
   "display_name": "Python 3",
   "language": "python",
   "name": "python3"
  },
  "language_info": {
   "codemirror_mode": {
    "name": "ipython",
    "version": 3
   },
   "file_extension": ".py",
   "mimetype": "text/x-python",
   "name": "python",
   "nbconvert_exporter": "python",
   "pygments_lexer": "ipython3",
   "version": "3.9.5"
  }
 },
 "nbformat": 4,
 "nbformat_minor": 5
}
