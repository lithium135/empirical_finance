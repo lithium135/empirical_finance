{
 "cells": [
  {
   "cell_type": "code",
   "execution_count": 151,
   "id": "5a558e93-6633-4dd7-98df-7705f0677726",
   "metadata": {},
   "outputs": [],
   "source": [
    "import xlsxwriter\n",
    "import pandas as pd\n",
    "import math\n",
    "import time\n",
    "import shutil\n",
    "import xlrd\n",
    "\n",
    "from tqdm import tqdm\n",
    "from openpyxl import load_workbook\n",
    "from win32com.client import DispatchEx, Dispatch\n",
    "from win32api import LoadLibrary\n",
    "from IPython.display import HTML, Javascript, display\n",
    "\n",
    "PATH = \"C:/Users/bloomberg3/Desktop/capital_iq/\""
   ]
  },
  {
   "cell_type": "code",
   "execution_count": 152,
   "id": "9f1fbb54-25dd-4484-ad21-a35bf59e3d15",
   "metadata": {},
   "outputs": [],
   "source": [
    "def convert_xl_serial(xl_date): \n",
    "    xl_date = int(xl_date)\n",
    "    datetime_date = xlrd.xldate_as_datetime(xl_date, 0)\n",
    "    date_object = datetime_date.date()\n",
    "    string_date = date_object.isoformat()\n",
    "    pd_datetime = pd.to_datetime(string_date)\n",
    "    return pd_datetime"
   ]
  },
  {
   "cell_type": "code",
   "execution_count": 153,
   "id": "f35712d1-e748-4587-8105-527af681962e",
   "metadata": {},
   "outputs": [],
   "source": [
    "def clean_up_df(df):\n",
    "    #REMOVE ROWS CORRESPONDING TO HEADERS\n",
    "    df = df[~df['ticker'].str.contains('ticker')]\n",
    "    \n",
    "    #REMOVE ROWS THAT ARE ALL NAN (CORRESPONDING TO THERE BEING TOO LITTLE NUMBER OF HOLDERS RELATIVE TO 4000, THE NUMBER OF FUNDS CHOSEN BY ME)\n",
    "    df = df.dropna(subset=['name', 'holdings', 'pct', 'ciq', 'holder_type', 'date'])\n",
    "    \n",
    "    #ENSURE ALL VARIABLE TYPES ARE CORRECT\n",
    "    df['holdings'] = df['holdings'].astype(float)\n",
    "    df['pct'] = df['pct'].astype(float)\n",
    "    df['name'] = df['name'].astype(str)\n",
    "    df['ciq'] = df['ciq'].astype(str)\n",
    "    df['holder_type'] = df['holder_type'].astype(str)\n",
    "    \n",
    "    df['date'] = df['date'].astype(str)\n",
    "    df['date'] = df['date'].apply(lambda x: pd.to_datetime(x) if '/' in x else convert_xl_serial(x))\n",
    "    df['asof_date'] = pd.to_datetime(df['asof_date'])\n",
    "    \n",
    "    #REMOVE FUNDS WITH NO HOLDINGS\n",
    "    df = df[df['holdings'] > 10**(-2)]\n",
    "    \n",
    "    return df"
   ]
  },
  {
   "cell_type": "code",
   "execution_count": 154,
   "id": "7df28394-9e98-46e8-a3de-c1a0b9654c8f",
   "metadata": {},
   "outputs": [],
   "source": [
    "nk_df = pd.read_csv(PATH+'nk_df.csv')\n",
    "ticker_list = list(nk_df['ticker'])"
   ]
  },
  {
   "cell_type": "code",
   "execution_count": 160,
   "id": "5fad2f94-4c90-4b00-8fba-5556818abc29",
   "metadata": {},
   "outputs": [
    {
     "name": "stderr",
     "output_type": "stream",
     "text": [
      "100%|█████████████████████████████████████████████████████████████████████████████████████████████████████████████████████████████████████████████████████████████████████████████████████████████████████| 231/231 [14:51<00:00,  3.86s/it]\n"
     ]
    }
   ],
   "source": [
    "df_list = []\n",
    "for ticker in tqdm(ticker_list[:]):\n",
    "    p = PATH+'excel_templates/' + ticker[4:] + '.xlsx'\n",
    "    df = pd.read_excel(p)\n",
    "    df = clean_up_df(df)\n",
    "    df_list.append(df)"
   ]
  },
  {
   "cell_type": "code",
   "execution_count": 161,
   "id": "71f9fe1e-dd6f-4b49-8956-3fc62d50ac98",
   "metadata": {},
   "outputs": [],
   "source": [
    "full_df = pd.concat(df_list)"
   ]
  },
  {
   "cell_type": "code",
   "execution_count": 163,
   "id": "86c89aa9-6dcc-47e9-b5e8-448b35d2462f",
   "metadata": {},
   "outputs": [],
   "source": [
    "full_df.to_csv(PATH+'ownership_cleaned_r1.csv')"
   ]
  },
  {
   "cell_type": "code",
   "execution_count": 164,
   "id": "0c7d893e-8706-4a41-9e82-15f11954862a",
   "metadata": {},
   "outputs": [],
   "source": [
    "full_df.to_pickle(PATH+'ownership_cleaned_r1.pkl')"
   ]
  }
 ],
 "metadata": {
  "kernelspec": {
   "display_name": "Python 3 (ipykernel)",
   "language": "python",
   "name": "python3"
  },
  "language_info": {
   "codemirror_mode": {
    "name": "ipython",
    "version": 3
   },
   "file_extension": ".py",
   "mimetype": "text/x-python",
   "name": "python",
   "nbconvert_exporter": "python",
   "pygments_lexer": "ipython3",
   "version": "3.10.1"
  }
 },
 "nbformat": 4,
 "nbformat_minor": 5
}
