{
 "cells": [
  {
   "cell_type": "code",
   "execution_count": 24,
   "id": "6128d1f2-dab5-433a-946c-bc70b87bbd59",
   "metadata": {},
   "outputs": [],
   "source": [
    "import win32com.client as win32\n",
    "import xlsxwriter\n",
    "import openpyxl\n",
    "import pandas as pd\n",
    "import math\n",
    "import time\n",
    "import numpy as np\n",
    "from tqdm import tqdm \n",
    "from openpyxl import load_workbook\n",
    "from win32com.client import DispatchEx\n",
    "\n",
    "PATH = \"C:/Users/jackl/OneDrive/Documents/finance_research/japan_qe/\""
   ]
  },
  {
   "cell_type": "code",
   "execution_count": 3,
   "id": "1c9e81d0-4abf-49ec-9ffc-81ec15752bfa",
   "metadata": {},
   "outputs": [],
   "source": [
    "nk_df = pd.read_csv(PATH+'raw_data/capital_iq/nk_df.csv')"
   ]
  },
  {
   "cell_type": "code",
   "execution_count": 4,
   "id": "26ba9c53-7bf2-46d0-a16f-ae347c757f17",
   "metadata": {},
   "outputs": [],
   "source": [
    "def isNaN(string):\n",
    "    return string != string"
   ]
  },
  {
   "cell_type": "markdown",
   "id": "f9424bb8-c556-4fbe-a828-2aa535bcbbcb",
   "metadata": {},
   "source": [
    "## Get Excel Sheet"
   ]
  },
  {
   "cell_type": "code",
   "execution_count": 5,
   "id": "3b2cd364-7b99-4a61-8c50-f228b27e8ec8",
   "metadata": {},
   "outputs": [],
   "source": [
    "#parameters\n",
    "ticker_list = list(nk_df['ticker'])\n",
    "sedol_list = list(nk_df['SEDOL'])\n",
    "comn_list = list(nk_df['conm'])\n",
    "num_funds = str(4000)\n",
    "asof_date_list = [\n",
    "    '\"2010-06-31\"', \n",
    "    '\"2011-06-31\"', \n",
    "    '\"2012-06-31\"', \n",
    "    '\"2013-06-31\"', \n",
    "    '\"2014-06-31\"', \n",
    "    '\"2015-06-31\"', \n",
    "    '\"2016-06-31\"', \n",
    "    '\"2017-06-31\"', \n",
    "    '\"2018-06-31\"', \n",
    "    '\"2019-06-31\"', \n",
    "    '\"2020-06-31\"', \n",
    "    '\"2021-06-31\"'   \n",
    "]"
   ]
  },
  {
   "cell_type": "markdown",
   "id": "4c0647f8-1285-44f5-be46-235a08bfcaec",
   "metadata": {},
   "source": [
    "### Seperate Files for Each"
   ]
  },
  {
   "cell_type": "code",
   "execution_count": 6,
   "id": "0da4c7f2-d626-4053-94e8-069134efb678",
   "metadata": {},
   "outputs": [],
   "source": [
    "ticker_list = ticker_list[:2]"
   ]
  },
  {
   "cell_type": "code",
   "execution_count": 33,
   "id": "1002fd94-349e-43fe-a5ce-e580d7d6b37f",
   "metadata": {
    "tags": []
   },
   "outputs": [
    {
     "name": "stderr",
     "output_type": "stream",
     "text": [
      "100%|████████████████████████████████████████████████████████████████████████████████████| 2/2 [00:23<00:00, 11.60s/it]\n"
     ]
    }
   ],
   "source": [
    "for i in tqdm(range(len(ticker_list))):  \n",
    "    ticker = ticker_list[i][4:]\n",
    "    ticker_qt = '\"' + ticker_list[i] + '\"'\n",
    "    \n",
    "    sedol = sedol_list[i]\n",
    "    comn = comn_list[i]\n",
    "    \n",
    "    workbook = xlsxwriter.Workbook(PATH+'raw_data/capital_iq/ownership_files/' + str(ticker) + \"_\" + str(asof_date_list[0][6:8]) + '.xlsx')\n",
    "    worksheet = workbook.add_worksheet()\n",
    "\n",
    "    #be careful with switching columns since I manually typed the columns out for some cells.\n",
    "    #remember to change it up when I need to \n",
    "\n",
    "    for i in range(len(asof_date_list)):\n",
    "        asof_date = asof_date_list[i]\n",
    "\n",
    "        name_formula = '=CIQRANGE(' + ticker_qt + ',\"iq_holder_name\", 1,' + num_funds + ',,,,,\"name\")'\n",
    "        holdings_formula = '=CIQRANGE(' + ticker_qt + ',\"iq_holder_shares\",1,' + num_funds + ',' + asof_date + ',,,,\"holdings\")'\n",
    "        pct_formula = '=CIQRANGE(' + ticker_qt + ',\"iq_holder_percent\",1,' + num_funds + ',' + asof_date + ',,,,\"pct\")'\n",
    "        ciq_formula = '=CIQRANGE(' + ticker_qt + ',\"iq_holder_ciqid\", 1, ' + num_funds + ',,,,,\"ciq\")'\n",
    "        holder_type_formula = '=CIQRANGE(' + ticker_qt + ',\"iq_holder_type\", 1, ' + num_funds + ',,,,,\"holder_type\")'\n",
    "        holder_position_date_formula = '=CIQRANGE(' + ticker_qt + ',\"iq_holder_position_date\",1,' + num_funds + ',' + asof_date + ',,,,\"date\")'\n",
    "\n",
    "        start_index = i * (int(num_funds) + 1) + 1\n",
    "        worksheet.write('A'+str(start_index), 'ticker')\n",
    "        worksheet.write('B'+str(start_index), 'asof_date')\n",
    "        worksheet.write('C'+str(start_index), name_formula)\n",
    "        worksheet.write('D'+str(start_index), holdings_formula)\n",
    "        worksheet.write('E'+str(start_index), pct_formula)\n",
    "        worksheet.write('F'+str(start_index), ciq_formula)\n",
    "        worksheet.write('G'+str(start_index), holder_type_formula)\n",
    "        worksheet.write('H'+str(start_index), holder_position_date_formula)\n",
    "        worksheet.write('I'+str(start_index), 'orientation')\n",
    "        worksheet.write('J'+str(start_index), 'sedol')\n",
    "        worksheet.write('K'+str(start_index), 'comn')\n",
    "\n",
    "    \n",
    "        for j in range(start_index + 1, start_index + 1 + int(num_funds)):\n",
    "            worksheet.write('A' + str(j), ticker_qt[1:-1])\n",
    "            worksheet.write('B' + str(j), asof_date[1:-1])\n",
    "            worksheet.write('I' + str(j), '=CIQ(F' + str(j) + ',\"IQ_STYLE_ACTIVE_PASSIVE\")')\n",
    "            worksheet.write('J' + str(j), sedol)\n",
    "                \n",
    "            if isNaN(comn) == False:\n",
    "                worksheet.write('K' + str(j), comn)\n",
    "            else: \n",
    "                worksheet.write('K' + str(j), 'nan')\n",
    "\n",
    "    workbook.close()"
   ]
  },
  {
   "cell_type": "code",
   "execution_count": 28,
   "id": "4b3bfe11-72ab-48cd-aa7d-093d9a23c29b",
   "metadata": {},
   "outputs": [
    {
     "name": "stderr",
     "output_type": "stream",
     "text": [
      "100%|████████████████████████████████████████████████████████████████████████████████████| 2/2 [00:00<00:00, 15.08it/s]\n"
     ]
    }
   ],
   "source": [
    "# for i in tqdm(range(len(ticker_list))):  \n",
    "#     ticker = ticker_list[i][4:]\n",
    "#     ticker_qt = '\"' + ticker_list[i] + '\"'\n",
    "    \n",
    "#     sedol = sedol_list[i]\n",
    "#     comn = comn_list[i]\n",
    "    \n",
    "#     workbook = xlsxwriter.Workbook(PATH+'raw_data/capital_iq/ownership_files/test_' + str(asof_date_list[0][6:8]) + '.xlsx')\n",
    "#     worksheet = workbook.add_worksheet()\n",
    "\n",
    "#     #be careful with switching columns since I manually typed the columns out for some cells.\n",
    "#     #remember to change it up when I need to \n",
    "\n",
    "#     for i in range(len(asof_date_list[:1])):\n",
    "#         asof_date = asof_date_list[i]\n",
    "#         name_formula = '=CIQRANGE(' + ticker_qt + ',\"iq_holder_name\", 1,10' + ',,,,,\"name\")'\n",
    "\n",
    "#     worksheet.write('A1', name_formula)\n",
    "\n",
    "#     workbook.close()"
   ]
  }
 ],
 "metadata": {
  "kernelspec": {
   "display_name": "Python 3",
   "language": "python",
   "name": "python3"
  },
  "language_info": {
   "codemirror_mode": {
    "name": "ipython",
    "version": 3
   },
   "file_extension": ".py",
   "mimetype": "text/x-python",
   "name": "python",
   "nbconvert_exporter": "python",
   "pygments_lexer": "ipython3",
   "version": "3.9.5"
  }
 },
 "nbformat": 4,
 "nbformat_minor": 5
}
