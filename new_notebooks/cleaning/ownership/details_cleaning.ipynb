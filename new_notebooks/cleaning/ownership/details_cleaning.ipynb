{
 "cells": [
  {
   "cell_type": "code",
   "execution_count": 1,
   "id": "5b64de85-9b7d-42c8-af2a-d96769bd834b",
   "metadata": {},
   "outputs": [],
   "source": [
    "import pandas as pd\n",
    "import math\n",
    "import time\n",
    "import numpy as np\n",
    "from tqdm import tqdm \n",
    "import matplotlib.pyplot as plt\n",
    "from matplotlib.dates import date2num\n",
    "import datetime\n",
    "from scipy.stats.mstats import winsorize\n",
    "\n",
    "pd.options.mode.chained_assignment = None  # default='warn'\n",
    "\n",
    "PATH = \"C:/Users/jackl/OneDrive/Documents/finance_research/japan_qe/\""
   ]
  },
  {
   "cell_type": "code",
   "execution_count": 213,
   "id": "d2cd4bd5-c2b7-4998-871b-e45a2c77bc09",
   "metadata": {},
   "outputs": [],
   "source": [
    "df = pd.read_pickle(PATH+'raw_data/capital_iq/missed_details.pkl')"
   ]
  },
  {
   "cell_type": "code",
   "execution_count": 215,
   "id": "345e8f56-ccac-4be5-a948-f4369d16caac",
   "metadata": {},
   "outputs": [],
   "source": [
    "#change columns\n",
    "df.columns = df.iloc[0]"
   ]
  },
  {
   "cell_type": "code",
   "execution_count": 216,
   "id": "97a064f5-7258-4f40-a53e-e64029ac6546",
   "metadata": {},
   "outputs": [],
   "source": [
    "#remove empty columns\n",
    "df = df.drop(columns=[None])"
   ]
  },
  {
   "cell_type": "code",
   "execution_count": 218,
   "id": "e72cf7fe-167e-4acb-95f3-4b75c5ae0b90",
   "metadata": {},
   "outputs": [],
   "source": [
    "#remove header rows\n",
    "df = df[~df['ticker'].str.contains('ticker')]"
   ]
  },
  {
   "cell_type": "code",
   "execution_count": 220,
   "id": "74f3d5d3-1930-4e66-980c-6ae4dadbc6f6",
   "metadata": {},
   "outputs": [],
   "source": [
    "df['asof_date'] = pd.to_datetime(df['asof_date'])"
   ]
  },
  {
   "cell_type": "code",
   "execution_count": 221,
   "id": "09952ceb-fd43-4cab-9f0b-053554b99a7e",
   "metadata": {},
   "outputs": [],
   "source": [
    "df = df.sort_values(['sedol', 'asof_date'])"
   ]
  },
  {
   "cell_type": "code",
   "execution_count": 223,
   "id": "4b0ee0cf-34fb-4ebc-aaea-678e01df24d1",
   "metadata": {},
   "outputs": [
    {
     "name": "stderr",
     "output_type": "stream",
     "text": [
      "100%|██████████████████████████████████████████████████████████████████████████████████| 12/12 [00:01<00:00,  8.00it/s]\n"
     ]
    }
   ],
   "source": [
    "sedol_df_list = []\n",
    "char_cols = ['ciq', 'market_cap', 'growth_value', 'high_yield', 'reported_style']\n",
    "\n",
    "for sedol, sedol_df in tqdm(df.groupby('sedol')):     \n",
    "    date_df_list = []\n",
    "    counter = 0\n",
    "    for date, date_df in sedol_df.groupby('asof_date'):\n",
    "        if counter == 0: \n",
    "            chars_df = date_df[char_cols]\n",
    "            chars_df = chars_df.reset_index(drop=True)\n",
    "        change_df = date_df[['ticker', 'asof_date', 'sedol', 'comn', 'turnover_pct', 'turnover_category']]\n",
    "        change_df = change_df.reset_index(drop=True)\n",
    "        date_df_updated = pd.concat([change_df, chars_df], axis=1)\n",
    "        date_df_list.append(date_df_updated)\n",
    "        counter += 1\n",
    "    sedol_df = pd.concat(date_df_list)\n",
    "    sedol_df_list.append(sedol_df)\n",
    "    \n",
    "df = pd.concat(sedol_df_list)"
   ]
  },
  {
   "cell_type": "code",
   "execution_count": 225,
   "id": "4364835e-da5f-40fa-b5be-926da107a2f5",
   "metadata": {},
   "outputs": [],
   "source": [
    "#gets rid of all useless rows\n",
    "df = df[~df['ciq'].isna()]"
   ]
  },
  {
   "cell_type": "code",
   "execution_count": 227,
   "id": "b4a717d9-1199-4353-a6ec-f5596d038bab",
   "metadata": {},
   "outputs": [],
   "source": [
    "#set nan types\n",
    "df = df.astype(str)\n",
    "df = df.replace(['None', '(Invalid Identifier)', 'nan', 'NaN', '0.0', '0'], math.nan)"
   ]
  },
  {
   "cell_type": "code",
   "execution_count": 229,
   "id": "dfec00c5-3077-4cfd-9b69-c0c900a34ac2",
   "metadata": {},
   "outputs": [],
   "source": [
    "df['asof_date'] = pd.to_datetime(df['asof_date'])\n",
    "df['turnover_pct'] = df['turnover_pct'].astype(float)"
   ]
  },
  {
   "cell_type": "code",
   "execution_count": 230,
   "id": "18c862bd-c383-4677-8f22-c1ffaaaca7e6",
   "metadata": {},
   "outputs": [],
   "source": [
    "df.to_pickle(PATH+'checkpoint_data/ownership_detailed_missed.pkl')"
   ]
  },
  {
   "cell_type": "code",
   "execution_count": 232,
   "id": "f1c7905f-ef3a-4c48-8606-1f8fee39b103",
   "metadata": {},
   "outputs": [],
   "source": [
    "df1 = pd.read_pickle(PATH+'checkpoint_data/ownership_detailed_og.pkl')\n",
    "df2 = pd.read_pickle(PATH+'checkpoint_data/ownership_detailed_missed.pkl')"
   ]
  },
  {
   "cell_type": "code",
   "execution_count": 233,
   "id": "8a6f79e7-beb9-4dc5-b319-744e84699016",
   "metadata": {},
   "outputs": [],
   "source": [
    "df = pd.concat([df1, df2])"
   ]
  },
  {
   "cell_type": "code",
   "execution_count": 235,
   "id": "4c236f78-b458-44af-b34e-22ad422e4714",
   "metadata": {},
   "outputs": [],
   "source": [
    "df.to_pickle(PATH+'checkpoint_data/ownership_detailed_complete.pkl')"
   ]
  }
 ],
 "metadata": {
  "kernelspec": {
   "display_name": "Python 3",
   "language": "python",
   "name": "python3"
  },
  "language_info": {
   "codemirror_mode": {
    "name": "ipython",
    "version": 3
   },
   "file_extension": ".py",
   "mimetype": "text/x-python",
   "name": "python",
   "nbconvert_exporter": "python",
   "pygments_lexer": "ipython3",
   "version": "3.9.5"
  }
 },
 "nbformat": 4,
 "nbformat_minor": 5
}
