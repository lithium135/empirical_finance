{
 "cells": [
  {
   "cell_type": "code",
   "execution_count": 3,
   "id": "bcec7bd7-79a8-49ca-8db5-197f5719f37c",
   "metadata": {},
   "outputs": [],
   "source": [
    "import pandas as pd\n",
    "import math\n",
    "import time\n",
    "import numpy as np\n",
    "from tqdm import tqdm \n",
    "import matplotlib.pyplot as plt\n",
    "from matplotlib.dates import date2num\n",
    "import datetime\n",
    "\n",
    "PATH = \"C:/Users/jackl/OneDrive/Documents/finance_research/japan_qe/\""
   ]
  },
  {
   "cell_type": "code",
   "execution_count": 4,
   "id": "0b1a30dd-7d2c-412b-b534-7cabbf5c477c",
   "metadata": {},
   "outputs": [],
   "source": [
    "def pprint(df):\n",
    "    with pd.option_context('display.max_rows', None, 'display.max_columns', None):  # more options can be specified also\n",
    "        display(df)"
   ]
  },
  {
   "cell_type": "code",
   "execution_count": 5,
   "id": "2711a0e4-72ec-4b62-a2e8-3d1b914590b6",
   "metadata": {},
   "outputs": [],
   "source": [
    "#GETS INSIDER ADJUSTED HOLDINGS FOR A GIVEN COMPANY\n",
    "def get_insider_adj_holdings(sedol_df):\n",
    "    sedol_df_list = []\n",
    "    for date, year_sedol_df in sedol_df.groupby(['asof_date']): \n",
    "        block_holder_types = ['Individuals/Insiders', 'Corporations (Public)', 'Corporations (Private)']\n",
    "        block_own = year_sedol_df[year_sedol_df['holder_type'].isin(block_holder_types)]['pct'].sum()\n",
    "        \n",
    "        if block_own < 100: \n",
    "            year_sedol_df['pct_mod'] = year_sedol_df['pct']/(100 - block_own) * 100\n",
    "            year_sedol_df = year_sedol_df[~year_sedol_df['holder_type'].isin(block_holder_types)]\n",
    "        else: \n",
    "            year_sedol_df['pct_mod'] = [math.nan for i in range(len(year_sedol_df))]\n",
    "        \n",
    "        sedol_df_list.append(year_sedol_df)\n",
    "    sedol_df = pd.concat(sedol_df_list)\n",
    "    return sedol_df"
   ]
  },
  {
   "cell_type": "code",
   "execution_count": 6,
   "id": "57c19634-b436-48b6-be29-6e9912d7d7bb",
   "metadata": {},
   "outputs": [],
   "source": [
    "# GET VALUES FOR EACH TYPE OF INVESTOR\n",
    "def get_breakdown(sedol_df):\n",
    "    breakdown_df = sedol_df.groupby(['mod_orientation', 'asof_date']).sum()[['pct_mod']].reset_index()\n",
    "    uninf_df = (100 - breakdown_df.groupby(['asof_date']).sum()[['pct_mod']]).reset_index()\n",
    "    inf_df = breakdown_df[breakdown_df['mod_orientation']=='Active Informed']\n",
    "    pass_df = breakdown_df[breakdown_df['mod_orientation']=='Passive']\n",
    "    return uninf_df, inf_df, pass_df\n",
    "\n",
    "def get_aggregate_breakdown(top_df):\n",
    "    uninf_df_list, inf_df_list, pass_df_list = [], [], []\n",
    "    for sedol, sedol_df in tqdm(top_df.groupby(['sedol'])): \n",
    "        uninf_df, inf_df, pass_df = get_breakdown(sedol_df)\n",
    "        uninf_df_list.append(uninf_df)\n",
    "        inf_df_list.append(inf_df)\n",
    "        pass_df_list.append(pass_df)\n",
    "\n",
    "    uninf_df_list_full, inf_df_list_full, pass_df_list_full = pd.concat(uninf_df_list), pd.concat(inf_df_list), pd.concat(pass_df_list)\n",
    "    \n",
    "    unif_agg_df = uninf_df_list_full.groupby('asof_date').mean().reset_index()\n",
    "    inf_agg_df = inf_df_list_full.groupby('asof_date').mean().reset_index()\n",
    "    pass_agg_df = pass_df_list_full.groupby('asof_date').mean().reset_index()\n",
    "    \n",
    "    return unif_agg_df, inf_agg_df, pass_agg_df"
   ]
  },
  {
   "cell_type": "code",
   "execution_count": 7,
   "id": "3fc49c40-60cd-46a4-bc03-cd4825820731",
   "metadata": {},
   "outputs": [],
   "source": [
    "def plot_breakdown_3(uninf_df, inf_df, pass_df, title='Title', save_name='random'):\n",
    "    x = list(pass_df['asof_date'] - pd.Timedelta(weeks=52))  \n",
    "    x = date2num(x)\n",
    "    ax = plt.subplot(111)\n",
    "    ax.bar(x-100, pass_df['pct_mod'], width=100, color='b', align='center', label='Passive')\n",
    "    ax.bar(x, inf_df['pct_mod'], width=100, color='g', align='center', label='Active Informed')\n",
    "    ax.bar(x+100, uninf_df['pct_mod'], width=100, color='r', align='center', label='Active Uninformed')\n",
    "    ax.legend(prop={'size':8})\n",
    "    ax.xaxis_date()\n",
    "    box = ax.get_position()\n",
    "    \n",
    "    ax.set_position([box.x0, box.y0, box.width * 0.8, box.height * 1])\n",
    "    ax.set_title(title)\n",
    "    ax.set_xlabel(\"Year\")\n",
    "    ax.set_ylabel(\"Percentage of Free-Float\")\n",
    "    plt.tight_layout()\n",
    "    plt.plot()\n",
    "    plt.savefig(PATH+'images/' + save_name)"
   ]
  },
  {
   "cell_type": "code",
   "execution_count": 22,
   "id": "bd7cce1d-b1b9-4ea9-b153-c20f248c29cd",
   "metadata": {},
   "outputs": [
    {
     "name": "stderr",
     "output_type": "stream",
     "text": [
      "c:\\users\\jackl\\appdata\\local\\programs\\python\\python39\\lib\\site-packages\\IPython\\core\\interactiveshell.py:3169: DtypeWarning: Columns (10) have mixed types.Specify dtype option on import or set low_memory=False.\n",
      "  has_raised = await self.run_ast_nodes(code_ast.body, cell_name,\n"
     ]
    }
   ],
   "source": [
    "df = pd.read_csv(PATH+'raw_data/capital_iq/ownership_cleaned_r1.csv')\n",
    "df = df[df.columns[1:]]\n",
    "df = df[['ticker', 'sedol', 'comn', 'asof_date', 'name', 'holdings', 'pct', 'ciq', 'holder_type','date', 'orientation']]"
   ]
  },
  {
   "cell_type": "code",
   "execution_count": 23,
   "id": "b228ffda-cef2-4fbb-8d45-7fed51cea3b7",
   "metadata": {},
   "outputs": [],
   "source": [
    "df['asof_date'] = pd.to_datetime(df['asof_date'])\n",
    "df['date'] = pd.to_datetime(df['date'])\n",
    "df['sedol'] = df['sedol'].astype(str)\n",
    "df['comn'] = df['comn'].astype(str)\n",
    "df['name'] = df['name'].astype(str)\n",
    "df['holdings'] = df['holdings'].astype(float)\n",
    "df['pct'] = df['pct'].astype(float)\n",
    "df['ciq'] = df['ciq'].astype(str)\n",
    "df['holder_type'] = df['holder_type'].astype(str)\n",
    "df['orientation'] = df['orientation'].astype(str)\n",
    "df['ticker'] = df['ticker'].astype(str)"
   ]
  },
  {
   "cell_type": "code",
   "execution_count": 24,
   "id": "d76370c2-bd7d-460e-b83b-4c8a4ec9a768",
   "metadata": {},
   "outputs": [],
   "source": [
    "# modifies orientation list\n",
    "# makes individual owners marked as passive\n",
    "o_list, h_list = list(df['orientation']), list(df['holder_type'])\n",
    "mod_o_list = []\n",
    "for i in range(len(o_list)):\n",
    "    o, h = o_list[i], h_list[i]\n",
    "    \n",
    "    if o == 'Active':\n",
    "        o = 'Active Informed'\n",
    "\n",
    "    if h == 'VC/PE Firm': \n",
    "        mod_o_list.append('Active Informed')\n",
    "    else: \n",
    "        mod_o_list.append(o)\n",
    "        \n",
    "df['mod_orientation'] = mod_o_list"
   ]
  },
  {
   "cell_type": "code",
   "execution_count": 25,
   "id": "e75bf967-a66d-4ba4-8639-048fc3562bb3",
   "metadata": {},
   "outputs": [],
   "source": [
    "#GET RID OF ERRONEOUS PCTS\n",
    "df = df[~((df['holdings'] != 0) & (df['pct'] == 0))]"
   ]
  },
  {
   "cell_type": "code",
   "execution_count": 26,
   "id": "de55f107-b3fe-4513-9256-04a845cc6995",
   "metadata": {},
   "outputs": [],
   "source": [
    "df['date_diff'] = abs(df['date'] - df['asof_date'])"
   ]
  },
  {
   "cell_type": "code",
   "execution_count": 27,
   "id": "d03e1225-19d9-4baa-b067-792e9bab6a12",
   "metadata": {},
   "outputs": [],
   "source": [
    "df = df[df['date_diff'] < pd.Timedelta(days=365)]"
   ]
  },
  {
   "cell_type": "code",
   "execution_count": 28,
   "id": "29dc3ef4-fc35-4ae0-a9d0-aed0ec4751ff",
   "metadata": {},
   "outputs": [],
   "source": [
    "# #GET COMPANY VARIABLES\n",
    "# ret_df = pd.read_pickle(PATH+'checkpoint_data/returns_all_stocks.pkl')\n",
    "# ret_df = ret_df[['datadate', 'cshoc', 'sedol']]"
   ]
  },
  {
   "cell_type": "code",
   "execution_count": 29,
   "id": "3debb2f1-54be-4f0d-a45b-921be7d46a2d",
   "metadata": {},
   "outputs": [],
   "source": [
    "# df = pd.merge_asof(df.sort_values('date'), \n",
    "#                    ret_df.sort_values('datadate'), \n",
    "#                    by='sedol', \n",
    "#                    left_on=['date'], \n",
    "#                    right_on=['datadate'], \n",
    "#                    direction='backward')\n",
    "# df['pct_manual'] = df['holdings']/df['cshoc'] * 100"
   ]
  },
  {
   "cell_type": "code",
   "execution_count": 30,
   "id": "802715f0-70c7-4efb-9986-0ec3c17a552a",
   "metadata": {},
   "outputs": [],
   "source": [
    "#GET NIKKEI WEIGHTS\n",
    "weight_df = pd.read_pickle(PATH+'checkpoint_data/index_weights.pkl')\n",
    "nk_weights_df = weight_df[weight_df['indexlistmnem']=='LJAPDOWA'].groupby(['sedol']).mean()[['weight']].reset_index()\n",
    "nk_weights_df.columns = ['sedol', 'nk_weight']\n",
    "nk_weights_df['nk_weight_decile'] = pd.qcut(nk_weights_df['nk_weight'], 10, labels=False)"
   ]
  },
  {
   "cell_type": "code",
   "execution_count": 31,
   "id": "ed052ddb-8422-425f-98e5-4d11c6c2f904",
   "metadata": {},
   "outputs": [],
   "source": [
    "#MERGE WITH OWNERSHIP DF\n",
    "df = pd.merge(df, nk_weights_df, on=['sedol'], how='left')"
   ]
  },
  {
   "cell_type": "code",
   "execution_count": 33,
   "id": "04530559-3f19-4c8e-ba2e-1ef178567e36",
   "metadata": {},
   "outputs": [
    {
     "name": "stderr",
     "output_type": "stream",
     "text": [
      "100%|████████████████████████████████████████████████████████████████████████████████| 231/231 [00:35<00:00,  6.58it/s]\n"
     ]
    }
   ],
   "source": [
    "#ADJUST FOR INSIDER OWNERSHIP\n",
    "df_list = []\n",
    "for sedol, sedol_df in tqdm(df.groupby(['sedol'])): \n",
    "    df_list.append(get_insider_adj_holdings(sedol_df))\n",
    "df_adj = pd.concat(df_list)"
   ]
  },
  {
   "cell_type": "code",
   "execution_count": 34,
   "id": "aa93225a-9043-4a72-8540-8626a2f1b8b0",
   "metadata": {},
   "outputs": [],
   "source": [
    "df_adj.to_pickle(PATH + 'checkpoint_data/ownership_data_cleaned.pkl')"
   ]
  },
  {
   "cell_type": "code",
   "execution_count": 40,
   "id": "fdf18979-57e1-4cb0-adea-d2a8cd68e8dd",
   "metadata": {},
   "outputs": [],
   "source": [
    "df_non_adj = df"
   ]
  },
  {
   "cell_type": "code",
   "execution_count": 41,
   "id": "5f568a8f-77fe-41a4-bd39-46dd3e228a93",
   "metadata": {},
   "outputs": [],
   "source": [
    "df_non_adj.to_pickle(PATH + 'checkpoint_data/ownership_data_cleaned_non_adj.pkl')"
   ]
  },
  {
   "cell_type": "markdown",
   "id": "b128463a-b102-479e-8fd8-5d87fac11f1a",
   "metadata": {},
   "source": [
    "### Ownership Types Statistics"
   ]
  },
  {
   "cell_type": "code",
   "execution_count": 114,
   "id": "c64be39a-8d0b-48a3-9899-971bc7167a48",
   "metadata": {},
   "outputs": [
    {
     "data": {
      "text/html": [
       "<div>\n",
       "<style scoped>\n",
       "    .dataframe tbody tr th:only-of-type {\n",
       "        vertical-align: middle;\n",
       "    }\n",
       "\n",
       "    .dataframe tbody tr th {\n",
       "        vertical-align: top;\n",
       "    }\n",
       "\n",
       "    .dataframe thead th {\n",
       "        text-align: right;\n",
       "    }\n",
       "</style>\n",
       "<table border=\"1\" class=\"dataframe\">\n",
       "  <thead>\n",
       "    <tr style=\"text-align: right;\">\n",
       "      <th></th>\n",
       "      <th></th>\n",
       "      <th>holdings</th>\n",
       "    </tr>\n",
       "    <tr>\n",
       "      <th>holder_type</th>\n",
       "      <th>mod_orientation</th>\n",
       "      <th></th>\n",
       "    </tr>\n",
       "  </thead>\n",
       "  <tbody>\n",
       "    <tr>\n",
       "      <th rowspan=\"2\" valign=\"top\">Bank/Investment Bank</th>\n",
       "      <th>0</th>\n",
       "      <td>539</td>\n",
       "    </tr>\n",
       "    <tr>\n",
       "      <th>Active Informed</th>\n",
       "      <td>6819</td>\n",
       "    </tr>\n",
       "    <tr>\n",
       "      <th rowspan=\"2\" valign=\"top\">Charitable Foundations</th>\n",
       "      <th>0</th>\n",
       "      <td>204</td>\n",
       "    </tr>\n",
       "    <tr>\n",
       "      <th>Active Informed</th>\n",
       "      <td>2</td>\n",
       "    </tr>\n",
       "    <tr>\n",
       "      <th>Company-Controlled Foundations</th>\n",
       "      <th>0</th>\n",
       "      <td>59</td>\n",
       "    </tr>\n",
       "    <tr>\n",
       "      <th rowspan=\"2\" valign=\"top\">Corporate Pension Sponsors</th>\n",
       "      <th>0</th>\n",
       "      <td>1092</td>\n",
       "    </tr>\n",
       "    <tr>\n",
       "      <th>Active Informed</th>\n",
       "      <td>325</td>\n",
       "    </tr>\n",
       "    <tr>\n",
       "      <th>Corporations (Private)</th>\n",
       "      <th>0</th>\n",
       "      <td>2</td>\n",
       "    </tr>\n",
       "    <tr>\n",
       "      <th>Corporations (Public)</th>\n",
       "      <th>0</th>\n",
       "      <td>1</td>\n",
       "    </tr>\n",
       "    <tr>\n",
       "      <th>ESOP</th>\n",
       "      <th>0</th>\n",
       "      <td>1071</td>\n",
       "    </tr>\n",
       "    <tr>\n",
       "      <th rowspan=\"2\" valign=\"top\">Educational/Cultural Endowment</th>\n",
       "      <th>0</th>\n",
       "      <td>79</td>\n",
       "    </tr>\n",
       "    <tr>\n",
       "      <th>Active Informed</th>\n",
       "      <td>18</td>\n",
       "    </tr>\n",
       "    <tr>\n",
       "      <th rowspan=\"3\" valign=\"top\">Family Offices/Trust</th>\n",
       "      <th>0</th>\n",
       "      <td>50</td>\n",
       "    </tr>\n",
       "    <tr>\n",
       "      <th>Active Informed</th>\n",
       "      <td>5188</td>\n",
       "    </tr>\n",
       "    <tr>\n",
       "      <th>Passive</th>\n",
       "      <td>43</td>\n",
       "    </tr>\n",
       "    <tr>\n",
       "      <th rowspan=\"3\" valign=\"top\">Government Pension Sponsor</th>\n",
       "      <th>0</th>\n",
       "      <td>82</td>\n",
       "    </tr>\n",
       "    <tr>\n",
       "      <th>Active Informed</th>\n",
       "      <td>13173</td>\n",
       "    </tr>\n",
       "    <tr>\n",
       "      <th>Passive</th>\n",
       "      <td>2046</td>\n",
       "    </tr>\n",
       "    <tr>\n",
       "      <th rowspan=\"3\" valign=\"top\">Hedge Fund Manager</th>\n",
       "      <th>0</th>\n",
       "      <td>229</td>\n",
       "    </tr>\n",
       "    <tr>\n",
       "      <th>Active Informed</th>\n",
       "      <td>8211</td>\n",
       "    </tr>\n",
       "    <tr>\n",
       "      <th>Passive</th>\n",
       "      <td>296</td>\n",
       "    </tr>\n",
       "    <tr>\n",
       "      <th rowspan=\"2\" valign=\"top\">Insurance Company</th>\n",
       "      <th>0</th>\n",
       "      <td>815</td>\n",
       "    </tr>\n",
       "    <tr>\n",
       "      <th>Active Informed</th>\n",
       "      <td>748</td>\n",
       "    </tr>\n",
       "    <tr>\n",
       "      <th rowspan=\"2\" valign=\"top\">REITs</th>\n",
       "      <th>0</th>\n",
       "      <td>187</td>\n",
       "    </tr>\n",
       "    <tr>\n",
       "      <th>Active Informed</th>\n",
       "      <td>24</td>\n",
       "    </tr>\n",
       "    <tr>\n",
       "      <th rowspan=\"2\" valign=\"top\">Sovereign Wealth Fund</th>\n",
       "      <th>0</th>\n",
       "      <td>115</td>\n",
       "    </tr>\n",
       "    <tr>\n",
       "      <th>Active Informed</th>\n",
       "      <td>1</td>\n",
       "    </tr>\n",
       "    <tr>\n",
       "      <th>State Owned Shares</th>\n",
       "      <th>0</th>\n",
       "      <td>216</td>\n",
       "    </tr>\n",
       "    <tr>\n",
       "      <th rowspan=\"3\" valign=\"top\">Traditional Investment Manager</th>\n",
       "      <th>0</th>\n",
       "      <td>4555</td>\n",
       "    </tr>\n",
       "    <tr>\n",
       "      <th>Active Informed</th>\n",
       "      <td>384514</td>\n",
       "    </tr>\n",
       "    <tr>\n",
       "      <th>Passive</th>\n",
       "      <td>74624</td>\n",
       "    </tr>\n",
       "    <tr>\n",
       "      <th rowspan=\"2\" valign=\"top\">Unclassified</th>\n",
       "      <th>0</th>\n",
       "      <td>211</td>\n",
       "    </tr>\n",
       "    <tr>\n",
       "      <th>Active Informed</th>\n",
       "      <td>27</td>\n",
       "    </tr>\n",
       "    <tr>\n",
       "      <th>Union Pension Sponsor</th>\n",
       "      <th>0</th>\n",
       "      <td>54</td>\n",
       "    </tr>\n",
       "    <tr>\n",
       "      <th>VC/PE Firm</th>\n",
       "      <th>Active Informed</th>\n",
       "      <td>4054</td>\n",
       "    </tr>\n",
       "  </tbody>\n",
       "</table>\n",
       "</div>"
      ],
      "text/plain": [
       "                                                holdings\n",
       "holder_type                    mod_orientation          \n",
       "Bank/Investment Bank           0                     539\n",
       "                               Active Informed      6819\n",
       "Charitable Foundations         0                     204\n",
       "                               Active Informed         2\n",
       "Company-Controlled Foundations 0                      59\n",
       "Corporate Pension Sponsors     0                    1092\n",
       "                               Active Informed       325\n",
       "Corporations (Private)         0                       2\n",
       "Corporations (Public)          0                       1\n",
       "ESOP                           0                    1071\n",
       "Educational/Cultural Endowment 0                      79\n",
       "                               Active Informed        18\n",
       "Family Offices/Trust           0                      50\n",
       "                               Active Informed      5188\n",
       "                               Passive                43\n",
       "Government Pension Sponsor     0                      82\n",
       "                               Active Informed     13173\n",
       "                               Passive              2046\n",
       "Hedge Fund Manager             0                     229\n",
       "                               Active Informed      8211\n",
       "                               Passive               296\n",
       "Insurance Company              0                     815\n",
       "                               Active Informed       748\n",
       "REITs                          0                     187\n",
       "                               Active Informed        24\n",
       "Sovereign Wealth Fund          0                     115\n",
       "                               Active Informed         1\n",
       "State Owned Shares             0                     216\n",
       "Traditional Investment Manager 0                    4555\n",
       "                               Active Informed    384514\n",
       "                               Passive             74624\n",
       "Unclassified                   0                     211\n",
       "                               Active Informed        27\n",
       "Union Pension Sponsor          0                      54\n",
       "VC/PE Firm                     Active Informed      4054"
      ]
     },
     "execution_count": 114,
     "metadata": {},
     "output_type": "execute_result"
    }
   ],
   "source": [
    "df.groupby(['holder_type', 'mod_orientation']).count()[['holdings']]"
   ]
  },
  {
   "cell_type": "code",
   "execution_count": 19,
   "id": "062c4a72-6469-4993-a135-e4a2e87e0c08",
   "metadata": {},
   "outputs": [],
   "source": [
    "q = df[df['mod_orientation']=='Active Informed']"
   ]
  },
  {
   "cell_type": "code",
   "execution_count": 20,
   "id": "d5429704-89d4-4d2e-8a7c-8c22bd39c499",
   "metadata": {},
   "outputs": [],
   "source": [
    "a = q.groupby(['sedol', 'asof_date'])[['pct', 'sedol', 'asof_date']].sum().reset_index()"
   ]
  },
  {
   "cell_type": "code",
   "execution_count": 21,
   "id": "40c889a4-fe2c-4ab8-aa7f-1c4cc9a5afe3",
   "metadata": {},
   "outputs": [
    {
     "data": {
      "text/html": [
       "<div>\n",
       "<style scoped>\n",
       "    .dataframe tbody tr th:only-of-type {\n",
       "        vertical-align: middle;\n",
       "    }\n",
       "\n",
       "    .dataframe tbody tr th {\n",
       "        vertical-align: top;\n",
       "    }\n",
       "\n",
       "    .dataframe thead th {\n",
       "        text-align: right;\n",
       "    }\n",
       "</style>\n",
       "<table border=\"1\" class=\"dataframe\">\n",
       "  <thead>\n",
       "    <tr style=\"text-align: right;\">\n",
       "      <th></th>\n",
       "      <th>pct</th>\n",
       "    </tr>\n",
       "    <tr>\n",
       "      <th>asof_date</th>\n",
       "      <th></th>\n",
       "    </tr>\n",
       "  </thead>\n",
       "  <tbody>\n",
       "    <tr>\n",
       "      <th>2010-12-31</th>\n",
       "      <td>19.522400</td>\n",
       "    </tr>\n",
       "    <tr>\n",
       "      <th>2011-12-31</th>\n",
       "      <td>19.974397</td>\n",
       "    </tr>\n",
       "    <tr>\n",
       "      <th>2012-12-31</th>\n",
       "      <td>22.373464</td>\n",
       "    </tr>\n",
       "    <tr>\n",
       "      <th>2013-12-31</th>\n",
       "      <td>22.635923</td>\n",
       "    </tr>\n",
       "    <tr>\n",
       "      <th>2014-12-31</th>\n",
       "      <td>23.086718</td>\n",
       "    </tr>\n",
       "    <tr>\n",
       "      <th>2015-12-31</th>\n",
       "      <td>22.454306</td>\n",
       "    </tr>\n",
       "    <tr>\n",
       "      <th>2016-12-31</th>\n",
       "      <td>24.999606</td>\n",
       "    </tr>\n",
       "    <tr>\n",
       "      <th>2017-12-31</th>\n",
       "      <td>24.447222</td>\n",
       "    </tr>\n",
       "    <tr>\n",
       "      <th>2018-12-31</th>\n",
       "      <td>26.367767</td>\n",
       "    </tr>\n",
       "    <tr>\n",
       "      <th>2019-12-31</th>\n",
       "      <td>24.725578</td>\n",
       "    </tr>\n",
       "    <tr>\n",
       "      <th>2020-12-31</th>\n",
       "      <td>25.409851</td>\n",
       "    </tr>\n",
       "    <tr>\n",
       "      <th>2021-12-31</th>\n",
       "      <td>23.872707</td>\n",
       "    </tr>\n",
       "  </tbody>\n",
       "</table>\n",
       "</div>"
      ],
      "text/plain": [
       "                  pct\n",
       "asof_date            \n",
       "2010-12-31  19.522400\n",
       "2011-12-31  19.974397\n",
       "2012-12-31  22.373464\n",
       "2013-12-31  22.635923\n",
       "2014-12-31  23.086718\n",
       "2015-12-31  22.454306\n",
       "2016-12-31  24.999606\n",
       "2017-12-31  24.447222\n",
       "2018-12-31  26.367767\n",
       "2019-12-31  24.725578\n",
       "2020-12-31  25.409851\n",
       "2021-12-31  23.872707"
      ]
     },
     "execution_count": 21,
     "metadata": {},
     "output_type": "execute_result"
    }
   ],
   "source": [
    "a.groupby(['asof_date']).mean()"
   ]
  },
  {
   "cell_type": "markdown",
   "id": "089254bc-2c6d-4395-a626-d988dff86ab9",
   "metadata": {},
   "source": [
    "### Fast Retail Case Study"
   ]
  },
  {
   "cell_type": "code",
   "execution_count": 13,
   "id": "fbc6bdbf-d601-4e94-abd8-24be31bea842",
   "metadata": {},
   "outputs": [],
   "source": [
    "# df[df['comn'].str.contains('FAST')]"
   ]
  },
  {
   "cell_type": "code",
   "execution_count": 68,
   "id": "8dec237a-ab52-4213-88a0-aace7ec1c32d",
   "metadata": {},
   "outputs": [
    {
     "data": {
      "image/png": "[encoded data removed]",
      "text/plain": [
       "<Figure size 432x288 with 1 Axes>"
      ]
     },
     "metadata": {
      "needs_background": "light"
     },
     "output_type": "display_data"
    }
   ],
   "source": [
    "sedol = '6332439'\n",
    "fast_df = df[df['sedol']==sedol]\n",
    "\n",
    "uninf_df, inf_df, pass_df = get_breakdown(fast_df)\n",
    "plot_breakdown_3(uninf_df, inf_df, pass_df)"
   ]
  },
  {
   "cell_type": "markdown",
   "id": "1d9c8af0-45a9-4d6b-b5b0-3d8525b4faa1",
   "metadata": {},
   "source": [
    "### Onwership Split By Decile"
   ]
  },
  {
   "cell_type": "code",
   "execution_count": 115,
   "id": "318f3327-40e2-4a93-948c-22b1e1bf6cf8",
   "metadata": {},
   "outputs": [],
   "source": [
    "top_df = df[df['nk_weight_decile'].isin([9])]\n",
    "bot_df = df[df['nk_weight_decile'].isin([0])]"
   ]
  },
  {
   "cell_type": "code",
   "execution_count": 116,
   "id": "b5ded8d2-6247-4cbc-aeb0-4b39525cb108",
   "metadata": {},
   "outputs": [],
   "source": [
    "def get_aggregate_breakdown(top_df):\n",
    "    uninf_df_list, inf_df_list, pass_df_list = [], [], []\n",
    "    for sedol, sedol_df in tqdm(top_df.groupby(['sedol'])): \n",
    "        uninf_df, inf_df, pass_df = get_breakdown(sedol_df)\n",
    "        uninf_df_list.append(uninf_df)\n",
    "        inf_df_list.append(inf_df)\n",
    "        pass_df_list.append(pass_df)\n",
    "\n",
    "    uninf_df_list_full, inf_df_list_full, pass_df_list_full = pd.concat(uninf_df_list), pd.concat(inf_df_list), pd.concat(pass_df_list)\n",
    "    \n",
    "    unif_agg_df = uninf_df_list_full.groupby('asof_date').mean().reset_index()\n",
    "    inf_agg_df = inf_df_list_full.groupby('asof_date').mean().reset_index()\n",
    "    pass_agg_df = pass_df_list_full.groupby('asof_date').mean().reset_index()\n",
    "    \n",
    "    return unif_agg_df, inf_agg_df, pass_agg_df"
   ]
  },
  {
   "cell_type": "code",
   "execution_count": 117,
   "id": "3496c605-fb2e-41ed-a9a9-eac704476e38",
   "metadata": {},
   "outputs": [
    {
     "name": "stderr",
     "output_type": "stream",
     "text": [
      "100%|██████████████████████████████████████████████████████████████████████████████████| 24/24 [00:01<00:00, 22.64it/s]\n",
      "100%|██████████████████████████████████████████████████████████████████████████████████| 24/24 [00:00<00:00, 25.99it/s]\n"
     ]
    }
   ],
   "source": [
    "top_uninf_agg_df, top_inf_agg_df, top_pass_agg_df = get_aggregate_breakdown(top_df)\n",
    "bot_uninf_agg_df, bot_inf_agg_df, bot_pass_agg_df = get_aggregate_breakdown(bot_df)"
   ]
  },
  {
   "cell_type": "code",
   "execution_count": 118,
   "id": "45f2341b-1ef1-4744-9305-cf606e4b53ed",
   "metadata": {},
   "outputs": [
    {
     "data": {
      "image/png": "[encoded data removed]",
      "text/plain": [
       "<Figure size 432x288 with 1 Axes>"
      ]
     },
     "metadata": {
      "needs_background": "light"
     },
     "output_type": "display_data"
    }
   ],
   "source": [
    "plot_breakdown_3(top_uninf_agg_df, \n",
    "                 top_inf_agg_df, \n",
    "                 top_pass_agg_df, \n",
    "                 title='Ownership Composition for High-Price Nikkei Stocks', \n",
    "                 save_name='ownership_high_priced_3')"
   ]
  },
  {
   "cell_type": "code",
   "execution_count": 119,
   "id": "133b4916-b4a7-4cbd-a392-dce4909f8e02",
   "metadata": {},
   "outputs": [
    {
     "data": {
      "image/png": "[encoded data removed]",
      "text/plain": [
       "<Figure size 432x288 with 1 Axes>"
      ]
     },
     "metadata": {
      "needs_background": "light"
     },
     "output_type": "display_data"
    }
   ],
   "source": [
    "plot_breakdown_3(bot_uninf_agg_df, \n",
    "                 bot_inf_agg_df,\n",
    "                 bot_pass_agg_df, \n",
    "                 title='Ownership Composition for Low-Price Nikkei Stocks', \n",
    "                 save_name='ownership_low_priced_3')"
   ]
  },
  {
   "cell_type": "code",
   "execution_count": null,
   "id": "3d43467c-d65b-4fdf-8fd2-95d2cd545865",
   "metadata": {},
   "outputs": [],
   "source": []
  }
 ],
 "metadata": {
  "kernelspec": {
   "display_name": "Python 3",
   "language": "python",
   "name": "python3"
  },
  "language_info": {
   "codemirror_mode": {
    "name": "ipython",
    "version": 3
   },
   "file_extension": ".py",
   "mimetype": "text/x-python",
   "name": "python",
   "nbconvert_exporter": "python",
   "pygments_lexer": "ipython3",
   "version": "3.9.5"
  }
 },
 "nbformat": 4,
 "nbformat_minor": 5
}
