{
 "cells": [
  {
   "cell_type": "code",
   "execution_count": 38,
   "id": "5d142c64-66a1-44a3-b4b6-e87fc5135d32",
   "metadata": {},
   "outputs": [],
   "source": [
    "import pandas as pd\n",
    "import math\n",
    "import time\n",
    "import numpy as np\n",
    "from tqdm import tqdm \n",
    "import matplotlib.pyplot as plt\n",
    "from matplotlib.dates import date2num\n",
    "import datetime\n",
    "from scipy.stats.mstats import winsorize\n",
    "\n",
    "pd.options.mode.chained_assignment = None  # default='warn'\n",
    "\n",
    "PATH = \"C:/Users/jackl/OneDrive/Documents/finance_research/japan_qe/\""
   ]
  },
  {
   "cell_type": "code",
   "execution_count": 39,
   "id": "8d1e6e58-3621-4453-93e4-93ef9e3fbe70",
   "metadata": {},
   "outputs": [],
   "source": [
    "def change_orientation(df):\n",
    "    # modifies orientation list\n",
    "    # makes individual owners marked as passive\n",
    "    o_list, h_list = list(df['orientation']), list(df['holder_type'])\n",
    "    mod_o_list = []\n",
    "    for i in range(len(o_list)):\n",
    "        o, h = o_list[i], h_list[i]\n",
    "\n",
    "        if o == 'Active':\n",
    "            o = 'Active Informed'\n",
    "\n",
    "        if h == 'VC/PE Firm': \n",
    "            mod_o_list.append('Active Informed')\n",
    "        else: \n",
    "            mod_o_list.append(o)\n",
    "\n",
    "    df['mod_orientation'] = mod_o_list\n",
    "    return df"
   ]
  },
  {
   "cell_type": "code",
   "execution_count": 43,
   "id": "af54ec00-d255-4ee9-9f54-621d29cbec74",
   "metadata": {},
   "outputs": [],
   "source": [
    "own_df1 = pd.read_pickle(PATH+'checkpoint_data/ownership_jan03.pkl')"
   ]
  },
  {
   "cell_type": "code",
   "execution_count": 44,
   "id": "1e606997-5634-42fc-b7bb-c2da8454cb1e",
   "metadata": {},
   "outputs": [],
   "source": [
    "boj_df = pd.read_pickle(PATH+'checkpoint_data/boj_purchases_stock_level_v2.pkl')"
   ]
  },
  {
   "cell_type": "code",
   "execution_count": 45,
   "id": "2c836619-c47d-4df5-bc65-e312b7e5cd67",
   "metadata": {},
   "outputs": [],
   "source": [
    "#get shares outstanding\n",
    "nk_df = pd.read_csv(PATH+'nk_df_v2.csv')\n",
    "nk_df['sedol'] = nk_df['sedol'].astype(str)\n",
    "ret_df = pd.read_pickle(PATH+'checkpoint_data/returns_all_stocks.pkl')\n",
    "ret_df['sedol'] = ret_df['sedol'].astype(str)\n",
    "ret_df = ret_df[ret_df['sedol'].isin(nk_df['sedol'])]\n",
    "ret_df = ret_df[['sedol', 'datadate', 'cshoc']]\n",
    "ret_df = ret_df.dropna()\n",
    "\n",
    "#get shares outstanding\n",
    "own_df1 = pd.merge_asof(own_df1.sort_values('date'), \n",
    "                        ret_df.sort_values('datadate'), \n",
    "                        by='sedol',\n",
    "                        left_on=['date'], \n",
    "                        right_on=['datadate'], \n",
    "                        direction='nearest').drop(columns=['datadate'])\n",
    "\n",
    "#account for short positions\n",
    "own_df1['short_dummy'] = own_df1['holdings'].apply(lambda x: 1 if x < 0 else 0)\n",
    "own_df1['holdings'] = abs(own_df1['holdings'])\n",
    "own_df1['pct'] = abs(own_df1['pct'])\n",
    "\n",
    "#correct holdings for incorrect firms with shares outstanding data\n",
    "pt1 = own_df1[((own_df1['holdings'] != 0) & (own_df1['pct'] == 0))].copy()\n",
    "pt2 = own_df1[((own_df1['holdings'] != 0) & (own_df1['pct'].isna()))].copy()\n",
    "pt3 = own_df1[((own_df1['holdings'] == 0) & (own_df1['pct'] != 0))].copy()\n",
    "pt4 = own_df1[((own_df1['holdings'] == 0) & (own_df1['pct'].isna()))].copy()\n",
    "wrong_df = pd.concat([pt1, pt2, pt3, pt4])\n",
    "wrong_df['pct'] = wrong_df['holdings']/wrong_df['cshoc'] * 100\n",
    "own_df1 = pd.concat([wrong_df, own_df1])\n",
    "own_df1 = own_df1.drop_duplicates(['ticker', 'asof_date', 'ciq'], keep='first')\n",
    "\n",
    "#make sure dates are correct, i.e. exclude incorrect dates\n",
    "own_df1['date_diff'] = abs(own_df1['asof_date'] - own_df1['date'])\n",
    "own_df1 = own_df1[own_df1['date_diff'] < pd.Timedelta(days=365)]"
   ]
  },
  {
   "cell_type": "code",
   "execution_count": 46,
   "id": "0d5b57f8-0c10-48a2-8014-04362db33773",
   "metadata": {},
   "outputs": [],
   "source": [
    "own_df1 = change_orientation(own_df1)"
   ]
  },
  {
   "cell_type": "code",
   "execution_count": 47,
   "id": "773f607c-3fbd-452f-9b7c-990eabdd387f",
   "metadata": {},
   "outputs": [],
   "source": [
    "own_df1 = own_df1[['sedol', 'comn', 'ticker', 'asof_date', 'cshoc', 'name', 'holdings', 'pct', 'short_dummy', 'ciq', 'holder_type',\n",
    "                   'date', 'date_diff', 'mod_orientation', 'orientation']]\n",
    "own_df1 = own_df1.sort_values(['sedol', 'asof_date', 'pct'], ascending=[True, True, False]).reset_index(drop=True)"
   ]
  },
  {
   "cell_type": "code",
   "execution_count": 48,
   "id": "29a18d39-43c1-43a7-b809-eb16e2d9c2bb",
   "metadata": {},
   "outputs": [],
   "source": [
    "own_df1.to_pickle(PATH+'checkpoint_data/ownership_jan03_v2.pkl')"
   ]
  },
  {
   "cell_type": "code",
   "execution_count": null,
   "id": "402e3421-76ce-4b8f-aa54-a62586bb5b5c",
   "metadata": {},
   "outputs": [],
   "source": []
  }
 ],
 "metadata": {
  "kernelspec": {
   "display_name": "Python 3",
   "language": "python",
   "name": "python3"
  },
  "language_info": {
   "codemirror_mode": {
    "name": "ipython",
    "version": 3
   },
   "file_extension": ".py",
   "mimetype": "text/x-python",
   "name": "python",
   "nbconvert_exporter": "python",
   "pygments_lexer": "ipython3",
   "version": "3.9.5"
  }
 },
 "nbformat": 4,
 "nbformat_minor": 5
}
