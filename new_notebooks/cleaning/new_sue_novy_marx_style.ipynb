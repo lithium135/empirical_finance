{
 "cells": [
  {
   "cell_type": "markdown",
   "id": "6564504b-9342-41fd-9958-3b529217f281",
   "metadata": {},
   "source": [
    "Cleans IBES data and adds Novy-Marx style SUE measures. \n",
    "\n",
    "Final output is a dataframe containing companies with their SUE at different quarters. "
   ]
  },
  {
   "cell_type": "code",
   "execution_count": 5,
   "id": "092d75a1-33da-49f4-acf5-96fb94af3a63",
   "metadata": {},
   "outputs": [],
   "source": [
    "import pandas as pd\n",
    "import datetime as dt\n",
    "import math\n",
    "import matplotlib.pyplot as plt\n",
    "\n",
    "from tqdm import tqdm\n",
    "from pandas.tseries.offsets import BDay\n",
    "\n",
    "pd.set_option(\"display.max_columns\", None)\n",
    "\n",
    "PATH = \"C:/Users/jackl/OneDrive/Documents/finance_research/japan_qe/\""
   ]
  },
  {
   "cell_type": "markdown",
   "id": "c5717987-555d-41e0-bda8-2842004e8a8e",
   "metadata": {},
   "source": [
    "## IBES SUE Cleaning"
   ]
  },
  {
   "cell_type": "code",
   "execution_count": 6,
   "id": "771666ff-c049-4d9c-8bc8-cb1c773ebd91",
   "metadata": {},
   "outputs": [],
   "source": [
    "_alphabet = '0123456789 BCD FGH JKLMN PQRST VWXYZ'\n",
    "def calc_check_digit(number):\n",
    "    weights = (1, 3, 1, 7, 3, 9)\n",
    "    s = sum(w * _alphabet.index(n) for w, n in zip(weights, number))\n",
    "    return str((10 - s) % 10)"
   ]
  },
  {
   "cell_type": "code",
   "execution_count": 7,
   "id": "008e2bbd-4619-4540-ab4c-0eb2d1ea1a28",
   "metadata": {},
   "outputs": [
    {
     "name": "stderr",
     "output_type": "stream",
     "text": [
      "c:\\users\\jackl\\appdata\\local\\programs\\python\\python39\\lib\\site-packages\\IPython\\core\\interactiveshell.py:3169: DtypeWarning: Columns (7) have mixed types.Specify dtype option on import or set low_memory=False.\n",
      "  has_raised = await self.run_ast_nodes(code_ast.body, cell_name,\n"
     ]
    }
   ],
   "source": [
    "sum_detailed_df = pd.read_csv(PATH+'raw_data/ibes/detailed_int.csv', parse_dates=['ANNDATS_ACT', 'FPEDATS'])\n",
    "sum_detailed_df = sum_detailed_df.dropna(subset=['CUSIP']).drop_duplicates(['CUSIP', 'FPEDATS'])"
   ]
  },
  {
   "cell_type": "code",
   "execution_count": 8,
   "id": "a1435b75-fb81-46dc-b554-c0d3964c6515",
   "metadata": {},
   "outputs": [],
   "source": [
    "cols = ['TICKER', 'CUSIP', 'CNAME', 'ANNDATS_ACT', 'ANNTIMS_ACT', 'FPEDATS']\n",
    "sum_detailed_jp_df = sum_detailed_df[sum_detailed_df['CURR']=='JPY'][cols]\n",
    "sum_detailed_jp_df[['TICKER', 'CUSIP']] = sum_detailed_jp_df[['TICKER', 'CUSIP']].astype(str)\n",
    "sum_detailed_jp_df['ANNTIMS_ACT'] = pd.to_timedelta(sum_detailed_jp_df['ANNTIMS_ACT'])"
   ]
  },
  {
   "cell_type": "code",
   "execution_count": 9,
   "id": "67090b7d-05d9-40f0-8a88-39edaabd2754",
   "metadata": {},
   "outputs": [],
   "source": [
    "#get SEDOL from CUSIP\n",
    "sum_detailed_jp_df['SEDOL'] = sum_detailed_jp_df['CUSIP'].apply(lambda x: str(x)[2:] if len(str(x)) == 8 else math.nan)\n",
    "sum_detailed_jp_df['SEDOL'] = sum_detailed_jp_df['SEDOL'].apply(lambda x: str(x) + calc_check_digit(x) if len(str(x)) == 6 else math.nan)"
   ]
  },
  {
   "cell_type": "code",
   "execution_count": 10,
   "id": "1f808430-64dc-4e7e-a5aa-0fe2c84168dd",
   "metadata": {},
   "outputs": [],
   "source": [
    "sum_detailed_jp_df['ANNDATS_FULL_CONVERT'] = (sum_detailed_jp_df['ANNDATS_ACT'] + sum_detailed_jp_df['ANNTIMS_ACT'])\n",
    "sum_detailed_jp_df['ANNDATS_FULL_CONVERT'] = sum_detailed_jp_df['ANNDATS_FULL_CONVERT'].dt.tz_localize('EST').dt.tz_convert('Asia/Tokyo')"
   ]
  },
  {
   "cell_type": "code",
   "execution_count": 11,
   "id": "40528813-db27-449e-bea4-ece0cbc00cf1",
   "metadata": {},
   "outputs": [],
   "source": [
    "#convert times\n",
    "sum_detailed_jp_df['ANNDATS_FULL_CONVERT'] = (sum_detailed_jp_df['ANNDATS_ACT'] + sum_detailed_jp_df['ANNTIMS_ACT']).dt.tz_localize('EST').dt.tz_convert('Asia/Tokyo')\n",
    "sum_detailed_jp_df['ANNDATS_ACT_CONVERT'] = sum_detailed_jp_df['ANNDATS_FULL_CONVERT'].dt.date\n",
    "sum_detailed_jp_df['ANNTIMS_ACT_CONVERT'] = pd.to_timedelta(sum_detailed_jp_df['ANNDATS_FULL_CONVERT'].dt.time.astype(str))"
   ]
  },
  {
   "cell_type": "code",
   "execution_count": 12,
   "id": "d881c487-f959-4e62-b901-6f8595131303",
   "metadata": {},
   "outputs": [],
   "source": [
    "#adjust time zones. This is needed since IBES data is quoted in NY time, while price data is Japanese local time\n",
    "sum_detailed_jp_df['eff_anndats'] = sum_detailed_jp_df['ANNDATS_ACT_CONVERT'] + sum_detailed_jp_df['ANNTIMS_ACT_CONVERT'].apply(lambda x: BDay(1) if (x > pd.to_timedelta('15:00:00')) else BDay(0))"
   ]
  },
  {
   "cell_type": "code",
   "execution_count": 13,
   "id": "f7161c5d-b2ab-494d-9e8c-a038bf693f13",
   "metadata": {},
   "outputs": [],
   "source": [
    "sum_detailed_jp_df = sum_detailed_jp_df.drop(columns=['ANNDATS_ACT', \n",
    "                                                      'ANNDATS_FULL_CONVERT', \n",
    "                                                      'ANNDATS_ACT_CONVERT', \n",
    "                                                      'ANNTIMS_ACT_CONVERT'])"
   ]
  },
  {
   "cell_type": "code",
   "execution_count": 14,
   "id": "89fa6606-ffc5-4a17-b0ae-a6f62dec301d",
   "metadata": {},
   "outputs": [],
   "source": [
    "sum_detailed_jp_df['PMON'] = sum_detailed_jp_df['FPEDATS'].dt.month\n",
    "sum_detailed_jp_df['PYEAR'] = sum_detailed_jp_df['FPEDATS'].dt.year"
   ]
  },
  {
   "cell_type": "code",
   "execution_count": 15,
   "id": "51ef523b-b84f-4ec1-a39a-fea6a784892c",
   "metadata": {},
   "outputs": [],
   "source": [
    "anndats = list(sum_detailed_jp_df['eff_anndats'])\n",
    "times = list(sum_detailed_jp_df['ANNTIMS_ACT'])\n",
    "ref_anndats = []\n",
    "for i in range(len(anndats)): \n",
    "    if times[i] >= pd.to_timedelta('00:00:00'): \n",
    "        ref_anndats.append(anndats[i])\n",
    "    else: \n",
    "        ref_anndats.append(math.nan)\n",
    "        \n",
    "sum_detailed_jp_df['eff_anndats'] = ref_anndats"
   ]
  },
  {
   "cell_type": "markdown",
   "id": "cf8e4a05-f7c1-41fc-ac49-4fe35c36b8eb",
   "metadata": {},
   "source": [
    "### Novy-Marx SUE"
   ]
  },
  {
   "cell_type": "code",
   "execution_count": 16,
   "id": "e15d6fe6-ef04-43fd-aae7-a629d6c3d06f",
   "metadata": {},
   "outputs": [],
   "source": [
    "ws_df = pd.read_csv(PATH+'raw_data/worldscope/all_earnings.csv', parse_dates=['ITEM5350'])\n",
    "ws_df.columns = ['code', 'year_', 'freq', 'seq', 'e', 'date', 'sedol', 'fyr']\n",
    "ws_df['sedol'] = ws_df['sedol'].astype(str)\n",
    "ws_df = ws_df.drop(columns=['code'])"
   ]
  },
  {
   "cell_type": "code",
   "execution_count": 17,
   "id": "26b0ae6f-67e1-4c90-b5db-e047ef7ea29d",
   "metadata": {},
   "outputs": [],
   "source": [
    "ws_df = ws_df[ws_df['sedol'].isin(sum_detailed_jp_df['SEDOL'].unique())].dropna(subset=['sedol'])\n",
    "ws_df['year_behind'] = ws_df['year_'] - 1\n",
    "\n",
    "ws_df_merged = pd.merge(ws_df, \n",
    "                        ws_df[['sedol', 'year_', 'e' ,'seq']], \n",
    "                        left_on=['sedol', 'year_behind', 'seq'], \n",
    "                        right_on=['sedol', 'year_', 'seq'], \n",
    "                        how='left', \n",
    "                        suffixes=[None, '_behind']).drop(columns=['year__behind', 'year_behind'])"
   ]
  },
  {
   "cell_type": "code",
   "execution_count": 18,
   "id": "598243e1-ae9f-48fb-960e-91a09709420a",
   "metadata": {},
   "outputs": [],
   "source": [
    "ws_df_merged['e_diff'] = ws_df_merged['e'] - ws_df_merged['e_behind']\n",
    "ws_df_merged = ws_df_merged.sort_values(['sedol', 'year_', 'seq']).reset_index(drop=True)"
   ]
  },
  {
   "cell_type": "code",
   "execution_count": 20,
   "id": "19e2a49e-76a1-490e-ae4a-d81273272344",
   "metadata": {},
   "outputs": [
    {
     "name": "stderr",
     "output_type": "stream",
     "text": [
      "100%|█████████████████████████████████████████████████████████████████████████████| 1341/1341 [00:03<00:00, 435.31it/s]\n"
     ]
    }
   ],
   "source": [
    "ws_df_merged_list = []\n",
    "for sedol, df in tqdm(ws_df_merged.groupby(['sedol'])): \n",
    "    df['e_std_dev_past'] = df['e_diff'].rolling(window=8, min_periods=6).std().shift(1)\n",
    "    ws_df_merged_list.append(df)\n",
    "ws_df_merged = pd.concat(ws_df_merged_list)"
   ]
  },
  {
   "cell_type": "code",
   "execution_count": 21,
   "id": "09002ff4-4b66-485c-a992-c9a33cf77ff0",
   "metadata": {},
   "outputs": [],
   "source": [
    "ws_df_merged['sue_nm'] = ws_df_merged['e_diff']/ws_df_merged['e_std_dev_past']\n",
    "ws_df_merged['PYEAR'] = ws_df_merged['date'].dt.year\n",
    "ws_df_merged['PMON'] = ws_df_merged['date'].dt.month"
   ]
  },
  {
   "cell_type": "code",
   "execution_count": 22,
   "id": "04c0acf4-e349-4599-a257-ad70a621a2ab",
   "metadata": {},
   "outputs": [],
   "source": [
    "ws_df_merged = ws_df_merged.dropna(subset=['sedol'])\n",
    "ws_df_merged['sedol'] = ws_df_merged['sedol'].astype(str)"
   ]
  },
  {
   "cell_type": "code",
   "execution_count": 23,
   "id": "d8d4c831-0617-4bc3-83da-b861e7f96a8e",
   "metadata": {
    "tags": []
   },
   "outputs": [],
   "source": [
    "jp_sue_df_merged_nm = pd.merge(sum_detailed_jp_df, \n",
    "                               ws_df_merged[['sedol', 'PMON', 'PYEAR', 'sue_nm']], \n",
    "                               left_on=['SEDOL', 'PMON', 'PYEAR'],\n",
    "                               right_on=['sedol', 'PMON', 'PYEAR'], \n",
    "                               how='left').drop(columns='sedol')"
   ]
  },
  {
   "cell_type": "code",
   "execution_count": 115,
   "id": "60870a92-9c64-473e-a9ae-cae12b13d485",
   "metadata": {},
   "outputs": [],
   "source": [
    "jp_sue_df_merged_nm.to_pickle(PATH+'checkpoint_data/sue_df_nm.pkl')"
   ]
  },
  {
   "cell_type": "markdown",
   "id": "eeda8b20-ec25-4efa-8631-3cc0815b18c8",
   "metadata": {},
   "source": [
    "## Get $\\Delta$E/P"
   ]
  },
  {
   "cell_type": "code",
   "execution_count": null,
   "id": "1526a7e8-2fb5-42ff-9c99-70d814f4d3d2",
   "metadata": {},
   "outputs": [],
   "source": []
  },
  {
   "cell_type": "code",
   "execution_count": 25,
   "id": "7184f218-3cac-45de-9e52-ac7e642edd87",
   "metadata": {},
   "outputs": [],
   "source": [
    "jp_sue_df_merged_nm['eff_anndats_l1'] = jp_sue_df_merged_nm['eff_anndats'] - pd.DateOffset(days=1)"
   ]
  }
 ],
 "metadata": {
  "kernelspec": {
   "display_name": "Python 3",
   "language": "python",
   "name": "python3"
  },
  "language_info": {
   "codemirror_mode": {
    "name": "ipython",
    "version": 3
   },
   "file_extension": ".py",
   "mimetype": "text/x-python",
   "name": "python",
   "nbconvert_exporter": "python",
   "pygments_lexer": "ipython3",
   "version": "3.9.5"
  }
 },
 "nbformat": 4,
 "nbformat_minor": 5
}
