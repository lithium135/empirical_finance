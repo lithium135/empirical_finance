{
 "cells": [
  {
   "cell_type": "code",
   "execution_count": 1,
   "id": "bc7cf3b9-828a-4007-9e4b-b914bd825e0e",
   "metadata": {
    "tags": []
   },
   "outputs": [],
   "source": [
    "import pandas as pd\n",
    "import numpy as np\n",
    "import datetime as dt\n",
    "import math\n",
    "import matplotlib.pyplot as plt\n",
    "from pandas.tseries.offsets import BDay\n",
    "from tqdm import tqdm\n",
    "\n",
    "pd.set_option(\"display.max_columns\", None)\n",
    "PATH = \"C:/Users/jackl/OneDrive/Documents/finance_research/japan_qe/\""
   ]
  },
  {
   "cell_type": "code",
   "execution_count": 2,
   "id": "428f23eb-571d-40db-ba18-e72fc54d7cff",
   "metadata": {},
   "outputs": [],
   "source": [
    "def get_truncated_df(merge_df, columns, year_column_name=None, low=0.01, high=0.99):\n",
    "    merge_df_copy = merge_df.copy()\n",
    "    if year_column_name == None:\n",
    "        for column in columns: \n",
    "            _1pct, _99pct = merge_df_copy[column].quantile(q=low), merge_df_copy[column].quantile(q=high)\n",
    "            merge_df_copy[column].where((merge_df_copy[column] < _99pct) & (merge_df_copy[column] > _1pct), math.nan, inplace=True)\n",
    "    else: \n",
    "        merge_df_list = []\n",
    "        merge_year_df_list = [[year, merge_year_df] for year, merge_year_df in merge_df_copy.groupby(year_column_name)]\n",
    "        for year, merge_year_df in tqdm(merge_year_df_list):\n",
    "            for column in columns: \n",
    "                _1pct, _99pct = merge_year_df[column].quantile(q=low), merge_year_df[column].quantile(q=high)\n",
    "                merge_year_df[column].where(~((merge_year_df[column] > _99pct) | (merge_year_df[column] < _1pct)), math.nan, inplace=True)\n",
    "            merge_df_list.append(merge_year_df)\n",
    "        merge_df_copy = pd.concat(merge_df_list)\n",
    "    \n",
    "    return merge_df_copy\n",
    "\n",
    "def get_boj_quintiles_conditional(sue_df_boj_merged, suffix=None, quantiles=5):\n",
    "    sue_df_boj_merged_nd = sue_df_boj_merged[['SEDOL', 'qtr_yr_index', 'boj_share_shares']].drop_duplicates()\n",
    "    sue_df_boj_merged_nd_list = []\n",
    "    for index, df in tqdm(sue_df_boj_merged_nd.groupby('qtr_yr_index')): \n",
    "        try:\n",
    "            df['boj_share_shares_quantiles_'+suffix] = pd.qcut(df['boj_share_shares'], quantiles, labels=False)\n",
    "        except: \n",
    "            df['boj_share_shares_quantiles_'+suffix] = [math.nan for i in range(len(df))]\n",
    "\n",
    "        sue_df_boj_merged_nd_list.append(df)\n",
    "\n",
    "    sue_df_boj_merged_nd = pd.concat(sue_df_boj_merged_nd_list)\n",
    "\n",
    "    sue_df_boj_merged = pd.merge(sue_df_boj_merged, \n",
    "                                 sue_df_boj_merged_nd, \n",
    "                                 on=['SEDOL', 'qtr_yr_index', 'boj_share_shares'])\n",
    "    return sue_df_boj_merged"
   ]
  },
  {
   "cell_type": "code",
   "execution_count": 3,
   "id": "0e4250fd-c801-43a9-b353-7dac3115e8b8",
   "metadata": {},
   "outputs": [],
   "source": [
    "sue_df = pd.read_pickle(PATH+'checkpoint_data/sue_df_final.pkl')"
   ]
  },
  {
   "cell_type": "code",
   "execution_count": 5,
   "id": "768c26a4-7622-45b1-af26-25773732e194",
   "metadata": {},
   "outputs": [],
   "source": [
    "sue_df['qtr_yr_index'] = sue_df['qtr_yr_index'].apply(lambda x: (x[1], x[0]))\n",
    "qtr_index = dict(zip(sorted(sue_df['qtr_yr_index'].unique()), [i for i in range(len(sue_df['qtr_yr_index'].unique()))]))\n",
    "sue_df['qtr_index'] = sue_df['qtr_yr_index'].apply(lambda x: qtr_index[x])"
   ]
  },
  {
   "cell_type": "code",
   "execution_count": 6,
   "id": "4d910c0a-f9f8-4dc4-8d36-0c6347839573",
   "metadata": {},
   "outputs": [],
   "source": [
    "ed_df = sue_df[sue_df['event_day']==0]"
   ]
  },
  {
   "cell_type": "code",
   "execution_count": 7,
   "id": "923fb642-9134-4373-a9eb-2c8bdd7807e8",
   "metadata": {},
   "outputs": [
    {
     "name": "stderr",
     "output_type": "stream",
     "text": [
      "100%|█████████████████████████████████████████████████████████████████████████████████| 63/63 [00:00<00:00, 166.67it/s]\n"
     ]
    }
   ],
   "source": [
    "ed_df = get_boj_quintiles_conditional(ed_df, suffix='nk', quantiles=10)"
   ]
  },
  {
   "cell_type": "code",
   "execution_count": 8,
   "id": "146e9c62-5b02-44ac-aa14-4444329654e2",
   "metadata": {},
   "outputs": [],
   "source": [
    "ed_df = ed_df[['SEDOL', 'fpedat', 'eff_anndats', 'sue_nm', 'qtr_index', 'sue_nm_quintiles', 'sue_nm_deciles',\n",
    "               'mod_ret_mkt_adj', 'boj_share_shares', 'boj_share_shares_quantiles_nk', 'yr', 'nk_flag']]"
   ]
  },
  {
   "cell_type": "code",
   "execution_count": 9,
   "id": "33c8a43b-20e4-489a-883a-011f6dccafe6",
   "metadata": {},
   "outputs": [],
   "source": [
    "ed_df_trimmed = get_truncated_df(ed_df, \n",
    "                                 columns=['sue_nm', 'mod_ret_mkt_adj'], \n",
    "                                 year_column_name=None, \n",
    "                                 low=0.01, \n",
    "                                 high=0.99)"
   ]
  },
  {
   "cell_type": "code",
   "execution_count": 10,
   "id": "9c0350cc-29a4-42d9-98fd-0990c80c749e",
   "metadata": {},
   "outputs": [],
   "source": [
    "ed_df_trimmed.to_stata(PATH+'regression_files\\dta_files\\event_day_test.dta')"
   ]
  },
  {
   "cell_type": "code",
   "execution_count": 17,
   "id": "06f66fed-1f50-40b6-aef1-ae0b6317c464",
   "metadata": {},
   "outputs": [],
   "source": [
    "df = pd.read_excel(r'C:\\Users\\jackl\\Downloads\\Democracy.xls')"
   ]
  },
  {
   "cell_type": "code",
   "execution_count": 19,
   "id": "e67197d4-dce7-4f1e-b3bf-064991e080bb",
   "metadata": {},
   "outputs": [],
   "source": [
    "df.to_stata('democracy.dta')"
   ]
  }
 ],
 "metadata": {
  "kernelspec": {
   "display_name": "Python 3",
   "language": "python",
   "name": "python3"
  },
  "language_info": {
   "codemirror_mode": {
    "name": "ipython",
    "version": 3
   },
   "file_extension": ".py",
   "mimetype": "text/x-python",
   "name": "python",
   "nbconvert_exporter": "python",
   "pygments_lexer": "ipython3",
   "version": "3.9.5"
  }
 },
 "nbformat": 4,
 "nbformat_minor": 5
}
