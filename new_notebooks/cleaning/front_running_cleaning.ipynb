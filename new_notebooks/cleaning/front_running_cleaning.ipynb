{
 "cells": [
  {
   "cell_type": "code",
   "execution_count": 63,
   "id": "c0edfaa8-9008-4b9a-aa73-07b4516813ff",
   "metadata": {},
   "outputs": [],
   "source": [
    "import pandas as pd\n",
    "import numpy as np\n",
    "import datetime as dt\n",
    "import math\n",
    "import matplotlib.pyplot as plt\n",
    "from pandas.tseries.offsets import BDay\n",
    "from tqdm import tqdm\n",
    "from scipy.stats.mstats import winsorize\n",
    "\n",
    "PATH = \"C:/Users/jackl/OneDrive/Documents/finance_research/japan_qe/\""
   ]
  },
  {
   "cell_type": "code",
   "execution_count": 64,
   "id": "62ceb54f-6d29-4b4d-994e-3a5432bb7228",
   "metadata": {},
   "outputs": [],
   "source": [
    "boj_df = pd.read_pickle(PATH+'checkpoint_data/boj_purchases_stock_level_v2.pkl')\n",
    "boj_df = boj_df[['date', 'sedol', 'shares_purchased','boj_share_shares_no_ff', 'boj_share_shares', 'sic_2d']]"
   ]
  },
  {
   "cell_type": "code",
   "execution_count": 65,
   "id": "c3ed7c94-b1e5-4999-a775-454d7e582f52",
   "metadata": {},
   "outputs": [],
   "source": [
    "nk_df = pd.read_csv(PATH+'nk_df_v2.csv')"
   ]
  },
  {
   "cell_type": "code",
   "execution_count": 66,
   "id": "481f7bff-8774-4c56-8489-156d57ad25ce",
   "metadata": {},
   "outputs": [],
   "source": [
    "ret_df = pd.read_pickle(PATH+'checkpoint_data/returns_all_stocks.pkl')\n",
    "ret_df = ret_df[ret_df['sedol'].isin(nk_df['sedol'])]\n",
    "ret_df['size'] = ret_df['cshoc'] * ret_df['prccd'] / 10**12\n",
    "ret_df = ret_df[['datadate', 'sedol', 'mod_prccd', 'cshoc', 'cshtrd', 'size', 'mod_ret']]"
   ]
  },
  {
   "cell_type": "code",
   "execution_count": 67,
   "id": "f4924ec5-8817-4ec0-bf71-89f8590d93cf",
   "metadata": {},
   "outputs": [],
   "source": [
    "ret_df = ret_df[ret_df['datadate'] <= pd.to_datetime('2020-12-31')]"
   ]
  },
  {
   "cell_type": "code",
   "execution_count": 68,
   "id": "70eccf48-2f21-40ac-b7f8-a433b696aa79",
   "metadata": {},
   "outputs": [],
   "source": [
    "control_df = pd.read_pickle(PATH+'checkpoint_data/controls_daily.pkl')"
   ]
  },
  {
   "cell_type": "markdown",
   "id": "5ea0ba21-8b1b-421a-ac4b-49bd474dea92",
   "metadata": {},
   "source": [
    "## Merge"
   ]
  },
  {
   "cell_type": "code",
   "execution_count": 69,
   "id": "eeab52b4-4628-4f2e-a0b2-265afca9a84a",
   "metadata": {},
   "outputs": [],
   "source": [
    "vol_df = pd.merge(ret_df, \n",
    "                  boj_df, \n",
    "                  left_on=['sedol', 'datadate'], \n",
    "                  right_on=['sedol', 'date'], \n",
    "                  how='left').drop(columns=['date'])"
   ]
  },
  {
   "cell_type": "code",
   "execution_count": 70,
   "id": "ee695179-b6ab-49c5-b621-82cb5d68b6e2",
   "metadata": {},
   "outputs": [],
   "source": [
    "vol_df = pd.merge_asof(vol_df.sort_values('datadate'), \n",
    "                       control_df[['datadate', 'sedol', 'mb', 'mb_l1']].sort_values('datadate'), \n",
    "                       by='sedol',\n",
    "                       on=['datadate'], \n",
    "                       direction='backward')"
   ]
  },
  {
   "cell_type": "code",
   "execution_count": 72,
   "id": "37050130-5616-4edc-b73a-ce1b6fbdb5e9",
   "metadata": {},
   "outputs": [],
   "source": [
    "vol_df['turnover'] = vol_df['cshtrd']/vol_df['cshoc'] * 100"
   ]
  },
  {
   "cell_type": "code",
   "execution_count": 74,
   "id": "73132aab-667b-4e4d-a92c-317b0ae76f31",
   "metadata": {},
   "outputs": [],
   "source": [
    "cols = ['cshtrd', 'size', 'mb', 'mod_ret', 'turnover', 'mb_l1']\n",
    "vol_df[cols] = vol_df[cols].clip(lower=vol_df[cols].quantile(0.01), \n",
    "                                 upper=vol_df[cols].quantile(0.99), \n",
    "                                 axis=1)"
   ]
  },
  {
   "cell_type": "code",
   "execution_count": 75,
   "id": "051aefd5-11c9-4c8c-b7b2-5445d779a1e4",
   "metadata": {},
   "outputs": [],
   "source": [
    "vol_df['shares_purchased'] = vol_df['shares_purchased'].apply(lambda x: 0 if math.isnan(x)==True else x)\n",
    "vol_df['shares_purchased_pct'] = vol_df['shares_purchased'] / vol_df['cshoc'] * 100"
   ]
  },
  {
   "cell_type": "code",
   "execution_count": 76,
   "id": "90c203d2-b59e-4b18-900e-1cdcc0cb9a33",
   "metadata": {},
   "outputs": [],
   "source": [
    "vol_df['cshtrd_typical_days'] = vol_df['cshtrd'] * (vol_df['shares_purchased'].apply(lambda x: math.nan if x>1 else 1))\n",
    "vol_df['turnover_typical_days'] = vol_df['turnover'] * (vol_df['shares_purchased'].apply(lambda x: math.nan if x>1 else 1))"
   ]
  },
  {
   "cell_type": "code",
   "execution_count": 77,
   "id": "c858f40e-1c84-42e8-9714-514221018d21",
   "metadata": {},
   "outputs": [
    {
     "name": "stderr",
     "output_type": "stream",
     "text": [
      "100%|████████████████████████████████████████████████████████████████████████████████| 242/242 [00:07<00:00, 33.08it/s]\n"
     ]
    }
   ],
   "source": [
    "vol_df_list = []\n",
    "for sedol, sedol_vol_df in tqdm(vol_df.groupby(['sedol'])): \n",
    "    sedol_vol_df['mod_ret_l1']  = sedol_vol_df['mod_ret'].shift(1)\n",
    "    sedol_vol_df['cshtrd_l1'] = sedol_vol_df['cshtrd'].shift(1)\n",
    "    sedol_vol_df['sic_2d'] = sedol_vol_df['sic_2d'].ffill().bfill()\n",
    "    \n",
    "    sedol_vol_df['shares_purchased_pct_f1'] = sedol_vol_df['shares_purchased_pct'].shift(-1)\n",
    "    sedol_vol_df['shares_purchased_pct_f2'] = sedol_vol_df['shares_purchased_pct'].shift(-2)\n",
    "    sedol_vol_df['shares_purchased_pct_f3'] = sedol_vol_df['shares_purchased_pct'].shift(-3)\n",
    "    sedol_vol_df['shares_purchased_pct_f4'] = sedol_vol_df['shares_purchased_pct'].shift(-4)\n",
    "    sedol_vol_df['shares_purchased_pct_f5'] = sedol_vol_df['shares_purchased_pct'].shift(-5)\n",
    "    sedol_vol_df['shares_purchased_pct_f6'] = sedol_vol_df['shares_purchased_pct'].shift(-6)\n",
    "    sedol_vol_df['shares_purchased_pct_f7'] = sedol_vol_df['shares_purchased_pct'].shift(-7)\n",
    "    sedol_vol_df['shares_purchased_pct_f8'] = sedol_vol_df['shares_purchased_pct'].shift(-8)\n",
    "    sedol_vol_df['shares_purchased_pct_f9'] = sedol_vol_df['shares_purchased_pct'].shift(-9)\n",
    "    sedol_vol_df['shares_purchased_pct_f10'] = sedol_vol_df['shares_purchased_pct'].shift(-10)\n",
    "    sedol_vol_df['shares_purchased_pct_f11'] = sedol_vol_df['shares_purchased_pct'].shift(-11)\n",
    "    sedol_vol_df['shares_purchased_pct_f12'] = sedol_vol_df['shares_purchased_pct'].shift(-12)\n",
    "    sedol_vol_df['shares_purchased_pct_f13'] = sedol_vol_df['shares_purchased_pct'].shift(-13)\n",
    "    \n",
    "    window_size = 245\n",
    "    sedol_vol_df['typ_vol'] = sedol_vol_df['cshtrd'].rolling(window=window_size, min_periods=window_size//3).mean().shift(1)\n",
    "    sedol_vol_df['typ_vol_no_boj'] = sedol_vol_df['cshtrd_typical_days'].rolling(window=window_size, min_periods=window_size//3).mean().shift(1)\n",
    "    sedol_vol_df['typ_turn'] = sedol_vol_df['turnover'].rolling(window=window_size, min_periods=window_size//3).mean().shift(1)\n",
    "    sedol_vol_df['typ_turn_no_boj'] = sedol_vol_df['turnover_typical_days'].rolling(window=window_size, min_periods=window_size//3).mean().shift(1)\n",
    "    vol_df_list.append(sedol_vol_df)\n",
    "vol_df = pd.concat(vol_df_list)"
   ]
  },
  {
   "cell_type": "code",
   "execution_count": 78,
   "id": "c12ec306-166d-4197-9540-44fa281d0145",
   "metadata": {},
   "outputs": [],
   "source": [
    "#get firm IDs\n",
    "sedol_id = dict(zip(set(vol_df['sedol']), range(len(set(vol_df['sedol'])))))\n",
    "vol_df['firm_id'] = vol_df['sedol'].map(sedol_id)"
   ]
  },
  {
   "cell_type": "code",
   "execution_count": 79,
   "id": "59072e8b-9aa7-4f6b-b8dd-e66691d929a7",
   "metadata": {},
   "outputs": [],
   "source": [
    "#get date IDs\n",
    "datadate_id = dict(zip(sorted(set(vol_df['datadate'])), range(len(sorted(set(vol_df['datadate']))))))\n",
    "vol_df['datadate_id'] = vol_df['datadate'].map(datadate_id)"
   ]
  },
  {
   "cell_type": "code",
   "execution_count": 86,
   "id": "e30cc7b2-7701-4289-84a0-ff0166cbb97f",
   "metadata": {},
   "outputs": [],
   "source": [
    "vol_df = vol_df[(vol_df['datadate'] >= pd.to_datetime('2010-12-01')) & \n",
    "                (vol_df['datadate'] <= pd.to_datetime('2020-12-31'))]"
   ]
  },
  {
   "cell_type": "code",
   "execution_count": 87,
   "id": "b03d99a5-941f-4f7b-b710-fa4ab6e82f28",
   "metadata": {},
   "outputs": [],
   "source": [
    "vol_df.to_stata(PATH+'regression_files/dta_files/front_running.dta')"
   ]
  },
  {
   "cell_type": "code",
   "execution_count": null,
   "id": "b63c9d5b-3de1-4cf8-b130-e49e18531b11",
   "metadata": {},
   "outputs": [],
   "source": []
  }
 ],
 "metadata": {
  "kernelspec": {
   "display_name": "Python 3",
   "language": "python",
   "name": "python3"
  },
  "language_info": {
   "codemirror_mode": {
    "name": "ipython",
    "version": 3
   },
   "file_extension": ".py",
   "mimetype": "text/x-python",
   "name": "python",
   "nbconvert_exporter": "python",
   "pygments_lexer": "ipython3",
   "version": "3.9.5"
  }
 },
 "nbformat": 4,
 "nbformat_minor": 5
}
