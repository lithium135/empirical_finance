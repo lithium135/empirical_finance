{
 "cells": [
  {
   "cell_type": "code",
   "execution_count": 3,
   "id": "e753c702-9695-41b7-a649-c59ae2896d02",
   "metadata": {},
   "outputs": [],
   "source": [
    "import pandas as pd\n",
    "import numpy as np\n",
    "import datetime as dt\n",
    "import math\n",
    "import matplotlib.pyplot as plt\n",
    "\n",
    "from pandas.tseries.offsets import BDay, Day\n",
    "from tqdm import tqdm\n",
    "\n",
    "PATH = \"C:/Users/jackl/OneDrive/Documents/finance_research/japan_qe/\""
   ]
  },
  {
   "cell_type": "code",
   "execution_count": 4,
   "id": "ab9d9017-edbd-4be2-b395-14f6e4f49549",
   "metadata": {},
   "outputs": [],
   "source": [
    "xls = pd.ExcelFile(PATH+'raw_data/bloomberg/topix_weights.xlsx')\n",
    "topix_df = pd.read_excel(xls, 'Sheet1')\n",
    "match_df = pd.read_excel(xls, 'Sheet2')"
   ]
  },
  {
   "cell_type": "code",
   "execution_count": 22,
   "id": "75a92af7-1f21-4457-9101-aec5c56027c2",
   "metadata": {},
   "outputs": [],
   "source": [
    "nikkei_df = pd.read_excel(PATH+'raw_data/bloomberg/nikkei_weights.xlsx')"
   ]
  },
  {
   "cell_type": "code",
   "execution_count": 23,
   "id": "bdad1ed9-4aec-4398-b0c3-36ff86c1046e",
   "metadata": {},
   "outputs": [],
   "source": [
    "nikkei_df.columns = nikkei_df.iloc[4]\n",
    "nikkei_df = nikkei_df.iloc[7:]"
   ]
  },
  {
   "cell_type": "code",
   "execution_count": 24,
   "id": "70fe108e-4763-4b1a-bb76-7b92a1f88b74",
   "metadata": {},
   "outputs": [],
   "source": [
    "columns_list = list(nikkei_df.columns)\n",
    "columns_list[0] = 'date'\n",
    "nikkei_df.columns = columns_list"
   ]
  },
  {
   "cell_type": "code",
   "execution_count": 25,
   "id": "11fee627-9860-4690-8010-481ee0cf974d",
   "metadata": {},
   "outputs": [],
   "source": [
    "nikkei_df['date'] = list(topix_df.iloc[5:]['Start Date'])"
   ]
  },
  {
   "cell_type": "code",
   "execution_count": 27,
   "id": "27a2a261-3221-4b1d-a871-852e492091b2",
   "metadata": {},
   "outputs": [
    {
     "name": "stderr",
     "output_type": "stream",
     "text": [
      "  0%|                                                                                         | 0/2183 [00:00<?, ?it/s]<ipython-input-27-2ea178fe1714>:5: SettingWithCopyWarning: \n",
      "A value is trying to be set on a copy of a slice from a DataFrame.\n",
      "Try using .loc[row_indexer,col_indexer] = value instead\n",
      "\n",
      "See the caveats in the documentation: https://pandas.pydata.org/pandas-docs/stable/user_guide/indexing.html#returning-a-view-versus-a-copy\n",
      "  df_temp['ticker'] = [ticker for i in range(len(df_temp))]\n",
      "100%|█████████████████████████████████████████████████████████████████████████████| 2183/2183 [00:08<00:00, 260.74it/s]\n"
     ]
    }
   ],
   "source": [
    "df_temp_list = []\n",
    "for ticker in tqdm(columns_list[1:]): \n",
    "    df_temp = nikkei_df[['date', ticker]]\n",
    "    df_temp.columns = ['date', 'weight']\n",
    "    df_temp['ticker'] = [ticker for i in range(len(df_temp))]\n",
    "    df_temp_list.append(df_temp)"
   ]
  },
  {
   "cell_type": "code",
   "execution_count": 28,
   "id": "6d649365-28b5-4ad1-837f-d490f9a05026",
   "metadata": {},
   "outputs": [],
   "source": [
    "nikkei_df_reo = pd.concat(df_temp_list, axis=0)\n",
    "nikkei_df_reo['date'] = pd.to_datetime(nikkei_df_reo['date'])"
   ]
  },
  {
   "cell_type": "code",
   "execution_count": 15,
   "id": "8cde436b-3ef4-4e2c-9cff-67d27220955c",
   "metadata": {},
   "outputs": [],
   "source": [
    "match_df_reo = match_df.T.reset_index()\n",
    "match_df_reo.columns = ['ticker', 'SEDOL', 'ISIN']\n",
    "match_df_reo = match_df_reo.iloc[1:]"
   ]
  },
  {
   "cell_type": "code",
   "execution_count": 16,
   "id": "d79d9dcc-9b28-4b64-8ad5-717a4707bfec",
   "metadata": {},
   "outputs": [],
   "source": [
    "nikkei_df_reo = pd.merge(nikkei_df_reo, match_df_reo, on='ticker')"
   ]
  },
  {
   "cell_type": "code",
   "execution_count": 17,
   "id": "f621eff8-a2a8-4122-b5c4-2102af6a7963",
   "metadata": {},
   "outputs": [],
   "source": [
    "def clean(x): \n",
    "    try: \n",
    "        if float(x) > -99: \n",
    "            return x\n",
    "    except: \n",
    "        return math.nan"
   ]
  },
  {
   "cell_type": "code",
   "execution_count": 18,
   "id": "9ce08458-55e2-482f-bf5a-9767d0d94a88",
   "metadata": {},
   "outputs": [],
   "source": [
    "nikkei_df_reo['weight'] = nikkei_df_reo['weight'].apply(lambda x: clean(x))"
   ]
  },
  {
   "cell_type": "code",
   "execution_count": 20,
   "id": "a68e06dd-b6a8-4ad7-a1a3-bde1bfe0a3f2",
   "metadata": {},
   "outputs": [
    {
     "data": {
      "text/html": [
       "<div>\n",
       "<style scoped>\n",
       "    .dataframe tbody tr th:only-of-type {\n",
       "        vertical-align: middle;\n",
       "    }\n",
       "\n",
       "    .dataframe tbody tr th {\n",
       "        vertical-align: top;\n",
       "    }\n",
       "\n",
       "    .dataframe thead th {\n",
       "        text-align: right;\n",
       "    }\n",
       "</style>\n",
       "<table border=\"1\" class=\"dataframe\">\n",
       "  <thead>\n",
       "    <tr style=\"text-align: right;\">\n",
       "      <th></th>\n",
       "      <th>date</th>\n",
       "      <th>weight</th>\n",
       "      <th>ticker</th>\n",
       "      <th>SEDOL</th>\n",
       "      <th>ISIN</th>\n",
       "    </tr>\n",
       "  </thead>\n",
       "  <tbody>\n",
       "    <tr>\n",
       "      <th>0</th>\n",
       "      <td>2010-11-30</td>\n",
       "      <td>NaN</td>\n",
       "      <td>1301 JT Equity</td>\n",
       "      <td>6498706</td>\n",
       "      <td>JP3257200000</td>\n",
       "    </tr>\n",
       "    <tr>\n",
       "      <th>131</th>\n",
       "      <td>2010-11-30</td>\n",
       "      <td>0.0999</td>\n",
       "      <td>1332 JT Equity</td>\n",
       "      <td>6640927</td>\n",
       "      <td>JP3718800000</td>\n",
       "    </tr>\n",
       "    <tr>\n",
       "      <th>262</th>\n",
       "      <td>2010-11-30</td>\n",
       "      <td>NaN</td>\n",
       "      <td>1333 JT Equity</td>\n",
       "      <td>BKGHM19</td>\n",
       "      <td>JP3876600002</td>\n",
       "    </tr>\n",
       "    <tr>\n",
       "      <th>393</th>\n",
       "      <td>2010-11-30</td>\n",
       "      <td>NaN</td>\n",
       "      <td>1352 JT Equity</td>\n",
       "      <td>6432823</td>\n",
       "      <td>JP3839400003</td>\n",
       "    </tr>\n",
       "    <tr>\n",
       "      <th>524</th>\n",
       "      <td>2010-11-30</td>\n",
       "      <td>NaN</td>\n",
       "      <td>1375 JT Equity</td>\n",
       "      <td>BMF52S5</td>\n",
       "      <td>JP3947010009</td>\n",
       "    </tr>\n",
       "    <tr>\n",
       "      <th>...</th>\n",
       "      <td>...</td>\n",
       "      <td>...</td>\n",
       "      <td>...</td>\n",
       "      <td>...</td>\n",
       "      <td>...</td>\n",
       "    </tr>\n",
       "    <tr>\n",
       "      <th>285318</th>\n",
       "      <td>2010-11-30</td>\n",
       "      <td>NaN</td>\n",
       "      <td>9991 JT Equity</td>\n",
       "      <td>6491794</td>\n",
       "      <td>JP3225500002</td>\n",
       "    </tr>\n",
       "    <tr>\n",
       "      <th>285449</th>\n",
       "      <td>2010-11-30</td>\n",
       "      <td>NaN</td>\n",
       "      <td>9993 JT Equity</td>\n",
       "      <td>6986814</td>\n",
       "      <td>JP3935800007</td>\n",
       "    </tr>\n",
       "    <tr>\n",
       "      <th>285580</th>\n",
       "      <td>2010-11-30</td>\n",
       "      <td>NaN</td>\n",
       "      <td>9994 JT Equity</td>\n",
       "      <td>6986803</td>\n",
       "      <td>JP3943800007</td>\n",
       "    </tr>\n",
       "    <tr>\n",
       "      <th>285711</th>\n",
       "      <td>2010-11-30</td>\n",
       "      <td>NaN</td>\n",
       "      <td>9995 JT Equity</td>\n",
       "      <td>6301042</td>\n",
       "      <td>JP3130600004</td>\n",
       "    </tr>\n",
       "    <tr>\n",
       "      <th>285842</th>\n",
       "      <td>2010-11-30</td>\n",
       "      <td>NaN</td>\n",
       "      <td>9997 JT Equity</td>\n",
       "      <td>6070353</td>\n",
       "      <td>JP3835650007</td>\n",
       "    </tr>\n",
       "  </tbody>\n",
       "</table>\n",
       "<p>2183 rows × 5 columns</p>\n",
       "</div>"
      ],
      "text/plain": [
       "             date  weight          ticker    SEDOL          ISIN\n",
       "0      2010-11-30     NaN  1301 JT Equity  6498706  JP3257200000\n",
       "131    2010-11-30  0.0999  1332 JT Equity  6640927  JP3718800000\n",
       "262    2010-11-30     NaN  1333 JT Equity  BKGHM19  JP3876600002\n",
       "393    2010-11-30     NaN  1352 JT Equity  6432823  JP3839400003\n",
       "524    2010-11-30     NaN  1375 JT Equity  BMF52S5  JP3947010009\n",
       "...           ...     ...             ...      ...           ...\n",
       "285318 2010-11-30     NaN  9991 JT Equity  6491794  JP3225500002\n",
       "285449 2010-11-30     NaN  9993 JT Equity  6986814  JP3935800007\n",
       "285580 2010-11-30     NaN  9994 JT Equity  6986803  JP3943800007\n",
       "285711 2010-11-30     NaN  9995 JT Equity  6301042  JP3130600004\n",
       "285842 2010-11-30     NaN  9997 JT Equity  6070353  JP3835650007\n",
       "\n",
       "[2183 rows x 5 columns]"
      ]
     },
     "execution_count": 20,
     "metadata": {},
     "output_type": "execute_result"
    }
   ],
   "source": [
    "nikkei_df_reo.drop_duplicates(['SEDOL'])"
   ]
  },
  {
   "cell_type": "code",
   "execution_count": 184,
   "id": "de11822d-4abb-42b5-95a7-2ce797344a6b",
   "metadata": {},
   "outputs": [],
   "source": [
    "nikkei_df_reo.to_pickle('checkpoint_data/nikkei_weights_bloomberg.pkl')"
   ]
  },
  {
   "cell_type": "code",
   "execution_count": null,
   "id": "6ff96aac-4f72-4825-b50e-f643419fffcb",
   "metadata": {},
   "outputs": [],
   "source": []
  }
 ],
 "metadata": {
  "kernelspec": {
   "display_name": "Python 3",
   "language": "python",
   "name": "python3"
  },
  "language_info": {
   "codemirror_mode": {
    "name": "ipython",
    "version": 3
   },
   "file_extension": ".py",
   "mimetype": "text/x-python",
   "name": "python",
   "nbconvert_exporter": "python",
   "pygments_lexer": "ipython3",
   "version": "3.9.5"
  }
 },
 "nbformat": 4,
 "nbformat_minor": 5
}
