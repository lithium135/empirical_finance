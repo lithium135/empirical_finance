{
 "cells": [
  {
   "cell_type": "code",
   "execution_count": 8,
   "id": "39d51cbd-4ce1-42c6-b6ca-f8656b7ad150",
   "metadata": {},
   "outputs": [],
   "source": [
    "import pandas as pd\n",
    "import datetime as dt\n",
    "import math\n",
    "from tqdm import tqdm\n",
    "import numpy as np\n",
    "import matplotlib.pyplot as plt\n",
    "from pandas.tseries.offsets import BDay\n",
    "\n",
    "PATH = \"C:/Users/jackl/OneDrive/Documents/finance_research/japan_qe/\""
   ]
  },
  {
   "cell_type": "code",
   "execution_count": 2,
   "id": "75073990-93c3-4e20-97c9-bdfd753283e7",
   "metadata": {},
   "outputs": [],
   "source": [
    "def get_truncated_df(merge_df, columns, year_column_name=None, low=0.01, high=0.99):\n",
    "    merge_df_copy = merge_df.copy()\n",
    "    if year_column_name == None:\n",
    "        for column in columns: \n",
    "            _1pct, _99pct = merge_df_copy[column].quantile(q=low), merge_df_copy[column].quantile(q=high)\n",
    "            merge_df_copy[column].where((merge_df_copy[column] < _99pct) & (merge_df_copy[column] > _1pct), math.nan, inplace=True)\n",
    "    else: \n",
    "        merge_df_list = []\n",
    "        merge_year_df_list = [[year, merge_year_df] for year, merge_year_df in merge_df_copy.groupby(year_column_name)]\n",
    "        for year, merge_year_df in tqdm(merge_year_df_list):\n",
    "            for column in columns: \n",
    "                _1pct, _99pct = merge_year_df[column].quantile(q=low), merge_year_df[column].quantile(q=high)\n",
    "                merge_year_df[column].where(~((merge_year_df[column] > _99pct) | (merge_year_df[column] < _1pct)), math.nan, inplace=True)\n",
    "            merge_df_list.append(merge_year_df)\n",
    "        merge_df_copy = pd.concat(merge_df_list)\n",
    "    \n",
    "    return merge_df_copy\n",
    "\n",
    "def get_boj_quintiles_conditional(sue_df_boj_merged, suffix=None, quantiles=5):\n",
    "    sue_df_boj_merged_nd = sue_df_boj_merged[['sedol', 'yr_qtr_index', 'boj_share_shares']].drop_duplicates()\n",
    "    sue_df_boj_merged_nd_list = []\n",
    "    for index, df in tqdm(sue_df_boj_merged_nd.groupby('yr_qtr_index')): \n",
    "        try:\n",
    "            df['boj_share_shares_quantiles_'+suffix] = pd.qcut(df['boj_share_shares'], quantiles, labels=False)\n",
    "        except: \n",
    "            df['boj_share_shares_quantiles_'+suffix] = [math.nan for i in range(len(df))]\n",
    "\n",
    "        sue_df_boj_merged_nd_list.append(df)\n",
    "\n",
    "    sue_df_boj_merged_nd = pd.concat(sue_df_boj_merged_nd_list)\n",
    "\n",
    "    sue_df_boj_merged = pd.merge(sue_df_boj_merged, \n",
    "                                 sue_df_boj_merged_nd, \n",
    "                                 on=['sedol', 'yr_qtr_index', 'boj_share_shares'])\n",
    "    return sue_df_boj_merged"
   ]
  },
  {
   "cell_type": "code",
   "execution_count": 106,
   "id": "9d078e93-b426-4a7a-991f-0d971c8bc8c4",
   "metadata": {},
   "outputs": [],
   "source": [
    "liq_df = pd.read_pickle(PATH+'checkpoint_data/liq.pkl')"
   ]
  },
  {
   "cell_type": "code",
   "execution_count": 114,
   "id": "c7ad0ae5-01a1-4dda-b68b-972d27c784ce",
   "metadata": {},
   "outputs": [],
   "source": [
    "boj_df = pd.read_pickle(PATH+'checkpoint_data/boj_purchases_stock_level_v2.pkl')\n",
    "\n",
    "boj_df['date_f1'] = boj_df['date'] + pd.DateOffset(months=3)\n",
    "boj_df['yr_qtr_index_f1'] = boj_df['date_f1'].apply(lambda x: (x.year, x.quarter))\n",
    "boj_df['yr_qtr_index'] = boj_df['date'].apply(lambda x: (x.year, x.quarter))\n",
    "boj_df = boj_df.sort_values(['date']).drop_duplicates(['sedol', 'yr_qtr_index'], keep='last')\n",
    "boj_df = boj_df.drop(columns=['date_f1'])"
   ]
  },
  {
   "cell_type": "code",
   "execution_count": 133,
   "id": "63660e20-3e0f-4010-82b8-f069fd950ed0",
   "metadata": {},
   "outputs": [],
   "source": [
    "control_df = pd.read_pickle(PATH+'checkpoint_data/control.dta')\n",
    "control_df = control_df[['sedol', 'yr_qtr_index', 'mc', 'prc', 'vlt_l1', 'ret_l1', 'mb']]"
   ]
  },
  {
   "cell_type": "markdown",
   "id": "7e162644-9380-4543-b740-0dce5d05228d",
   "metadata": {},
   "source": [
    "# Basic Plots"
   ]
  },
  {
   "cell_type": "code",
   "execution_count": 10,
   "id": "59edc411-0cc0-4436-a307-16794b495451",
   "metadata": {},
   "outputs": [
    {
     "data": {
      "text/plain": [
       "[<matplotlib.lines.Line2D at 0x23327f2fd90>]"
      ]
     },
     "execution_count": 10,
     "metadata": {},
     "output_type": "execute_result"
    },
    {
     "data": {
      "image/png": "[encoded data removed]",
      "text/plain": [
       "<Figure size 432x288 with 1 Axes>"
      ]
     },
     "metadata": {
      "needs_background": "light"
     },
     "output_type": "display_data"
    }
   ],
   "source": [
    "plt.plot(liq_df.groupby(['yr']).mean()['amihud'])"
   ]
  },
  {
   "cell_type": "code",
   "execution_count": 12,
   "id": "16e82a52-e2ed-4389-8596-fe11c12aa58f",
   "metadata": {},
   "outputs": [
    {
     "data": {
      "text/plain": [
       "[<matplotlib.lines.Line2D at 0x23327f9dfd0>]"
      ]
     },
     "execution_count": 12,
     "metadata": {},
     "output_type": "execute_result"
    },
    {
     "data": {
      "image/png": "[encoded data removed]",
      "text/plain": [
       "<Figure size 432x288 with 1 Axes>"
      ]
     },
     "metadata": {
      "needs_background": "light"
     },
     "output_type": "display_data"
    }
   ],
   "source": [
    "plt.plot(liq_df.groupby(['yr']).mean()['turn_no_ff'])"
   ]
  },
  {
   "cell_type": "markdown",
   "id": "9af94049-c65c-4836-a170-2e84a65c56ec",
   "metadata": {},
   "source": [
    "# Merge with BOJ"
   ]
  },
  {
   "cell_type": "code",
   "execution_count": 118,
   "id": "b97212c3-6f7e-4ca3-a39b-d0d916d13b9c",
   "metadata": {},
   "outputs": [],
   "source": [
    "#merge with BOJ, note that it is a quarter lagged\n",
    "liq_df_1 = pd.merge(liq_df, \n",
    "                    boj_df, \n",
    "                    left_on=['sedol', 'yr_qtr_index'],\n",
    "                    right_on=['sedol', 'yr_qtr_index_f1'],\n",
    "                    how='left', \n",
    "                    suffixes=[None, '_y']).drop(columns=['yr_qtr_index_f1', 'yr_qtr_index_y', 'date'])"
   ]
  },
  {
   "cell_type": "code",
   "execution_count": 119,
   "id": "0fe75a69-bf3e-4ee1-a08b-d2c2859e5efd",
   "metadata": {},
   "outputs": [],
   "source": [
    "liq_df_1 = liq_df_1.dropna(subset=['boj_share_shares'])"
   ]
  },
  {
   "cell_type": "code",
   "execution_count": 134,
   "id": "ad7aa302-07f8-4de1-b418-92767498eb3a",
   "metadata": {},
   "outputs": [],
   "source": [
    "liq_df_2 = pd.merge(liq_df_1, \n",
    "                    control_df, \n",
    "                    on=['sedol', 'yr_qtr_index'], \n",
    "                    how='left')"
   ]
  },
  {
   "cell_type": "code",
   "execution_count": 135,
   "id": "577a81f5-242d-4e40-95fc-99109b40f4d5",
   "metadata": {},
   "outputs": [],
   "source": [
    "cols = ['sedol', 'conm', 'yr', 'yr_qtr_index', 'amihud', 'turn_no_ff', 'num_days_total',\n",
    "       'num_days_w_data', 'coverage_ratio', 'cshoc',\n",
    "       'ffcshoc', 'boj_share_shares', 'boj_share_shares_no_ff', 'nk_flag']\n",
    "\n",
    "cols += ['mc', 'prc', 'vlt_l1', 'ret_l1', 'mb']\n",
    "\n",
    "liq_df_2 = liq_df_2[cols]"
   ]
  },
  {
   "cell_type": "code",
   "execution_count": 136,
   "id": "17127137-8e8c-421f-93d0-e6d61611e12d",
   "metadata": {},
   "outputs": [],
   "source": [
    "liq_df_2['yr_qtr_index'] = liq_df_2['yr_qtr_index'].astype(str)"
   ]
  },
  {
   "cell_type": "code",
   "execution_count": 137,
   "id": "a36b66e8-ece4-464b-aad3-91745dc33065",
   "metadata": {},
   "outputs": [],
   "source": [
    "liq_df_2.to_stata(PATH+'regression_files\\dta_files\\liq_regression.dta')"
   ]
  },
  {
   "cell_type": "code",
   "execution_count": null,
   "id": "3170b0b5-358d-4a0b-affe-fdc4691fcedd",
   "metadata": {},
   "outputs": [],
   "source": [
    "TRY TURNOVER WITH FREE FLOAT"
   ]
  }
 ],
 "metadata": {
  "kernelspec": {
   "display_name": "Python 3",
   "language": "python",
   "name": "python3"
  },
  "language_info": {
   "codemirror_mode": {
    "name": "ipython",
    "version": 3
   },
   "file_extension": ".py",
   "mimetype": "text/x-python",
   "name": "python",
   "nbconvert_exporter": "python",
   "pygments_lexer": "ipython3",
   "version": "3.9.5"
  }
 },
 "nbformat": 4,
 "nbformat_minor": 5
}
